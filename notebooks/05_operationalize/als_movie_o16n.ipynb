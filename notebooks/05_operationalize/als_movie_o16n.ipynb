{
 "cells": [
  {
   "cell_type": "markdown",
   "metadata": {},
   "source": [
    "<i>Copyright (c) Microsoft Corporation. All rights reserved.</i>\n",
    "\n",
    "<i>Licensed under the MIT License.</i>"
   ]
  },
  {
   "cell_type": "markdown",
   "metadata": {},
   "source": [
    "# Building a Real-time Recommendation API\n",
    "\n",
    "This reference architecture shows the full lifecycle of building a recommendation system. It walks through the creation of appropriate azure resources, training a recommendation model using a Virtual Machine or Databricks, and deploying it as an API. It uses Azure Cosmos DB, Azure Machine Learning, and Azure Kubernetes Service. \n",
    "\n",
    "This architecture can be generalized for many recommendation engine scenarios, including recommendations for products, movies, and news. \n",
    "### Architecture\n",
    "![architecture](https://camo.githubusercontent.com/35ffc0c1bb61f8cc928f02589941376d3005c82d/68747470733a2f2f7265636f64617461736574732e626c6f622e636f72652e77696e646f77732e6e65742f696d616765732f7265636f2d617263682e706e67 \"Architecture\")\n",
    "\n",
    "**Scenario**: A media organization wants to provide movie or video recommendations to its users. By providing personalized recommendations, the organization meets several business goals, including increased click-through rates, increased engagement on site, and higher user satisfaction.\n",
    "\n",
    "In this reference, we train and deploy a real-time recommender service API that can provide the top 10 movie recommendations for a given user. \n",
    "\n",
    "### Components\n",
    "This architecture consists of the following key components:\n",
    "* [Azure Databricks](https://docs.microsoft.com/en-us/azure/azure-databricks/what-is-azure-databricks)<sup>1)</sup> is used as a development environment to prepare input data and train the recommender model on a Spark cluster. Azure Databricks also provides an interactive workspace to run and collaborate on notebooks for any data processing or machine learning tasks.\n",
    "* [Azure Kubernetes Service](https://docs.microsoft.com/en-us/azure/aks/intro-kubernetes)(AKS) is used to deploy and operationalize a machine learning model service API on a Kubernetes cluster. AKS hosts the containerized model, providing scalability that meets throughput requirements, identity and access management, and logging and health monitoring. \n",
    "* [Azure Cosmos DB](https://docs.microsoft.com/en-us/azure/cosmos-db/introduction) is a globally distributed database service used to store the top 10 recommended movies for each user. Azure Cosmos DB is ideal for this scenario as it provides low latency (10 ms at 99th percentile) to read the top recommended items for a given user. \n",
    "* [Azure Machine Learning Service](https://docs.microsoft.com/en-us/azure/machine-learning/service/) is a service used to track and manage machine learning models, and then package and deploy these models to a scalable Azure Kubernetes Service environment.\n",
    "\n",
    "<sup>1) Here, we are just describing an example of using Azure Databricks. Any platforms listed in [SETUP](https://github.com/microsoft/recommenders/blob/master/SETUP.md) can be used as well.</sup>\n",
    "\n",
    "\n",
    "### Table of Contents.\n",
    "0. [File Imports](#0-File-Imports)\n",
    "1. [Service Creation](#1-Service-Creation)\n",
    "2. [Training and evaluation](#2-Training)\n",
    "3. [Operationalization](#3.-Operationalize-the-Recommender-Service)"
   ]
  },
  {
   "cell_type": "markdown",
   "metadata": {},
   "source": [
    "## Setup\n",
    "To run this notebook on Azure Databricks, you should import this notebook into your Azure Databricks Workspace first (see instructions [here](https://docs.azuredatabricks.net/user-guide/notebooks/notebook-manage.html#import-a-notebook)).\n",
    "\n",
    "Setup for Azure Databricks should be completed by following the appropriate sections in the repository's [SETUP file](https://github.com/microsoft/recommenders/blob/master/SETUP.md).\n",
    "\n",
    "Please note: This notebook **REQUIRES** that you add the dependencies to support **operationalization**. See the [SETUP](https://github.com/microsoft/recommenders/blob/master/SETUP.md) for details.\n"
   ]
  },
  {
   "cell_type": "markdown",
   "metadata": {},
   "source": [
    "## 0 File Imports"
   ]
  },
  {
   "cell_type": "code",
   "execution_count": 1,
   "metadata": {},
   "outputs": [
    {
     "name": "stdout",
     "output_type": "stream",
     "text": [
      "PySpark version: 2.3.1\n",
      "Azure SDK version: 1.0.69\n"
     ]
    }
   ],
   "source": [
    "import os\n",
    "import sys\n",
    "sys.path.append(\"../../\")\n",
    "import time\n",
    "import urllib\n",
    "\n",
    "from azure.common.client_factory import get_client_from_cli_profile\n",
    "import azure.mgmt.cosmosdb\n",
    "import azureml.core\n",
    "from azureml.core import Workspace\n",
    "from azureml.core.model import Model\n",
    "from azureml.core.compute import AksCompute, ComputeTarget\n",
    "from azureml.core.compute_target import ComputeTargetException\n",
    "from azureml.core.webservice import Webservice, AksWebservice\n",
    "from azureml.exceptions import WebserviceException\n",
    "from azureml.core import Environment\n",
    "from azureml.core.environment import CondaDependencies\n",
    "from azureml.core.model import InferenceConfig\n",
    "from azureml.core.environment import SparkPackage\n",
    "import pydocumentdb.document_client as document_client\n",
    "from pyspark.ml.recommendation import ALS\n",
    "from pyspark.sql.types import StructType, StructField\n",
    "from pyspark.sql.types import FloatType, IntegerType, LongType\n",
    "\n",
    "from reco_utils.common.timer import Timer\n",
    "from reco_utils.common.spark_utils import start_or_get_spark\n",
    "from reco_utils.dataset import movielens\n",
    "from reco_utils.dataset.cosmos_cli import find_collection, read_collection, read_database, find_database\n",
    "from reco_utils.dataset.download_utils import maybe_download\n",
    "from reco_utils.dataset.spark_splitters import spark_random_split\n",
    "from reco_utils.evaluation.spark_evaluation import SparkRatingEvaluation, SparkRankingEvaluation\n",
    "from reco_utils.common.\n",
    "print(\"Azure SDK version:\", azureml.core.VERSION)\n",
    "\n",
    "# Start spark session\n",
    "cosmos_connector = (\n",
    "    \"https://search.maven.org/remotecontent?filepath=com/microsoft/azure/\"\n",
    "    \"azure-cosmosdb-spark_2.3.0_2.11/1.3.3/azure-cosmosdb-spark_2.3.0_2.11-1.3.3-uber.jar\"\n",
    ")\n",
    "jar_filepath = maybe_download(url=cosmos_connector, filename=\"cosmos.jar\")\n",
    "spark = start_or_get_spark(\"ALS\", memory=\"10g\", jars=[jar_filepath])\n",
    "spark.sparkContext\n",
    "\n",
    "display(sc)"
   ]
  },
  {
   "cell_type": "markdown",
   "metadata": {},
   "source": [
    "## 1 Service Creation\n",
    "Modify the **Subscription ID** to the subscription you would like to deploy to and set the resource name variables.\n",
    "\n",
    "#### Services created by this notebook:\n",
    "1. [Azure ML Service](https://azure.microsoft.com/en-us/services/machine-learning-service/)\n",
    "1. [Azure Cosmos DB](https://azure.microsoft.com/en-us/services/cosmos-db/)\n",
    "1. [Azure Container Registery](https://docs.microsoft.com/en-us/azure/container-registry/)\n",
    "1. [Azure Container Instances](https://docs.microsoft.com/en-us/azure/container-instances/)\n",
    "1. [Azure Application Insights](https://azure.microsoft.com/en-us/services/monitor/)\n",
    "1. [Azure Storage](https://docs.microsoft.com/en-us/azure/storage/common/storage-account-overview)\n",
    "1. [Azure Key Vault](https://azure.microsoft.com/en-us/services/key-vault/)\n",
    "1. [Azure Kubernetes Service (AKS)](https://azure.microsoft.com/en-us/services/kubernetes-service/)"
   ]
  },
  {
   "cell_type": "code",
   "execution_count": 4,
   "metadata": {},
   "outputs": [
    {
     "name": "stdout",
     "output_type": "stream",
     "text": [
      "Resource group: aml-111704\n",
      "Worspace name: aml-ignite-ws-111704\n"
     ]
    }
   ],
   "source": [
    "# Add your subscription ID\n",
    "subscription_id = \"\"\n",
    "\n",
    "# Resource group and workspace\n",
    "resource_group = \"\"\n",
    "workspace_name = \"\"\n",
    "\n",
    "# Add your region to deploy Azure ML workspace\n",
    "location = \"\""
   ]
  },
  {
   "cell_type": "code",
   "execution_count": null,
   "metadata": {},
   "outputs": [],
   "source": [
    "# CosmosDB\n",
    "account_name = resource_group + \"-ds-sql\"\n",
    "# account_name for CosmosDB cannot have \"_\" and needs to be less than 31 chars\n",
    "account_name = account_name.replace(\"_\", \"-\")[0:min(31, len(prefix))]\n",
    "cosmos_database = \"recommendations\"\n",
    "cosmos_collection = \"user_recommendations_als\"\n",
    "\n",
    "# AzureML\n",
    "model_name = \"mvl-als-reco.mml\"\n",
    "service_name = \"mvl-als\"\n",
    "aks_name = \"mvl-als-aks\"\n",
    "container_image_name = \"mvl-alk-img\""
   ]
  },
  {
   "cell_type": "code",
   "execution_count": null,
   "metadata": {},
   "outputs": [],
   "source": [
    "# top k items to recommend\n",
    "TOP_K = 10\n",
    "\n",
    "# Select MovieLens data size: 100k, 1m, 10m, or 20m\n",
    "MOVIELENS_DATA_SIZE = '100k'"
   ]
  },
  {
   "cell_type": "code",
   "execution_count": 5,
   "metadata": {},
   "outputs": [],
   "source": [
    "userCol = \"UserId\"\n",
    "itemCol = \"MovieId\"\n",
    "ratingCol = \"Rating\"\n",
    "\n",
    "train_data_path = \"train\"\n",
    "test_data_path = \"test\""
   ]
  },
  {
   "cell_type": "markdown",
   "metadata": {},
   "source": [
    "### 1.1 Import or create the AzureML Workspace. \n",
    "This command will check if the AzureML Workspace exists or not, and will create the workspace if it doesn't exist."
   ]
  },
  {
   "cell_type": "code",
   "execution_count": 6,
   "metadata": {},
   "outputs": [
    {
     "name": "stderr",
     "output_type": "stream",
     "text": [
      "WARNING - Warning: Falling back to use azure cli login credentials.\n",
      "If you run your code in unattended mode, i.e., where you can't give a user input, then we recommend to use ServicePrincipalAuthentication or MsiAuthentication.\n",
      "Please refer to aka.ms/aml-notebook-auth for different authentication mechanisms in azureml-sdk.\n"
     ]
    }
   ],
   "source": [
    "ws = Workspace.create(\n",
    "    name=workspace_name,\n",
    "    subscription_id=subscription_id,\n",
    "    resource_group=resource_group, \n",
    "    location=location,\n",
    "    exist_ok=True\n",
    ")"
   ]
  },
  {
   "cell_type": "markdown",
   "metadata": {},
   "source": [
    "### 1.2 Create a Cosmos DB resource to store recommendation results:"
   ]
  },
  {
   "cell_type": "code",
   "execution_count": 7,
   "metadata": {},
   "outputs": [
    {
     "name": "stdout",
     "output_type": "stream",
     "text": [
      "Database found\n",
      "Collection found\n"
     ]
    }
   ],
   "source": [
    "# explicitly pass subscription_id in case user has multiple subscriptions\n",
    "client = get_client_from_cli_profile(azure.mgmt.cosmosdb.CosmosDB, subscription_id=subscription_id)\n",
    "\n",
    "async_cosmosdb_create = client.database_accounts.create_or_update(\n",
    "    resource_group,\n",
    "    account_name,\n",
    "    {\n",
    "        'location': location,\n",
    "        'locations': [{\n",
    "            'location_name': location\n",
    "        }]\n",
    "    }\n",
    ")\n",
    "account = async_cosmosdb_create.result()\n",
    "\n",
    "my_keys = client.database_accounts.list_keys(resource_group, account_name)\n",
    "master_key = my_keys.primary_master_key\n",
    "endpoint = \"https://\" + account_name + \".documents.azure.com:443/\"\n",
    "\n",
    "# DB client\n",
    "client = document_client.DocumentClient(endpoint, {'masterKey': master_key})\n",
    "\n",
    "if not find_database(client, cosmos_database):\n",
    "    db = client.CreateDatabase({'id': cosmos_database })\n",
    "    print(\"Database created\")\n",
    "else:\n",
    "    db = read_database(client, cosmos_database)\n",
    "    print(\"Database found\")\n",
    "\n",
    "# Create collection options\n",
    "options = dict(offerThroughput=11000)\n",
    "\n",
    "# Create a collection\n",
    "collection_definition = {'id': cosmos_collection, 'partitionKey': {'paths': ['/id'],'kind': 'Hash'}}\n",
    "if not find_collection(client, cosmos_database, cosmos_collection):\n",
    "    collection = client.CreateCollection(db['_self'], collection_definition, options)\n",
    "    print(\"Collection created\")\n",
    "else:\n",
    "    collection = read_collection(client, cosmos_database, cosmos_collection)\n",
    "    print(\"Collection found\")\n",
    "    \n",
    "dbsecrets = dict(\n",
    "    Endpoint=endpoint, \n",
    "    Masterkey=master_key, \n",
    "    Database=cosmos_database, \n",
    "    Collection=cosmos_collection, \n",
    "    Upsert=True\n",
    ")"
   ]
  },
  {
   "cell_type": "markdown",
   "metadata": {},
   "source": [
    "## 2 Training\n",
    "\n",
    "Next, we train an [Alternating Least Squares model](https://spark.apache.org/docs/latest/ml-collaborative-filtering.html) on [MovieLens](https://grouplens.org/datasets/movielens/) dataset."
   ]
  },
  {
   "cell_type": "markdown",
   "metadata": {},
   "source": [
    "### 2.1 Download the MovieLens dataset"
   ]
  },
  {
   "cell_type": "code",
   "execution_count": 9,
   "metadata": {},
   "outputs": [
    {
     "name": "stderr",
     "output_type": "stream",
     "text": [
      "100%|██████████| 4.81k/4.81k [00:00<00:00, 14.5kKB/s]\n"
     ]
    },
    {
     "name": "stdout",
     "output_type": "stream",
     "text": [
      "+------+-------+------+---------+\n",
      "|UserId|MovieId|Rating|Timestamp|\n",
      "+------+-------+------+---------+\n",
      "|   196|    242|   3.0|881250949|\n",
      "|   186|    302|   3.0|891717742|\n",
      "|    22|    377|   1.0|878887116|\n",
      "|   244|     51|   2.0|880606923|\n",
      "|   166|    346|   1.0|886397596|\n",
      "|   298|    474|   4.0|884182806|\n",
      "|   115|    265|   2.0|881171488|\n",
      "|   253|    465|   5.0|891628467|\n",
      "|   305|    451|   3.0|886324817|\n",
      "|     6|     86|   3.0|883603013|\n",
      "|    62|    257|   2.0|879372434|\n",
      "|   286|   1014|   5.0|879781125|\n",
      "|   200|    222|   5.0|876042340|\n",
      "|   210|     40|   3.0|891035994|\n",
      "|   224|     29|   3.0|888104457|\n",
      "|   303|    785|   3.0|879485318|\n",
      "|   122|    387|   5.0|879270459|\n",
      "|   194|    274|   2.0|879539794|\n",
      "|   291|   1042|   4.0|874834944|\n",
      "|   234|   1184|   2.0|892079237|\n",
      "+------+-------+------+---------+\n",
      "only showing top 20 rows\n",
      "\n"
     ]
    }
   ],
   "source": [
    "# Note: The DataFrame-based API for ALS currently only supports integers for user and item ids.\n",
    "schema = StructType(\n",
    "    (\n",
    "        StructField(\"UserId\", IntegerType()),\n",
    "        StructField(\"MovieId\", IntegerType()),\n",
    "        StructField(\"Rating\", FloatType()),\n",
    "        StructField(\"Timestamp\", LongType()),\n",
    "    )\n",
    ")\n",
    "\n",
    "data = movielens.load_spark_df(spark, size=MOVIELENS_DATA_SIZE, schema=schema)\n",
    "data.show()"
   ]
  },
  {
   "cell_type": "markdown",
   "metadata": {},
   "source": [
    "### 2.2 Split the data into train, test\n",
    "There are several ways of splitting the data: random, chronological, stratified, etc., each of which favors a different real-world evaluation use case. We will split randomly in this example – for more details on which splitter to choose, consult [this guide](https://github.com/Microsoft/Recommenders/blob/master/notebooks/01_data/data_split.ipynb)."
   ]
  },
  {
   "cell_type": "code",
   "execution_count": 10,
   "metadata": {},
   "outputs": [
    {
     "name": "stdout",
     "output_type": "stream",
     "text": [
      "N train 75031\n",
      "N test 24969\n"
     ]
    }
   ],
   "source": [
    "train, test = spark_random_split(data, ratio=0.75, seed=42)\n",
    "print(\"N train\", train.cache().count())\n",
    "print(\"N test\", test.cache().count())"
   ]
  },
  {
   "cell_type": "markdown",
   "metadata": {},
   "source": [
    "### 2.3 Train the ALS model on the training data\n",
    "\n",
    "To predict movie ratings, we use the rating data in the training set as users' explicit feedback. The hyperparameters used to estimate the model are set based on [this page](http://mymedialite.net/examples/datasets.html).\n",
    "\n",
    "Under most circumstances, you would explore the hyperparameters and choose an optimal set based on some criteria. For additional details on this process, please see additional information in the deep dives [here](https://github.com/microsoft/recommenders/blob/master/notebooks/04_model_select_and_optimize/tuning_spark_als.ipynb)."
   ]
  },
  {
   "cell_type": "code",
   "execution_count": 11,
   "metadata": {},
   "outputs": [],
   "source": [
    "header = {\n",
    "    \"userCol\": \"UserId\",\n",
    "    \"itemCol\": \"MovieId\",\n",
    "    \"ratingCol\": \"Rating\",\n",
    "}\n",
    "\n",
    "als = ALS(\n",
    "    rank=10,\n",
    "    maxIter=15,\n",
    "    implicitPrefs=False,\n",
    "    alpha=0.1,\n",
    "    regParam=0.05,\n",
    "    coldStartStrategy='drop',\n",
    "    nonnegative=True,\n",
    "    **header\n",
    ")"
   ]
  },
  {
   "cell_type": "code",
   "execution_count": 12,
   "metadata": {},
   "outputs": [],
   "source": [
    "model = als.fit(train)"
   ]
  },
  {
   "cell_type": "markdown",
   "metadata": {},
   "source": [
    "### 2.4 Get top-k recommendations for our testing data\n",
    "\n",
    "In the movie recommendation use case, recommending movies that have been rated by the users do not make sense. Therefore, the rated movies are removed from the recommended items.\n",
    "\n",
    "In order to achieve this, we recommend all movies to all users, and then remove the user-movie pairs that exist in the training dataset."
   ]
  },
  {
   "cell_type": "code",
   "execution_count": 13,
   "metadata": {},
   "outputs": [
    {
     "name": "stdout",
     "output_type": "stream",
     "text": [
      "+------+-------+----------+\n",
      "|UserId|MovieId|prediction|\n",
      "+------+-------+----------+\n",
      "|   148|    148| 2.7591963|\n",
      "|   463|    148| 2.4122012|\n",
      "|   471|    148|  4.056488|\n",
      "|   496|    148| 2.3058019|\n",
      "|   833|    148| 1.7793453|\n",
      "|   243|    148|  2.541278|\n",
      "|   392|    148|  2.538548|\n",
      "|   540|    148| 3.4601738|\n",
      "|   623|    148| 2.8626804|\n",
      "|   737|    148| 1.9720266|\n",
      "|   858|    148| 2.0933924|\n",
      "|   897|    148| 3.7217906|\n",
      "|    31|    148| 3.0197525|\n",
      "|   516|    148| 3.5070436|\n",
      "|    85|    148|  2.414331|\n",
      "|   137|    148|  4.679284|\n",
      "|   251|    148| 3.0501633|\n",
      "|   451|    148|   4.08469|\n",
      "|   580|    148| 3.6586523|\n",
      "|   808|    148| 3.6865394|\n",
      "+------+-------+----------+\n",
      "only showing top 20 rows\n",
      "\n"
     ]
    }
   ],
   "source": [
    "# Get the cross join of all user-item pairs and score them.\n",
    "users = train.select('UserId').distinct()\n",
    "items = train.select('MovieId').distinct()\n",
    "user_item = users.crossJoin(items)\n",
    "dfs_pred = model.transform(user_item)\n",
    "\n",
    "dfs_pred.show()"
   ]
  },
  {
   "cell_type": "code",
   "execution_count": 14,
   "metadata": {},
   "outputs": [
    {
     "name": "stdout",
     "output_type": "stream",
     "text": [
      "+------+-------+----------+\n",
      "|UserId|MovieId|prediction|\n",
      "+------+-------+----------+\n",
      "|     1|    587|  3.279942|\n",
      "|     1|    869| 2.3982725|\n",
      "|     1|   1208| 2.7008247|\n",
      "|     1|   1677| 3.2902818|\n",
      "|     2|     80| 2.6232195|\n",
      "|     2|    303| 3.5138035|\n",
      "|     2|    472| 2.9955308|\n",
      "|     2|    582|  3.851469|\n",
      "|     2|    838| 1.7562649|\n",
      "|     2|    975| 2.6689043|\n",
      "|     2|   1260| 4.2016172|\n",
      "|     2|   1325|  1.174239|\n",
      "|     2|   1381| 3.7950218|\n",
      "|     2|   1530|  2.604762|\n",
      "|     3|     22| 2.9423695|\n",
      "|     3|     57| 1.6411926|\n",
      "|     3|     89| 3.5102983|\n",
      "|     3|    367|  2.226043|\n",
      "|     3|   1091| 1.6633637|\n",
      "|     3|   1167|  2.629972|\n",
      "+------+-------+----------+\n",
      "only showing top 20 rows\n",
      "\n"
     ]
    }
   ],
   "source": [
    "# Remove seen items.\n",
    "dfs_pred_exclude_train = dfs_pred.alias(\"pred\").join(\n",
    "    train.alias(\"train\"),\n",
    "    (dfs_pred['UserId'] == train['UserId']) & (dfs_pred['MovieId'] == train['MovieId']),\n",
    "    how='outer'\n",
    ")\n",
    "top_all = dfs_pred_exclude_train.filter(dfs_pred_exclude_train[\"train.Rating\"].isNull()) \\\n",
    "    .select('pred.' + 'UserId', 'pred.' + 'MovieId', 'pred.' + \"prediction\")\n",
    "\n",
    "top_all.show()"
   ]
  },
  {
   "cell_type": "markdown",
   "metadata": {},
   "source": [
    "### 2.5 Evaluate how well ALS performs\n",
    "\n",
    "Evaluate model performance using metrics such as Precision@K, Recall@K, [MAP](https://en.wikipedia.org/wiki/Evaluation_measures_\\(information_retrieval\\)) or [nDCG](https://en.wikipedia.org/wiki/Discounted_cumulative_gain). For a full guide on what metrics to evaluate your recommender with, consult [this guide](https://github.com/Microsoft/Recommenders/blob/master/notebooks/03_evaluate/evaluation.ipynb)."
   ]
  },
  {
   "cell_type": "code",
   "execution_count": 15,
   "metadata": {},
   "outputs": [
    {
     "name": "stdout",
     "output_type": "stream",
     "text": [
      "+------+-------+------+---------+\n",
      "|UserId|MovieId|Rating|Timestamp|\n",
      "+------+-------+------+---------+\n",
      "|     1|      2|   3.0|876893171|\n",
      "|     1|      3|   4.0|878542960|\n",
      "|     1|      4|   3.0|876893119|\n",
      "|     1|     14|   5.0|874965706|\n",
      "|     1|     17|   3.0|875073198|\n",
      "|     1|     27|   2.0|876892946|\n",
      "|     1|     29|   1.0|878542869|\n",
      "|     1|     35|   1.0|878542420|\n",
      "|     1|     36|   2.0|875073180|\n",
      "|     1|     51|   4.0|878543275|\n",
      "|     1|     52|   4.0|875072205|\n",
      "|     1|     54|   3.0|878543308|\n",
      "|     1|     56|   4.0|875072716|\n",
      "|     1|     60|   5.0|875072370|\n",
      "|     1|     64|   5.0|875072404|\n",
      "|     1|     69|   3.0|875072262|\n",
      "|     1|     77|   4.0|876893205|\n",
      "|     1|     83|   3.0|875072370|\n",
      "|     1|     85|   3.0|875073180|\n",
      "|     1|     88|   4.0|878542791|\n",
      "+------+-------+------+---------+\n",
      "only showing top 20 rows\n",
      "\n"
     ]
    }
   ],
   "source": [
    "test.show()"
   ]
  },
  {
   "cell_type": "code",
   "execution_count": 16,
   "metadata": {},
   "outputs": [
    {
     "name": "stdout",
     "output_type": "stream",
     "text": [
      "Model:\tALS\n",
      "Top K:\t10\n",
      "MAP:\t0.004037\n",
      "NDCG:\t0.036358\n",
      "Precision@K:\t0.038070\n",
      "Recall@K:\t0.013339\n"
     ]
    }
   ],
   "source": [
    "# Evaluate Ranking Metrics\n",
    "rank_eval = SparkRankingEvaluation(\n",
    "    test, \n",
    "    top_all, \n",
    "    k=TOP_K, \n",
    "    col_user=\"UserId\", \n",
    "    col_item=\"MovieId\", \n",
    "    col_rating=\"Rating\", \n",
    "    col_prediction=\"prediction\", \n",
    "    relevancy_method=\"top_k\"\n",
    ")\n",
    "\n",
    "print(\n",
    "    \"Model:\\tALS\",\n",
    "    \"Top K:\\t%d\" % rank_eval.k,\n",
    "    \"MAP:\\t%f\" % rank_eval.map_at_k(),\n",
    "    \"NDCG:\\t%f\" % rank_eval.ndcg_at_k(),\n",
    "    \"Precision@K:\\t%f\" % rank_eval.precision_at_k(),\n",
    "    \"Recall@K:\\t%f\" % rank_eval.recall_at_k(), sep='\\n'\n",
    ")"
   ]
  },
  {
   "cell_type": "code",
   "execution_count": 17,
   "metadata": {},
   "outputs": [
    {
     "name": "stdout",
     "output_type": "stream",
     "text": [
      "Model:\tALS rating prediction\n",
      "RMSE:\t0.94\n",
      "MAE:\t0.738571\n",
      "Explained variance:\t0.293173\n",
      "R squared:\t0.288851\n"
     ]
    }
   ],
   "source": [
    "# Evaluate Rating Metrics\n",
    "prediction = model.transform(test)\n",
    "rating_eval = SparkRatingEvaluation(\n",
    "    test, \n",
    "    prediction, \n",
    "    col_user=\"UserId\", \n",
    "    col_item=\"MovieId\", \n",
    "    col_rating=\"Rating\", \n",
    "    col_prediction=\"prediction\"\n",
    ")\n",
    "\n",
    "print(\n",
    "    \"Model:\\tALS rating prediction\",\n",
    "    \"RMSE:\\t%.2f\" % rating_eval.rmse(),\n",
    "    \"MAE:\\t%f\" % rating_eval.mae(),\n",
    "    \"Explained variance:\\t%f\" % rating_eval.exp_var(),\n",
    "    \"R squared:\\t%f\" % rating_eval.rsquared(), sep='\\n'\n",
    ")"
   ]
  },
  {
   "cell_type": "markdown",
   "metadata": {},
   "source": [
    "### 2.6 Save the model"
   ]
  },
  {
   "cell_type": "code",
   "execution_count": 20,
   "metadata": {},
   "outputs": [],
   "source": [
    "(model\n",
    " .write()\n",
    " .overwrite()\n",
    " .save(model_name))"
   ]
  },
  {
   "cell_type": "markdown",
   "metadata": {},
   "source": [
    "## 3. Operationalize the Recommender Service\n",
    "Once the model is built with desirable performance, it will be operationalized to run as a REST endpoint to be utilized by a real time service. We will utilize [Azure Cosmos DB](https://azure.microsoft.com/en-us/services/cosmos-db/), [Azure Machine Learning Service](https://azure.microsoft.com/en-us/services/machine-learning-service/), and [Azure Kubernetes Service](https://docs.microsoft.com/en-us/azure/aks/intro-kubernetes) to operationalize the recommender service."
   ]
  },
  {
   "cell_type": "markdown",
   "metadata": {},
   "source": [
    "### 3.1 Create a look-up for Recommendations in Cosmos DB\n",
    "\n",
    "First, the Top-10 recommendations for each user as predicted by the model are stored as a lookup table in Cosmos DB. At runtime, the service will return the Top-10 recommendations as precomputed and stored in Cosmos DB:"
   ]
  },
  {
   "cell_type": "code",
   "execution_count": 19,
   "metadata": {},
   "outputs": [
    {
     "data": {
      "text/html": [
       "<div>\n",
       "<style scoped>\n",
       "    .dataframe tbody tr th:only-of-type {\n",
       "        vertical-align: middle;\n",
       "    }\n",
       "\n",
       "    .dataframe tbody tr th {\n",
       "        vertical-align: top;\n",
       "    }\n",
       "\n",
       "    .dataframe thead th {\n",
       "        text-align: right;\n",
       "    }\n",
       "</style>\n",
       "<table border=\"1\" class=\"dataframe\">\n",
       "  <thead>\n",
       "    <tr style=\"text-align: right;\">\n",
       "      <th></th>\n",
       "      <th>id</th>\n",
       "      <th>MovieId</th>\n",
       "    </tr>\n",
       "  </thead>\n",
       "  <tbody>\n",
       "    <tr>\n",
       "      <th>0</th>\n",
       "      <td>471</td>\n",
       "      <td>[898, 336, 1005, 1160, 263, 888, 375, 1061, 34...</td>\n",
       "    </tr>\n",
       "    <tr>\n",
       "      <th>1</th>\n",
       "      <td>463</td>\n",
       "      <td>[1449, 511, 1064, 958, 1512, 408, 750, 272, 16...</td>\n",
       "    </tr>\n",
       "    <tr>\n",
       "      <th>2</th>\n",
       "      <td>833</td>\n",
       "      <td>[1203, 1643, 320, 1512, 1368, 390, 853, 641, 6...</td>\n",
       "    </tr>\n",
       "    <tr>\n",
       "      <th>3</th>\n",
       "      <td>496</td>\n",
       "      <td>[593, 968, 960, 130, 915, 902, 1022, 580, 512,...</td>\n",
       "    </tr>\n",
       "    <tr>\n",
       "      <th>4</th>\n",
       "      <td>148</td>\n",
       "      <td>[1104, 960, 580, 1069, 1126, 1159, 593, 718, 5...</td>\n",
       "    </tr>\n",
       "  </tbody>\n",
       "</table>\n",
       "</div>"
      ],
      "text/plain": [
       "    id                                            MovieId\n",
       "0  471  [898, 336, 1005, 1160, 263, 888, 375, 1061, 34...\n",
       "1  463  [1449, 511, 1064, 958, 1512, 408, 750, 272, 16...\n",
       "2  833  [1203, 1643, 320, 1512, 1368, 390, 853, 641, 6...\n",
       "3  496  [593, 968, 960, 130, 915, 902, 1022, 580, 512,...\n",
       "4  148  [1104, 960, 580, 1069, 1126, 1159, 593, 718, 5..."
      ]
     },
     "execution_count": 19,
     "metadata": {},
     "output_type": "execute_result"
    }
   ],
   "source": [
    "recs = model.recommendForAllUsers(10)\n",
    "recs_topk = recs.withColumn(\"id\",recs[userCol].cast(\"string\")) \\\n",
    "    .select(\"id\", \"recommendations.\"+ itemCol).toPandas()\n",
    "recs_topk.head()"
   ]
  },
  {
   "cell_type": "code",
   "execution_count": 21,
   "metadata": {},
   "outputs": [],
   "source": [
    "# Save data to CosmosDB\n",
    "(spark.createDataFrame(recs_topk)\n",
    " .write\n",
    " .format(\"com.microsoft.azure.cosmosdb.spark\")\n",
    " .mode('overwrite')\n",
    " .options(**dbsecrets)\n",
    " .save())"
   ]
  },
  {
   "cell_type": "markdown",
   "metadata": {},
   "source": [
    "### 3.2 Configure Azure Machine Learning\n",
    "\n",
    "Next, Azure Machine Learning Service is used to create a model scoring image and deploy it to Azure Kubernetes Service as a scalable containerized service. To achieve this, a **scoring script** and an **environment config** should be created. The following shows the content of the two files.  \n",
    "\n",
    "In the scoring script, we make a call to Cosmos DB to lookup the top 10 movies to recommend given an input User ID:"
   ]
  },
  {
   "cell_type": "code",
   "execution_count": 22,
   "metadata": {},
   "outputs": [],
   "source": [
    "score_sparkml = \"\"\"\n",
    "import json\n",
    "import pydocumentdb.document_client as document_client\n",
    "\n",
    "def init(local=False):\n",
    "    global client, collection\n",
    "    try:\n",
    "      client = document_client.DocumentClient('{endpoint}', dict(masterKey='{key}'))\n",
    "      collection = client.ReadCollection(collection_link='dbs/{database}/colls/{collection}')\n",
    "    except Exception as e:\n",
    "      collection = e\n",
    "\n",
    "def run(input_json):\n",
    "    try:\n",
    "      # Query them in SQL\n",
    "      id = str(json.loads(json.loads(input_json)[0])['id'])\n",
    "      query = dict(query='SELECT * FROM c WHERE c.id = \"' + id +'\"')\n",
    "      options = dict(partitionKey=str(id))\n",
    "      document_link = 'dbs/{database}/colls/{collection}/docs/' + id\n",
    "      result = client.ReadDocument(document_link, options);  \n",
    "    except Exception as e:\n",
    "        result = str(e)\n",
    "    return json.dumps(str(result))\n",
    "\"\"\".format(key=dbsecrets['Masterkey'], \n",
    "           endpoint=dbsecrets['Endpoint'], \n",
    "           database=dbsecrets['Database'], \n",
    "           collection=dbsecrets['Collection'])\n",
    "\n",
    "# test validity of python string\n",
    "exec(score_sparkml)\n",
    "\n",
    "with open(\"score_sparkml.py\", \"w\") as file:\n",
    "    file.write(score_sparkml)"
   ]
  },
  {
   "cell_type": "markdown",
   "metadata": {},
   "source": [
    "Register your model:"
   ]
  },
  {
   "cell_type": "code",
   "execution_count": 23,
   "metadata": {},
   "outputs": [
    {
     "name": "stdout",
     "output_type": "stream",
     "text": [
      "Registering model mvl-als-reco.mml\n",
      "mvl-als-reco.mml AML trained model 3\n"
     ]
    }
   ],
   "source": [
    "mymodel = Model.register(model_path=model_name,  # this points to a local file\n",
    "                         model_name=model_name,  # this is the name the model is registered as, currently same name for both path and name                 \n",
    "                         description=\"AML trained model\",\n",
    "                         workspace=ws)\n",
    "\n",
    "print(mymodel.name, mymodel.description, mymodel.version)"
   ]
  },
  {
   "cell_type": "markdown",
   "metadata": {},
   "source": [
    "### 3.3 Deploy the model as a Service on AKS"
   ]
  },
  {
   "cell_type": "markdown",
   "metadata": {},
   "source": [
    "#### 3.3.1 Create an Environment for your model:"
   ]
  },
  {
   "cell_type": "code",
   "execution_count": 24,
   "metadata": {},
   "outputs": [],
   "source": [
    "env = Environment(name='sparkmlenv')\n",
    "\n",
    "# Specify a public image from microsoft/mmlspark as base image\n",
    "env.docker.base_image=\"microsoft/mmlspark:0.15\"\n",
    "\n",
    "pip = ['azureml-defaults', 'numpy==1.14.2', 'scikit-learn==0.19.1', 'pandas', 'pydocumentdb']\n",
    "\n",
    "# Add dependencies needed for inferencing\n",
    "env.python.conda_dependencies = CondaDependencies.create(pip_packages=pip)\n",
    "env.inferencing_stack_version = \"latest\"\n",
    "\n",
    "# Add spark packages\n",
    "env.spark.precache_packages = True\n",
    "env.spark.repositories = [\"https://mmlspark.azureedge.net/maven\"]\n",
    "env.spark.packages= [SparkPackage(\"com.microsoft.ml.spark\", \"mmlspark_2.11\", \"0.15\"),\n",
    "                     SparkPackage(\"com.microsoft.azure\", artifact=\"azure-storage\", version=\"2.0.0\"),\n",
    "                     SparkPackage(group=\"org.apache.hadoop\", artifact=\"hadoop-azure\", version=\"2.7.0\")]"
   ]
  },
  {
   "cell_type": "markdown",
   "metadata": {},
   "source": [
    "#### 3.3.2 Create an AKS Cluster to run your container (this may take 20-25 minutes):"
   ]
  },
  {
   "cell_type": "code",
   "execution_count": 25,
   "metadata": {},
   "outputs": [
    {
     "name": "stdout",
     "output_type": "stream",
     "text": [
      "Found existing cluster, use it.\n"
     ]
    }
   ],
   "source": [
    "# Verify that cluster does not exist already\n",
    "try:\n",
    "    aks_target = ComputeTarget(workspace=ws, name=aks_name)\n",
    "    print('Found existing cluster, use it.')\n",
    "except ComputeTargetException:\n",
    "    # Create the cluster using the default configuration (can also provide parameters to customize)\n",
    "    prov_config = AksCompute.provisioning_configuration()\n",
    "    aks_target = ComputeTarget.create(workspace=ws, \n",
    "                                      name=aks_name, \n",
    "                                      provisioning_configuration=prov_config)\n",
    "    aks_target.wait_for_completion(show_output = True)\n",
    "    print(aks_target.provisioning_state)\n",
    "    # To check any error logs, print(aks_target.provisioning_errors)"
   ]
  },
  {
   "cell_type": "markdown",
   "metadata": {},
   "source": [
    "#### 3.3.3 Deploy the container image to AKS:"
   ]
  },
  {
   "cell_type": "code",
   "execution_count": 26,
   "metadata": {},
   "outputs": [
    {
     "name": "stdout",
     "output_type": "stream",
     "text": [
      "Running................................................................................................................\n",
      "SucceededAKS service creation operation finished, operation \"Succeeded\"\n"
     ]
    }
   ],
   "source": [
    "# Create an Inferencing Configuration with your environment and scoring script\n",
    "inference_config = InferenceConfig(environment=env,\n",
    "                                   entry_script=\"score_sparkml.py\")\n",
    "\n",
    "# Set the web service configuration (using default here with app insights)\n",
    "aks_config = AksWebservice.deploy_configuration(enable_app_insights=True)\n",
    "\n",
    "# Webservice creation using single command\n",
    "try:\n",
    "    aks_service = Model.deploy(workspace=ws,\n",
    "                               models=[mymodel],\n",
    "                               name=service_name,\n",
    "                               inference_config=inference_config,\n",
    "                               deployment_config=aks_config,\n",
    "                               deployment_target=aks_target)\n",
    "    aks_service.wait_for_deployment(show_output=True)\n",
    "except WebserviceException:\n",
    "    # Retrieve existing service.\n",
    "    aks_service = Webservice(ws, name=service_name)\n",
    "    print(\"Retrieved existing service\")"
   ]
  },
  {
   "cell_type": "markdown",
   "metadata": {},
   "source": [
    "### 3.4 Call the AKS model service\n",
    "After the deployment, the service can be called with a user ID – the service will then look up the top 10 recommendations for that user in Cosmos DB and send back the results.\n",
    "The following script demonstrates how to call the recommendation service API and view the result for the given user ID:"
   ]
  },
  {
   "cell_type": "code",
   "execution_count": 27,
   "metadata": {},
   "outputs": [
    {
     "name": "stdout",
     "output_type": "stream",
     "text": [
      "[b'\"\\\\\"{\\'MovieId\\': [593, 968, 960, 130, 915, 902, 1022, 580, 512, 721], \\'id\\': \\'496\\', \\'_rid\\': \\'1r1rALvGnC3LAAAAAAAACA==\\', \\'_self\\': \\'dbs/1r1rAA==/colls/1r1rALvGnC0=/docs/1r1rALvGnC3LAAAAAAAACA==/\\', \\'_etag\\': \\'\\\\\\\\\\\\\"66008bff-0000-0800-0000-5dc1f4d50000\\\\\\\\\\\\\"\\', \\'_attachments\\': \\'attachments/\\', \\'_ts\\': 1572992213}\\\\\"\"']\n",
      "Full run took 0.12 seconds\n"
     ]
    }
   ],
   "source": [
    "scoring_url = aks_service.scoring_uri\n",
    "service_key = aks_service.get_keys()[0]\n",
    "\n",
    "input_data = '[\"{\\\\\"id\\\\\":\\\\\"496\\\\\"}\"]'.encode()\n",
    "\n",
    "req = urllib.request.Request(scoring_url,data=input_data)\n",
    "req.add_header(\"Authorization\",\"Bearer {}\".format(service_key))\n",
    "req.add_header(\"Content-Type\",\"application/json\")\n",
    "\n",
    "with Timer() as t: \n",
    "    with urllib.request.urlopen(req) as result:\n",
    "        res = result.readlines()\n",
    "        print(res)\n",
    "    \n",
    "print(\"Full run took %.2f seconds\" % t.interval)"
   ]
  },
  {
   "cell_type": "code",
   "execution_count": null,
   "metadata": {},
   "outputs": [],
   "source": []
  }
 ],
 "metadata": {
  "kernelspec": {
   "display_name": "reco_base",
   "language": "python",
   "name": "reco_base"
  },
  "language_info": {
   "codemirror_mode": {
    "name": "ipython",
    "version": 3
   },
   "file_extension": ".py",
   "mimetype": "text/x-python",
   "name": "python",
   "nbconvert_exporter": "python",
   "pygments_lexer": "ipython3",
   "version": "3.6.8"
  },
  "name": "ALS_Movie_Example",
  "notebookId": 3793436040750096,
  "pycharm": {
   "stem_cell": {
    "cell_type": "raw",
    "metadata": {
     "collapsed": false
    },
    "source": []
   }
  }
 },
 "nbformat": 4,
 "nbformat_minor": 1
}
