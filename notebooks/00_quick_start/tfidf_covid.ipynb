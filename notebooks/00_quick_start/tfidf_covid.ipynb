{
 "cells": [
  {
   "cell_type": "markdown",
   "metadata": {},
   "source": [
    "# WORK-IN-PROGRESS\n",
    "Last updated 2020-04-15"
   ]
  },
  {
   "cell_type": "markdown",
   "metadata": {},
   "source": [
    "To-do\n",
    "- See why abstract is missing in example `rec_info` towards the end of the notebook\n",
    "- Check quality of recommendations\n",
    "- Write out brief explanations\n",
    "- Clean up cells a little"
   ]
  },
  {
   "cell_type": "code",
   "execution_count": 1,
   "metadata": {},
   "outputs": [
    {
     "name": "stdout",
     "output_type": "stream",
     "text": [
      "System version: 3.7.5 (default, Oct 31 2019, 15:18:51) [MSC v.1916 64 bit (AMD64)]\n"
     ]
    }
   ],
   "source": [
    "# Set the environment path to find Recommenders\n",
    "import sys\n",
    "sys.path.append(\"../../\")\n",
    "\n",
    "# Import functions\n",
    "from reco_utils.dataset.covid_utils import *\n",
    "from reco_utils.recommender.tfidf.tfidf_utils import *\n",
    "\n",
    "# Print version\n",
    "print(\"System version: {}\".format(sys.version))"
   ]
  },
  {
   "cell_type": "markdown",
   "metadata": {},
   "source": [
    "## Parameters"
   ]
  },
  {
   "cell_type": "code",
   "execution_count": 2,
   "metadata": {},
   "outputs": [],
   "source": [
    "# Parameters for the COVID-19 dataset in Azure Open Datasets\n",
    "# https://azure.microsoft.com/en-us/services/open-datasets/catalog/covid-19-open-research/\n",
    "azure_storage_account_name='azureopendatastorage'\n",
    "azure_storage_sas_token='sv=2019-02-02&ss=bfqt&srt=sco&sp=rlcup&se=2025-04-14T00:21:16Z&st=2020-04-13T16:21:16Z&spr=https&sig=JgwLYbdGruHxRYTpr5dxfJqobKbhGap8WUtKFadcivQ%3D'\n",
    "container_name='covid19temp'\n",
    "metadata_filename='metadata.csv'"
   ]
  },
  {
   "cell_type": "markdown",
   "metadata": {},
   "source": [
    "## Load in the data"
   ]
  },
  {
   "cell_type": "markdown",
   "metadata": {},
   "source": [
    "Download metadata.csv (takes about 1.5 min)"
   ]
  },
  {
   "cell_type": "code",
   "execution_count": 3,
   "metadata": {},
   "outputs": [],
   "source": [
    "# Get metadata\n",
    "blob_service = get_blob_service(azure_storage_account_name, azure_storage_sas_token, container_name)\n",
    "metadata = download_metadata(blob_service, container_name, metadata_filename)"
   ]
  },
  {
   "cell_type": "markdown",
   "metadata": {},
   "source": [
    "Only keep metadata for articles that are under public domain (cc0)"
   ]
  },
  {
   "cell_type": "code",
   "execution_count": 4,
   "metadata": {},
   "outputs": [
    {
     "data": {
      "text/html": [
       "<div>\n",
       "<style scoped>\n",
       "    .dataframe tbody tr th:only-of-type {\n",
       "        vertical-align: middle;\n",
       "    }\n",
       "\n",
       "    .dataframe tbody tr th {\n",
       "        vertical-align: top;\n",
       "    }\n",
       "\n",
       "    .dataframe thead th {\n",
       "        text-align: right;\n",
       "    }\n",
       "</style>\n",
       "<table border=\"1\" class=\"dataframe\">\n",
       "  <thead>\n",
       "    <tr style=\"text-align: right;\">\n",
       "      <th></th>\n",
       "      <th>cord_uid</th>\n",
       "      <th>sha</th>\n",
       "      <th>source_x</th>\n",
       "      <th>title</th>\n",
       "      <th>doi</th>\n",
       "      <th>pmcid</th>\n",
       "      <th>pubmed_id</th>\n",
       "      <th>license</th>\n",
       "      <th>abstract</th>\n",
       "      <th>publish_time</th>\n",
       "      <th>authors</th>\n",
       "      <th>journal</th>\n",
       "      <th>Microsoft Academic Paper ID</th>\n",
       "      <th>WHO #Covidence</th>\n",
       "      <th>has_pdf_parse</th>\n",
       "      <th>has_pmc_xml_parse</th>\n",
       "      <th>full_text_file</th>\n",
       "      <th>url</th>\n",
       "    </tr>\n",
       "  </thead>\n",
       "  <tbody>\n",
       "    <tr>\n",
       "      <th>106</th>\n",
       "      <td>ej795nks</td>\n",
       "      <td>a3c3b7c38ad32e1042d78aae2027ca491e9f2197</td>\n",
       "      <td>PMC</td>\n",
       "      <td>Understanding the Spatial Clustering of Severe...</td>\n",
       "      <td>10.1289/ehp.7117</td>\n",
       "      <td>PMC1247620</td>\n",
       "      <td>15531441.0</td>\n",
       "      <td>cc0</td>\n",
       "      <td>We applied cartographic and geostatistical met...</td>\n",
       "      <td>2004-07-27</td>\n",
       "      <td>Lai, P.C.; Wong, C.M.; Hedley, A.J.; Lo, S.V.;...</td>\n",
       "      <td>Environ Health Perspect</td>\n",
       "      <td>NaN</td>\n",
       "      <td>NaN</td>\n",
       "      <td>True</td>\n",
       "      <td>True</td>\n",
       "      <td>comm_use_subset</td>\n",
       "      <td>https://www.ncbi.nlm.nih.gov/pmc/articles/PMC1...</td>\n",
       "    </tr>\n",
       "    <tr>\n",
       "      <th>108</th>\n",
       "      <td>9mzs5dl4</td>\n",
       "      <td>c1c6a98c21304f3788b20870b34afd8a115fa38c</td>\n",
       "      <td>PMC</td>\n",
       "      <td>The Application of the Haddon Matrix to Public...</td>\n",
       "      <td>10.1289/ehp.7491</td>\n",
       "      <td>PMC1257548</td>\n",
       "      <td>15866764.0</td>\n",
       "      <td>cc0</td>\n",
       "      <td>State and local health departments continue to...</td>\n",
       "      <td>2005-02-02</td>\n",
       "      <td>Barnett, Daniel J.; Balicer, Ran D.; Blodgett,...</td>\n",
       "      <td>Environ Health Perspect</td>\n",
       "      <td>NaN</td>\n",
       "      <td>NaN</td>\n",
       "      <td>True</td>\n",
       "      <td>True</td>\n",
       "      <td>comm_use_subset</td>\n",
       "      <td>https://www.ncbi.nlm.nih.gov/pmc/articles/PMC1...</td>\n",
       "    </tr>\n",
       "    <tr>\n",
       "      <th>152</th>\n",
       "      <td>u7lz3spe</td>\n",
       "      <td>c56ffdaf1cfbae5a6ed0abea495eaf7fa1cbc031</td>\n",
       "      <td>PMC</td>\n",
       "      <td>Cynomolgus Macaque as an Animal Model for Seve...</td>\n",
       "      <td>10.1371/journal.pmed.0030149</td>\n",
       "      <td>PMC1435788</td>\n",
       "      <td>16605302.0</td>\n",
       "      <td>cc0</td>\n",
       "      <td>BACKGROUND: The emergence of severe acute resp...</td>\n",
       "      <td>2006-04-18</td>\n",
       "      <td>Lawler, James V; Endy, Timothy P; Hensley, Lis...</td>\n",
       "      <td>PLoS Med</td>\n",
       "      <td>NaN</td>\n",
       "      <td>NaN</td>\n",
       "      <td>True</td>\n",
       "      <td>True</td>\n",
       "      <td>comm_use_subset</td>\n",
       "      <td>https://www.ncbi.nlm.nih.gov/pmc/articles/PMC1...</td>\n",
       "    </tr>\n",
       "    <tr>\n",
       "      <th>160</th>\n",
       "      <td>na7z92i8</td>\n",
       "      <td>f38f3b112e4b702b60ba56be806d418bbb2b83c3</td>\n",
       "      <td>PMC</td>\n",
       "      <td>Immune Protection of Nonhuman Primates against...</td>\n",
       "      <td>10.1371/journal.pmed.0030177</td>\n",
       "      <td>PMC1459482</td>\n",
       "      <td>16683867.0</td>\n",
       "      <td>cc0</td>\n",
       "      <td>BACKGROUND: Ebola virus causes a hemorrhagic f...</td>\n",
       "      <td>2006-05-16</td>\n",
       "      <td>Sullivan, Nancy J; Geisbert, Thomas W; Geisber...</td>\n",
       "      <td>PLoS Med</td>\n",
       "      <td>NaN</td>\n",
       "      <td>NaN</td>\n",
       "      <td>True</td>\n",
       "      <td>True</td>\n",
       "      <td>comm_use_subset</td>\n",
       "      <td>https://www.ncbi.nlm.nih.gov/pmc/articles/PMC1...</td>\n",
       "    </tr>\n",
       "    <tr>\n",
       "      <th>212</th>\n",
       "      <td>j35w1vsw</td>\n",
       "      <td>5dc0b8b662824323881c3a1ae3a1bae2a821484d</td>\n",
       "      <td>PMC</td>\n",
       "      <td>SARS: Systematic Review of Treatment Effects</td>\n",
       "      <td>10.1371/journal.pmed.0030343</td>\n",
       "      <td>PMC1564166</td>\n",
       "      <td>16968120.0</td>\n",
       "      <td>cc0</td>\n",
       "      <td>BACKGROUND: The SARS outbreak of 2002–2003 pre...</td>\n",
       "      <td>2006-09-12</td>\n",
       "      <td>Stockman, Lauren J; Bellamy, Richard; Garner, ...</td>\n",
       "      <td>PLoS Med</td>\n",
       "      <td>NaN</td>\n",
       "      <td>NaN</td>\n",
       "      <td>True</td>\n",
       "      <td>True</td>\n",
       "      <td>comm_use_subset</td>\n",
       "      <td>https://www.ncbi.nlm.nih.gov/pmc/articles/PMC1...</td>\n",
       "    </tr>\n",
       "  </tbody>\n",
       "</table>\n",
       "</div>"
      ],
      "text/plain": [
       "     cord_uid                                       sha source_x  \\\n",
       "106  ej795nks  a3c3b7c38ad32e1042d78aae2027ca491e9f2197      PMC   \n",
       "108  9mzs5dl4  c1c6a98c21304f3788b20870b34afd8a115fa38c      PMC   \n",
       "152  u7lz3spe  c56ffdaf1cfbae5a6ed0abea495eaf7fa1cbc031      PMC   \n",
       "160  na7z92i8  f38f3b112e4b702b60ba56be806d418bbb2b83c3      PMC   \n",
       "212  j35w1vsw  5dc0b8b662824323881c3a1ae3a1bae2a821484d      PMC   \n",
       "\n",
       "                                                 title  \\\n",
       "106  Understanding the Spatial Clustering of Severe...   \n",
       "108  The Application of the Haddon Matrix to Public...   \n",
       "152  Cynomolgus Macaque as an Animal Model for Seve...   \n",
       "160  Immune Protection of Nonhuman Primates against...   \n",
       "212       SARS: Systematic Review of Treatment Effects   \n",
       "\n",
       "                              doi       pmcid   pubmed_id license  \\\n",
       "106              10.1289/ehp.7117  PMC1247620  15531441.0     cc0   \n",
       "108              10.1289/ehp.7491  PMC1257548  15866764.0     cc0   \n",
       "152  10.1371/journal.pmed.0030149  PMC1435788  16605302.0     cc0   \n",
       "160  10.1371/journal.pmed.0030177  PMC1459482  16683867.0     cc0   \n",
       "212  10.1371/journal.pmed.0030343  PMC1564166  16968120.0     cc0   \n",
       "\n",
       "                                              abstract publish_time  \\\n",
       "106  We applied cartographic and geostatistical met...   2004-07-27   \n",
       "108  State and local health departments continue to...   2005-02-02   \n",
       "152  BACKGROUND: The emergence of severe acute resp...   2006-04-18   \n",
       "160  BACKGROUND: Ebola virus causes a hemorrhagic f...   2006-05-16   \n",
       "212  BACKGROUND: The SARS outbreak of 2002–2003 pre...   2006-09-12   \n",
       "\n",
       "                                               authors  \\\n",
       "106  Lai, P.C.; Wong, C.M.; Hedley, A.J.; Lo, S.V.;...   \n",
       "108  Barnett, Daniel J.; Balicer, Ran D.; Blodgett,...   \n",
       "152  Lawler, James V; Endy, Timothy P; Hensley, Lis...   \n",
       "160  Sullivan, Nancy J; Geisbert, Thomas W; Geisber...   \n",
       "212  Stockman, Lauren J; Bellamy, Richard; Garner, ...   \n",
       "\n",
       "                     journal  Microsoft Academic Paper ID WHO #Covidence  \\\n",
       "106  Environ Health Perspect                          NaN            NaN   \n",
       "108  Environ Health Perspect                          NaN            NaN   \n",
       "152                 PLoS Med                          NaN            NaN   \n",
       "160                 PLoS Med                          NaN            NaN   \n",
       "212                 PLoS Med                          NaN            NaN   \n",
       "\n",
       "     has_pdf_parse  has_pmc_xml_parse   full_text_file  \\\n",
       "106           True               True  comm_use_subset   \n",
       "108           True               True  comm_use_subset   \n",
       "152           True               True  comm_use_subset   \n",
       "160           True               True  comm_use_subset   \n",
       "212           True               True  comm_use_subset   \n",
       "\n",
       "                                                   url  \n",
       "106  https://www.ncbi.nlm.nih.gov/pmc/articles/PMC1...  \n",
       "108  https://www.ncbi.nlm.nih.gov/pmc/articles/PMC1...  \n",
       "152  https://www.ncbi.nlm.nih.gov/pmc/articles/PMC1...  \n",
       "160  https://www.ncbi.nlm.nih.gov/pmc/articles/PMC1...  \n",
       "212  https://www.ncbi.nlm.nih.gov/pmc/articles/PMC1...  "
      ]
     },
     "execution_count": 4,
     "metadata": {},
     "output_type": "execute_result"
    }
   ],
   "source": [
    "# Extract metadata on public domain articles only\n",
    "metadata_public = extract_public_domain(metadata)\n",
    "\n",
    "# Clean dataframe\n",
    "metadata_public = clean_dataframe(metadata_public)\n",
    "metadata_public.head()"
   ]
  },
  {
   "cell_type": "markdown",
   "metadata": {},
   "source": [
    "Retrieve the full text available for all the public domain articles (takes about 2.5 min)"
   ]
  },
  {
   "cell_type": "code",
   "execution_count": 5,
   "metadata": {},
   "outputs": [
    {
     "name": "stderr",
     "output_type": "stream",
     "text": [
      "../..\\reco_utils\\dataset\\covid_utils.py:198: SettingWithCopyWarning: \n",
      "A value is trying to be set on a copy of a slice from a DataFrame\n",
      "\n",
      "See the caveats in the documentation: http://pandas.pydata.org/pandas-docs/stable/user_guide/indexing.html#returning-a-view-versus-a-copy\n",
      "  df['full_text'][row] = retrieve_text(df.iloc[row], blob_service, container_name)\n",
      "C:\\Users\\Administrator\\.conda\\envs\\rec_repo\\lib\\site-packages\\pandas\\core\\indexing.py:205: SettingWithCopyWarning: \n",
      "A value is trying to be set on a copy of a slice from a DataFrame\n",
      "\n",
      "See the caveats in the documentation: http://pandas.pydata.org/pandas-docs/stable/user_guide/indexing.html#returning-a-view-versus-a-copy\n",
      "  self._setitem_with_indexer(indexer, value)\n"
     ]
    },
    {
     "data": {
      "text/html": [
       "<div>\n",
       "<style scoped>\n",
       "    .dataframe tbody tr th:only-of-type {\n",
       "        vertical-align: middle;\n",
       "    }\n",
       "\n",
       "    .dataframe tbody tr th {\n",
       "        vertical-align: top;\n",
       "    }\n",
       "\n",
       "    .dataframe thead th {\n",
       "        text-align: right;\n",
       "    }\n",
       "</style>\n",
       "<table border=\"1\" class=\"dataframe\">\n",
       "  <thead>\n",
       "    <tr style=\"text-align: right;\">\n",
       "      <th></th>\n",
       "      <th>index</th>\n",
       "      <th>cord_uid</th>\n",
       "      <th>doi</th>\n",
       "      <th>title</th>\n",
       "      <th>publish_time</th>\n",
       "      <th>authors</th>\n",
       "      <th>journal</th>\n",
       "      <th>url</th>\n",
       "      <th>abstract</th>\n",
       "      <th>full_text</th>\n",
       "    </tr>\n",
       "  </thead>\n",
       "  <tbody>\n",
       "    <tr>\n",
       "      <th>0</th>\n",
       "      <td>0</td>\n",
       "      <td>ej795nks</td>\n",
       "      <td>10.1289/ehp.7117</td>\n",
       "      <td>Understanding the Spatial Clustering of Severe...</td>\n",
       "      <td>2004-07-27</td>\n",
       "      <td>Lai, P.C.; Wong, C.M.; Hedley, A.J.; Lo, S.V.;...</td>\n",
       "      <td>Environ Health Perspect</td>\n",
       "      <td>https://www.ncbi.nlm.nih.gov/pmc/articles/PMC1...</td>\n",
       "      <td>We applied cartographic and geostatistical met...</td>\n",
       "      <td>Since the emergence and rapid spread of the e...</td>\n",
       "    </tr>\n",
       "    <tr>\n",
       "      <th>1</th>\n",
       "      <td>1</td>\n",
       "      <td>9mzs5dl4</td>\n",
       "      <td>10.1289/ehp.7491</td>\n",
       "      <td>The Application of the Haddon Matrix to Public...</td>\n",
       "      <td>2005-02-02</td>\n",
       "      <td>Barnett, Daniel J.; Balicer, Ran D.; Blodgett,...</td>\n",
       "      <td>Environ Health Perspect</td>\n",
       "      <td>https://www.ncbi.nlm.nih.gov/pmc/articles/PMC1...</td>\n",
       "      <td>State and local health departments continue to...</td>\n",
       "      <td>sudden fever and dry cough, along with chills...</td>\n",
       "    </tr>\n",
       "    <tr>\n",
       "      <th>2</th>\n",
       "      <td>2</td>\n",
       "      <td>u7lz3spe</td>\n",
       "      <td>10.1371/journal.pmed.0030149</td>\n",
       "      <td>Cynomolgus Macaque as an Animal Model for Seve...</td>\n",
       "      <td>2006-04-18</td>\n",
       "      <td>Lawler, James V; Endy, Timothy P; Hensley, Lis...</td>\n",
       "      <td>PLoS Med</td>\n",
       "      <td>https://www.ncbi.nlm.nih.gov/pmc/articles/PMC1...</td>\n",
       "      <td>BACKGROUND: The emergence of severe acute resp...</td>\n",
       "      <td>The emergence of severe acute respiratory syn...</td>\n",
       "    </tr>\n",
       "    <tr>\n",
       "      <th>3</th>\n",
       "      <td>3</td>\n",
       "      <td>na7z92i8</td>\n",
       "      <td>10.1371/journal.pmed.0030177</td>\n",
       "      <td>Immune Protection of Nonhuman Primates against...</td>\n",
       "      <td>2006-05-16</td>\n",
       "      <td>Sullivan, Nancy J; Geisbert, Thomas W; Geisber...</td>\n",
       "      <td>PLoS Med</td>\n",
       "      <td>https://www.ncbi.nlm.nih.gov/pmc/articles/PMC1...</td>\n",
       "      <td>BACKGROUND: Ebola virus causes a hemorrhagic f...</td>\n",
       "      <td>Background Ebola virus causes a hemorrhagic f...</td>\n",
       "    </tr>\n",
       "    <tr>\n",
       "      <th>4</th>\n",
       "      <td>4</td>\n",
       "      <td>j35w1vsw</td>\n",
       "      <td>10.1371/journal.pmed.0030343</td>\n",
       "      <td>SARS: Systematic Review of Treatment Effects</td>\n",
       "      <td>2006-09-12</td>\n",
       "      <td>Stockman, Lauren J; Bellamy, Richard; Garner, ...</td>\n",
       "      <td>PLoS Med</td>\n",
       "      <td>https://www.ncbi.nlm.nih.gov/pmc/articles/PMC1...</td>\n",
       "      <td>BACKGROUND: The SARS outbreak of 2002–2003 pre...</td>\n",
       "      <td>The SARS outbreak of 2002-2003 presented clin...</td>\n",
       "    </tr>\n",
       "  </tbody>\n",
       "</table>\n",
       "</div>"
      ],
      "text/plain": [
       "   index  cord_uid                           doi  \\\n",
       "0      0  ej795nks              10.1289/ehp.7117   \n",
       "1      1  9mzs5dl4              10.1289/ehp.7491   \n",
       "2      2  u7lz3spe  10.1371/journal.pmed.0030149   \n",
       "3      3  na7z92i8  10.1371/journal.pmed.0030177   \n",
       "4      4  j35w1vsw  10.1371/journal.pmed.0030343   \n",
       "\n",
       "                                               title publish_time  \\\n",
       "0  Understanding the Spatial Clustering of Severe...   2004-07-27   \n",
       "1  The Application of the Haddon Matrix to Public...   2005-02-02   \n",
       "2  Cynomolgus Macaque as an Animal Model for Seve...   2006-04-18   \n",
       "3  Immune Protection of Nonhuman Primates against...   2006-05-16   \n",
       "4       SARS: Systematic Review of Treatment Effects   2006-09-12   \n",
       "\n",
       "                                             authors                  journal  \\\n",
       "0  Lai, P.C.; Wong, C.M.; Hedley, A.J.; Lo, S.V.;...  Environ Health Perspect   \n",
       "1  Barnett, Daniel J.; Balicer, Ran D.; Blodgett,...  Environ Health Perspect   \n",
       "2  Lawler, James V; Endy, Timothy P; Hensley, Lis...                 PLoS Med   \n",
       "3  Sullivan, Nancy J; Geisbert, Thomas W; Geisber...                 PLoS Med   \n",
       "4  Stockman, Lauren J; Bellamy, Richard; Garner, ...                 PLoS Med   \n",
       "\n",
       "                                                 url  \\\n",
       "0  https://www.ncbi.nlm.nih.gov/pmc/articles/PMC1...   \n",
       "1  https://www.ncbi.nlm.nih.gov/pmc/articles/PMC1...   \n",
       "2  https://www.ncbi.nlm.nih.gov/pmc/articles/PMC1...   \n",
       "3  https://www.ncbi.nlm.nih.gov/pmc/articles/PMC1...   \n",
       "4  https://www.ncbi.nlm.nih.gov/pmc/articles/PMC1...   \n",
       "\n",
       "                                            abstract  \\\n",
       "0  We applied cartographic and geostatistical met...   \n",
       "1  State and local health departments continue to...   \n",
       "2  BACKGROUND: The emergence of severe acute resp...   \n",
       "3  BACKGROUND: Ebola virus causes a hemorrhagic f...   \n",
       "4  BACKGROUND: The SARS outbreak of 2002–2003 pre...   \n",
       "\n",
       "                                           full_text  \n",
       "0   Since the emergence and rapid spread of the e...  \n",
       "1   sudden fever and dry cough, along with chills...  \n",
       "2   The emergence of severe acute respiratory syn...  \n",
       "3   Background Ebola virus causes a hemorrhagic f...  \n",
       "4   The SARS outbreak of 2002-2003 presented clin...  "
      ]
     },
     "execution_count": 5,
     "metadata": {},
     "output_type": "execute_result"
    }
   ],
   "source": [
    "# Extract text from all public domain articles\n",
    "all_text = get_public_domain_text(metadata_public, blob_service, container_name)\n",
    "all_text.head()"
   ]
  },
  {
   "cell_type": "code",
   "execution_count": 6,
   "metadata": {},
   "outputs": [
    {
     "data": {
      "text/plain": [
       "247"
      ]
     },
     "execution_count": 6,
     "metadata": {},
     "output_type": "execute_result"
    }
   ],
   "source": [
    "len(all_text)"
   ]
  },
  {
   "cell_type": "code",
   "execution_count": 7,
   "metadata": {},
   "outputs": [
    {
     "data": {
      "text/plain": [
       "' Since the emergence and rapid spread of the etiologic agent of severe acute respiratory syndrome (SARS)-SARS coronavirus (SARS-CoV)-in late 2002 and during the first 6 months of 2003, great progress has been made in understanding the biology, pathogenesis, and epidemiology of both the disease and the virus (SARS-CoV). Much remains to be done, however, including the development of effective therapeutic interventions and diagnostic tools with high sensitivity and specificity soon after the onset of clinical symptoms. The evaluation of key epidemiologic parameters and the impact of different public health interventions in the various settings that experienced minor or major epidemics is also needed (Affonso et al. 2004; Cui et al. 2003; Lau et al. 2004; Leung et al., in press) . In terms of outbreak control on the population level, many questions about \"superspreading events\" (SSEs) remain to be investigated. Such an SSE was responsible for > 300 cases (out of a total of 1,755) in the Amoy Garden Housing Estate (AMOY) in the Hong Kong epidemic. Moreover, Donnelly et al. (2003) have demonstrated that there were clear geographic concentrations of microclusters of SARS cases where the density of infection varied widely between different districts. The application of geographic information system (GIS) methods in health and health care is a relatively new approach that started to gain acceptance a decade ago (Higgs and Gould 2001; Meade and Earickson 2000) . In particular, a wide variety of cartographic methods have become available for the mapping and analysis of communicable disease data since the defining work of Cliff and Haggett (1988) and Haggett (1994) . Advances in new technologies enable the application of GIS to examine spatially related problems from different perspectives. In addition to the descriptive mapping function, GIS possesses capabilities of data manipulation and geostatistical analysis. In the present study, we applied GIS technology in mapping and visualizing the SARS outbreak in Hong Kong. In this article we focus on cartographic and geostatistical methods in representing and analyzing the patterns of disease spread during the 2003 outbreak. We also address the utility and limitations of GIS as a real-time disease surveillance tool. Data sources. We used spatial and nonspatial data in this study. Spatial data are geographic in nature and have a physical dimension or location in the real world. These are represented as points, lines, or area symbols, and they form the map base upon which SARS occurrences are depicted. Data on SARS incidence were derived from case-contact interviews that are text based; associated residential address data were first cleaned, checked for completeness and accuracy (e.g., Chinese-English transliteration of building and street names), and then geo-referenced to enable mapping. We analyzed the SARSID integrated database (coordinated by the Department of Community Medicine, University of Hong Kong, on behalf of the Health, Welfare and Food Bureau-derived from the Hong Kong Hospital Authority eSARS system and the Department of Health\\'s Master List), which contained details on all patients confirmed to have SARS and admitted to hospitals in Hong Kong throughout the entire epidemic, that is, from 15 February to 22 June 2003. The criteria for inclusion in the SARSID were radiographic evidence of infiltrates consistent with pneumonia, fever ≥ 38°C or history of such at any time in the past 2 days, and at least two of the following: a) history of chills in the past 2 days; b) cough (new or increased cough) or breathing difficulty; c) general malaise or myalgia; and d) known history of exposure. However, patients were excluded if an alternative diagnosis could fully explain their illness. Moreover, each case classified as confirmed SARS was verified by the Hong Kong Department of Health according to World Health Organization (WHO) guidelines on case definitions (WHO 2003) . Eighty-two percent of the 1,755 cases listed as confirmed SARS had either reverse transcription-polymerase chain reaction results positive for SARS-CoV or a 4-fold increase in IgG antibodies in paired sera (at admission and 21 or 28 days after symptom onset). Two questionnaires (case questionnaire and casecontact survey) were administered, mostly through telephone interviews, to all SARS cases confirmed by the Department of Health, initially by four regional field offices and later by a central interviewing team of nurses, to record symptoms at presentation to the hospital and to identify contacts and events of probable significance to transmission. A total of 1,709 confirmed cases (out of 1,755 total cases) were extracted for the analysis. Forty-six cases (i.e., 2.6% of the total) could not be pinpointed at an exact location because of inconsistencies in the address entries (So 2002) . Geostatistical analyses. We carried out three levels of analysis: a) an elementary analysis involving simple visual inspection of a geographic phenomenon; b) a cluster analysis attempting the identification of possible \"hot spots,\" and c) a contextual analysis aiming to explain relationships among geographic phenomena (Bailey and Gatrell 1995; Olson 1976) . At the elementary level, the spread of a disease in a community is revealed through the plotting of disease occurrences at residential addresses of the patients enabled with the address matching function in a GIS. Point by point is the simplest form of mapping disease occurrences without accounting for the magnitude at each location, but the sheer number and spread of points could have impeded effective reading of the event. A map of cumulative counts collapses the numerous observations into circles of varying sizes to signify differences in the magnitude of disease occurrences in the community. The circles are proportionally sized to reflect the number of occurrences at the sites, and geographic clustering of disease infection can then be clearly identified. We also examined the spread of SARS over time on the basis of point patterns. Each disease occurrence was plotted spatially and the spread or dispersion of disease incidence was examined using nearest neighbor analysis based on the R scale. The nearest neighbor analysis is an accepted spatial statistical analysis used by environmental scientists to study species distribution (Krebs 1989 ) and by crime analysts to explain the levels of dispersion in crime and disorder data (Eck and Weisburd 1995) . The R scale assumes that events will be randomly spaced unless something influences the distribution. Three different patterns are possible: clustered (0 ≤ R < 0.8), distributed randomly (0.8 ≤ R < 1.8), or with uniform spacing (1.8 ≤ R ≤ 2.149). A contagious process will give rise to a clustered pattern with near-zero R values. Cluster analysis involves statistical mapping that generalizes the numerous observations into a statistical surface to highlight spatial variation. A 5-day incubation period, consistent with a previous gamma distribution parameter estimation exercise (Leung et al., in press) , was used to restructure the data for a time-series study. A statistical surface was created by the kernel method (Bailey and Gatrell 1995) for each day to reveal daily changes of disease hot spots. A kernel size of 300 × 300 m 2 was used to reconstruct the territory of Hong Kong into a gridded surface of 208 columns and 151 rows. The kernel size was 300 × 300 m 2 , and disease occurrences within a bandwidth of 600 m from the kernel were summarized to yield density measures in terms of number of SARS cases per square meter. Each grid was then designated either as urban or suburban based upon land use classification, and its associated density measure was adjusted for the underlying variation in population density (i.e., kernel density × population density × grid cell size/1,000) to yield infection rates per 1,000 population. We adopted the approach by Kafadar (1996) but modified it to account for variation between urban or suburban population densities within a given district in Hong Kong (Table 1) . Each urban or suburban grid was considered a homogeneous unit wherein its population density was apportioned according to the proportion of residents in the employed labor force. We created 12 kernel maps adjusted for population at risk to characterize changes in disease hot spots on 12 prototypical days over 16 weeks in a chronologic sequence. The infection rates, which span across a wide range, were collapsed into 15 classes to reduce the complexity of map representation. Each of the 15 classes was assigned a shade in proportion Environmental Health Perspectives • VOLUME 112 | NUMBER 15 | November 2004 (2002). a Sum of employed labor force. b Total urban areas within each district divided by district area. c Computed from urbanrelated occupation in employed labor force, defined as follows: rural-related occupation (includes agriculture and fishing); mining and quarrying; urban-related occupation (includes community, social, and personal services); construction; electricity, gas, and water; financing; insurance, real estates and business services; manufacturing; transport, storage, and communications; wholesale, retail, and import/export trades; restaurants and hotels; unclassified. d Marine data were not land based and thus were excluded from the study. to the magnitudes, with darker shades representing higher densities of infection. Two kinds of indexes were employed to assess the extent of disease clustering: R scale and Moran\\'s I coefficient for more highly connected grids of the queen\\'s case that considers a neighborhood of eight cells in a 3 × 3 matrix. Moran\\'s I coefficient ranges between -1 and 1 and is interpreted as regionalized or juxtaposition of similar values (0.6 ≤ I ≤ 1 indicating positive spatial autocorrelation), lack of autocorrelation, or the actual arrangement of values as one that we would expect from a random distribution (-0.6 < I < 0.6 indicating no spatial correlation), and either contrasting or tendency for dissimilar values to cluster (-1 ≤ I ≤ -0.6 indicating negative spatial correlation). Although R scale is a global measure for the spread or dispersion of disease incidence for point data based on nearest neighbor distance (Eck and Weisburd 1995; Krebs 1989; Taylor 1977) , Moran\\'s coefficient measures local spatial autocorrelation for area data (Getis and Ord 1992; Sawada 2001) . A comparison of the power evaluation of disease clustering tests has been described by Song and Kulldorff (2003) . For contextual analysis, histograms of the kernel data for 12 prototypical days were drawn to highlight variation in infection rates. Also, we replaced mean and SDs of the classed density data with their natural logarithm functions to accentuate the effect of change between near-zero values; we then graphed the values. We also established a breakdown of disease occurrences by recognized clusters (e.g., SSEs) for contextual analysis. Three disease clusters each with > 30 observations were extracted: AMOY, Prince of Wales Hospital (PWH), and Lower Ngau Tau Kok Housing Estate (NTKLOW). These data were used to derive origin-and-destination (OD) plots or flow diagrams. Lines were drawn to connect an origin location where the flow started (e.g., index source of infection) with related destinations where the flow ended (e.g., residences of secondary contacts). The OD plots are an established methodology employed by transport professionals and human geographers to examine the extent of spatial interaction and human settlement, as well as the modeling of commodity flows (Batten and Boyce 1986) . The flow data themselves can be people, goods, telecommunications, and so on. The lines help to delimit the spatial coverage revealing the extent or degree of spread. SD 1552 VOLUME 112 | NUMBER 15 | November 2004 • Environmental Health Perspectives *p < 0.01, which indicates a tendency toward clumping of disease incidence. **p < 0.001, which implies that spatial autocorrelation exists and that similar values on the map tend to cluster together. ellipses centered on the geometric mean of all locations were drawn to provide a summary trend of the dispersion and to examine whether a distribution has a directional bias. The major axis is the direction of maximum spread of the point events, and the minor axis is the direction of minimum spread. All analyses were carried out using ArcGIS software and its extension modules (Environmental Systems Research Institute, Redlands, CA, USA). Figure 1 illustrates geographic locations of SARS infection by residential address in Hong Kong. The size of the circle corresponds to the density of cases in a particular location. There was clear clustering of cases in certain districts of the Kowloon peninsula (Kwun Tong, in which AMOY is located) and the New Territories (including Shatin, Tai Po), but Hong Kong Island was relatively spared. Table 2 supports this observation: most affected buildings or apartment blocks had very few cases, whereas seven buildings had > 10 SARS-affected patients. Cluster analysis. A series of 12 kernel maps based on date of symptom onset and accounting for a 5-day incubation period of SARS is presented in Figure 2 . Each kernel map shows the density of SARS patients adjusted for underlying population density (i.e., SARS infection rate per 1,000 population) on a prototypical day over 16 weeks, with darker zones emphasizing disease hot spots [see also daily animated series by Lai and Chan (2004) ]. A few disease hot spots were shown to be developing in the Kowloon peninsula and southeast New Territories (i.e., Ma On Shan and Shatin) by 10 March, which was followed later by a heavy concentration at the AMOY by 28 March. By early April, the AMOY case load began to dissipate and a new hot spot emerged in Tai Po (northeast New Territories). There is clear evidence of varying degrees of clustering as the epidemic progressed over time based on the low R values. The low R values signify substantial degrees of clustering (significant at 99% confidence level), with higher degrees of clustering occurring around the peak of the infection and relatively small divergences from random distribution at the beginning of the outbreak. High Moran\\'s I coefficients of ≥ 0.6 indicate that similar values tend to cluster together, which confirms the geospatial clustering and thus infectious nature of the disease, based on rates that were adjusted for the underlying population density. Figure 3 summarizes SARS hot spots in Hong Kong considering cumulative disease occurrences from February through June 2003. The map shows that the urban population was at higher risk of contracting SARS (Moran\\'s I = 0.78, p < 0.001), having already accounted for variation in population density. Contextual analysis. Daily histograms of the number of observations by 15 classes of infection rates, primarily composed of inverse J-shaped curves, show an increased concentration of SARS occurrences toward the end of March (Figure 4) . Figure 5 is a logarithmic plot of the mean and SD of the infection rates of the 12 prototypical days representing different stages of the epidemic; values for individual days are presented in Table 3 . Pairwise comparisons between each of the prototypical days and day 1 (or the day of indifference) of Environmental Health Perspectives • VOLUME 112 | NUMBER 15 | November 2004 the epidemic demonstrated no detectable difference between the mean infection rates throughout the epidemic. However, there were statistically significant differences, by the F-test at a 0.01 significance level, in the SDs of the middle 10 prototypical days compared to day 1, suggesting unequal population variances during much of the outbreak. Higher F-values indicate more unequal variance. Given that the SD is a measure of geographic dispersion, we can infer that a larger SD signifies a wider spread of the disease over the territory. The crossover points of the mean and SD curves in Figure 5 indicate, on the one end, the beginning of substantial disease spread across the territory, and on the other end, the subsidence of the epidemic. Therefore, the time from day 1 (18 February) through day 16 (6 March) was the prodrome of the epidemic, whereas days 86 (15 May) through 106 (4 June) marked the declining phase of the outbreak. OD plots of disease clusters were obtained by linking patients\\' places of residence with the likely or probable locations of index cases or environmental sources of infection as defined through contact tracing by public health authorities ( Figure 6 ). PWH is a tertiary teaching hospital and the site of the first SSE and nosocomial cluster in the Hong Kong epidemic, whereas AMOY and NTKLOW were subsequent community SSE clusters that had a strong putative environmental etiology (viz., sewage pipes, building design, and poor environmental hygiene) in addition to human-tohuman transmission [Hong Kong Special Administrative Region (HKSAR) 2003; Wong and Hui 2004] . As would be expected because of a large patient catchment area, the PWH cluster was more geographically widespread (as supported by the SD ellipses in Figure 6D ) compared with the AMOY cluster ( Figure  6B ), the sample size of which was one-third larger. The SD ellipses of the PWH cluster ( Figure 6D ) reveal a northwest-southeast directional trend of disease spread that extends over most of Hong Kong. The AMOY cluster was comparatively more localized, and the map had to be be enlarged to show the standard ellipses that exhibit an almost east-west directional trend of disease transmission ( Figure 6B ). The NTKLOW cluster ( Figure  6F ) was the least geographically widespread of the three SSEs, where the very compact spatial distribution must be magnified to visualize details of the SD ellipses. Figure 7 and Table 4 show low R scores (a measure to inform the extent of disease spread) indicating a high degree of clustering for all three SSEs. The R values were significant at the 0.001 level, confirming that the point patterns exhibited a tendency toward clustering. Figure 7 also shows that block E of AMOY (the epicenter of the AMOY SSE), with a lower R score, exhibited a more compact geospatial arrangement in SARS infection than did other apartment blocks within AMOY. Visitors of ward 8A (the epicenter of the PWH SSE where the index patient of the cluster stayed) of the PWH were found to spread the disease farthest from its source of all the three clusters examined here, as would be expected for such a nosocomial outbreak at a tertiary referral hospital where SARS patients were densely aggregated on the ward but visiting relatives and friends returned home situated in different parts of Hong Kong (and not necessarily from the immediate surrounding neighborhood, given that the hospital is one of only two tertiary referral centers in the territory with a very wide catchment area). The NTKLOW cluster recorded the lowest R score, substantiating earlier observations from Figure 6 . Our findings show that GIS methods can be usefully employed during an acute infectious disease outbreak to reveal new geospatial information in addition to standard field epidemiologic analyses. This mapping and cartographic technique can provide visual display of information in both space and time simultaneously. When applied in real time during the onset and evolution of an epidemic, it can monitor and enhance understanding of the transmission dynamics of an infectious agent, thereby facilitating the design, implementation, and evaluation of potential intervention strategies. GIS can offer quantitative and statistical measures along with visualization tools to examine patterns of disease spread with respect to disease clusters. Disease mapping is a first step toward understanding spatial aspects of health-related problems, as particular kinds of information are highlighted in maps. Various cartographic symbolizations (as points, lines, or areal patterns) can show the distribution of diseases. Disease clusters and other associations can then be deduced statistically and visually after examining the disease maps. In Chomsky\\'s (1965) terms, analyses at the first two levels concern the surface structure of an event, whereas the third level seeks to extract deep structure information. Surface structure information is simple and immediately perceptible to a user, whereas deep structure information is content-specific knowledge needed for problem solving (Nyerges 1991) . In the case of SARS in Hong Kong, our study, first and foremost, demonstrates exceptional spatial clustering of the cases. The kernel method adjusted for population density provided a means of highlighting population at risk, whereas the use of R values and Moran\\'s coefficients in conjunction with map displays enhanced the analytical context of the point pattern distributions. In fact, such geospatial 1554 VOLUME 112 | NUMBER 15 | November 2004 • Environmental Health Perspectives intelligence gathered from examining statistical surfaces and disease clusters provided the basis for the formulation of our transmission dynamics model . More specifically, choice of a suitable framework was not straightforward in constructing the transmission dynamics model where a variety of approaches were possible, ranging from a simple deterministic compartmental approach to a spatially explicit, individual-based simulation. Given the data available for Hong Kong, we based our analyses on a stochastic metapopulation compartmental model. A metapopulation approach was appropriate because the incidence of SARS varied substantially by geographical district, as the GIS analyses have shown. Second, the simultaneous geospatialtemporal approach to modeling the SARS outbreak revealed complementary additional information that would otherwise not be available from the traditional epidemic curve method (a standard public health outbreak investigative approach) in identifying the mode of spread. The daily animated series of kernel maps clearly shows that SARS was a highly localized disease; thus, its route of transmission was unlikely to be through casual contact, as it is for influenza and measles, but more compatible with close contact via heavy respiratory droplets and fomites. This confirms that SARS is only a moderately transmissible condition with a basic reproduction number of about 3 , in contrast to measles and influenza, which have basic reproduction numbers of about 13 and 5, respectively (Anderson and May 1991; Ferguson et al. 2003 ). An alternative interpretation of the observed high degree of geospatial clustering would be that SARS was due to an environmental point source outbreak. Indeed, faulty sewage systems and the \"chimney effect\" is the leading hypothesis explaining the AMOY SSE (especially block E), although some have suggested roof rats as a vector (Ng 2004) . Although it is difficult to gauge retrospectively, had the GIS system we implemented in this report been available for near real-time analysis, it would likely have detected the highly unusual clustering of cases in SSEs such as the PWH and AMOY outbreaks much sooner, as they evolved. This in turn could have resulted in more rapid contact tracing and public health intervention, thus perhaps mitigating the extent of spread substantially in the case of person-to-person transmission events and preventing further large-scale environmental point source outbreaks in residential apartment blocks (although it would not have made a difference to AMOY itself given the temporally abrupt and short-lived environmental release of viral particles). Log • • ▲ ▲ ▲ ▲ ▲ ▲ ▲ ▲ ▲ ▲ ▲ ▲ ▲ ▲ ▲ ▲ ▲ ▲ ▲ ▲ ▲ ▲ ▲ ▲ ■ ■ ■ ■ ■ ■ ■ ■ ■ ■ ■ • • • • • • • • • • • • • • • • • • • • • • • • • • • • • • • • • • • • • • • • • • • • • • • • • • • • • • • • • • • • • • • • • • • • • • • • • • • • • • • • • • • • • • • • • • • • • • • • • • • • • • • • • • • • • • • • • • • • • • • • • • • • • • • • • • • • • • • • • • • • • • • • • • • • • • • • • • • • • • • • • • • • • • • • • • • • • • • • • • • • • • • • • • • • • • • • • • • • • • • • • • • • • • • • • • • • Third, contextual analysis of mean and SD values of different density classes, particularly after logarithmic transformation to accentuate Environmental Health Perspectives • VOLUME 112 | near zero values on a graph, provided a geographic approach to estimating the beginning and subsidence of a large degree of spread of SARS in the community. This is a useful adjunct to the usual biomathematical modeling approach using reproductive numbers at different points in time, representing the average number of infections, excluding SSEs, caused by infected individuals in successive generations at time t throughout the SARS epidemic . Fourth, the SD ellipses from the OD analysis, coupled with complementary results from R and Moran\\'s I values, yielded information on the direction of spread in a disease cluster that can be used to inform contact tracing and the design of quarantine measures. In the case of SARS in China, where entire residential districts were cordoned off for weeks at the height of the outbreak, the selection of such districts for quarantine could have been better informed by these ellipses indicating directional bias and associated physical distance in disease transmission. There are, however, limitations and caveats to the GIS technique in infectious disease epidemiology and outbreak investigation. Howe (1963) argued that mapping of diseases tended to expose the \"where\" but not \"why there\" of the outbreak. Nevertheless, elementary descriptive analysis as an output of disease mapping can be a source of new leads for further exploratory analyses. Map patterns can provide stimuli for generating hypotheses of disease causation (Lloyd and Yu 1994; McKee et al. 2000) . Moreover, newer developments that complement traditional mapping functions such as cluster and contextual analyses can be very useful adjunct investigative tools in outbreak control, as our example on SARS in Hong Kong has highlighted. The completeness and availability of necessary data are another area of potential concern where conventional field epidemiologic data collection forms rarely contain the full range of variables that are required in a GIS analysis. Data consistency and, in particular, the nonstandardization of patient address formats is one such example. Field epidemiologists often relegate certain personal particulars such as residential and work addresses to a lower priority in their data collection procedures, or at least enter the information in a haphazard fashion, rendering GIS analysis very difficult by diminishing the proportion of usable cases for analyses. Similar generic problems that plague the establishment of all information systems must be resolved to enable real-time disease monitoring and surveillance. They include lack of standardization for data capture documents, procedures and protocols for information management, delays in transferring and updating information, and a lack of rapid analysis and audit of databases. The SARS epidemic is a clear signal that Hong Kong needs much greater and sustained investment in health informatics, that is, public health information systems, the skills to use them, and networks to share them. In summary, integration of GIS technology into routine field epidemiologic surveillance can offer a scientifically rigorous and quantitative method for identification of unusual disease patterns in real time, as our example of SARS has shown. Its potential can be synergistically maximized when linked with clinical databases collecting data at the point of care across the whole population as well as environmental data sources (e.g., meteorologic, transportation, topographical information) to rapidly recognize, locate, and monitor disease outbreaks.'"
      ]
     },
     "execution_count": 7,
     "metadata": {},
     "output_type": "execute_result"
    }
   ],
   "source": [
    "all_text['full_text'][0]"
   ]
  },
  {
   "cell_type": "markdown",
   "metadata": {},
   "source": [
    "## Preprocessing"
   ]
  },
  {
   "cell_type": "code",
   "execution_count": 8,
   "metadata": {},
   "outputs": [
    {
     "name": "stderr",
     "output_type": "stream",
     "text": [
      "../..\\reco_utils\\recommender\\tfidf\\tfidf_utils.py:114: SettingWithCopyWarning: \n",
      "A value is trying to be set on a copy of a slice from a DataFrame\n",
      "\n",
      "See the caveats in the documentation: http://pandas.pydata.org/pandas-docs/stable/user_guide/indexing.html#returning-a-view-versus-a-copy\n",
      "  df[col][i] = clean_text(df[col][i], for_BERT)\n",
      "../..\\reco_utils\\recommender\\tfidf\\tfidf_utils.py:128: SettingWithCopyWarning: \n",
      "A value is trying to be set on a copy of a slice from a DataFrame\n",
      "\n",
      "See the caveats in the documentation: http://pandas.pydata.org/pandas-docs/stable/user_guide/indexing.html#returning-a-view-versus-a-copy\n",
      "  df['title'][i] = df['title'][i].encode('ascii','ignore')\n",
      "../..\\reco_utils\\recommender\\tfidf\\tfidf_utils.py:131: SettingWithCopyWarning: \n",
      "A value is trying to be set on a copy of a slice from a DataFrame\n",
      "\n",
      "See the caveats in the documentation: http://pandas.pydata.org/pandas-docs/stable/user_guide/indexing.html#returning-a-view-versus-a-copy\n",
      "  df['title'][i] = df['title'][i].decode()\n"
     ]
    },
    {
     "data": {
      "text/html": [
       "<div>\n",
       "<style scoped>\n",
       "    .dataframe tbody tr th:only-of-type {\n",
       "        vertical-align: middle;\n",
       "    }\n",
       "\n",
       "    .dataframe tbody tr th {\n",
       "        vertical-align: top;\n",
       "    }\n",
       "\n",
       "    .dataframe thead th {\n",
       "        text-align: right;\n",
       "    }\n",
       "</style>\n",
       "<table border=\"1\" class=\"dataframe\">\n",
       "  <thead>\n",
       "    <tr style=\"text-align: right;\">\n",
       "      <th></th>\n",
       "      <th>index</th>\n",
       "      <th>cord_uid</th>\n",
       "      <th>doi</th>\n",
       "      <th>title</th>\n",
       "      <th>publish_time</th>\n",
       "      <th>authors</th>\n",
       "      <th>journal</th>\n",
       "      <th>url</th>\n",
       "      <th>abstract</th>\n",
       "      <th>full_text</th>\n",
       "      <th>cleaned_text</th>\n",
       "    </tr>\n",
       "  </thead>\n",
       "  <tbody>\n",
       "    <tr>\n",
       "      <th>0</th>\n",
       "      <td>0</td>\n",
       "      <td>ej795nks</td>\n",
       "      <td>10.1289/ehp.7117</td>\n",
       "      <td>Understanding the Spatial Clustering of Severe...</td>\n",
       "      <td>2004-07-27</td>\n",
       "      <td>Lai, P.C.; Wong, C.M.; Hedley, A.J.; Lo, S.V.;...</td>\n",
       "      <td>Environ Health Perspect</td>\n",
       "      <td>https://www.ncbi.nlm.nih.gov/pmc/articles/PMC1...</td>\n",
       "      <td>we applied cartographic and geostatistical met...</td>\n",
       "      <td>since the emergence and rapid spread of the e...</td>\n",
       "      <td>we applied cartographic and geostatistical met...</td>\n",
       "    </tr>\n",
       "    <tr>\n",
       "      <th>1</th>\n",
       "      <td>1</td>\n",
       "      <td>9mzs5dl4</td>\n",
       "      <td>10.1289/ehp.7491</td>\n",
       "      <td>The Application of the Haddon Matrix to Public...</td>\n",
       "      <td>2005-02-02</td>\n",
       "      <td>Barnett, Daniel J.; Balicer, Ran D.; Blodgett,...</td>\n",
       "      <td>Environ Health Perspect</td>\n",
       "      <td>https://www.ncbi.nlm.nih.gov/pmc/articles/PMC1...</td>\n",
       "      <td>state and local health departments continue to...</td>\n",
       "      <td>sudden fever and dry cough along with chills ...</td>\n",
       "      <td>state and local health departments continue to...</td>\n",
       "    </tr>\n",
       "    <tr>\n",
       "      <th>2</th>\n",
       "      <td>2</td>\n",
       "      <td>u7lz3spe</td>\n",
       "      <td>10.1371/journal.pmed.0030149</td>\n",
       "      <td>Cynomolgus Macaque as an Animal Model for Seve...</td>\n",
       "      <td>2006-04-18</td>\n",
       "      <td>Lawler, James V; Endy, Timothy P; Hensley, Lis...</td>\n",
       "      <td>PLoS Med</td>\n",
       "      <td>https://www.ncbi.nlm.nih.gov/pmc/articles/PMC1...</td>\n",
       "      <td>background the emergence of severe acute respi...</td>\n",
       "      <td>the emergence of severe acute respiratory syn...</td>\n",
       "      <td>background the emergence of severe acute respi...</td>\n",
       "    </tr>\n",
       "    <tr>\n",
       "      <th>3</th>\n",
       "      <td>3</td>\n",
       "      <td>na7z92i8</td>\n",
       "      <td>10.1371/journal.pmed.0030177</td>\n",
       "      <td>Immune Protection of Nonhuman Primates against...</td>\n",
       "      <td>2006-05-16</td>\n",
       "      <td>Sullivan, Nancy J; Geisbert, Thomas W; Geisber...</td>\n",
       "      <td>PLoS Med</td>\n",
       "      <td>https://www.ncbi.nlm.nih.gov/pmc/articles/PMC1...</td>\n",
       "      <td>background ebola virus causes a hemorrhagic fe...</td>\n",
       "      <td>background ebola virus causes a hemorrhagic f...</td>\n",
       "      <td>background ebola virus causes a hemorrhagic fe...</td>\n",
       "    </tr>\n",
       "    <tr>\n",
       "      <th>4</th>\n",
       "      <td>4</td>\n",
       "      <td>j35w1vsw</td>\n",
       "      <td>10.1371/journal.pmed.0030343</td>\n",
       "      <td>SARS: Systematic Review of Treatment Effects</td>\n",
       "      <td>2006-09-12</td>\n",
       "      <td>Stockman, Lauren J; Bellamy, Richard; Garner, ...</td>\n",
       "      <td>PLoS Med</td>\n",
       "      <td>https://www.ncbi.nlm.nih.gov/pmc/articles/PMC1...</td>\n",
       "      <td>background the sars outbreak of 2002–2003 pres...</td>\n",
       "      <td>the sars outbreak of 2002 2003 presented clin...</td>\n",
       "      <td>background the sars outbreak of 2002–2003 pres...</td>\n",
       "    </tr>\n",
       "  </tbody>\n",
       "</table>\n",
       "</div>"
      ],
      "text/plain": [
       "   index  cord_uid                           doi  \\\n",
       "0      0  ej795nks              10.1289/ehp.7117   \n",
       "1      1  9mzs5dl4              10.1289/ehp.7491   \n",
       "2      2  u7lz3spe  10.1371/journal.pmed.0030149   \n",
       "3      3  na7z92i8  10.1371/journal.pmed.0030177   \n",
       "4      4  j35w1vsw  10.1371/journal.pmed.0030343   \n",
       "\n",
       "                                               title publish_time  \\\n",
       "0  Understanding the Spatial Clustering of Severe...   2004-07-27   \n",
       "1  The Application of the Haddon Matrix to Public...   2005-02-02   \n",
       "2  Cynomolgus Macaque as an Animal Model for Seve...   2006-04-18   \n",
       "3  Immune Protection of Nonhuman Primates against...   2006-05-16   \n",
       "4       SARS: Systematic Review of Treatment Effects   2006-09-12   \n",
       "\n",
       "                                             authors                  journal  \\\n",
       "0  Lai, P.C.; Wong, C.M.; Hedley, A.J.; Lo, S.V.;...  Environ Health Perspect   \n",
       "1  Barnett, Daniel J.; Balicer, Ran D.; Blodgett,...  Environ Health Perspect   \n",
       "2  Lawler, James V; Endy, Timothy P; Hensley, Lis...                 PLoS Med   \n",
       "3  Sullivan, Nancy J; Geisbert, Thomas W; Geisber...                 PLoS Med   \n",
       "4  Stockman, Lauren J; Bellamy, Richard; Garner, ...                 PLoS Med   \n",
       "\n",
       "                                                 url  \\\n",
       "0  https://www.ncbi.nlm.nih.gov/pmc/articles/PMC1...   \n",
       "1  https://www.ncbi.nlm.nih.gov/pmc/articles/PMC1...   \n",
       "2  https://www.ncbi.nlm.nih.gov/pmc/articles/PMC1...   \n",
       "3  https://www.ncbi.nlm.nih.gov/pmc/articles/PMC1...   \n",
       "4  https://www.ncbi.nlm.nih.gov/pmc/articles/PMC1...   \n",
       "\n",
       "                                            abstract  \\\n",
       "0  we applied cartographic and geostatistical met...   \n",
       "1  state and local health departments continue to...   \n",
       "2  background the emergence of severe acute respi...   \n",
       "3  background ebola virus causes a hemorrhagic fe...   \n",
       "4  background the sars outbreak of 2002–2003 pres...   \n",
       "\n",
       "                                           full_text  \\\n",
       "0   since the emergence and rapid spread of the e...   \n",
       "1   sudden fever and dry cough along with chills ...   \n",
       "2   the emergence of severe acute respiratory syn...   \n",
       "3   background ebola virus causes a hemorrhagic f...   \n",
       "4   the sars outbreak of 2002 2003 presented clin...   \n",
       "\n",
       "                                        cleaned_text  \n",
       "0  we applied cartographic and geostatistical met...  \n",
       "1  state and local health departments continue to...  \n",
       "2  background the emergence of severe acute respi...  \n",
       "3  background ebola virus causes a hemorrhagic fe...  \n",
       "4  background the sars outbreak of 2002–2003 pres...  "
      ]
     },
     "execution_count": 8,
     "metadata": {},
     "output_type": "execute_result"
    }
   ],
   "source": [
    "# ------------- PREPROCESSING ---------------------\n",
    "# Assign columns to clean and combine\n",
    "cols_to_clean = ['abstract','full_text']\n",
    "df_clean = clean_dataframe_for_rec(all_text, cols_to_clean, for_BERT=False)\n",
    "df_clean.head()"
   ]
  },
  {
   "cell_type": "code",
   "execution_count": 9,
   "metadata": {},
   "outputs": [
    {
     "data": {
      "text/plain": [
       "'we applied cartographic and geostatistical methods in analyzing the patterns of disease spread during the 2003 severe acute respiratory syndrome sars outbreak in hong kong using geographic information system gis technology we analyzed an integrated database that contained clinical and personal details on all 1755 patients confirmed to have sars from 15 february to 22 june 2003 elementary mapping of disease occurrences in space and time simultaneously revealed the geographic extent of spread throughout the territory statistical surfaces created by the kernel method confirmed that sars cases were highly clustered and identified distinct disease “hot spots” contextual analysis of mean and standard deviation of different density classes indicated that the period from day 1 18 february through day 16 6 march was the prodrome of the epidemic whereas days 86 15 may to 106 4 june marked the declining phase of the outbreak origin and destination plots showed the directional bias and radius of spread of superspreading events integration of gis technology into routine field epidemiologic surveillance can offer a real time quantitative method for identifying and tracking the geospatial spread of infectious diseases as our experience with sars has demonstrated  since the emergence and rapid spread of the etiologic agent of severe acute respiratory syndrome sars sars coronavirus sars cov in late 2002 and during the first 6 months of 2003 great progress has been made in understanding the biology pathogenesis and epidemiology of both the disease and the virus sars cov much remains to be done however including the development of effective therapeutic interventions and diagnostic tools with high sensitivity and specificity soon after the onset of clinical symptoms the evaluation of key epidemiologic parameters and the impact of different public health interventions in the various settings that experienced minor or major epidemics is also needed affonso et al 2004 cui et al 2003 lau et al 2004 leung et al in press  in terms of outbreak control on the population level many questions about superspreading events sses remain to be investigated such an sse was responsible for  300 cases out of a total of 1755 in the amoy garden housing estate amoy in the hong kong epidemic moreover donnelly et al 2003 have demonstrated that there were clear geographic concentrations of microclusters of sars cases where the density of infection varied widely between different districts the application of geographic information system gis methods in health and health care is a relatively new approach that started to gain acceptance a decade ago higgs and gould 2001 meade and earickson 2000  in particular a wide variety of cartographic methods have become available for the mapping and analysis of communicable disease data since the defining work of cliff and haggett 1988 and haggett 1994  advances in new technologies enable the application of gis to examine spatially related problems from different perspectives in addition to the descriptive mapping function gis possesses capabilities of data manipulation and geostatistical analysis in the present study we applied gis technology in mapping and visualizing the sars outbreak in hong kong in this article we focus on cartographic and geostatistical methods in representing and analyzing the patterns of disease spread during the 2003 outbreak we also address the utility and limitations of gis as a real time disease surveillance tool data sources we used spatial and nonspatial data in this study spatial data are geographic in nature and have a physical dimension or location in the real world these are represented as points lines or area symbols and they form the map base upon which sars occurrences are depicted data on sars incidence were derived from case contact interviews that are text based associated residential address data were first cleaned checked for completeness and accuracy eg chinese english transliteration of building and street names and then geo referenced to enable mapping we analyzed the sarsid integrated database coordinated by the department of community medicine university of hong kong on behalf of the health welfare and food bureau derived from the hong kong hospital authority esars system and the department of healths master list which contained details on all patients confirmed to have sars and admitted to hospitals in hong kong throughout the entire epidemic that is from 15 february to 22 june 2003 the criteria for inclusion in the sarsid were radiographic evidence of infiltrates consistent with pneumonia fever ≥ 38°c or history of such at any time in the past 2 days and at least two of the following a history of chills in the past 2 days b cough new or increased cough or breathing difficulty c general malaise or myalgia and d known history of exposure however patients were excluded if an alternative diagnosis could fully explain their illness moreover each case classified as confirmed sars was verified by the hong kong department of health according to world health organization who guidelines on case definitions who 2003  eighty two percent of the 1755 cases listed as confirmed sars had either reverse transcription polymerase chain reaction results positive for sars cov or a 4 fold increase in igg antibodies in paired sera at admission and 21 or 28 days after symptom onset two questionnaires case questionnaire and casecontact survey were administered mostly through telephone interviews to all sars cases confirmed by the department of health initially by four regional field offices and later by a central interviewing team of nurses to record symptoms at presentation to the hospital and to identify contacts and events of probable significance to transmission a total of 1709 confirmed cases out of 1755 total cases were extracted for the analysis forty six cases ie 26 of the total could not be pinpointed at an exact location because of inconsistencies in the address entries so 2002  geostatistical analyses we carried out three levels of analysis a an elementary analysis involving simple visual inspection of a geographic phenomenon b a cluster analysis attempting the identification of possible hot spots and c a contextual analysis aiming to explain relationships among geographic phenomena bailey and gatrell 1995 olson 1976  at the elementary level the spread of a disease in a community is revealed through the plotting of disease occurrences at residential addresses of the patients enabled with the address matching function in a gis point by point is the simplest form of mapping disease occurrences without accounting for the magnitude at each location but the sheer number and spread of points could have impeded effective reading of the event a map of cumulative counts collapses the numerous observations into circles of varying sizes to signify differences in the magnitude of disease occurrences in the community the circles are proportionally sized to reflect the number of occurrences at the sites and geographic clustering of disease infection can then be clearly identified we also examined the spread of sars over time on the basis of point patterns each disease occurrence was plotted spatially and the spread or dispersion of disease incidence was examined using nearest neighbor analysis based on the r scale the nearest neighbor analysis is an accepted spatial statistical analysis used by environmental scientists to study species distribution krebs 1989  and by crime analysts to explain the levels of dispersion in crime and disorder data eck and weisburd 1995  the r scale assumes that events will be randomly spaced unless something influences the distribution three different patterns are possible clustered 0 ≤ r  30 observations were extracted amoy prince of wales hospital pwh and lower ngau tau kok housing estate ntklow these data were used to derive origin and destination od plots or flow diagrams lines were drawn to connect an origin location where the flow started eg index source of infection with related destinations where the flow ended eg residences of secondary contacts the od plots are an established methodology employed by transport professionals and human geographers to examine the extent of spatial interaction and human settlement as well as the modeling of commodity flows batten and boyce 1986  the flow data themselves can be people goods telecommunications and so on the lines help to delimit the spatial coverage revealing the extent or degree of spread sd 1552 volume 112  number 15  november 2004 • environmental health perspectives p  10 sars affected patients cluster analysis a series of 12 kernel maps based on date of symptom onset and accounting for a 5 day incubation period of sars is presented in figure 2  each kernel map shows the density of sars patients adjusted for underlying population density ie sars infection rate per 1000 population on a prototypical day over 16 weeks with darker zones emphasizing disease hot spots see also daily animated series by lai and chan 2004  a few disease hot spots were shown to be developing in the kowloon peninsula and southeast new territories ie ma on shan and shatin by 10 march which was followed later by a heavy concentration at the amoy by 28 march by early april the amoy case load began to dissipate and a new hot spot emerged in tai po northeast new territories there is clear evidence of varying degrees of clustering as the epidemic progressed over time based on the low r values the low r values signify substantial degrees of clustering significant at 99 confidence level with higher degrees of clustering occurring around the peak of the infection and relatively small divergences from random distribution at the beginning of the outbreak high morans i coefficients of ≥ 06 indicate that similar values tend to cluster together which confirms the geospatial clustering and thus infectious nature of the disease based on rates that were adjusted for the underlying population density figure 3 summarizes sars hot spots in hong kong considering cumulative disease occurrences from february through june 2003 the map shows that the urban population was at higher risk of contracting sars morans i  078 p  0001 having already accounted for variation in population density contextual analysis daily histograms of the number of observations by 15 classes of infection rates primarily composed of inverse j shaped curves show an increased concentration of sars occurrences toward the end of march figure 4  figure 5 is a logarithmic plot of the mean and sd of the infection rates of the 12 prototypical days representing different stages of the epidemic values for individual days are presented in table 3  pairwise comparisons between each of the prototypical days and day 1 or the day of indifference of environmental health perspectives • volume 112  number 15  november 2004 the epidemic demonstrated no detectable difference between the mean infection rates throughout the epidemic however there were statistically significant differences by the f test at a 001 significance level in the sds of the middle 10 prototypical days compared to day 1 suggesting unequal population variances during much of the outbreak higher f values indicate more unequal variance given that the sd is a measure of geographic dispersion we can infer that a larger sd signifies a wider spread of the disease over the territory the crossover points of the mean and sd curves in figure 5 indicate on the one end the beginning of substantial disease spread across the territory and on the other end the subsidence of the epidemic therefore the time from day 1 18 february through day 16 6 march was the prodrome of the epidemic whereas days 86 15 may through 106 4 june marked the declining phase of the outbreak od plots of disease clusters were obtained by linking patients places of residence with the likely or probable locations of index cases or environmental sources of infection as defined through contact tracing by public health authorities  figure 6  pwh is a tertiary teaching hospital and the site of the first sse and nosocomial cluster in the hong kong epidemic whereas amoy and ntklow were subsequent community sse clusters that had a strong putative environmental etiology viz sewage pipes building design and poor environmental hygiene in addition to human tohuman transmission hong kong special administrative region hksar 2003 wong and hui 2004  as would be expected because of a large patient catchment area the pwh cluster was more geographically widespread as supported by the sd ellipses in figure 6d  compared with the amoy cluster  figure  6b  the sample size of which was one third larger the sd ellipses of the pwh cluster  figure 6d  reveal a northwest southeast directional trend of disease spread that extends over most of hong kong the amoy cluster was comparatively more localized and the map had to be be enlarged to show the standard ellipses that exhibit an almost east west directional trend of disease transmission  figure 6b  the ntklow cluster  figure  6f  was the least geographically widespread of the three sses where the very compact spatial distribution must be magnified to visualize details of the sd ellipses figure 7 and table 4 show low r scores a measure to inform the extent of disease spread indicating a high degree of clustering for all three sses the r values were significant at the 0001 level confirming that the point patterns exhibited a tendency toward clustering figure 7 also shows that block e of amoy the epicenter of the amoy sse with a lower r score exhibited a more compact geospatial arrangement in sars infection than did other apartment blocks within amoy visitors of ward 8a the epicenter of the pwh sse where the index patient of the cluster stayed of the pwh were found to spread the disease farthest from its source of all the three clusters examined here as would be expected for such a nosocomial outbreak at a tertiary referral hospital where sars patients were densely aggregated on the ward but visiting relatives and friends returned home situated in different parts of hong kong and not necessarily from the immediate surrounding neighborhood given that the hospital is one of only two tertiary referral centers in the territory with a very wide catchment area the ntklow cluster recorded the lowest r score substantiating earlier observations from figure 6  our findings show that gis methods can be usefully employed during an acute infectious disease outbreak to reveal new geospatial information in addition to standard field epidemiologic analyses this mapping and cartographic technique can provide visual display of information in both space and time simultaneously when applied in real time during the onset and evolution of an epidemic it can monitor and enhance understanding of the transmission dynamics of an infectious agent thereby facilitating the design implementation and evaluation of potential intervention strategies gis can offer quantitative and statistical measures along with visualization tools to examine patterns of disease spread with respect to disease clusters disease mapping is a first step toward understanding spatial aspects of health related problems as particular kinds of information are highlighted in maps various cartographic symbolizations as points lines or areal patterns can show the distribution of diseases disease clusters and other associations can then be deduced statistically and visually after examining the disease maps in chomskys 1965 terms analyses at the first two levels concern the surface structure of an event whereas the third level seeks to extract deep structure information surface structure information is simple and immediately perceptible to a user whereas deep structure information is content specific knowledge needed for problem solving nyerges 1991  in the case of sars in hong kong our study first and foremost demonstrates exceptional spatial clustering of the cases the kernel method adjusted for population density provided a means of highlighting population at risk whereas the use of r values and morans coefficients in conjunction with map displays enhanced the analytical context of the point pattern distributions in fact such geospatial 1554 volume 112  number 15  november 2004 • environmental health perspectives intelligence gathered from examining statistical surfaces and disease clusters provided the basis for the formulation of our transmission dynamics model  more specifically choice of a suitable framework was not straightforward in constructing the transmission dynamics model where a variety of approaches were possible ranging from a simple deterministic compartmental approach to a spatially explicit individual based simulation given the data available for hong kong we based our analyses on a stochastic metapopulation compartmental model a metapopulation approach was appropriate because the incidence of sars varied substantially by geographical district as the gis analyses have shown second the simultaneous geospatialtemporal approach to modeling the sars outbreak revealed complementary additional information that would otherwise not be available from the traditional epidemic curve method a standard public health outbreak investigative approach in identifying the mode of spread the daily animated series of kernel maps clearly shows that sars was a highly localized disease thus its route of transmission was unlikely to be through casual contact as it is for influenza and measles but more compatible with close contact via heavy respiratory droplets and fomites this confirms that sars is only a moderately transmissible condition with a basic reproduction number of about 3  in contrast to measles and influenza which have basic reproduction numbers of about 13 and 5 respectively anderson and may 1991 ferguson et al 2003  an alternative interpretation of the observed high degree of geospatial clustering would be that sars was due to an environmental point source outbreak indeed faulty sewage systems and the chimney effect is the leading hypothesis explaining the amoy sse especially block e although some have suggested roof rats as a vector ng 2004  although it is difficult to gauge retrospectively had the gis system we implemented in this report been available for near real time analysis it would likely have detected the highly unusual clustering of cases in sses such as the pwh and amoy outbreaks much sooner as they evolved this in turn could have resulted in more rapid contact tracing and public health intervention thus perhaps mitigating the extent of spread substantially in the case of person to person transmission events and preventing further large scale environmental point source outbreaks in residential apartment blocks although it would not have made a difference to amoy itself given the temporally abrupt and short lived environmental release of viral particles log • • ▲ ▲ ▲ ▲ ▲ ▲ ▲ ▲ ▲ ▲ ▲ ▲ ▲ ▲ ▲ ▲ ▲ ▲ ▲ ▲ ▲ ▲ ▲ ▲ ■ ■ ■ ■ ■ ■ ■ ■ ■ ■ ■ • • • • • • • • • • • • • • • • • • • • • • • • • • • • • • • • • • • • • • • • • • • • • • • • • • • • • • • • • • • • • • • • • • • • • • • • • • • • • • • • • • • • • • • • • • • • • • • • • • • • • • • • • • • • • • • • • • • • • • • • • • • • • • • • • • • • • • • • • • • • • • • • • • • • • • • • • • • • • • • • • • • • • • • • • • • • • • • • • • • • • • • • • • • • • • • • • • • • • • • • • • • • • • • • • • • • third contextual analysis of mean and sd values of different density classes particularly after logarithmic transformation to accentuate environmental health perspectives • volume 112  near zero values on a graph provided a geographic approach to estimating the beginning and subsidence of a large degree of spread of sars in the community this is a useful adjunct to the usual biomathematical modeling approach using reproductive numbers at different points in time representing the average number of infections excluding sses caused by infected individuals in successive generations at time t throughout the sars epidemic  fourth the sd ellipses from the od analysis coupled with complementary results from r and morans i values yielded information on the direction of spread in a disease cluster that can be used to inform contact tracing and the design of quarantine measures in the case of sars in china where entire residential districts were cordoned off for weeks at the height of the outbreak the selection of such districts for quarantine could have been better informed by these ellipses indicating directional bias and associated physical distance in disease transmission there are however limitations and caveats to the gis technique in infectious disease epidemiology and outbreak investigation howe 1963 argued that mapping of diseases tended to expose the where but not why there of the outbreak nevertheless elementary descriptive analysis as an output of disease mapping can be a source of new leads for further exploratory analyses map patterns can provide stimuli for generating hypotheses of disease causation lloyd and yu 1994 mckee et al 2000  moreover newer developments that complement traditional mapping functions such as cluster and contextual analyses can be very useful adjunct investigative tools in outbreak control as our example on sars in hong kong has highlighted the completeness and availability of necessary data are another area of potential concern where conventional field epidemiologic data collection forms rarely contain the full range of variables that are required in a gis analysis data consistency and in particular the nonstandardization of patient address formats is one such example field epidemiologists often relegate certain personal particulars such as residential and work addresses to a lower priority in their data collection procedures or at least enter the information in a haphazard fashion rendering gis analysis very difficult by diminishing the proportion of usable cases for analyses similar generic problems that plague the establishment of all information systems must be resolved to enable real time disease monitoring and surveillance they include lack of standardization for data capture documents procedures and protocols for information management delays in transferring and updating information and a lack of rapid analysis and audit of databases the sars epidemic is a clear signal that hong kong needs much greater and sustained investment in health informatics that is public health information systems the skills to use them and networks to share them in summary integration of gis technology into routine field epidemiologic surveillance can offer a scientifically rigorous and quantitative method for identification of unusual disease patterns in real time as our example of sars has shown its potential can be synergistically maximized when linked with clinical databases collecting data at the point of care across the whole population as well as environmental data sources eg meteorologic transportation topographical information to rapidly recognize locate and monitor disease outbreaks'"
      ]
     },
     "execution_count": 9,
     "metadata": {},
     "output_type": "execute_result"
    }
   ],
   "source": [
    "# Preview\n",
    "df_clean['cleaned_text'][0]"
   ]
  },
  {
   "cell_type": "markdown",
   "metadata": {},
   "source": [
    "## Recommender"
   ]
  },
  {
   "cell_type": "markdown",
   "metadata": {},
   "source": [
    "Create recommendation matrix (takes about 30 sec)"
   ]
  },
  {
   "cell_type": "code",
   "execution_count": 10,
   "metadata": {},
   "outputs": [
    {
     "name": "stderr",
     "output_type": "stream",
     "text": [
      "C:\\Users\\Administrator\\.conda\\envs\\rec_repo\\lib\\site-packages\\sklearn\\feature_extraction\\text.py:385: UserWarning: Your stop_words may be inconsistent with your preprocessing. Tokenizing the stop words generated tokens ['abov', 'afterward', 'alon', 'alreadi', 'alway', 'ani', 'anoth', 'anyon', 'anyth', 'anywher', 'becam', 'becaus', 'becom', 'befor', 'besid', 'cri', 'describ', 'dure', 'els', 'elsewher', 'empti', 'everi', 'everyon', 'everyth', 'everywher', 'fifti', 'formerli', 'forti', 'ha', 'henc', 'hereaft', 'herebi', 'hi', 'howev', 'hundr', 'inde', 'latterli', 'mani', 'meanwhil', 'moreov', 'mostli', 'nobodi', 'noon', 'noth', 'nowher', 'onc', 'onli', 'otherwis', 'ourselv', 'perhap', 'pleas', 'seriou', 'sever', 'sinc', 'sincer', 'sixti', 'someon', 'someth', 'sometim', 'somewher', 'themselv', 'thenc', 'thereaft', 'therebi', 'therefor', 'thi', 'thu', 'togeth', 'twelv', 'twenti', 'veri', 'wa', 'whatev', 'whenc', 'whenev', 'wherea', 'whereaft', 'wherebi', 'wherev', 'whi', 'yourselv'] not in stop_words.\n",
      "  'stop_words.' % sorted(inconsistent))\n"
     ]
    }
   ],
   "source": [
    "# ------------- RECOMMEND ---------------------\n",
    "# TF-IDF with tokenization_method of 'nltk', 'bert', or 'none'\n",
    "results = recommend_with_tfidf(df_clean,\n",
    "                               text_col='cleaned_text',\n",
    "                               id_col='cord_uid',\n",
    "                               title_col='title',\n",
    "                               tokenization_method='nltk')"
   ]
  },
  {
   "cell_type": "code",
   "execution_count": 11,
   "metadata": {},
   "outputs": [
    {
     "data": {
      "text/html": [
       "<div>\n",
       "<style scoped>\n",
       "    .dataframe tbody tr th:only-of-type {\n",
       "        vertical-align: middle;\n",
       "    }\n",
       "\n",
       "    .dataframe tbody tr th {\n",
       "        vertical-align: top;\n",
       "    }\n",
       "\n",
       "    .dataframe thead th {\n",
       "        text-align: right;\n",
       "    }\n",
       "</style>\n",
       "<table border=\"1\" class=\"dataframe\">\n",
       "  <thead>\n",
       "    <tr style=\"text-align: right;\">\n",
       "      <th></th>\n",
       "      <th>cord_uid</th>\n",
       "      <th>title</th>\n",
       "      <th>rec_rank</th>\n",
       "      <th>rec_score</th>\n",
       "      <th>rec_cord_uid</th>\n",
       "      <th>rec_title</th>\n",
       "    </tr>\n",
       "  </thead>\n",
       "  <tbody>\n",
       "    <tr>\n",
       "      <th>0</th>\n",
       "      <td>ej795nks</td>\n",
       "      <td>Understanding the Spatial Clustering of Severe...</td>\n",
       "      <td>1</td>\n",
       "      <td>0.054167</td>\n",
       "      <td>ts1hzp3u</td>\n",
       "      <td>The National Childrens Study: A Critical Natio...</td>\n",
       "    </tr>\n",
       "    <tr>\n",
       "      <th>1</th>\n",
       "      <td>ej795nks</td>\n",
       "      <td>Understanding the Spatial Clustering of Severe...</td>\n",
       "      <td>2</td>\n",
       "      <td>0.038661</td>\n",
       "      <td>osv673g3</td>\n",
       "      <td>A systematic review and evaluation of Zika vir...</td>\n",
       "    </tr>\n",
       "    <tr>\n",
       "      <th>2</th>\n",
       "      <td>ej795nks</td>\n",
       "      <td>Understanding the Spatial Clustering of Severe...</td>\n",
       "      <td>3</td>\n",
       "      <td>0.029313</td>\n",
       "      <td>069pelqj</td>\n",
       "      <td>Exposure Patterns Driving Ebola Transmission i...</td>\n",
       "    </tr>\n",
       "    <tr>\n",
       "      <th>3</th>\n",
       "      <td>ej795nks</td>\n",
       "      <td>Understanding the Spatial Clustering of Severe...</td>\n",
       "      <td>4</td>\n",
       "      <td>0.028694</td>\n",
       "      <td>kz5udher</td>\n",
       "      <td>Make Data Sharing Routine to Prepare for Publi...</td>\n",
       "    </tr>\n",
       "    <tr>\n",
       "      <th>4</th>\n",
       "      <td>ej795nks</td>\n",
       "      <td>Understanding the Spatial Clustering of Severe...</td>\n",
       "      <td>5</td>\n",
       "      <td>0.027139</td>\n",
       "      <td>124czudi</td>\n",
       "      <td>Climate Change and Human Health Impacts in the...</td>\n",
       "    </tr>\n",
       "  </tbody>\n",
       "</table>\n",
       "</div>"
      ],
      "text/plain": [
       "   cord_uid                                              title rec_rank  \\\n",
       "0  ej795nks  Understanding the Spatial Clustering of Severe...        1   \n",
       "1  ej795nks  Understanding the Spatial Clustering of Severe...        2   \n",
       "2  ej795nks  Understanding the Spatial Clustering of Severe...        3   \n",
       "3  ej795nks  Understanding the Spatial Clustering of Severe...        4   \n",
       "4  ej795nks  Understanding the Spatial Clustering of Severe...        5   \n",
       "\n",
       "   rec_score rec_cord_uid                                          rec_title  \n",
       "0   0.054167     ts1hzp3u  The National Childrens Study: A Critical Natio...  \n",
       "1   0.038661     osv673g3  A systematic review and evaluation of Zika vir...  \n",
       "2   0.029313     069pelqj  Exposure Patterns Driving Ebola Transmission i...  \n",
       "3   0.028694     kz5udher  Make Data Sharing Routine to Prepare for Publi...  \n",
       "4   0.027139     124czudi  Climate Change and Human Health Impacts in the...  "
      ]
     },
     "execution_count": 11,
     "metadata": {},
     "output_type": "execute_result"
    }
   ],
   "source": [
    "# Organize results as an easy-to-read table\n",
    "rec_table = organize_results_as_tabular(df_clean, results,\n",
    "                                        id_col='cord_uid',\n",
    "                                        k=5)\n",
    "rec_table.head()"
   ]
  },
  {
   "cell_type": "markdown",
   "metadata": {},
   "source": [
    "### Show single recommendation"
   ]
  },
  {
   "cell_type": "code",
   "execution_count": 12,
   "metadata": {},
   "outputs": [],
   "source": [
    "# For example\n",
    "rec_id = rec_table['rec_cord_uid'][0]"
   ]
  },
  {
   "cell_type": "code",
   "execution_count": 13,
   "metadata": {},
   "outputs": [
    {
     "data": {
      "text/plain": [
       "index                                                         254\n",
       "cord_uid                                                 ts1hzp3u\n",
       "doi                                                           NaN\n",
       "title           The National Childrens Study: A Critical Natio...\n",
       "publish_time                                           2004-10-10\n",
       "authors                  Trasande, Leonardo; Landrigan, Philip J.\n",
       "journal                                   Environ Health Perspect\n",
       "url             https://www.ncbi.nlm.nih.gov/pmc/articles/PMC1...\n",
       "abstract                                                         \n",
       "full_text        • neurodevelopmental disorders including lear...\n",
       "cleaned_text      • neurodevelopmental disorders including lea...\n",
       "Name: 241, dtype: object"
      ]
     },
     "execution_count": 13,
     "metadata": {},
     "output_type": "execute_result"
    }
   ],
   "source": [
    "# Get full information for any particular recommendation\n",
    "rec_info = get_full_info(all_text, rec_id)\n",
    "rec_info"
   ]
  },
  {
   "cell_type": "code",
   "execution_count": 14,
   "metadata": {},
   "outputs": [
    {
     "data": {
      "text/plain": [
       "'https://www.ncbi.nlm.nih.gov/pmc/articles/PMC1247577/'"
      ]
     },
     "execution_count": 14,
     "metadata": {},
     "output_type": "execute_result"
    }
   ],
   "source": [
    "rec_info['url']"
   ]
  },
  {
   "cell_type": "code",
   "execution_count": 15,
   "metadata": {},
   "outputs": [
    {
     "data": {
      "text/plain": [
       "'The National Childrens Study: A Critical National Investment'"
      ]
     },
     "execution_count": 15,
     "metadata": {},
     "output_type": "execute_result"
    }
   ],
   "source": [
    "rec_info['title']"
   ]
  },
  {
   "cell_type": "code",
   "execution_count": null,
   "metadata": {},
   "outputs": [],
   "source": []
  }
 ],
 "metadata": {
  "kernelspec": {
   "display_name": "Python (rec_repo)",
   "language": "python",
   "name": "rec_repo"
  },
  "language_info": {
   "codemirror_mode": {
    "name": "ipython",
    "version": 3
   },
   "file_extension": ".py",
   "mimetype": "text/x-python",
   "name": "python",
   "nbconvert_exporter": "python",
   "pygments_lexer": "ipython3",
   "version": "3.7.5"
  }
 },
 "nbformat": 4,
 "nbformat_minor": 2
}
