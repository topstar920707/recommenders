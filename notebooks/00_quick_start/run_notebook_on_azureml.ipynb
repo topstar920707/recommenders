{
 "cells": [
  {
   "cell_type": "markdown",
   "metadata": {},
   "source": [
    "<i>Copyright (c) Microsoft Corporation. All rights reserved.</i>\n",
    "\n",
    "<i>Licensed under the MIT License.</i>"
   ]
  },
  {
   "cell_type": "markdown",
   "metadata": {},
   "source": [
    "# Run Notebook on AzureML\n",
    "## Introduction to Azure Machine Learning  \n",
    "The **[Azure Machine Learning service (AzureML)](https://docs.microsoft.com/azure/machine-learning/service/overview-what-is-azure-ml)** provides a cloud-based environment you can use to prep data, train, test, deploy, manage, and track machine learning models. By using Azure Machine Learning service, you can start training on your local machine and then scale out to the cloud. With many available compute targets, like [Azure Machine Learning Compute](https://docs.microsoft.com/en-us/azure/machine-learning/service/how-to-set-up-training-targets#amlcompute) and [Azure Databricks](https://docs.microsoft.com/en-us/azure/azure-databricks/what-is-azure-databricks), and with [advanced hyperparameter tuning services](https://docs.microsoft.com/en-us/azure/machine-learning/service/how-to-tune-hyperparameters), you can build better models faster by using the power of the cloud.\n",
    "\n",
    "Data scientists and AI developers use the main [Azure Machine Learning Python SDK](https://docs.microsoft.com/en-us/python/api/overview/azure/ml/intro?view=azure-ml-py) to build and run machine learning workflows with the Azure Machine Learning service. You can interact with the service in any Python environment, including Jupyter Notebooks or your favorite Python IDE. The Azure Machine Learning SDK allows you the choice of using local or cloud compute resources, while managing and maintaining the complete data science workflow from the cloud.\n",
    "![AzureML Workflow](https://docs.microsoft.com/en-us/azure/machine-learning/service/media/overview-what-is-azure-ml/aml.png)\n",
    "\n",
    "This noteboook provides a scaffold of how to directly submit an existing notebook to AzureML compute targets. \n",
    "\n",
    "### Advantages of using AzureML:\n",
    "- Manage cloud resources for monitoring, logging, and organizing your machine learning experiments.\n",
    "- Train models either locally or by using cloud resources, including GPU-accelerated model training.\n",
    "- Easy to scale out when dataset grows - by just creating and pointing to new compute target\n",
    "\n",
    "### Prerequisities\n",
    "   - **Azure Subscription**\n",
    "       -  You can [create a free subscription](https://azure.microsoft.com/en-us/free/) or access existing subscription information from the Azure portal. Later in this notebook you will need information such as your subscription ID in order to create and access AzureML workspaces.\n",
    "          - New subscription comes with [free credit](https://azure.microsoft.com/en-us/free/free-account-faq/) which will easily cover the cost of running this example notebook\n",
    "\n",
    "# Setup environment\n",
    "\n",
    "### Install azure.contrib.notebook package\n",
    "Since azureml.contrib.notebook contains experimental components, it's not included in generated .yaml file by default."
   ]
  },
  {
   "cell_type": "code",
   "execution_count": 33,
   "metadata": {},
   "outputs": [],
   "source": [
    "#!pip install \"azureml.contrib.notebook>=1.0.21.1\""
   ]
  },
  {
   "cell_type": "markdown",
   "metadata": {},
   "source": [
    "### Generate reco_base.yaml file"
   ]
  },
  {
   "cell_type": "code",
   "execution_count": 34,
   "metadata": {
    "scrolled": true
   },
   "outputs": [
    {
     "name": "stdout",
     "output_type": "stream",
     "text": [
      "Generated conda file: reco_base.yaml\r\n",
      "\r\n",
      "To create the conda environment:\r\n",
      "$ conda env create -f reco_base.yaml\r\n",
      "\r\n",
      "To update the conda environment:\r\n",
      "$ conda env update -f reco_base.yaml\r\n",
      "\r\n",
      "To register the conda environment in Jupyter:\r\n",
      "$ conda activate reco_base\r\n",
      "$ python -m ipykernel install --user --name reco_base --display-name \"Python (reco_base)\"\r\n",
      "\r\n"
     ]
    }
   ],
   "source": [
    "!python ../../scripts/generate_conda_file.py"
   ]
  },
  {
   "cell_type": "code",
   "execution_count": 41,
   "metadata": {},
   "outputs": [
    {
     "name": "stdout",
     "output_type": "stream",
     "text": [
      "This notebook was created using version 1.0.21 of the Azure ML SDK\n",
      "You are currently using version 1.0.21 of the Azure ML SDK\n"
     ]
    }
   ],
   "source": [
    "import os\n",
    "import azureml.core\n",
    "from azureml.core import Workspace\n",
    "from os import path, makedirs\n",
    "import shutil\n",
    "from azureml.core import Experiment\n",
    "from azureml.widgets import RunDetails\n",
    "from azureml.core.runconfig import RunConfiguration\n",
    "from azureml.contrib.notebook.notebook_run_config import NotebookRunConfig, PapermillExecutionHandler\n",
    "from azureml.core.runconfig import DEFAULT_CPU_IMAGE\n",
    "from azureml.core.conda_dependencies import CondaDependencies\n",
    "\n",
    "print(\"This notebook was created using version 1.0.21 of the Azure ML SDK\")\n",
    "print(\"You are currently using version\", azureml.core.VERSION, \"of the Azure ML SDK\")"
   ]
  },
  {
   "cell_type": "markdown",
   "metadata": {},
   "source": [
    "### Connect to an AzureML workspace\n",
    "\n",
    "An [AzureML Workspace](https://docs.microsoft.com/en-us/python/api/azureml-core/azureml.core.workspace.workspace?view=azure-ml-py) is an Azure resource that organizes and coordinates the actions of many other Azure resources to assist in executing and sharing machine learning workflows. In particular, an Azure ML Workspace coordinates storage, databases, and compute resources providing added functionality for machine learning experimentation, deployment, inferencing, and the monitoring of deployed models.\n",
    "\n",
    "**If you are trying to create or connect to a workspace for the first time in this environment, uncomment and run the below cell. ** It will load code necessary to create workspace. After code is loaded, run the cell again to create the workspace. It will create `aml_config\\config.json` file which contains workspace configuration for future notebook runs. See [this tutorial](https://docs.microsoft.com/en-us/azure/machine-learning/service/setup-create-workspace#portal) to locate information such as subscription id."
   ]
  },
  {
   "cell_type": "code",
   "execution_count": 36,
   "metadata": {},
   "outputs": [
    {
     "name": "stdout",
     "output_type": "stream",
     "text": [
      "Wrote the config file config.json to: /data/home/testuser/notebooks/Recommenders/notebooks/00_quick_start/aml_config/config.json\n",
      "AzureML workspace name:  setup-ws\n"
     ]
    }
   ],
   "source": [
    "# %load ../../scripts/create_workspace.py"
   ]
  },
  {
   "cell_type": "code",
   "execution_count": 37,
   "metadata": {},
   "outputs": [
    {
     "name": "stdout",
     "output_type": "stream",
     "text": [
      "Found the config file in: /data/home/testuser/notebooks/Recommenders/notebooks/00_quick_start/aml_config/config.json\n"
     ]
    }
   ],
   "source": [
    "ws = Workspace.from_config()"
   ]
  },
  {
   "cell_type": "markdown",
   "metadata": {},
   "source": [
    "This example uses run-based AzureML Compute, which requires minimum setup. Alternatively, you can use persistent compute target (cpu or gpu cluster) or remote virtual machines. For more details, see [How to set up training targets](https://docs.microsoft.com/en-us/azure/machine-learning/service/how-to-set-up-training-targets).\n",
    "\n",
    "Cost-wise, according to Azure [Pricing calculator](https://azure.microsoft.com/en-us/pricing/calculator/), with example VM size `STANDARD_D2_V2`, it costs a few dollars to run this notebook, which is well covered by Azure new subscription credit. For billing and pricing questions, please contact [Azure support](https://azure.microsoft.com/en-us/support/options/).\n",
    "\n",
    "**Note**:\n",
    "- 10m and 20m dataset requires more capacity than `STANDARD_D2_V2`, such as `STANDARD_NC6` or `STANDARD_NC12`. See list of all available VM sizes [here](https://docs.microsoft.com/en-us/azure/templates/Microsoft.Compute/2018-10-01/virtualMachines?toc=%2Fen-us%2Fazure%2Fazure-resource-manager%2Ftoc.json&bc=%2Fen-us%2Fazure%2Fbread%2Ftoc.json#hardwareprofile-object).\n",
    "- As with other Azure services, there are limits on certain resources (for eg. AmlCompute quota) associated with the Azure Machine Learning service. Please read [these instructions](https://docs.microsoft.com/en-us/azure/azure-supportability/resource-manager-core-quotas-request) on the default limits and how to request more quota.\n",
    "\n"
   ]
  },
  {
   "cell_type": "code",
   "execution_count": null,
   "metadata": {},
   "outputs": [],
   "source": [
    "NOTEBOOK_NAME = 'sar_movielens.ipynb'\n",
    "EXPERIMENT_NAME = 'sdk-papermill'\n",
    "exp_directory = 'test_dir' + EXPERIMENT_NAME\n",
    "# create experiment directory\n",
    "if not path.exists(exp_directory):\n",
    "    makedirs(exp_directory)\n",
    "notebook_path = path.join(exp_directory, NOTEBOOK_NAME)\n",
    "shutil.copy(NOTEBOOK_NAME, notebook_path)\n",
    "        \n",
    "exp = Experiment(workspace=ws, name=EXPERIMENT_NAME)\n",
    "\n",
    "run_config_aml = RunConfiguration()\n",
    "run_config_aml.target = \"amlcompute\" # possible to use different compute targets\n",
    "run_config_aml.amlcompute.vm_size = 'STANDARD_D2_V2'\n",
    "run_config_aml.environment.docker.enabled = True\n",
    "run_config_aml.environment.docker.base_image = DEFAULT_CPU_IMAGE\n",
    "run_config_aml.environment.python.user_managed_dependencies = False\n",
    "run_config_aml.auto_prepare_environment = True\n",
    "run_config_aml.environment.python.conda_dependencies = CondaDependencies(conda_dependencies_file_path='reco_base.yaml')\n",
    "\n",
    "cfg = NotebookRunConfig(source_directory='../../',\n",
    "                            notebook='notebooks/00_quick_start/' + NOTEBOOK_NAME,\n",
    "                            output_notebook='outputs/out.ipynb',\n",
    "                            parameters={\"MOVIELENS_DATA_SIZE\": \"100k\", \"TOP_K\": 10},\n",
    "                            run_config=run_config_aml)\n"
   ]
  },
  {
   "cell_type": "markdown",
   "metadata": {},
   "source": [
    "`exp.submit()` will submit source_directory folder and designate notebook to run"
   ]
  },
  {
   "cell_type": "code",
   "execution_count": null,
   "metadata": {},
   "outputs": [],
   "source": [
    "run = exp.submit(cfg)\n",
    "run"
   ]
  },
  {
   "cell_type": "markdown",
   "metadata": {},
   "source": [
    "Above cell should output similar table as below\n",
    "![Experiment submit output](https://recodatasets.blob.core.windows.net/images/aml_papermill_cell_output.jpg)\n",
    "After clicking \"Link to Azure Portal\", experiment run details tab looks like this\n",
    "![Azure Portal Experiment](https://recodatasets.blob.core.windows.net/images/aml_papermill_portal.jpg)\n",
    "Experiment output is out.ipynb. You can download and view this file locally.\n",
    "![Output file](https://recodatasets.blob.core.windows.net/images/aml_papermill_outputs_tab.jpg)\n",
    "#### Jupyter widget\n",
    "\n",
    "Jupyter widget can watch the progress of the run.  Like the run submission, the widget is asynchronous and provides live updates every 10-15 seconds until the job completes."
   ]
  },
  {
   "cell_type": "code",
   "execution_count": 39,
   "metadata": {},
   "outputs": [
    {
     "data": {
      "application/vnd.jupyter.widget-view+json": {
       "model_id": "4c2b25a2ebad45428fe2b0613080ff70",
       "version_major": 2,
       "version_minor": 0
      },
      "text/plain": [
       "_UserRunWidget(widget_settings={'childWidgetDisplay': 'popup', 'send_telemetry': False, 'log_level': 'INFO', '…"
      ]
     },
     "metadata": {},
     "output_type": "display_data"
    }
   ],
   "source": [
    "RunDetails(run).show()"
   ]
  },
  {
   "cell_type": "code",
   "execution_count": null,
   "metadata": {},
   "outputs": [],
   "source": []
  }
 ],
 "metadata": {
  "kernelspec": {
   "display_name": "Python 3.6 - AzureML",
   "language": "python",
   "name": "python3-azureml"
  },
  "language_info": {
   "codemirror_mode": {
    "name": "ipython",
    "version": 3
   },
   "file_extension": ".py",
   "mimetype": "text/x-python",
   "name": "python",
   "nbconvert_exporter": "python",
   "pygments_lexer": "ipython3",
   "version": "3.6.7"
  }
 },
 "nbformat": 4,
 "nbformat_minor": 2
}
