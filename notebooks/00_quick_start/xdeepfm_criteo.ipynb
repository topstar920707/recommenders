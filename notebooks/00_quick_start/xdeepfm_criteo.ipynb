{
 "cells": [
  {
   "cell_type": "markdown",
   "metadata": {},
   "source": [
    "<i>Copyright (c) Microsoft Corporation. All rights reserved.</i>\n",
    "\n",
    "<i>Licensed under the MIT License.</i>"
   ]
  },
  {
   "cell_type": "markdown",
   "metadata": {},
   "source": [
    "# xDeepFM : the eXtreme Deep Factorization Machine \n",
    "This notebook will give you a quick example of how to train an [xDeepFM model](https://arxiv.org/abs/1803.05170). \n",
    "xDeepFM \\[1\\] is a deep learning-based model aims at capturing both lower- and higher-order feature interactions for precise recommender systems. Thus it can learn feature interactions more effectively and manual feature engineering effort can be substantially reduced. To summarize, xDeepFM has the following key properties:\n",
    "* It contains a component, named CIN, that learns feature interactions in an explicit fashion and in vector-wise level;\n",
    "* It contains a traditional DNN component that learns feature interactions in an implicit fashion and in bit-wise level.\n",
    "* The implementation makes this model quite configurable. We can enable different subsets of components by setting hyperparameters like `use_Linear_part`, `use_FM_part`, `use_CIN_part`, and `use_DNN_part`. For example, by enabling only the `use_Linear_part` and `use_FM_part`, we can get a classical FM model.\n",
    "\n",
    "In this notebook, we test xDeepFM on two datasets: 1) a small synthetic dataset and 2) [Criteo dataset](http://labs.criteo.com/category/dataset)"
   ]
  },
  {
   "cell_type": "markdown",
   "metadata": {},
   "source": [
    "## 0. Global Settings and Imports"
   ]
  },
  {
   "cell_type": "code",
   "execution_count": 2,
   "metadata": {},
   "outputs": [
    {
     "name": "stdout",
     "output_type": "stream",
     "text": [
      "System version: 3.6.8 |Anaconda, Inc.| (default, Dec 30 2018, 01:22:34) \n",
      "[GCC 7.3.0]\n",
      "Tensorflow version: 1.12.0\n"
     ]
    }
   ],
   "source": [
    "import sys\n",
    "sys.path.append(\"../../\")\n",
    "import os\n",
    "import papermill as pm\n",
    "from tempfile import TemporaryDirectory\n",
    "\n",
    "import tensorflow as tf\n",
    "\n",
    "from reco_utils.recommender.deeprec.deeprec_utils import (\n",
    "    download_deeprec_resources, prepare_hparams\n",
    ")\n",
    "from reco_utils.recommender.deeprec.models.xDeepFM import XDeepFMModel\n",
    "from reco_utils.recommender.deeprec.IO.iterator import FFMTextIterator\n",
    "\n",
    "print(\"System version: {}\".format(sys.version))\n",
    "print(\"Tensorflow version: {}\".format(tf.__version__))\n",
    "\n",
    "tmpdir = TemporaryDirectory()"
   ]
  },
  {
   "cell_type": "markdown",
   "metadata": {},
   "source": [
    "#### Parameters"
   ]
  },
  {
   "cell_type": "code",
   "execution_count": 3,
   "metadata": {
    "tags": [
     "parameters"
    ]
   },
   "outputs": [],
   "source": [
    "EPOCHS_FOR_SYNTHETIC_RUN = 15\n",
    "EPOCHS_FOR_CRITEO_RUN = 30\n",
    "BATCH_SIZE_SYNTHETIC = 128\n",
    "BATCH_SIZE_CRITEO = 4096"
   ]
  },
  {
   "cell_type": "markdown",
   "metadata": {},
   "source": [
    "xDeepFM uses the FFM format as data input: `<label> <field_id>:<feature_id>:<feature_value>`  \n",
    "Each line represents an instance, `<label>` is a binary value with 1 meaning positive instance and 0 meaning negative instance. \n",
    "Features are divided into fields. For example, user's gender is a field, it contains three possible values, i.e. male, female and unknown. Occupation can be another field, which contains many more possible values than the gender field. Both field index and feature index are starting from 1. <br>\n",
    "\n",
    "## 1. Synthetic data\n",
    "Now let's start with a small synthetic dataset. In this dataset, there are 10 fields, 1000 fefatures, and label is generated according to the result of a set of preset pair-wise feature interactions. "
   ]
  },
  {
   "cell_type": "code",
   "execution_count": 4,
   "metadata": {},
   "outputs": [
    {
     "name": "stderr",
     "output_type": "stream",
     "text": [
      "10.6MB [00:00, 31.0MB/s]                            \n"
     ]
    }
   ],
   "source": [
    "data_path = tmpdir.name\n",
    "yaml_file = os.path.join(data_path, r'xDeepFM.yaml')\n",
    "train_file = os.path.join(data_path, r'synthetic_part_0')\n",
    "valid_file = os.path.join(data_path, r'synthetic_part_1')\n",
    "test_file = os.path.join(data_path, r'synthetic_part_2')\n",
    "output_file = os.path.join(data_path, r'output.txt')\n",
    "\n",
    "if not os.path.exists(yaml_file):\n",
    "    download_deeprec_resources(r'https://recodatasets.blob.core.windows.net/deeprec/', data_path, 'xdeepfmresources.zip')\n"
   ]
  },
  {
   "cell_type": "markdown",
   "metadata": {},
   "source": [
    "#### 1.1 Prepare hyper-parameters\n",
    "prepare_hparams() will create a full set of hyper-parameters for model training, such as learning rate, feature number, and dropout ratio. We can put those parameters in a yaml file, or pass parameters as the function's parameters (which will overwrite yaml settings)."
   ]
  },
  {
   "cell_type": "code",
   "execution_count": 5,
   "metadata": {
    "scrolled": true
   },
   "outputs": [
    {
     "name": "stdout",
     "output_type": "stream",
     "text": [
      "[('DNN_FIELD_NUM', None), ('FEATURE_COUNT', 1000), ('FIELD_COUNT', 10), ('MODEL_DIR', None), ('PAIR_NUM', None), ('SUMMARIES_DIR', None), ('activation', ['relu', 'relu']), ('attention_activation', None), ('attention_dropout', 0.0), ('attention_layer_sizes', None), ('batch_size', 128), ('cross_activation', 'identity'), ('cross_l1', 0.0), ('cross_l2', 0.0001), ('cross_layer_sizes', [1]), ('cross_layers', None), ('data_format', 'ffm'), ('dim', 10), ('doc_size', None), ('dropout', [0.0, 0.0]), ('dtype', 32), ('embed_l1', 0.0), ('embed_l2', 0.0001), ('enable_BN', False), ('entityEmb_file', None), ('entity_dim', None), ('entity_embedding_method', None), ('entity_size', None), ('epochs', 15), ('fast_CIN_d', 0), ('filter_sizes', None), ('init_method', 'tnormal'), ('init_value', 0.3), ('is_clip_norm', 0), ('iterator_type', None), ('kg_file', None), ('kg_training_interval', 5), ('layer_l1', 0.0), ('layer_l2', 0.0001), ('layer_sizes', [100, 100]), ('learning_rate', 0.001), ('load_model_name', 'you model path'), ('load_saved_model', False), ('loss', 'log_loss'), ('lr_kg', 0.5), ('lr_rs', 1), ('max_grad_norm', 2), ('method', 'classification'), ('metrics', ['auc', 'logloss']), ('model_type', 'xDeepFM'), ('mu', None), ('n_item', None), ('n_item_attr', None), ('n_user', None), ('n_user_attr', None), ('num_filters', None), ('optimizer', 'adam'), ('reg_kg', 0.0), ('save_epoch', 2), ('save_model', False), ('show_step', 200000), ('train_ratio', None), ('transform', None), ('use_CIN_part', True), ('use_DNN_part', False), ('use_FM_part', False), ('use_Linear_part', False), ('user_clicks', None), ('user_dropout', False), ('wordEmb_file', None), ('word_size', None), ('write_tfevents', False)]\n"
     ]
    }
   ],
   "source": [
    "hparams = prepare_hparams(yaml_file, \n",
    "                          FEATURE_COUNT=1000, \n",
    "                          FIELD_COUNT=10, \n",
    "                          cross_l2=0.0001, \n",
    "                          embed_l2=0.0001, \n",
    "                          learning_rate=0.001, \n",
    "                          epochs=EPOCHS_FOR_SYNTHETIC_RUN,\n",
    "                          batch_size=BATCH_SIZE_SYNTHETIC)\n",
    "print(hparams)"
   ]
  },
  {
   "cell_type": "markdown",
   "metadata": {},
   "source": [
    "#### 1.2 Create data loader\n",
    "Designate a data iterator for the model. xDeepFM uses FFMTextIterator. "
   ]
  },
  {
   "cell_type": "code",
   "execution_count": 6,
   "metadata": {},
   "outputs": [],
   "source": [
    "input_creator = FFMTextIterator"
   ]
  },
  {
   "cell_type": "markdown",
   "metadata": {},
   "source": [
    "#### 1.3 Create model\n",
    "When both hyper-parameters and data iterator are ready, we can create a model:"
   ]
  },
  {
   "cell_type": "code",
   "execution_count": 7,
   "metadata": {},
   "outputs": [
    {
     "name": "stdout",
     "output_type": "stream",
     "text": [
      "Add CIN part.\n"
     ]
    },
    {
     "name": "stderr",
     "output_type": "stream",
     "text": [
      "/data/anaconda/envs/reco_gpu/lib/python3.6/site-packages/tensorflow/python/ops/gradients_impl.py:112: UserWarning: Converting sparse IndexedSlices to a dense Tensor of unknown shape. This may consume a large amount of memory.\n",
      "  \"Converting sparse IndexedSlices to a dense Tensor of unknown shape. \"\n"
     ]
    }
   ],
   "source": [
    "model = XDeepFMModel(hparams, input_creator, seed=1)\n",
    "\n",
    "## sometimes we don't want to train a model from scratch\n",
    "## then we can load a pre-trained model like this: \n",
    "#model.load_model(r'your_model_path')"
   ]
  },
  {
   "cell_type": "markdown",
   "metadata": {},
   "source": [
    "Now let's see what is the model's performance at this point (without starting training):"
   ]
  },
  {
   "cell_type": "code",
   "execution_count": 8,
   "metadata": {},
   "outputs": [
    {
     "name": "stdout",
     "output_type": "stream",
     "text": [
      "{'auc': 0.5015, 'logloss': 0.7382}\n"
     ]
    }
   ],
   "source": [
    "print(model.run_eval(test_file))"
   ]
  },
  {
   "cell_type": "markdown",
   "metadata": {},
   "source": [
    "AUC=0.5 is a state of random guess. We can see that before training, the model behaves like random guessing.\n",
    "\n",
    "#### 1.4 Train model\n",
    "Next we want to train the model on a training set, and check the performance on a validation dataset. Training the model is as simple as a function call:"
   ]
  },
  {
   "cell_type": "code",
   "execution_count": 9,
   "metadata": {},
   "outputs": [
    {
     "name": "stdout",
     "output_type": "stream",
     "text": [
      "at epoch 1 train info: auc:0.524, logloss:0.6969 eval info: auc:0.5005, logloss:0.703\n",
      "at epoch 1 , train time: 3.3 eval time: 3.3\n",
      "at epoch 2 train info: auc:0.5462, logloss:0.6897 eval info: auc:0.5044, logloss:0.6973\n",
      "at epoch 2 , train time: 2.9 eval time: 3.4\n",
      "at epoch 3 train info: auc:0.5707, logloss:0.6856 eval info: auc:0.5103, logloss:0.6956\n",
      "at epoch 3 , train time: 2.9 eval time: 3.3\n",
      "at epoch 4 train info: auc:0.605, logloss:0.6788 eval info: auc:0.5231, logloss:0.6943\n",
      "at epoch 4 , train time: 3.1 eval time: 3.3\n",
      "at epoch 5 train info: auc:0.6659, logloss:0.6584 eval info: auc:0.5618, logloss:0.6882\n",
      "at epoch 5 , train time: 3.0 eval time: 3.3\n",
      "at epoch 6 train info: auc:0.7705, logloss:0.587 eval info: auc:0.6657, logloss:0.6498\n",
      "at epoch 6 , train time: 3.0 eval time: 3.3\n",
      "at epoch 7 train info: auc:0.8616, logloss:0.4726 eval info: auc:0.7745, logloss:0.5711\n",
      "at epoch 7 , train time: 3.0 eval time: 3.3\n",
      "at epoch 8 train info: auc:0.9119, logloss:0.3833 eval info: auc:0.8364, logloss:0.5041\n",
      "at epoch 8 , train time: 3.1 eval time: 3.3\n",
      "at epoch 9 train info: auc:0.9416, logloss:0.3155 eval info: auc:0.8739, logloss:0.452\n",
      "at epoch 9 , train time: 2.9 eval time: 3.5\n",
      "at epoch 10 train info: auc:0.9614, logloss:0.2589 eval info: auc:0.8998, logloss:0.4093\n",
      "at epoch 10 , train time: 3.0 eval time: 3.4\n",
      "at epoch 11 train info: auc:0.9757, logloss:0.2082 eval info: auc:0.9197, logloss:0.3714\n",
      "at epoch 11 , train time: 3.1 eval time: 3.3\n",
      "at epoch 12 train info: auc:0.9858, logloss:0.1619 eval info: auc:0.9364, logloss:0.3349\n",
      "at epoch 12 , train time: 3.1 eval time: 3.3\n",
      "at epoch 13 train info: auc:0.9924, logloss:0.1216 eval info: auc:0.95, logloss:0.3008\n",
      "at epoch 13 , train time: 3.0 eval time: 3.5\n",
      "at epoch 14 train info: auc:0.9963, logloss:0.089 eval info: auc:0.9603, logloss:0.2721\n",
      "at epoch 14 , train time: 2.9 eval time: 3.3\n",
      "at epoch 15 train info: auc:0.9983, logloss:0.064 eval info: auc:0.9676, logloss:0.2503\n",
      "at epoch 15 , train time: 3.0 eval time: 3.3\n"
     ]
    },
    {
     "data": {
      "text/plain": [
       "<reco_utils.recommender.deeprec.models.xDeepFM.XDeepFMModel at 0x7ff3ec69e978>"
      ]
     },
     "execution_count": 9,
     "metadata": {},
     "output_type": "execute_result"
    }
   ],
   "source": [
    "model.fit(train_file, valid_file)"
   ]
  },
  {
   "cell_type": "markdown",
   "metadata": {},
   "source": [
    "#### 1.5 Evaluate model\n",
    "\n",
    "Again, let's see what is the model's performance now (after training):"
   ]
  },
  {
   "cell_type": "code",
   "execution_count": 10,
   "metadata": {},
   "outputs": [
    {
     "name": "stdout",
     "output_type": "stream",
     "text": [
      "{'auc': 0.9666, 'logloss': 0.253}\n"
     ]
    },
    {
     "data": {
      "application/papermill.record+json": {
       "res_syn": {
        "auc": 0.9666,
        "logloss": 0.253
       }
      }
     },
     "metadata": {},
     "output_type": "display_data"
    }
   ],
   "source": [
    "res_syn = model.run_eval(test_file)\n",
    "print(res_syn)\n",
    "pm.record(\"res_syn\", res_syn)"
   ]
  },
  {
   "cell_type": "markdown",
   "metadata": {},
   "source": [
    "If we want to get the full prediction scores rather than evaluation metrics, we can do this:"
   ]
  },
  {
   "cell_type": "code",
   "execution_count": 11,
   "metadata": {},
   "outputs": [
    {
     "data": {
      "text/plain": [
       "<reco_utils.recommender.deeprec.models.xDeepFM.XDeepFMModel at 0x7ff3ec69e978>"
      ]
     },
     "execution_count": 11,
     "metadata": {},
     "output_type": "execute_result"
    }
   ],
   "source": [
    "model.predict(test_file, output_file)"
   ]
  },
  {
   "cell_type": "markdown",
   "metadata": {},
   "source": [
    "## 2. Criteo data \n",
    "\n",
    "Now we have successfully launched an experiment on a synthetic dataset. Next let's try something on a real world dataset, which is a small sample from [Criteo dataset](http://labs.criteo.com/category/dataset). Criteo dataset is a well known industry benchmarking dataset for developing CTR prediction models and it's frequently adopted as evaluation dataset by research papers. The original dataset is too large for a lightweight demo, so we sample a small portion from it as a demo dataset."
   ]
  },
  {
   "cell_type": "code",
   "execution_count": 12,
   "metadata": {},
   "outputs": [
    {
     "name": "stdout",
     "output_type": "stream",
     "text": [
      "demo with Criteo dataset\n"
     ]
    }
   ],
   "source": [
    "print('demo with Criteo dataset')\n",
    "hparams = prepare_hparams(yaml_file, \n",
    "                          FEATURE_COUNT=2300000, \n",
    "                          FIELD_COUNT=39, \n",
    "                          cross_l2=0.01, \n",
    "                          embed_l2=0.01, \n",
    "                          layer_l2=0.01,\n",
    "                          learning_rate=0.002, \n",
    "                          batch_size=BATCH_SIZE_CRITEO, \n",
    "                          epochs=EPOCHS_FOR_CRITEO_RUN, \n",
    "                          cross_layer_sizes=[20, 10], \n",
    "                          init_value=0.1, \n",
    "                          layer_sizes=[20,20],\n",
    "                          use_Linear_part=True, \n",
    "                          use_CIN_part=True, \n",
    "                          use_DNN_part=True)\n",
    "\n",
    "train_file = os.path.join(data_path, r'cretio_tiny_train')\n",
    "valid_file = os.path.join(data_path, r'cretio_tiny_valid')\n",
    "test_file = os.path.join(data_path, r'cretio_tiny_test')"
   ]
  },
  {
   "cell_type": "code",
   "execution_count": 13,
   "metadata": {},
   "outputs": [
    {
     "name": "stdout",
     "output_type": "stream",
     "text": [
      "Add linear part.\n",
      "Add CIN part.\n",
      "Add DNN part.\n",
      "{'auc': 0.514, 'logloss': 0.7289}\n",
      "at epoch 1 train info: auc:0.6559, logloss:0.5407 eval info: auc:0.6604, logloss:0.5365\n",
      "at epoch 1 , train time: 27.3 eval time: 20.9\n",
      "at epoch 2 train info: auc:0.7055, logloss:0.5154 eval info: auc:0.7062, logloss:0.514\n",
      "at epoch 2 , train time: 22.5 eval time: 20.8\n",
      "at epoch 3 train info: auc:0.7269, logloss:0.5039 eval info: auc:0.7254, logloss:0.5042\n",
      "at epoch 3 , train time: 22.7 eval time: 22.6\n",
      "at epoch 4 train info: auc:0.7383, logloss:0.497 eval info: auc:0.7351, logloss:0.4981\n",
      "at epoch 4 , train time: 24.9 eval time: 23.1\n",
      "at epoch 5 train info: auc:0.7447, logloss:0.4933 eval info: auc:0.7401, logloss:0.495\n",
      "at epoch 5 , train time: 24.8 eval time: 23.1\n",
      "at epoch 6 train info: auc:0.7484, logloss:0.4911 eval info: auc:0.7428, logloss:0.4933\n",
      "at epoch 6 , train time: 24.6 eval time: 23.2\n",
      "at epoch 7 train info: auc:0.7508, logloss:0.4896 eval info: auc:0.7444, logloss:0.4922\n",
      "at epoch 7 , train time: 24.8 eval time: 23.1\n",
      "at epoch 8 train info: auc:0.7526, logloss:0.4884 eval info: auc:0.7457, logloss:0.4913\n",
      "at epoch 8 , train time: 23.0 eval time: 20.9\n",
      "at epoch 9 train info: auc:0.7542, logloss:0.4873 eval info: auc:0.7468, logloss:0.4905\n",
      "at epoch 9 , train time: 22.6 eval time: 20.7\n",
      "at epoch 10 train info: auc:0.7557, logloss:0.4864 eval info: auc:0.7479, logloss:0.4898\n",
      "at epoch 10 , train time: 22.7 eval time: 20.8\n",
      "at epoch 11 train info: auc:0.7571, logloss:0.4856 eval info: auc:0.7488, logloss:0.4892\n",
      "at epoch 11 , train time: 24.4 eval time: 23.0\n",
      "at epoch 12 train info: auc:0.7584, logloss:0.4848 eval info: auc:0.7496, logloss:0.4887\n",
      "at epoch 12 , train time: 24.9 eval time: 23.2\n",
      "at epoch 13 train info: auc:0.7598, logloss:0.4839 eval info: auc:0.7503, logloss:0.4883\n",
      "at epoch 13 , train time: 24.9 eval time: 23.1\n",
      "at epoch 14 train info: auc:0.7612, logloss:0.483 eval info: auc:0.7511, logloss:0.4878\n",
      "at epoch 14 , train time: 24.8 eval time: 23.0\n",
      "at epoch 15 train info: auc:0.7629, logloss:0.482 eval info: auc:0.7519, logloss:0.4873\n",
      "at epoch 15 , train time: 24.9 eval time: 21.0\n",
      "at epoch 16 train info: auc:0.765, logloss:0.4807 eval info: auc:0.7528, logloss:0.4867\n",
      "at epoch 16 , train time: 22.8 eval time: 20.7\n",
      "at epoch 17 train info: auc:0.7676, logloss:0.479 eval info: auc:0.7537, logloss:0.486\n",
      "at epoch 17 , train time: 22.8 eval time: 20.7\n",
      "at epoch 18 train info: auc:0.7708, logloss:0.4769 eval info: auc:0.7548, logloss:0.4853\n",
      "at epoch 18 , train time: 24.7 eval time: 23.2\n",
      "at epoch 19 train info: auc:0.7745, logloss:0.4744 eval info: auc:0.7559, logloss:0.4844\n",
      "at epoch 19 , train time: 24.9 eval time: 23.3\n",
      "at epoch 20 train info: auc:0.7785, logloss:0.4717 eval info: auc:0.757, logloss:0.4836\n",
      "at epoch 20 , train time: 24.8 eval time: 23.2\n",
      "at epoch 21 train info: auc:0.7826, logloss:0.4688 eval info: auc:0.758, logloss:0.4828\n",
      "at epoch 21 , train time: 24.9 eval time: 23.0\n",
      "at epoch 22 train info: auc:0.7869, logloss:0.4658 eval info: auc:0.7588, logloss:0.4822\n",
      "at epoch 22 , train time: 24.5 eval time: 20.7\n",
      "at epoch 23 train info: auc:0.7911, logloss:0.4627 eval info: auc:0.7595, logloss:0.4816\n",
      "at epoch 23 , train time: 22.7 eval time: 20.9\n",
      "at epoch 24 train info: auc:0.7955, logloss:0.4595 eval info: auc:0.76, logloss:0.4812\n",
      "at epoch 24 , train time: 22.7 eval time: 20.8\n",
      "at epoch 25 train info: auc:0.8001, logloss:0.456 eval info: auc:0.7604, logloss:0.4808\n",
      "at epoch 25 , train time: 22.7 eval time: 22.9\n",
      "at epoch 26 train info: auc:0.8049, logloss:0.4524 eval info: auc:0.7606, logloss:0.4806\n",
      "at epoch 26 , train time: 24.9 eval time: 23.2\n",
      "at epoch 27 train info: auc:0.81, logloss:0.4484 eval info: auc:0.7607, logloss:0.4804\n",
      "at epoch 27 , train time: 24.8 eval time: 23.1\n",
      "at epoch 28 train info: auc:0.8154, logloss:0.4441 eval info: auc:0.7607, logloss:0.4805\n",
      "at epoch 28 , train time: 24.8 eval time: 22.8\n",
      "at epoch 29 train info: auc:0.8212, logloss:0.4393 eval info: auc:0.7604, logloss:0.4806\n",
      "at epoch 29 , train time: 24.8 eval time: 23.1\n",
      "at epoch 30 train info: auc:0.8274, logloss:0.4341 eval info: auc:0.7599, logloss:0.481\n",
      "at epoch 30 , train time: 22.6 eval time: 20.8\n",
      "{'auc': 0.7494, 'logloss': 0.4929}\n"
     ]
    },
    {
     "data": {
      "application/papermill.record+json": {
       "res_real": {
        "auc": 0.7494,
        "logloss": 0.4929
       }
      }
     },
     "metadata": {},
     "output_type": "display_data"
    }
   ],
   "source": [
    "model = XDeepFMModel(hparams, FFMTextIterator, seed=1)\n",
    "\n",
    "# check the predictive performance before the model is trained\n",
    "print(model.run_eval(test_file)) \n",
    "model.fit(train_file, valid_file)\n",
    "# check the predictive performance after the model is trained\n",
    "res_real = model.run_eval(test_file)\n",
    "print(res_real)\n",
    "pm.record(\"res_real\", res_real)"
   ]
  },
  {
   "cell_type": "markdown",
   "metadata": {},
   "source": [
    "## Reference\n",
    "\\[1\\] Lian, J., Zhou, X., Zhang, F., Chen, Z., Xie, X., & Sun, G. (2018). xDeepFM: Combining Explicit and Implicit Feature Interactions for Recommender Systems. Proceedings of the 24th ACM SIGKDD International Conference on Knowledge Discovery \\& Data Mining, KDD 2018, London, UK, August 19-23, 2018.<br>"
   ]
  },
  {
   "cell_type": "code",
   "execution_count": 14,
   "metadata": {},
   "outputs": [],
   "source": [
    "# Cleanup\n",
    "tmpdir.cleanup()"
   ]
  },
  {
   "cell_type": "code",
   "execution_count": null,
   "metadata": {},
   "outputs": [],
   "source": []
  }
 ],
 "metadata": {
  "celltoolbar": "Tags",
  "kernelspec": {
   "display_name": "reco_gpu",
   "language": "python",
   "name": "reco_gpu"
  },
  "language_info": {
   "codemirror_mode": {
    "name": "ipython",
    "version": 3
   },
   "file_extension": ".py",
   "mimetype": "text/x-python",
   "name": "python",
   "nbconvert_exporter": "python",
   "pygments_lexer": "ipython3",
   "version": "3.6.8"
  }
 },
 "nbformat": 4,
 "nbformat_minor": 2
}
