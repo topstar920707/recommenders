{
 "cells": [
  {
   "cell_type": "markdown",
   "metadata": {},
   "source": [
    "<i>Copyright (c) Microsoft Corporation. All rights reserved.</i>\n",
    "\n",
    "<i>Licensed under the MIT License.</i>"
   ]
  },
  {
   "cell_type": "markdown",
   "metadata": {},
   "source": [
    "# Run Notebook on AML\n",
    "This noteboook provides an example of how to directly submit notebook to AzureML compute targets. \n",
    "\n",
    "# 0 Setup environment\n",
    "\n",
    "### Install azure.contrib.notebook package"
   ]
  },
  {
   "cell_type": "code",
   "execution_count": 1,
   "metadata": {},
   "outputs": [
    {
     "name": "stdout",
     "output_type": "stream",
     "text": [
      "Requirement already satisfied: azureml-contrib-notebook>=1.0.21.2 in /data/anaconda/envs/py36/lib/python3.6/site-packages (1.0.21.2)\n",
      "Requirement already satisfied: azureml-core==1.0.21.* in /data/anaconda/envs/py36/lib/python3.6/site-packages (from azureml-contrib-notebook>=1.0.21.2) (1.0.21)\n",
      "Requirement already satisfied: ipython in /data/anaconda/envs/py36/lib/python3.6/site-packages (from azureml-contrib-notebook>=1.0.21.2) (7.2.0)\n",
      "Requirement already satisfied: ruamel.yaml<=0.15.51,>=0.15.35 in /data/anaconda/envs/py36/lib/python3.6/site-packages (from azureml-core==1.0.21.*->azureml-contrib-notebook>=1.0.21.2) (0.15.51)\n",
      "Requirement already satisfied: azure-mgmt-keyvault>=0.40.0 in /data/anaconda/envs/py36/lib/python3.6/site-packages (from azureml-core==1.0.21.*->azureml-contrib-notebook>=1.0.21.2) (1.1.0)\n",
      "Requirement already satisfied: backports.tempfile in /data/anaconda/envs/py36/lib/python3.6/site-packages (from azureml-core==1.0.21.*->azureml-contrib-notebook>=1.0.21.2) (1.0)\n",
      "Requirement already satisfied: msrestazure>=0.4.33 in /data/anaconda/envs/py36/lib/python3.6/site-packages (from azureml-core==1.0.21.*->azureml-contrib-notebook>=1.0.21.2) (0.5.1)\n",
      "Requirement already satisfied: urllib3>=1.23 in /data/anaconda/envs/py36/lib/python3.6/site-packages (from azureml-core==1.0.21.*->azureml-contrib-notebook>=1.0.21.2) (1.23)\n",
      "Requirement already satisfied: PyJWT in /data/anaconda/envs/py36/lib/python3.6/site-packages (from azureml-core==1.0.21.*->azureml-contrib-notebook>=1.0.21.2) (1.7.0)\n",
      "Requirement already satisfied: azure-mgmt-authorization>=0.40.0 in /data/anaconda/envs/py36/lib/python3.6/site-packages (from azureml-core==1.0.21.*->azureml-contrib-notebook>=1.0.21.2) (0.51.1)\n",
      "Requirement already satisfied: requests>=2.19.1 in /data/anaconda/envs/py36/lib/python3.6/site-packages (from azureml-core==1.0.21.*->azureml-contrib-notebook>=1.0.21.2) (2.20.1)\n",
      "Requirement already satisfied: azure-mgmt-storage>=1.5.0 in /data/anaconda/envs/py36/lib/python3.6/site-packages (from azureml-core==1.0.21.*->azureml-contrib-notebook>=1.0.21.2) (3.1.0)\n",
      "Requirement already satisfied: contextlib2 in /data/anaconda/envs/py36/lib/python3.6/site-packages (from azureml-core==1.0.21.*->azureml-contrib-notebook>=1.0.21.2) (0.5.5)\n",
      "Requirement already satisfied: pyopenssl in /data/anaconda/envs/py36/lib/python3.6/site-packages (from azureml-core==1.0.21.*->azureml-contrib-notebook>=1.0.21.2) (18.0.0)\n",
      "Requirement already satisfied: SecretStorage in /data/anaconda/envs/py36/lib/python3.6/site-packages (from azureml-core==1.0.21.*->azureml-contrib-notebook>=1.0.21.2) (2.3.1)\n",
      "Requirement already satisfied: paramiko>=2.0.8 in /data/anaconda/envs/py36/lib/python3.6/site-packages (from azureml-core==1.0.21.*->azureml-contrib-notebook>=1.0.21.2) (2.4.2)\n",
      "Requirement already satisfied: docker in /data/anaconda/envs/py36/lib/python3.6/site-packages (from azureml-core==1.0.21.*->azureml-contrib-notebook>=1.0.21.2) (3.6.0)\n",
      "Requirement already satisfied: pyyaml>=3.13 in /data/anaconda/envs/py36/lib/python3.6/site-packages (from azureml-core==1.0.21.*->azureml-contrib-notebook>=1.0.21.2) (3.13)\n",
      "Requirement already satisfied: azure-mgmt-containerregistry>=2.0.0 in /data/anaconda/envs/py36/lib/python3.6/site-packages (from azureml-core==1.0.21.*->azureml-contrib-notebook>=1.0.21.2) (2.4.0)\n",
      "Requirement already satisfied: jmespath in /data/anaconda/envs/py36/lib/python3.6/site-packages (from azureml-core==1.0.21.*->azureml-contrib-notebook>=1.0.21.2) (0.9.3)\n",
      "Requirement already satisfied: azure-mgmt-resource>=1.2.1 in /data/anaconda/envs/py36/lib/python3.6/site-packages (from azureml-core==1.0.21.*->azureml-contrib-notebook>=1.0.21.2) (2.0.0)\n",
      "Requirement already satisfied: cryptography!=1.9,!=2.0.*,!=2.1.*,!=2.2.* in /data/anaconda/envs/py36/lib/python3.6/site-packages (from azureml-core==1.0.21.*->azureml-contrib-notebook>=1.0.21.2) (2.4.2)\n",
      "Requirement already satisfied: msrest>=0.5.1 in /data/anaconda/envs/py36/lib/python3.6/site-packages (from azureml-core==1.0.21.*->azureml-contrib-notebook>=1.0.21.2) (0.6.2)\n",
      "Requirement already satisfied: adal>=1.2.0 in /data/anaconda/envs/py36/lib/python3.6/site-packages (from azureml-core==1.0.21.*->azureml-contrib-notebook>=1.0.21.2) (1.2.0)\n",
      "Requirement already satisfied: azure-graphrbac>=0.40.0 in /data/anaconda/envs/py36/lib/python3.6/site-packages (from azureml-core==1.0.21.*->azureml-contrib-notebook>=1.0.21.2) (0.53.0)\n",
      "Requirement already satisfied: python-dateutil>=2.7.3 in /data/anaconda/envs/py36/lib/python3.6/site-packages (from azureml-core==1.0.21.*->azureml-contrib-notebook>=1.0.21.2) (2.7.5)\n",
      "Requirement already satisfied: jsonpickle in /data/anaconda/envs/py36/lib/python3.6/site-packages (from azureml-core==1.0.21.*->azureml-contrib-notebook>=1.0.21.2) (1.0)\n",
      "Requirement already satisfied: pathspec in /data/anaconda/envs/py36/lib/python3.6/site-packages (from azureml-core==1.0.21.*->azureml-contrib-notebook>=1.0.21.2) (0.5.9)\n",
      "Requirement already satisfied: six>=1.11.0 in /data/anaconda/envs/py36/lib/python3.6/site-packages (from azureml-core==1.0.21.*->azureml-contrib-notebook>=1.0.21.2) (1.11.0)\n",
      "Requirement already satisfied: pytz in /data/anaconda/envs/py36/lib/python3.6/site-packages (from azureml-core==1.0.21.*->azureml-contrib-notebook>=1.0.21.2) (2018.7)\n",
      "Requirement already satisfied: ndg-httpsclient in /data/anaconda/envs/py36/lib/python3.6/site-packages (from azureml-core==1.0.21.*->azureml-contrib-notebook>=1.0.21.2) (0.5.1)\n",
      "Requirement already satisfied: azure-common>=1.1.12 in /data/anaconda/envs/py36/lib/python3.6/site-packages (from azureml-core==1.0.21.*->azureml-contrib-notebook>=1.0.21.2) (1.1.16)\n",
      "Requirement already satisfied: traitlets>=4.2 in /data/anaconda/envs/py36/lib/python3.6/site-packages (from ipython->azureml-contrib-notebook>=1.0.21.2) (4.3.2)\n",
      "Requirement already satisfied: backcall in /data/anaconda/envs/py36/lib/python3.6/site-packages (from ipython->azureml-contrib-notebook>=1.0.21.2) (0.1.0)\n",
      "Requirement already satisfied: setuptools>=18.5 in /data/anaconda/envs/py36/lib/python3.6/site-packages (from ipython->azureml-contrib-notebook>=1.0.21.2) (40.6.2)\n",
      "Requirement already satisfied: pickleshare in /data/anaconda/envs/py36/lib/python3.6/site-packages (from ipython->azureml-contrib-notebook>=1.0.21.2) (0.7.5)\n",
      "Requirement already satisfied: jedi>=0.10 in /data/anaconda/envs/py36/lib/python3.6/site-packages (from ipython->azureml-contrib-notebook>=1.0.21.2) (0.13.1)\n",
      "Requirement already satisfied: pygments in /data/anaconda/envs/py36/lib/python3.6/site-packages (from ipython->azureml-contrib-notebook>=1.0.21.2) (2.2.0)\n",
      "Requirement already satisfied: prompt-toolkit<2.1.0,>=2.0.0 in /data/anaconda/envs/py36/lib/python3.6/site-packages (from ipython->azureml-contrib-notebook>=1.0.21.2) (2.0.7)\n",
      "Requirement already satisfied: pexpect; sys_platform != \"win32\" in /data/anaconda/envs/py36/lib/python3.6/site-packages (from ipython->azureml-contrib-notebook>=1.0.21.2) (4.6.0)\n",
      "Requirement already satisfied: decorator in /data/anaconda/envs/py36/lib/python3.6/site-packages (from ipython->azureml-contrib-notebook>=1.0.21.2) (4.3.0)\n",
      "Requirement already satisfied: azure-mgmt-nspkg>=2.0.0 in /data/anaconda/envs/py36/lib/python3.6/site-packages (from azure-mgmt-keyvault>=0.40.0->azureml-core==1.0.21.*->azureml-contrib-notebook>=1.0.21.2) (3.0.2)\n",
      "Requirement already satisfied: backports.weakref in /data/anaconda/envs/py36/lib/python3.6/site-packages (from backports.tempfile->azureml-core==1.0.21.*->azureml-contrib-notebook>=1.0.21.2) (1.0.post1)\n",
      "Requirement already satisfied: idna<2.8,>=2.5 in /data/anaconda/envs/py36/lib/python3.6/site-packages (from requests>=2.19.1->azureml-core==1.0.21.*->azureml-contrib-notebook>=1.0.21.2) (2.7)\n",
      "Requirement already satisfied: chardet<3.1.0,>=3.0.2 in /data/anaconda/envs/py36/lib/python3.6/site-packages (from requests>=2.19.1->azureml-core==1.0.21.*->azureml-contrib-notebook>=1.0.21.2) (3.0.4)\n",
      "Requirement already satisfied: certifi>=2017.4.17 in /data/anaconda/envs/py36/lib/python3.6/site-packages (from requests>=2.19.1->azureml-core==1.0.21.*->azureml-contrib-notebook>=1.0.21.2) (2018.10.15)\n",
      "Requirement already satisfied: pyasn1>=0.1.7 in /data/anaconda/envs/py36/lib/python3.6/site-packages (from paramiko>=2.0.8->azureml-core==1.0.21.*->azureml-contrib-notebook>=1.0.21.2) (0.4.4)\n",
      "Requirement already satisfied: bcrypt>=3.1.3 in /data/anaconda/envs/py36/lib/python3.6/site-packages (from paramiko>=2.0.8->azureml-core==1.0.21.*->azureml-contrib-notebook>=1.0.21.2) (3.1.4)\n",
      "Requirement already satisfied: pynacl>=1.0.1 in /data/anaconda/envs/py36/lib/python3.6/site-packages (from paramiko>=2.0.8->azureml-core==1.0.21.*->azureml-contrib-notebook>=1.0.21.2) (1.3.0)\n",
      "Requirement already satisfied: websocket-client>=0.32.0 in /data/anaconda/envs/py36/lib/python3.6/site-packages (from docker->azureml-core==1.0.21.*->azureml-contrib-notebook>=1.0.21.2) (0.54.0)\n",
      "Requirement already satisfied: docker-pycreds>=0.3.0 in /data/anaconda/envs/py36/lib/python3.6/site-packages (from docker->azureml-core==1.0.21.*->azureml-contrib-notebook>=1.0.21.2) (0.4.0)\n",
      "Requirement already satisfied: cffi!=1.11.3,>=1.7 in /data/anaconda/envs/py36/lib/python3.6/site-packages (from cryptography!=1.9,!=2.0.*,!=2.1.*,!=2.2.*->azureml-core==1.0.21.*->azureml-contrib-notebook>=1.0.21.2) (1.11.5)\n",
      "Requirement already satisfied: asn1crypto>=0.21.0 in /data/anaconda/envs/py36/lib/python3.6/site-packages (from cryptography!=1.9,!=2.0.*,!=2.1.*,!=2.2.*->azureml-core==1.0.21.*->azureml-contrib-notebook>=1.0.21.2) (0.24.0)\n",
      "Requirement already satisfied: requests-oauthlib>=0.5.0 in /data/anaconda/envs/py36/lib/python3.6/site-packages (from msrest>=0.5.1->azureml-core==1.0.21.*->azureml-contrib-notebook>=1.0.21.2) (1.0.0)\n"
     ]
    },
    {
     "name": "stdout",
     "output_type": "stream",
     "text": [
      "Requirement already satisfied: isodate>=0.6.0 in /data/anaconda/envs/py36/lib/python3.6/site-packages (from msrest>=0.5.1->azureml-core==1.0.21.*->azureml-contrib-notebook>=1.0.21.2) (0.6.0)\r\n",
      "Requirement already satisfied: ipython_genutils in /data/anaconda/envs/py36/lib/python3.6/site-packages (from traitlets>=4.2->ipython->azureml-contrib-notebook>=1.0.21.2) (0.2.0)\r\n",
      "Requirement already satisfied: parso>=0.3.0 in /data/anaconda/envs/py36/lib/python3.6/site-packages (from jedi>=0.10->ipython->azureml-contrib-notebook>=1.0.21.2) (0.3.1)\r\n",
      "Requirement already satisfied: wcwidth in /data/anaconda/envs/py36/lib/python3.6/site-packages (from prompt-toolkit<2.1.0,>=2.0.0->ipython->azureml-contrib-notebook>=1.0.21.2) (0.1.7)\r\n",
      "Requirement already satisfied: ptyprocess>=0.5 in /data/anaconda/envs/py36/lib/python3.6/site-packages (from pexpect; sys_platform != \"win32\"->ipython->azureml-contrib-notebook>=1.0.21.2) (0.6.0)\r\n",
      "Requirement already satisfied: azure-nspkg>=3.0.0 in /data/anaconda/envs/py36/lib/python3.6/site-packages (from azure-mgmt-nspkg>=2.0.0->azure-mgmt-keyvault>=0.40.0->azureml-core==1.0.21.*->azureml-contrib-notebook>=1.0.21.2) (3.0.2)\r\n",
      "Requirement already satisfied: pycparser in /data/anaconda/envs/py36/lib/python3.6/site-packages (from cffi!=1.11.3,>=1.7->cryptography!=1.9,!=2.0.*,!=2.1.*,!=2.2.*->azureml-core==1.0.21.*->azureml-contrib-notebook>=1.0.21.2) (2.19)\r\n",
      "Requirement already satisfied: oauthlib>=0.6.2 in /data/anaconda/envs/py36/lib/python3.6/site-packages (from requests-oauthlib>=0.5.0->msrest>=0.5.1->azureml-core==1.0.21.*->azureml-contrib-notebook>=1.0.21.2) (2.1.0)\r\n"
     ]
    }
   ],
   "source": [
    "!pip install \"azureml-contrib-notebook>=1.0.21.2\""
   ]
  },
  {
   "cell_type": "code",
   "execution_count": 2,
   "metadata": {},
   "outputs": [],
   "source": [
    "#%run ../../scripts/generate_conda_file.py"
   ]
  },
  {
   "cell_type": "markdown",
   "metadata": {},
   "source": [
    "### Set up AzureML workspace\n",
    "Please refer to [configuration.ipynb](https://github.com/Azure/MachineLearningNotebooks/blob/master/configuration.ipynb) to set up Azure account, subscription, workspace and compute target. Below code assumes config.json file is in place."
   ]
  },
  {
   "cell_type": "code",
   "execution_count": 3,
   "metadata": {},
   "outputs": [],
   "source": [
    "import os\n",
    "from azureml.core import Workspace\n",
    "from os import path, makedirs\n",
    "import shutil\n",
    "from azureml.core import Experiment\n",
    "from azureml.core.runconfig import RunConfiguration\n",
    "from azureml.contrib.notebook.notebook_run_config import NotebookRunConfig, PapermillExecutionHandler\n",
    "from azureml.core.runconfig import DEFAULT_CPU_IMAGE\n",
    "from azureml.core.conda_dependencies import CondaDependencies\n",
    "\n",
    "subscription_id = os.getenv(\"SUBSCRIPTION_ID\", default=\"<my-subscription-id>\")\n",
    "resource_group = os.getenv(\"RESOURCE_GROUP\", default=\"<my-resource-group>\")\n",
    "workspace_name = os.getenv(\"WORKSPACE_NAME\", default=\"<my-workspace-name>\")\n",
    "workspace_region = os.getenv(\"WORKSPACE_REGION\", default=\"eastus2\")\n",
    "\n",
    "ws = Workspace(subscription_id = subscription_id, resource_group = resource_group, workspace_name = workspace_name)"
   ]
  },
  {
   "cell_type": "markdown",
   "metadata": {},
   "source": [
    "This example uses run-based AzureML Compute. Alternatively, you can use persistent compute target (cpu or gpu cluster) or remote virtual machines. For more details, see [How to set up training targets](https://docs.microsoft.com/en-us/azure/machine-learning/service/how-to-set-up-training-targets). The VM size (`STANDARD_D2_V2`) used here costs $0.114/hour."
   ]
  },
  {
   "cell_type": "code",
   "execution_count": 8,
   "metadata": {
    "scrolled": true
   },
   "outputs": [
    {
     "ename": "ExperimentExecutionException",
     "evalue": "{\n    \"error_details\": {\n        \"correlation\": {\n            \"operation\": \"fbe475d5444d1b4aa764eedf64239b8a\",\n            \"request\": \"+Jr+XDz73HA=\"\n        },\n        \"error\": {\n            \"code\": \"UserError\",\n            \"debugInfo\": {\n                \"message\": \"Specified base docker image mcr.microsoft.com/azureml/base:0.2.4 not found\",\n                \"stackTrace\": \"   at Microsoft.MachineLearning.EnvironmentManagement.Services.DerivedImageManager.GetSpecification(EnvironmentDefinition environmentDefinition) in /home/vsts/work/1/s/src/azureml-api/src/EnvironmentManagement/Services/DerivedImageManager.cs:line 46\\n   at Microsoft.MachineLearning.EnvironmentManagement.EntryPoints.Api.Controllers.CloudMaterializationController.GetImageDetails(Guid subscriptionId, String resourceGroupName, String workspaceName, String environmentName, Nullable`1 environmentVersion) in /home/vsts/work/1/s/src/azureml-api/src/EnvironmentManagement/EntryPoints/Api/Controllers/CloudMaterializationController.cs:line 135\\n   at Microsoft.MachineLearning.Execution.Services.DynamicStrategy.GetImageDetails(StrategyState state) in /home/vsts/work/1/s/src/azureml-api/src/Execution/Services/DynamicStrategy.cs:line 700\\n   at Microsoft.MachineLearning.Execution.Services.DynamicStrategy.StartRun(StrategyState state, RunDocument runDocument, Stream projectZipStream, RunToken runToken) in /home/vsts/work/1/s/src/azureml-api/src/Execution/Services/DynamicStrategy.cs:line 445\\n   at Microsoft.MachineLearning.Execution.EntryPoints.Api.Controllers.ExecutionController.StartRun(ConfigurationManager configurationManager, Guid subscriptionId, String resourceGroupName, String workspaceName, String experimentName, RunDefinition definition, Stream zipStream, RunId runId) in /home/vsts/work/1/s/src/azureml-api/src/Execution/EntryPoints/Api/Controllers/ExecutionController.cs:line 516\\n   at Microsoft.MachineLearning.Execution.EntryPoints.Api.Controllers.ExecutionController.StartRun(ConfigurationManager configurationManager, Guid subscriptionId, String resourceGroupName, String workspaceName, String experimentName, RunDefinition definition, Stream zipStream, RunId runId) in /home/vsts/work/1/s/src/azureml-api/src/Execution/EntryPoints/Api/Controllers/ExecutionController.cs:line 525\\n   at Microsoft.MachineLearning.Execution.EntryPoints.Api.Controllers.ExecutionController.StartRun(Guid subscriptionId, String resourceGroupName, String workspaceName, String experimentName, ICollection`1 files, RunId runId) in /home/vsts/work/1/s/src/azureml-api/src/Execution/EntryPoints/Api/Controllers/ExecutionController.cs:line 197\\n   at lambda_method(Closure , Object )\\n   at Microsoft.AspNetCore.Mvc.Internal.ControllerActionInvoker.InvokeActionMethodAsync()\\n   at Microsoft.AspNetCore.Mvc.Internal.ControllerActionInvoker.InvokeNextActionFilterAsync()\\n   at Microsoft.AspNetCore.Mvc.Internal.ControllerActionInvoker.Rethrow(ActionExecutedContext context)\\n   at Microsoft.AspNetCore.Mvc.Internal.ControllerActionInvoker.Next(State& next, Scope& scope, Object& state, Boolean& isCompleted)\\n   at Microsoft.AspNetCore.Mvc.Internal.ControllerActionInvoker.InvokeInnerFilterAsync()\\n   at Microsoft.AspNetCore.Mvc.Internal.ResourceInvoker.InvokeNextExceptionFilterAsync()\",\n                \"type\": \"Microsoft.MachineLearning.Common.WebApi.Exceptions.BadRequestException\"\n            },\n            \"message\": \"Specified base docker image mcr.microsoft.com/azureml/base:0.2.4 not found\"\n        },\n        \"location\": \"eastus2\",\n        \"time\": \"2019-03-27T02:09:32.189749+00:00\"\n    },\n    \"status_code\": 400,\n    \"url\": \"https://eastus2.experiments.azureml.net/execution/v1.0/subscriptions/b8c23406-f9b5-4ccb-8a65-a8cb5dcd6a5a/resourceGroups/jingywa-test/providers/Microsoft.MachineLearningServices/workspaces/setup-ws/experiments/sdk-papermill/run?runId=sdk-papermill_1553652568_0247ba30\"\n}",
     "output_type": "error",
     "traceback": [
      "\u001b[0;31m---------------------------------------------------------------------------\u001b[0m",
      "\u001b[0;31mExperimentExecutionException\u001b[0m              Traceback (most recent call last)",
      "\u001b[0;32m<ipython-input-8-31aebc2a8ca9>\u001b[0m in \u001b[0;36m<module>\u001b[0;34m\u001b[0m\n\u001b[1;32m     27\u001b[0m                                 \u001b[0mparameters\u001b[0m\u001b[0;34m=\u001b[0m\u001b[0;34m{\u001b[0m\u001b[0;34m\"MOVIELENS_DATA_SIZE\"\u001b[0m\u001b[0;34m:\u001b[0m \u001b[0;34m\"100k\"\u001b[0m\u001b[0;34m,\u001b[0m \u001b[0;34m\"TOP_K\"\u001b[0m\u001b[0;34m:\u001b[0m \u001b[0;36m10\u001b[0m\u001b[0;34m}\u001b[0m\u001b[0;34m,\u001b[0m\u001b[0;34m\u001b[0m\u001b[0;34m\u001b[0m\u001b[0m\n\u001b[1;32m     28\u001b[0m                                 run_config=run_config_aml)\n\u001b[0;32m---> 29\u001b[0;31m \u001b[0mrun\u001b[0m \u001b[0;34m=\u001b[0m \u001b[0mexp\u001b[0m\u001b[0;34m.\u001b[0m\u001b[0msubmit\u001b[0m\u001b[0;34m(\u001b[0m\u001b[0mcfg\u001b[0m\u001b[0;34m)\u001b[0m\u001b[0;34m\u001b[0m\u001b[0;34m\u001b[0m\u001b[0m\n\u001b[0m\u001b[1;32m     30\u001b[0m \u001b[0mrun\u001b[0m\u001b[0;34m\u001b[0m\u001b[0;34m\u001b[0m\u001b[0m\n",
      "\u001b[0;32m/anaconda/envs/py36/lib/python3.6/site-packages/azureml/core/experiment.py\u001b[0m in \u001b[0;36msubmit\u001b[0;34m(self, config, tags, **kwargs)\u001b[0m\n\u001b[1;32m    146\u001b[0m         \u001b[0msubmit_func\u001b[0m \u001b[0;34m=\u001b[0m \u001b[0mget_experiment_submit\u001b[0m\u001b[0;34m(\u001b[0m\u001b[0mconfig\u001b[0m\u001b[0;34m)\u001b[0m\u001b[0;34m\u001b[0m\u001b[0;34m\u001b[0m\u001b[0m\n\u001b[1;32m    147\u001b[0m         \u001b[0;32mwith\u001b[0m \u001b[0mself\u001b[0m\u001b[0;34m.\u001b[0m\u001b[0m_log_context\u001b[0m\u001b[0;34m(\u001b[0m\u001b[0;34m\"submit config {}\"\u001b[0m\u001b[0;34m.\u001b[0m\u001b[0mformat\u001b[0m\u001b[0;34m(\u001b[0m\u001b[0mconfig\u001b[0m\u001b[0;34m.\u001b[0m\u001b[0m__class__\u001b[0m\u001b[0;34m.\u001b[0m\u001b[0m__name__\u001b[0m\u001b[0;34m)\u001b[0m\u001b[0;34m)\u001b[0m\u001b[0;34m:\u001b[0m\u001b[0;34m\u001b[0m\u001b[0;34m\u001b[0m\u001b[0m\n\u001b[0;32m--> 148\u001b[0;31m             \u001b[0mrun\u001b[0m \u001b[0;34m=\u001b[0m \u001b[0msubmit_func\u001b[0m\u001b[0;34m(\u001b[0m\u001b[0mconfig\u001b[0m\u001b[0;34m,\u001b[0m \u001b[0mself\u001b[0m\u001b[0;34m.\u001b[0m\u001b[0mworkspace\u001b[0m\u001b[0;34m,\u001b[0m \u001b[0mself\u001b[0m\u001b[0;34m.\u001b[0m\u001b[0mname\u001b[0m\u001b[0;34m,\u001b[0m \u001b[0;34m**\u001b[0m\u001b[0mkwargs\u001b[0m\u001b[0;34m)\u001b[0m\u001b[0;34m\u001b[0m\u001b[0;34m\u001b[0m\u001b[0m\n\u001b[0m\u001b[1;32m    149\u001b[0m         \u001b[0;32mif\u001b[0m \u001b[0mtags\u001b[0m \u001b[0;32mis\u001b[0m \u001b[0;32mnot\u001b[0m \u001b[0;32mNone\u001b[0m\u001b[0;34m:\u001b[0m\u001b[0;34m\u001b[0m\u001b[0;34m\u001b[0m\u001b[0m\n\u001b[1;32m    150\u001b[0m             \u001b[0mrun\u001b[0m\u001b[0;34m.\u001b[0m\u001b[0mset_tags\u001b[0m\u001b[0;34m(\u001b[0m\u001b[0mtags\u001b[0m\u001b[0;34m)\u001b[0m\u001b[0;34m\u001b[0m\u001b[0;34m\u001b[0m\u001b[0m\n",
      "\u001b[0;32m/anaconda/envs/py36/lib/python3.6/site-packages/azureml/core/script_run_config.py\u001b[0m in \u001b[0;36msubmit\u001b[0;34m(script_run_config, workspace, experiment_name)\u001b[0m\n\u001b[1;32m     35\u001b[0m \u001b[0;34m\u001b[0m\u001b[0m\n\u001b[1;32m     36\u001b[0m     return _commands.start_run(project, run_config,\n\u001b[0;32m---> 37\u001b[0;31m                                telemetry_values=script_run_config._telemetry_values)\n\u001b[0m\u001b[1;32m     38\u001b[0m \u001b[0;34m\u001b[0m\u001b[0m\n\u001b[1;32m     39\u001b[0m \u001b[0;34m\u001b[0m\u001b[0m\n",
      "\u001b[0;32m/anaconda/envs/py36/lib/python3.6/site-packages/azureml/_execution/_commands.py\u001b[0m in \u001b[0;36mstart_run\u001b[0;34m(project_object, run_config_object, run_id, injected_files, telemetry_values)\u001b[0m\n\u001b[1;32m    113\u001b[0m                                \u001b[0mcustom_target_dict\u001b[0m\u001b[0;34m=\u001b[0m\u001b[0mcustom_target_dict\u001b[0m\u001b[0;34m,\u001b[0m \u001b[0mrun_id\u001b[0m\u001b[0;34m=\u001b[0m\u001b[0mrun_id\u001b[0m\u001b[0;34m,\u001b[0m\u001b[0;34m\u001b[0m\u001b[0;34m\u001b[0m\u001b[0m\n\u001b[1;32m    114\u001b[0m                                \u001b[0minjected_files\u001b[0m\u001b[0;34m=\u001b[0m\u001b[0minjected_files\u001b[0m\u001b[0;34m,\u001b[0m\u001b[0;34m\u001b[0m\u001b[0;34m\u001b[0m\u001b[0m\n\u001b[0;32m--> 115\u001b[0;31m                                telemetry_values=telemetry_values)\n\u001b[0m\u001b[1;32m    116\u001b[0m \u001b[0;34m\u001b[0m\u001b[0m\n\u001b[1;32m    117\u001b[0m \u001b[0;34m\u001b[0m\u001b[0m\n",
      "\u001b[0;32m/anaconda/envs/py36/lib/python3.6/site-packages/azureml/_execution/_commands.py\u001b[0m in \u001b[0;36m_start_internal\u001b[0;34m(project_object, run_config_object, prepare_only, prepare_check, custom_target_dict, run_id, injected_files, telemetry_values)\u001b[0m\n\u001b[1;32m    424\u001b[0m             \u001b[0mresponse\u001b[0m \u001b[0;34m=\u001b[0m \u001b[0mrequests\u001b[0m\u001b[0;34m.\u001b[0m\u001b[0mpost\u001b[0m\u001b[0;34m(\u001b[0m\u001b[0muri\u001b[0m\u001b[0;34m,\u001b[0m \u001b[0mjson\u001b[0m\u001b[0;34m=\u001b[0m\u001b[0mdefinition\u001b[0m\u001b[0;34m,\u001b[0m \u001b[0mheaders\u001b[0m\u001b[0;34m=\u001b[0m\u001b[0mheaders\u001b[0m\u001b[0;34m)\u001b[0m\u001b[0;34m\u001b[0m\u001b[0;34m\u001b[0m\u001b[0m\n\u001b[1;32m    425\u001b[0m \u001b[0;34m\u001b[0m\u001b[0m\n\u001b[0;32m--> 426\u001b[0;31m         \u001b[0m_raise_request_error\u001b[0m\u001b[0;34m(\u001b[0m\u001b[0mresponse\u001b[0m\u001b[0;34m,\u001b[0m \u001b[0;34m\"starting run\"\u001b[0m\u001b[0;34m)\u001b[0m\u001b[0;34m\u001b[0m\u001b[0;34m\u001b[0m\u001b[0m\n\u001b[0m\u001b[1;32m    427\u001b[0m \u001b[0;34m\u001b[0m\u001b[0m\n\u001b[1;32m    428\u001b[0m     \u001b[0;32mfinally\u001b[0m\u001b[0;34m:\u001b[0m\u001b[0;34m\u001b[0m\u001b[0;34m\u001b[0m\u001b[0m\n",
      "\u001b[0;32m/anaconda/envs/py36/lib/python3.6/site-packages/azureml/_execution/_commands.py\u001b[0m in \u001b[0;36m_raise_request_error\u001b[0;34m(response, action)\u001b[0m\n\u001b[1;32m    617\u001b[0m         \u001b[0;31m# response.text is a JSON from execution service.\u001b[0m\u001b[0;34m\u001b[0m\u001b[0;34m\u001b[0m\u001b[0;34m\u001b[0m\u001b[0m\n\u001b[1;32m    618\u001b[0m         \u001b[0mresponse_message\u001b[0m \u001b[0;34m=\u001b[0m \u001b[0mget_http_exception_response_string\u001b[0m\u001b[0;34m(\u001b[0m\u001b[0mresponse\u001b[0m\u001b[0;34m)\u001b[0m\u001b[0;34m\u001b[0m\u001b[0;34m\u001b[0m\u001b[0m\n\u001b[0;32m--> 619\u001b[0;31m         \u001b[0;32mraise\u001b[0m \u001b[0mExperimentExecutionException\u001b[0m\u001b[0;34m(\u001b[0m\u001b[0mresponse_message\u001b[0m\u001b[0;34m)\u001b[0m\u001b[0;34m\u001b[0m\u001b[0;34m\u001b[0m\u001b[0m\n\u001b[0m\u001b[1;32m    620\u001b[0m \u001b[0;34m\u001b[0m\u001b[0m\n\u001b[1;32m    621\u001b[0m \u001b[0;34m\u001b[0m\u001b[0m\n",
      "\u001b[0;31mExperimentExecutionException\u001b[0m: {\n    \"error_details\": {\n        \"correlation\": {\n            \"operation\": \"fbe475d5444d1b4aa764eedf64239b8a\",\n            \"request\": \"+Jr+XDz73HA=\"\n        },\n        \"error\": {\n            \"code\": \"UserError\",\n            \"debugInfo\": {\n                \"message\": \"Specified base docker image mcr.microsoft.com/azureml/base:0.2.4 not found\",\n                \"stackTrace\": \"   at Microsoft.MachineLearning.EnvironmentManagement.Services.DerivedImageManager.GetSpecification(EnvironmentDefinition environmentDefinition) in /home/vsts/work/1/s/src/azureml-api/src/EnvironmentManagement/Services/DerivedImageManager.cs:line 46\\n   at Microsoft.MachineLearning.EnvironmentManagement.EntryPoints.Api.Controllers.CloudMaterializationController.GetImageDetails(Guid subscriptionId, String resourceGroupName, String workspaceName, String environmentName, Nullable`1 environmentVersion) in /home/vsts/work/1/s/src/azureml-api/src/EnvironmentManagement/EntryPoints/Api/Controllers/CloudMaterializationController.cs:line 135\\n   at Microsoft.MachineLearning.Execution.Services.DynamicStrategy.GetImageDetails(StrategyState state) in /home/vsts/work/1/s/src/azureml-api/src/Execution/Services/DynamicStrategy.cs:line 700\\n   at Microsoft.MachineLearning.Execution.Services.DynamicStrategy.StartRun(StrategyState state, RunDocument runDocument, Stream projectZipStream, RunToken runToken) in /home/vsts/work/1/s/src/azureml-api/src/Execution/Services/DynamicStrategy.cs:line 445\\n   at Microsoft.MachineLearning.Execution.EntryPoints.Api.Controllers.ExecutionController.StartRun(ConfigurationManager configurationManager, Guid subscriptionId, String resourceGroupName, String workspaceName, String experimentName, RunDefinition definition, Stream zipStream, RunId runId) in /home/vsts/work/1/s/src/azureml-api/src/Execution/EntryPoints/Api/Controllers/ExecutionController.cs:line 516\\n   at Microsoft.MachineLearning.Execution.EntryPoints.Api.Controllers.ExecutionController.StartRun(ConfigurationManager configurationManager, Guid subscriptionId, String resourceGroupName, String workspaceName, String experimentName, RunDefinition definition, Stream zipStream, RunId runId) in /home/vsts/work/1/s/src/azureml-api/src/Execution/EntryPoints/Api/Controllers/ExecutionController.cs:line 525\\n   at Microsoft.MachineLearning.Execution.EntryPoints.Api.Controllers.ExecutionController.StartRun(Guid subscriptionId, String resourceGroupName, String workspaceName, String experimentName, ICollection`1 files, RunId runId) in /home/vsts/work/1/s/src/azureml-api/src/Execution/EntryPoints/Api/Controllers/ExecutionController.cs:line 197\\n   at lambda_method(Closure , Object )\\n   at Microsoft.AspNetCore.Mvc.Internal.ControllerActionInvoker.InvokeActionMethodAsync()\\n   at Microsoft.AspNetCore.Mvc.Internal.ControllerActionInvoker.InvokeNextActionFilterAsync()\\n   at Microsoft.AspNetCore.Mvc.Internal.ControllerActionInvoker.Rethrow(ActionExecutedContext context)\\n   at Microsoft.AspNetCore.Mvc.Internal.ControllerActionInvoker.Next(State& next, Scope& scope, Object& state, Boolean& isCompleted)\\n   at Microsoft.AspNetCore.Mvc.Internal.ControllerActionInvoker.InvokeInnerFilterAsync()\\n   at Microsoft.AspNetCore.Mvc.Internal.ResourceInvoker.InvokeNextExceptionFilterAsync()\",\n                \"type\": \"Microsoft.MachineLearning.Common.WebApi.Exceptions.BadRequestException\"\n            },\n            \"message\": \"Specified base docker image mcr.microsoft.com/azureml/base:0.2.4 not found\"\n        },\n        \"location\": \"eastus2\",\n        \"time\": \"2019-03-27T02:09:32.189749+00:00\"\n    },\n    \"status_code\": 400,\n    \"url\": \"https://eastus2.experiments.azureml.net/execution/v1.0/subscriptions/b8c23406-f9b5-4ccb-8a65-a8cb5dcd6a5a/resourceGroups/jingywa-test/providers/Microsoft.MachineLearningServices/workspaces/setup-ws/experiments/sdk-papermill/run?runId=sdk-papermill_1553652568_0247ba30\"\n}"
     ]
    }
   ],
   "source": [
    "NOTEBOOK_NAME = 'sar_movielens.ipynb'\n",
    "EXPERIMENT_NAME = 'sdk-papermill'\n",
    "exp_directory = 'test_dir' + EXPERIMENT_NAME\n",
    "# create experiment directory\n",
    "if not path.exists(exp_directory):\n",
    "    makedirs(exp_directory)\n",
    "notebook_path = path.join(exp_directory, NOTEBOOK_NAME)\n",
    "shutil.copy(NOTEBOOK_NAME, notebook_path)\n",
    "        \n",
    "exp = Experiment(workspace=ws, name=EXPERIMENT_NAME)\n",
    "\n",
    "run_config_aml = RunConfiguration()\n",
    "run_config_aml.target = \"amlcompute\" # possible to use different compute targets\n",
    "run_config_aml.amlcompute.vm_size = 'STANDARD_D2_V2'\n",
    "run_config_aml.environment.docker.enabled = True\n",
    "run_config_aml.environment.docker.base_image = DEFAULT_CPU_IMAGE\n",
    "run_config_aml.environment.python.user_managed_dependencies = False\n",
    "run_config_aml.auto_prepare_environment = True\n",
    "run_config_aml.environment.python.conda_dependencies = CondaDependencies(conda_dependencies_file_path='../../myenv2.yaml')\n",
    "#run_config_aml.environment.python.conda_dependencies = CondaDependencies(conda_dependencies_file_path='../../reco_base.yaml')\n",
    "\n",
    "handler = PapermillExecutionHandler(kernel_name='python3')\n",
    "\n",
    "cfg = NotebookRunConfig(source_directory='../../',\n",
    "                                notebook='notebooks/00_quick_start/' + NOTEBOOK_NAME,\n",
    "                                output_notebook='outputs/out.ipynb',\n",
    "                                parameters={\"MOVIELENS_DATA_SIZE\": \"100k\", \"TOP_K\": 10},\n",
    "                                run_config=run_config_aml)\n",
    "run = exp.submit(cfg)\n",
    "run"
   ]
  },
  {
   "cell_type": "markdown",
   "metadata": {},
   "source": [
    "You should see simialar output as below\n",
    "![Experiment submit output](https://docs.microsoft.com/en-us/azure/machine-learning/service/media/quickstart-get-started/view_exp.png)\n",
    "Azure Portal looks like this\n",
    "![Azure Portal Experiment](https://docs.microsoft.com/en-us/azure/machine-learning/service/media/quickstart-get-started/web-results.png)"
   ]
  },
  {
   "cell_type": "code",
   "execution_count": null,
   "metadata": {},
   "outputs": [],
   "source": [
    "run.wait_for_completion(show_output=True)"
   ]
  },
  {
   "cell_type": "code",
   "execution_count": null,
   "metadata": {},
   "outputs": [],
   "source": []
  }
 ],
 "metadata": {
  "kernelspec": {
   "display_name": "Python 3.6 - AzureML",
   "language": "python",
   "name": "python3-azureml"
  },
  "language_info": {
   "codemirror_mode": {
    "name": "ipython",
    "version": 3
   },
   "file_extension": ".py",
   "mimetype": "text/x-python",
   "name": "python",
   "nbconvert_exporter": "python",
   "pygments_lexer": "ipython3",
   "version": "3.6.7"
  }
 },
 "nbformat": 4,
 "nbformat_minor": 2
}
