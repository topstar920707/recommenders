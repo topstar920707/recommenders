{
 "cells": [
  {
   "cell_type": "markdown",
   "metadata": {},
   "source": [
    "<i>Copyright (c) Microsoft Corporation. All rights reserved.</i>\n",
    "\n",
    "<i>Licensed under the MIT License.</i>"
   ]
  },
  {
   "cell_type": "markdown",
   "metadata": {},
   "source": [
    "<i>Copyright (c) Microsoft Corporation. All rights reserved.</i>\n",
    "\n",
    "<i>Licensed under the MIT License.</i>"
   ]
  },
  {
   "cell_type": "markdown",
   "metadata": {},
   "source": [
    "# LightGBM: A Highly Efficient Gradient Boosting Decision Tree\n",
    "This notebook will give you a quick example of how to train LightGBM model in recommendation scenario. \n",
    "LightGBM \\[1\\] is a gradient boosting framework that uses tree-based learning algorithms. It is designed to be distributed and efficient with the following advantages:\n",
    "* Faster training speed and higher efficiency.\n",
    "* Lower memory usage.\n",
    "* Better accuracy.\n",
    "* Support of parallel and GPU learning.\n",
    "* Capable of handling large-scale data."
   ]
  },
  {
   "cell_type": "markdown",
   "metadata": {},
   "source": [
    "## Global Settings and Imports"
   ]
  },
  {
   "cell_type": "code",
   "execution_count": 1,
   "metadata": {},
   "outputs": [
    {
     "name": "stdout",
     "output_type": "stream",
     "text": [
      "System version: 3.6.8 |Anaconda, Inc.| (default, Dec 30 2018, 01:22:34) \n",
      "[GCC 7.3.0]\n",
      "LightGBM version: 2.2.1\n"
     ]
    }
   ],
   "source": [
    "import sys, os\n",
    "sys.path.append(\"../../\")\n",
    "import lightgbm as lgb\n",
    "import pandas as pd\n",
    "import category_encoders as ce\n",
    "import reco_utils.recommender.lightgbm.lightgbm_utils as lgb_utils\n",
    "\n",
    "print(\"System version: {}\".format(sys.version))\n",
    "print(\"LightGBM version: {}\".format(lgb.__version__))"
   ]
  },
  {
   "cell_type": "markdown",
   "metadata": {},
   "source": [
    "### Parameter Setting\n",
    "After data preparation, let's set the main related parameters for LightGBM now. Basically, the task is a binary classification, so the objective function is set to binary logloss, and 'AUC' metric is used as usual.\n",
    "\n",
    "Generally, we can adjust the number of leaves (MAX_LEAF), the minimum number of data in each leaf (MIN_DATA), maximum number of trees (NUM_OF_TREES), the learning rate of trees (TREE_LEARINING_RATE) and EARLY_STOPPING_ROUNDS (to avoid overfitting) in the model to get better performance.\n",
    "\n",
    "Besides, we can also adjust some other listed parameters in the following to optimize the results, which are shown in [5] concretely."
   ]
  },
  {
   "cell_type": "code",
   "execution_count": 2,
   "metadata": {
    "tags": [
     "parameters"
    ]
   },
   "outputs": [],
   "source": [
    "MAX_LEAF = 128\n",
    "MIN_DATA = 40\n",
    "NUM_OF_TREES = 200\n",
    "TREE_LEARNING_RATE = 0.15\n",
    "EARLY_STOPPING_ROUNDS = 20\n",
    "METRIC = \"auc\"\n",
    "\n",
    "params = {\n",
    "    'task': 'train',\n",
    "    'boosting_type': 'gbdt',\n",
    "    'num_class': 1,\n",
    "    'objective': \"binary\",\n",
    "    'metric': METRIC,\n",
    "    'num_leaves': MAX_LEAF,\n",
    "    'min_data': MIN_DATA,\n",
    "    'boost_from_average': True,\n",
    "    #set it according to your cpu cores.\n",
    "    'num_threads': 20,\n",
    "    'feature_fraction': 0.8,\n",
    "    'learning_rate': TREE_LEARNING_RATE,\n",
    "}"
   ]
  },
  {
   "cell_type": "markdown",
   "metadata": {},
   "source": [
    "## Data Preparation\n",
    "Here we use CSV format as the example data input. Our example data is a sample (about 1 million samples) from Criteo dataset [2]. The Criteo dataset is a well-known industry benchmarking dataset for developing CTR prediction models, and it's frequently adopted as evaluation dataset by research papers. The original dataset is too large for a lightweight demo, so we sample a small portion from it as a demo dataset. <br>\n",
    "Specifically, there are 39 columns of features in Criteo, where 13 columns are numerical features (I1-I13) and the other 26 columns are categorical features (C1-C26)."
   ]
  },
  {
   "cell_type": "markdown",
   "metadata": {},
   "source": [
    "First, we prepared three files (train_file (first 80%), valid_file (middle 10%) and test_file (last 10%)) in the data root directory , cut from the original data. <br>\n",
    "Notably, considering the Criteo is a kind of time-series streaming data, which is also very common in recommendation scenario, we split the data by its order."
   ]
  },
  {
   "cell_type": "code",
   "execution_count": 3,
   "metadata": {},
   "outputs": [
    {
     "data": {
      "text/html": [
       "<div>\n",
       "<style scoped>\n",
       "    .dataframe tbody tr th:only-of-type {\n",
       "        vertical-align: middle;\n",
       "    }\n",
       "\n",
       "    .dataframe tbody tr th {\n",
       "        vertical-align: top;\n",
       "    }\n",
       "\n",
       "    .dataframe thead th {\n",
       "        text-align: right;\n",
       "    }\n",
       "</style>\n",
       "<table border=\"1\" class=\"dataframe\">\n",
       "  <thead>\n",
       "    <tr style=\"text-align: right;\">\n",
       "      <th></th>\n",
       "      <th>Id</th>\n",
       "      <th>Label</th>\n",
       "      <th>I1</th>\n",
       "      <th>I2</th>\n",
       "      <th>I3</th>\n",
       "      <th>I4</th>\n",
       "      <th>I5</th>\n",
       "      <th>I6</th>\n",
       "      <th>I7</th>\n",
       "      <th>I8</th>\n",
       "      <th>...</th>\n",
       "      <th>C17</th>\n",
       "      <th>C18</th>\n",
       "      <th>C19</th>\n",
       "      <th>C20</th>\n",
       "      <th>C21</th>\n",
       "      <th>C22</th>\n",
       "      <th>C23</th>\n",
       "      <th>C24</th>\n",
       "      <th>C25</th>\n",
       "      <th>C26</th>\n",
       "    </tr>\n",
       "  </thead>\n",
       "  <tbody>\n",
       "    <tr>\n",
       "      <th>0</th>\n",
       "      <td>10900000</td>\n",
       "      <td>1</td>\n",
       "      <td>4.0</td>\n",
       "      <td>0</td>\n",
       "      <td>11.0</td>\n",
       "      <td>11.0</td>\n",
       "      <td>64.0</td>\n",
       "      <td>24.0</td>\n",
       "      <td>9.0</td>\n",
       "      <td>46.0</td>\n",
       "      <td>...</td>\n",
       "      <td>27c07bd6</td>\n",
       "      <td>4bcc9449</td>\n",
       "      <td>21ddcdc9</td>\n",
       "      <td>b1252a9d</td>\n",
       "      <td>87508095</td>\n",
       "      <td>NaN</td>\n",
       "      <td>c7dc6720</td>\n",
       "      <td>4f0948e6</td>\n",
       "      <td>e8b83407</td>\n",
       "      <td>61f8e249</td>\n",
       "    </tr>\n",
       "    <tr>\n",
       "      <th>1</th>\n",
       "      <td>10900001</td>\n",
       "      <td>0</td>\n",
       "      <td>0.0</td>\n",
       "      <td>474</td>\n",
       "      <td>18.0</td>\n",
       "      <td>18.0</td>\n",
       "      <td>2381.0</td>\n",
       "      <td>25.0</td>\n",
       "      <td>49.0</td>\n",
       "      <td>25.0</td>\n",
       "      <td>...</td>\n",
       "      <td>3486227d</td>\n",
       "      <td>99d2d39e</td>\n",
       "      <td>NaN</td>\n",
       "      <td>NaN</td>\n",
       "      <td>7212cd0a</td>\n",
       "      <td>NaN</td>\n",
       "      <td>423fab69</td>\n",
       "      <td>a98f5ada</td>\n",
       "      <td>NaN</td>\n",
       "      <td>NaN</td>\n",
       "    </tr>\n",
       "    <tr>\n",
       "      <th>2</th>\n",
       "      <td>10900002</td>\n",
       "      <td>0</td>\n",
       "      <td>NaN</td>\n",
       "      <td>-1</td>\n",
       "      <td>4.0</td>\n",
       "      <td>2.0</td>\n",
       "      <td>155268.0</td>\n",
       "      <td>NaN</td>\n",
       "      <td>0.0</td>\n",
       "      <td>3.0</td>\n",
       "      <td>...</td>\n",
       "      <td>1e88c74f</td>\n",
       "      <td>157482f0</td>\n",
       "      <td>21ddcdc9</td>\n",
       "      <td>b1252a9d</td>\n",
       "      <td>e2e82c3c</td>\n",
       "      <td>ad3062eb</td>\n",
       "      <td>3a171ecb</td>\n",
       "      <td>32ebc486</td>\n",
       "      <td>001f3601</td>\n",
       "      <td>e539c901</td>\n",
       "    </tr>\n",
       "    <tr>\n",
       "      <th>3</th>\n",
       "      <td>10900003</td>\n",
       "      <td>0</td>\n",
       "      <td>NaN</td>\n",
       "      <td>2</td>\n",
       "      <td>20.0</td>\n",
       "      <td>14.0</td>\n",
       "      <td>5175.0</td>\n",
       "      <td>57.0</td>\n",
       "      <td>4.0</td>\n",
       "      <td>27.0</td>\n",
       "      <td>...</td>\n",
       "      <td>07c540c4</td>\n",
       "      <td>395856b0</td>\n",
       "      <td>21ddcdc9</td>\n",
       "      <td>a458ea53</td>\n",
       "      <td>8e4884c0</td>\n",
       "      <td>NaN</td>\n",
       "      <td>32c7478e</td>\n",
       "      <td>b936bfbe</td>\n",
       "      <td>001f3601</td>\n",
       "      <td>3464ae5c</td>\n",
       "    </tr>\n",
       "    <tr>\n",
       "      <th>4</th>\n",
       "      <td>10900004</td>\n",
       "      <td>0</td>\n",
       "      <td>1.0</td>\n",
       "      <td>87</td>\n",
       "      <td>105.0</td>\n",
       "      <td>5.0</td>\n",
       "      <td>8.0</td>\n",
       "      <td>5.0</td>\n",
       "      <td>7.0</td>\n",
       "      <td>6.0</td>\n",
       "      <td>...</td>\n",
       "      <td>8efede7f</td>\n",
       "      <td>775e80fe</td>\n",
       "      <td>21ddcdc9</td>\n",
       "      <td>a458ea53</td>\n",
       "      <td>3ee29a07</td>\n",
       "      <td>NaN</td>\n",
       "      <td>423fab69</td>\n",
       "      <td>c83e0347</td>\n",
       "      <td>ea9a246c</td>\n",
       "      <td>2fede552</td>\n",
       "    </tr>\n",
       "  </tbody>\n",
       "</table>\n",
       "<p>5 rows × 41 columns</p>\n",
       "</div>"
      ],
      "text/plain": [
       "         Id  Label   I1   I2     I3    I4        I5    I6    I7    I8  ...  \\\n",
       "0  10900000      1  4.0    0   11.0  11.0      64.0  24.0   9.0  46.0  ...   \n",
       "1  10900001      0  0.0  474   18.0  18.0    2381.0  25.0  49.0  25.0  ...   \n",
       "2  10900002      0  NaN   -1    4.0   2.0  155268.0   NaN   0.0   3.0  ...   \n",
       "3  10900003      0  NaN    2   20.0  14.0    5175.0  57.0   4.0  27.0  ...   \n",
       "4  10900004      0  1.0   87  105.0   5.0       8.0   5.0   7.0   6.0  ...   \n",
       "\n",
       "        C17       C18       C19       C20       C21       C22       C23  \\\n",
       "0  27c07bd6  4bcc9449  21ddcdc9  b1252a9d  87508095       NaN  c7dc6720   \n",
       "1  3486227d  99d2d39e       NaN       NaN  7212cd0a       NaN  423fab69   \n",
       "2  1e88c74f  157482f0  21ddcdc9  b1252a9d  e2e82c3c  ad3062eb  3a171ecb   \n",
       "3  07c540c4  395856b0  21ddcdc9  a458ea53  8e4884c0       NaN  32c7478e   \n",
       "4  8efede7f  775e80fe  21ddcdc9  a458ea53  3ee29a07       NaN  423fab69   \n",
       "\n",
       "        C24       C25       C26  \n",
       "0  4f0948e6  e8b83407  61f8e249  \n",
       "1  a98f5ada       NaN       NaN  \n",
       "2  32ebc486  001f3601  e539c901  \n",
       "3  b936bfbe  001f3601  3464ae5c  \n",
       "4  c83e0347  ea9a246c  2fede552  \n",
       "\n",
       "[5 rows x 41 columns]"
      ]
     },
     "metadata": {},
     "output_type": "display_data"
    }
   ],
   "source": [
    "data_path = '../../tests/resources/lightgbm'\n",
    "train_file = os.path.join(data_path, r'tiny_criteo0.csv')\n",
    "valid_file = os.path.join(data_path, r'tiny_criteo1.csv')\n",
    "test_file = os.path.join(data_path, r'tiny_criteo2.csv')\n",
    "output_file = os.path.join(data_path, r'output.txt')\n",
    "\n",
    "if not os.path.exists(train_file):\n",
    "    # to do: upload our test resources.\n",
    "    download_lgb_resources(r'https://recodatasets.blob.core.windows.net/lightgbm/', data_path, 'resources.zip')\n",
    "\n",
    "test_data = pd.read_csv(test_file)\n",
    "display(test_data.head())\n",
    "del test_data"
   ]
  },
  {
   "cell_type": "markdown",
   "metadata": {},
   "source": [
    "## Basic Usage\n",
    "### Ordinal Encoding\n",
    "Considering LightGBM could handle the low-frequency features and missing value by itself, for basic usage, we only encode the string-like categorical features by an ordinal encoder."
   ]
  },
  {
   "cell_type": "code",
   "execution_count": 4,
   "metadata": {
    "scrolled": true
   },
   "outputs": [
    {
     "name": "stdout",
     "output_type": "stream",
     "text": [
      "Processing ../../tests/resources/lightgbm/tiny_criteo0.csv .\n",
      "Processing ../../tests/resources/lightgbm/tiny_criteo1.csv .\n",
      "Processing ../../tests/resources/lightgbm/tiny_criteo2.csv .\n",
      "Train Data Shape: X: (800000, 39); Y: (800000,).\n",
      "Valid Data Shape: X: (100000, 39); Y: (100000,).\n",
      "Test Data Shape: X: (100000, 39); Y: (100000,).\n",
      "\n"
     ]
    }
   ],
   "source": [
    "cate_cols = ['C'+str(i) for i in range(1, 27)]\n",
    "label_col = 'Label'\n",
    "ord_encoder = ce.ordinal.OrdinalEncoder(cols=cate_cols)\n",
    "\n",
    "def encode_csv(file_path, encoder, label_col, typ='fit', del_col='Id'):\n",
    "    print('Processing %s .'% file_path)\n",
    "    df = pd.read_csv(file_path)\n",
    "    if typ == 'fit':\n",
    "        df = encoder.fit_transform(df)\n",
    "    else:\n",
    "        df = encoder.transform(df)\n",
    "    y = df[label_col].values\n",
    "    del df[label_col]\n",
    "    del df[del_col]\n",
    "    return df, y\n",
    "\n",
    "train_x, train_y = encode_csv(train_file, ord_encoder, label_col)\n",
    "valid_x, valid_y = encode_csv(valid_file, ord_encoder, label_col, 'transform')\n",
    "test_x, test_y = encode_csv(test_file, ord_encoder, label_col, 'transform')\n",
    "\n",
    "print('Train Data Shape: X: {trn_x_shape}; Y: {trn_y_shape}.\\nValid Data Shape: X: {vld_x_shape}; Y: {vld_y_shape}.\\nTest Data Shape: X: {tst_x_shape}; Y: {tst_y_shape}.\\n'\n",
    "      .format(trn_x_shape=train_x.shape,\n",
    "              trn_y_shape=train_y.shape,\n",
    "              vld_x_shape=valid_x.shape,\n",
    "              vld_y_shape=valid_y.shape,\n",
    "              tst_x_shape=test_x.shape,\n",
    "              tst_y_shape=test_y.shape,))"
   ]
  },
  {
   "cell_type": "markdown",
   "metadata": {},
   "source": [
    "### Create model\n",
    "When both hyper-parameters and data are ready, we can create a model:"
   ]
  },
  {
   "cell_type": "code",
   "execution_count": 5,
   "metadata": {},
   "outputs": [
    {
     "name": "stdout",
     "output_type": "stream",
     "text": [
      "Training until validation scores don't improve for 20 rounds.\n",
      "[5]\tvalid_0's auc: 0.754661\n",
      "[10]\tvalid_0's auc: 0.764253\n",
      "[15]\tvalid_0's auc: 0.770664\n",
      "[20]\tvalid_0's auc: 0.774737\n",
      "[25]\tvalid_0's auc: 0.779145\n",
      "[30]\tvalid_0's auc: 0.780233\n",
      "[35]\tvalid_0's auc: 0.781785\n",
      "[40]\tvalid_0's auc: 0.782593\n",
      "[45]\tvalid_0's auc: 0.782758\n",
      "[50]\tvalid_0's auc: 0.782698\n",
      "[55]\tvalid_0's auc: 0.782987\n",
      "[60]\tvalid_0's auc: 0.782658\n",
      "[65]\tvalid_0's auc: 0.782224\n",
      "[70]\tvalid_0's auc: 0.781702\n",
      "Early stopping, best iteration is:\n",
      "[51]\tvalid_0's auc: 0.783064\n"
     ]
    }
   ],
   "source": [
    "lgb_train = lgb.Dataset(train_x, train_y.reshape(-1), params=params, categorical_feature=cate_cols)\n",
    "lgb_eval = lgb.Dataset(valid_x, valid_y.reshape(-1), reference=lgb_train, categorical_feature=cate_cols)\n",
    "lgb_model = lgb.train(params,\n",
    "                      lgb_train,\n",
    "                      num_boost_round=NUM_OF_TREES,\n",
    "                      verbose_eval=5,\n",
    "                      early_stopping_rounds=EARLY_STOPPING_ROUNDS,\n",
    "                      valid_sets=lgb_eval,\n",
    "                      categorical_feature=cate_cols)"
   ]
  },
  {
   "cell_type": "markdown",
   "metadata": {},
   "source": [
    "Now let's see what is the model's performance:"
   ]
  },
  {
   "cell_type": "code",
   "execution_count": 6,
   "metadata": {},
   "outputs": [
    {
     "name": "stdout",
     "output_type": "stream",
     "text": [
      "{'auc': 0.7818, 'logloss': 0.4617}\n"
     ]
    }
   ],
   "source": [
    "test_preds = lgb_model.predict(test_x)\n",
    "print(lgb_utils.cal_metric(test_y.reshape(-1), test_preds, ['auc','logloss']))"
   ]
  },
  {
   "cell_type": "markdown",
   "metadata": {},
   "source": [
    "<script type=\"text/javascript\" src=\"http://cdn.mathjax.org/mathjax/latest/MathJax.js?config=default\"></script>\n",
    "## Optimized Usage\n",
    "### Label-encoding and Binary-encoding\n",
    "Next, since LightGBM has a better capability in handling dense numerical features effectively, we try to convert all the categorical features in original data into numerical ones, by label-encoding [3] and binary-encoding [4]. Also due to the sequence property of Criteo, the label-encoding we adopted is executed one-by-one, which means we encode the samples in order, by the information of the previous samples before each sample (sequential label-encoding and sequential binary-encoding). Besides, we also filter the low-frequency categorical features and fill the missing values by the mean of corresponding columns for the numerical features. (consulting `lgb_utils.NumEncoder`)\n",
    "\n",
    "Specifically, in `lgb_utils.NumEncoder`, the main steps are as follows.\n",
    "* Firstly, we convert the low-frequency categorical features to \"LESS\" and the missing categorical features to \"UNK\". \n",
    "* Secondly, we convert the missing numerical features into the mean of corresponding columns. \n",
    "* Thirdly, the string-like categorical features are ordinal encoded like the examples in basic usage. \n",
    "* And then, we target encode the categorical features in the samples order one-by-one. For each sample, we add the label and count information of its former samples into the data and produce new features. Formally, we add $\\frac{\\sum\\nolimits_{j=1}^n I(x_j=c) \\cdot y}{\\sum\\nolimits_{j=1}^n I(x_j=c)}$ as a new label feature, where $c$ is a category to encode in current sample, $n$ is the number of former samples, and $I(\\cdot)$ is the indicator function that check the former samples contain $c$ (whether $x_j=c$) or not. At the meantime, we also add $\\frac{\\sum\\nolimits_{j=1}^n I(x_j=c)}{n}$ as the count frequency of $c$ as a new count feature. \n",
    "* Finally, based on the ordinal encoding, we add the features produced by binary encoding into the data.\n",
    "\n",
    "Note that the statistics used in the above process only updates when fitting the training set, while maintaining static when transforming the testing set because the label of test data should be considered as unknown."
   ]
  },
  {
   "cell_type": "code",
   "execution_count": 7,
   "metadata": {},
   "outputs": [
    {
     "name": "stdout",
     "output_type": "stream",
     "text": [
      "----------------------------------------------------------------------\n",
      "Fitting and Transforming ../../tests/resources/lightgbm/tiny_criteo0.csv .\n",
      "----------------------------------------------------------------------\n"
     ]
    },
    {
     "name": "stderr",
     "output_type": "stream",
     "text": [
      "2019-03-03 04:30:37,690 [INFO] Filtering and fillna features\n",
      "100%|██████████| 26/26 [00:10<00:00,  2.69it/s]\n",
      "100%|██████████| 13/13 [00:00<00:00, 99.63it/s]\n",
      "2019-03-03 04:30:48,445 [INFO] Ordinal encoding cate features\n",
      "2019-03-03 04:31:03,039 [INFO] Target encoding cate features\n",
      "100%|██████████| 26/26 [00:41<00:00,  1.57s/it]\n",
      "2019-03-03 04:31:44,411 [INFO] Start manual binary encoding\n",
      "100%|██████████| 65/65 [00:12<00:00,  3.90it/s]\n",
      "100%|██████████| 26/26 [00:18<00:00,  1.16it/s]\n"
     ]
    },
    {
     "name": "stdout",
     "output_type": "stream",
     "text": [
      "----------------------------------------------------------------------\n",
      "Transforming ../../tests/resources/lightgbm/tiny_criteo1.csv .\n",
      "----------------------------------------------------------------------\n"
     ]
    },
    {
     "name": "stderr",
     "output_type": "stream",
     "text": [
      "2019-03-03 04:32:16,050 [INFO] Filtering and fillna features\n",
      "100%|██████████| 26/26 [00:01<00:00, 24.38it/s]\n",
      "100%|██████████| 13/13 [00:00<00:00, 1021.77it/s]\n",
      "2019-03-03 04:32:17,133 [INFO] Ordinal encoding cate features\n",
      "2019-03-03 04:32:18,804 [INFO] Target encoding cate features\n",
      "100%|██████████| 26/26 [00:04<00:00,  5.78it/s]\n",
      "2019-03-03 04:32:23,349 [INFO] Start manual binary encoding\n",
      "100%|██████████| 65/65 [00:05<00:00, 12.91it/s]\n",
      "100%|██████████| 26/26 [00:03<00:00,  6.86it/s]\n"
     ]
    },
    {
     "name": "stdout",
     "output_type": "stream",
     "text": [
      "----------------------------------------------------------------------\n",
      "Transforming ../../tests/resources/lightgbm/tiny_criteo2.csv .\n",
      "----------------------------------------------------------------------\n"
     ]
    },
    {
     "name": "stderr",
     "output_type": "stream",
     "text": [
      "2019-03-03 04:32:32,276 [INFO] Filtering and fillna features\n",
      "100%|██████████| 26/26 [00:01<00:00, 24.41it/s]\n",
      "100%|██████████| 13/13 [00:00<00:00, 1136.24it/s]\n",
      "2019-03-03 04:32:33,357 [INFO] Ordinal encoding cate features\n",
      "2019-03-03 04:32:35,018 [INFO] Target encoding cate features\n",
      "100%|██████████| 26/26 [00:04<00:00,  5.79it/s]\n",
      "2019-03-03 04:32:39,535 [INFO] Start manual binary encoding\n",
      "100%|██████████| 65/65 [00:05<00:00, 11.99it/s]\n",
      "100%|██████████| 26/26 [00:03<00:00,  6.76it/s]\n"
     ]
    },
    {
     "name": "stdout",
     "output_type": "stream",
     "text": [
      "Train Data Shape: X: (800000, 303); Y: (800000, 1).\n",
      "Valid Data Shape: X: (100000, 303); Y: (100000, 1).\n",
      "Test Data Shape: X: (100000, 303); Y: (100000, 1).\n",
      "\n"
     ]
    }
   ],
   "source": [
    "cate_cols = ['C'+str(i) for i in range(1, 27)]\n",
    "nume_cols = ['I'+str(i) for i in range(1, 14)]\n",
    "label_col = 'Label'\n",
    "num_encoder = lgb_utils.NumEncoder(cate_cols, nume_cols, label_col)\n",
    "train_x, train_y = num_encoder.fit_transform(train_file)\n",
    "valid_x, valid_y = num_encoder.transform(valid_file)\n",
    "test_x, test_y = num_encoder.transform(test_file)\n",
    "del num_encoder\n",
    "print('Train Data Shape: X: {trn_x_shape}; Y: {trn_y_shape}.\\nValid Data Shape: X: {vld_x_shape}; Y: {vld_y_shape}.\\nTest Data Shape: X: {tst_x_shape}; Y: {tst_y_shape}.\\n'\n",
    "      .format(trn_x_shape=train_x.shape,\n",
    "              trn_y_shape=train_y.shape,\n",
    "              vld_x_shape=valid_x.shape,\n",
    "              vld_y_shape=valid_y.shape,\n",
    "              tst_x_shape=test_x.shape,\n",
    "              tst_y_shape=test_y.shape,))"
   ]
  },
  {
   "cell_type": "markdown",
   "metadata": {},
   "source": [
    "### Training and Evaluation"
   ]
  },
  {
   "cell_type": "code",
   "execution_count": 8,
   "metadata": {},
   "outputs": [
    {
     "name": "stdout",
     "output_type": "stream",
     "text": [
      "Training until validation scores don't improve for 20 rounds.\n",
      "[5]\tvalid_0's auc: 0.762367\n",
      "[10]\tvalid_0's auc: 0.767671\n",
      "[15]\tvalid_0's auc: 0.771752\n",
      "[20]\tvalid_0's auc: 0.774614\n",
      "[25]\tvalid_0's auc: 0.776838\n",
      "[30]\tvalid_0's auc: 0.778434\n",
      "[35]\tvalid_0's auc: 0.77965\n",
      "[40]\tvalid_0's auc: 0.78061\n",
      "[45]\tvalid_0's auc: 0.781365\n",
      "[50]\tvalid_0's auc: 0.782039\n",
      "[55]\tvalid_0's auc: 0.782629\n",
      "[60]\tvalid_0's auc: 0.783151\n",
      "[65]\tvalid_0's auc: 0.783466\n",
      "[70]\tvalid_0's auc: 0.783844\n",
      "[75]\tvalid_0's auc: 0.784013\n",
      "[80]\tvalid_0's auc: 0.784107\n",
      "[85]\tvalid_0's auc: 0.784072\n",
      "[90]\tvalid_0's auc: 0.784185\n",
      "[95]\tvalid_0's auc: 0.784349\n",
      "[100]\tvalid_0's auc: 0.784566\n",
      "[105]\tvalid_0's auc: 0.784541\n",
      "[110]\tvalid_0's auc: 0.784509\n",
      "[115]\tvalid_0's auc: 0.784456\n",
      "Early stopping, best iteration is:\n",
      "[97]\tvalid_0's auc: 0.784606\n"
     ]
    }
   ],
   "source": [
    "lgb_train = lgb.Dataset(train_x, train_y.reshape(-1), params=params)\n",
    "lgb_eval = lgb.Dataset(valid_x, valid_y.reshape(-1), reference=lgb_train)\n",
    "lgb_model = lgb.train(params,\n",
    "                      lgb_train,\n",
    "                      num_boost_round=NUM_OF_TREES,\n",
    "                      verbose_eval = 5,\n",
    "                      early_stopping_rounds=EARLY_STOPPING_ROUNDS,\n",
    "                      valid_sets=lgb_eval)"
   ]
  },
  {
   "cell_type": "code",
   "execution_count": 9,
   "metadata": {},
   "outputs": [
    {
     "name": "stdout",
     "output_type": "stream",
     "text": [
      "{'auc': 0.7827, 'logloss': 0.4601}\n"
     ]
    }
   ],
   "source": [
    "test_preds = lgb_model.predict(test_x)\n",
    "print(lgb_utils.cal_metric(test_y.reshape(-1), test_preds, ['auc','logloss']))"
   ]
  },
  {
   "cell_type": "markdown",
   "metadata": {},
   "source": [
    "## Model saving and loading\n",
    "Now we finish the basic training and testing for LightGBM, next let's try to save and reload the model, and then evaluate it again."
   ]
  },
  {
   "cell_type": "code",
   "execution_count": 10,
   "metadata": {},
   "outputs": [
    {
     "name": "stdout",
     "output_type": "stream",
     "text": [
      "{'auc': 0.7827, 'logloss': 0.4601}\n"
     ]
    }
   ],
   "source": [
    "save_file = os.path.join(data_path, r'finished.model')\n",
    "lgb_model.save_model(save_file)\n",
    "loaded_model = lgb.Booster(model_file=save_file)\n",
    "\n",
    "# eval the performance again\n",
    "test_preds = loaded_model.predict(test_x)\n",
    "print(lgb_utils.cal_metric(test_y.reshape(-1), test_preds, ['auc','logloss']))"
   ]
  },
  {
   "cell_type": "markdown",
   "metadata": {},
   "source": [
    "## Reference\n",
    "\\[1\\] Guolin Ke, Qi Meng, Thomas Finley, Taifeng Wang, Wei Chen, Weidong Ma, Qiwei Ye, and Tie-Yan Liu. 2017. LightGBM: A highly efficient gradient boosting decision tree. In Advances in Neural Information Processing Systems. 3146–3154.<br>\n",
    "\\[2\\] The Criteo datasets: http://labs.criteo.com/2014/02/kaggle-display-advertising-challenge-dataset/ .<br>\n",
    "\\[3\\] Anna Veronika Dorogush, Vasily Ershov, and Andrey Gulin. 2018. CatBoost: gradient boosting with categorical features support. arXiv preprint arXiv:1810.11363 (2018).<br>\n",
    "\\[4\\] Scikit-learn. 2018. categorical_encoding. https://github.com/scikit-learn-contrib/categorical-encoding .<br>\n",
    "\\[5\\] The parameters of LightGBM: https://github.com/Microsoft/LightGBM/blob/master/docs/Parameters.rst ."
   ]
  }
 ],
 "metadata": {
  "celltoolbar": "Tags",
  "kernelspec": {
   "display_name": "Python (reco)",
   "language": "python",
   "name": "reco_base"
  },
  "language_info": {
   "codemirror_mode": {
    "name": "ipython",
    "version": 3
   },
   "file_extension": ".py",
   "mimetype": "text/x-python",
   "name": "python",
   "nbconvert_exporter": "python",
   "pygments_lexer": "ipython3",
   "version": "3.6.8"
  }
 },
 "nbformat": 4,
 "nbformat_minor": 2
}
