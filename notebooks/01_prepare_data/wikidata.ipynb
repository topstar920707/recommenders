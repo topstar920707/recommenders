{
 "cells": [
  {
   "cell_type": "code",
   "execution_count": null,
   "metadata": {},
   "outputs": [],
   "source": [
    "# set the environment path to find Recommenders\n",
    "import sys\n",
    "sys.path.append(\"../../\")\n",
    "\n",
    "import pandas as pd\n",
    "from reco_utils.dataset.wikidata import (\n",
    "    find_wikidataID,\n",
    "    query_entity_links,\n",
    "    read_linked_entities,\n",
    "    query_entity_description\n",
    ")"
   ]
  },
  {
   "cell_type": "markdown",
   "metadata": {},
   "source": [
    "## 1. Create a KG from linked entities in Wikidata from a list"
   ]
  },
  {
   "cell_type": "code",
   "execution_count": null,
   "metadata": {},
   "outputs": [],
   "source": [
    "name = [\"The Godfather\", \"Al Pacino\", \"Tom Hanks\", \"Forrest Gump\", \"Julia Roberts\", \"fake movie\", \"My Best Friend's Wedding\"]\n",
    "result_linked = pd.DataFrame()\n",
    "\n",
    "for n in name:\n",
    "    entity_id = find_wikidataID(n)\n",
    "    if entity_id != \"entityNotFound\":\n",
    "        json_links = query_entity_links(entity_id)\n",
    "        (related_entities,related_names) = read_linked_entities(json_links)\n",
    "        d = pd.DataFrame({\"original_entity\":[entity_id]* len(related_entities),\n",
    "                          \"linked_entities\":related_entities,\n",
    "                          \"name_linked_entities\":related_names})\n",
    "        result_linked = pd.concat([result_linked, d])"
   ]
  },
  {
   "cell_type": "code",
   "execution_count": null,
   "metadata": {},
   "outputs": [],
   "source": [
    "result_linked[1:10]"
   ]
  },
  {
   "cell_type": "markdown",
   "metadata": {},
   "source": [
    "### Visualize KG using networkx"
   ]
  },
  {
   "cell_type": "code",
   "execution_count": null,
   "metadata": {},
   "outputs": [],
   "source": [
    "import networkx as nx\n",
    "import matplotlib.pyplot as plt\n",
    "\n",
    "G=nx.from_pandas_edgelist(result_linked, 'original_entity', 'linked_entities')"
   ]
  },
  {
   "cell_type": "code",
   "execution_count": null,
   "metadata": {},
   "outputs": [],
   "source": [
    "plt.figure(figsize=(12,12)) \n",
    "nx.draw(G, with_labels=True,node_size=60,font_size=9, width = 0.3)\n",
    "plt.show()"
   ]
  },
  {
   "cell_type": "markdown",
   "metadata": {},
   "source": [
    "## 2. Create an item description with short description and related entitites"
   ]
  },
  {
   "cell_type": "code",
   "execution_count": null,
   "metadata": {},
   "outputs": [],
   "source": [
    "# Create entity description with small description and string of linked entities\n",
    "import pandas as pd\n",
    "name = [\"The Godfather\", \"Al Pacino\", \"Tom Hanks\", \"Forrest Gump\", \"Julia Roberts\", \"fake movie\", \"My Best Friend's Wedding\"]\n",
    "result_description = pd.DataFrame()\n",
    "\n",
    "for n in name:\n",
    "    entity_id = find_wikidataID(n)\n",
    "    if entity_id != \"entityNotFound\":\n",
    "        json_links = query_entity_links(entity_id)\n",
    "        entity_description = query_entity_description(entity_id)\n",
    "        (related_entities,related_names) = read_linked_entities(json_links)\n",
    "        d = pd.DataFrame({\"name\": n,\n",
    "                          \"original_entity\": entity_id,\n",
    "                          \"description\":entity_description,\n",
    "                          \"related_names\":', '.join(related_names)}, index = [0])\n",
    "        result_description = pd.concat([result_description, d])"
   ]
  },
  {
   "cell_type": "code",
   "execution_count": null,
   "metadata": {},
   "outputs": [],
   "source": [
    "result_description.head(10)"
   ]
  },
  {
   "cell_type": "markdown",
   "metadata": {},
   "source": [
    "## 3. Real Example with Movielens Dataset"
   ]
  },
  {
   "cell_type": "code",
   "execution_count": null,
   "metadata": {},
   "outputs": [],
   "source": [
    "# Obtain pairs of Movie Title - IDs from Movielens\n",
    "from reco_utils.dataset import movielens\n",
    "df = movielens.load_pandas_df('100k', ('UserId', 'ItemId', 'Rating', 'Timestamp'),\n",
    "             title_col='Title',\n",
    "             genres_col='Genres',\n",
    "             year_col='Year'\n",
    "        )\n",
    "movies = df[[\"Title\", \"ItemId\"]].drop_duplicates()"
   ]
  },
  {
   "cell_type": "code",
   "execution_count": null,
   "metadata": {},
   "outputs": [],
   "source": [
    "movies[\"Title\"][1:5]"
   ]
  },
  {
   "cell_type": "code",
   "execution_count": null,
   "metadata": {},
   "outputs": [],
   "source": [
    "movies.shape"
   ]
  },
  {
   "cell_type": "code",
   "execution_count": null,
   "metadata": {},
   "outputs": [],
   "source": [
    "# Clean titles from year in parenthesis\n",
    "import re\n",
    "def format_title(title):\n",
    "    r = re.compile(r'\\([^)]*\\)')\n",
    "    title = r.sub(\"\", title)\n",
    "    commas = title.rpartition(\",\")\n",
    "    if len(commas) > 1:\n",
    "        title = commas[2].lstrip()+commas[0]\n",
    "    return title.strip()"
   ]
  },
  {
   "cell_type": "code",
   "execution_count": null,
   "metadata": {},
   "outputs": [],
   "source": [
    "# Get KG dataset for movies in Movielens\n",
    "%%time\n",
    "result_linked = pd.DataFrame()\n",
    "\n",
    "for index, n in movies.iterrows():\n",
    "    entity_id = find_wikidataID(format_title(n[\"Title\"]))\n",
    "    if entity_id != \"entityNotFound\":\n",
    "        json_links = query_entity_links(entity_id)\n",
    "        (related_entities,related_names) = read_linked_entities(json_links)\n",
    "        d = pd.DataFrame({\"original_entity\":[entity_id]* len(related_entities),\n",
    "                          \"linked_entities\":related_entities,\n",
    "                          \"name_linked_entities\":related_names,\n",
    "                          \"movielens_title\": n[\"Title\"],\n",
    "                          \"movielens_id\": n[\"ItemId\"],\n",
    "                         })\n",
    "        result_linked = pd.concat([result_linked, d])"
   ]
  },
  {
   "cell_type": "code",
   "execution_count": null,
   "metadata": {},
   "outputs": [],
   "source": [
    "result_linked[\"movielens_title\"].value_counts()"
   ]
  }
 ],
 "metadata": {
  "kernelspec": {
   "display_name": "Python [conda env:grapy]",
   "language": "python",
   "name": "conda-env-grapy-py"
  },
  "language_info": {
   "codemirror_mode": {
    "name": "ipython",
    "version": 3
   },
   "file_extension": ".py",
   "mimetype": "text/x-python",
   "name": "python",
   "nbconvert_exporter": "python",
   "pygments_lexer": "ipython3",
   "version": "3.6.6"
  }
 },
 "nbformat": 4,
 "nbformat_minor": 2
}
