{
 "cells": [
  {
   "cell_type": "markdown",
   "metadata": {},
   "source": [
    "<i>Copyright (c) Microsoft Corporation. All rights reserved.</i>\n",
    "\n",
    "<i>Licensed under the MIT License.</i>"
   ]
  },
  {
   "cell_type": "markdown",
   "metadata": {},
   "source": [
    "# Hyperparameter tuning (Spark based recommender)"
   ]
  },
  {
   "cell_type": "markdown",
   "metadata": {},
   "source": [
    "Hyperparameter tuning for Spark based recommender algorithm is important to select a model with the optimal performance. This notebook introduces good practices in performing hyperparameter tuning for building recommender models with the utility functions provided in the [Microsoft/Recommenders](https://github.com/Microsoft/Recommenders.git) repository.\n",
    "\n",
    "Three different approaches are introduced and comparatively studied.\n",
    "* Spark native/custom constructs (`ParamGridBuilder`, `TrainValidationSplit`).\n",
    "* `hyperopt` package with Tree of Parzen Estimator algorithm. \n",
    "* Parallelized random search of parameter values sampled with pre-defined space. "
   ]
  },
  {
   "cell_type": "markdown",
   "metadata": {},
   "source": [
    "## 0 Global settings and import"
   ]
  },
  {
   "cell_type": "code",
   "execution_count": 36,
   "metadata": {},
   "outputs": [
    {
     "name": "stdout",
     "output_type": "stream",
     "text": [
      "System version: 3.6.0 | packaged by conda-forge | (default, Feb  9 2017, 14:36:55) \n",
      "[GCC 4.8.2 20140120 (Red Hat 4.8.2-15)]\n",
      "Pandas version: 0.23.4\n",
      "PySpark version: 2.3.1\n"
     ]
    }
   ],
   "source": [
    "# set the environment path to find Recommenders\n",
    "%matplotlib inline\n",
    "\n",
    "import matplotlib\n",
    "import matplotlib.pyplot as plt\n",
    "import sys\n",
    "sys.path.append(\"../../\")\n",
    "import pandas as pd\n",
    "import numpy as np\n",
    "import time\n",
    "\n",
    "import pyspark\n",
    "from pyspark.sql import SparkSession\n",
    "from pyspark import SparkContext, SparkConf\n",
    "from pyspark.ml.recommendation import ALS\n",
    "from pyspark.ml.tuning import ParamGridBuilder, TrainValidationSplit\n",
    "from pyspark.ml.evaluation import Evaluator, RegressionEvaluator\n",
    "from pyspark.mllib.evaluation import RegressionMetrics, RankingMetrics\n",
    "\n",
    "from hyperopt import fmin, tpe, hp, STATUS_OK, Trials\n",
    "from hyperopt.pyll.base import scope\n",
    "from hyperopt.pyll.stochastic import sample\n",
    "\n",
    "from reco_utils.common.spark_utils import start_or_get_spark\n",
    "from reco_utils.evaluation.spark_evaluation import SparkRankingEvaluation, SparkRatingEvaluation\n",
    "from reco_utils.dataset.movielens import load_spark_df\n",
    "from reco_utils.dataset.spark_splitters import spark_random_split\n",
    "\n",
    "print(\"System version: {}\".format(sys.version))\n",
    "print(\"Pandas version: {}\".format(pd.__version__))\n",
    "print(\"PySpark version: {}\".format(pyspark.__version__))"
   ]
  },
  {
   "cell_type": "code",
   "execution_count": 38,
   "metadata": {},
   "outputs": [],
   "source": [
    "COL_USER = \"UserId\"\n",
    "COL_ITEM = \"MovieId\"\n",
    "COL_TIMESTAMP = \"Timestamp\"\n",
    "COL_RATING = \"Rating\"\n",
    "COL_PREDICTION = \"prediction\"\n",
    "\n",
    "HEADER = {\n",
    "    \"col_user\": COL_USER,\n",
    "    \"col_item\": COL_ITEM,\n",
    "    \"col_rating\": COL_RATING,\n",
    "    \"col_prediction\": COL_PREDICTION,\n",
    "}\n",
    "\n",
    "HEADER_ALS = {\n",
    "    \"userCol\": COL_USER,\n",
    "    \"itemCol\": COL_ITEM,\n",
    "    \"ratingCol\": COL_RATING\n",
    "}"
   ]
  },
  {
   "cell_type": "markdown",
   "metadata": {},
   "source": [
    "## 1 Data preparation"
   ]
  },
  {
   "cell_type": "markdown",
   "metadata": {},
   "source": [
    "For illustration purpose, data used for demonstrating the hyperparameter tuning practices is the Movielens 100k dataset. "
   ]
  },
  {
   "cell_type": "code",
   "execution_count": 39,
   "metadata": {},
   "outputs": [],
   "source": [
    "spark = start_or_get_spark()"
   ]
  },
  {
   "cell_type": "markdown",
   "metadata": {},
   "source": [
    "Movielens 100k dataset is used for running the demonstration."
   ]
  },
  {
   "cell_type": "code",
   "execution_count": 40,
   "metadata": {},
   "outputs": [],
   "source": [
    "data = load_spark_df(spark, size='100k')"
   ]
  },
  {
   "cell_type": "markdown",
   "metadata": {},
   "source": [
    "The dataset is split into 3 subsets randomly with a given split ratio. The hyperparameter tuning is performed on the training and the validating data, and then the optimal recommender selected is evaluated on the testing dataset."
   ]
  },
  {
   "cell_type": "code",
   "execution_count": 41,
   "metadata": {},
   "outputs": [],
   "source": [
    "train, valid, test = spark_random_split(data, ratio=[3, 1, 1])"
   ]
  },
  {
   "cell_type": "markdown",
   "metadata": {},
   "source": [
    "## 2 Hyper parameter tuning with Azure Machine Learning Services"
   ]
  },
  {
   "cell_type": "markdown",
   "metadata": {},
   "source": [
    "The `hyperdrive` module in the [Azure Machine Learning Services](https://azure.microsoft.com/en-us/services/machine-learning-service/) is supposed to run [hyperparameter tuning and optimizing for machine learning model selection](https://docs.microsoft.com/en-us/azure/machine-learning/service/how-to-tune-hyperparameters). At the moment, the service supports running hyperparameter tuning on heterogenous computing targets such as cluster of commodity compute nodes with or without GPU devices (see detailed documentation [here](https://docs.microsoft.com/en-us/azure/machine-learning/service/how-to-set-up-training-targets)). It is feasible to run parameter tuning on a cluster of VM nodes. In this case, the service containerizes individual and independent Spark session on each node of the cluster to run the parameter tuning job in parallel, instead of inside a single Spark session where the training is executed in a distributed manner.  \n",
    "\n",
    "It is worth mentioning that tuning hyperparameter with `hyperdrive` in Azure Machine Learning services will be a feature in the future version. \n",
    "\n",
    "Detailed instructions of tuning hyperparameter of non-Spark workloads by using Azure Machine Learning Services can be found in [this](https://github.com/Microsoft/Recommenders.git) notebook. "
   ]
  },
  {
   "cell_type": "markdown",
   "metadata": {},
   "source": [
    "## 3 Hyper parameter tuning with Spark ML constructs"
   ]
  },
  {
   "cell_type": "markdown",
   "metadata": {},
   "source": [
    "### 3.1 Spark native construct"
   ]
  },
  {
   "cell_type": "markdown",
   "metadata": {},
   "source": [
    "Spark ML lib implements modules such as `CrossValidator` and `TrainValidationSplit` for tuning hyperparameters (see [here](https://spark.apache.org/docs/2.2.0/ml-tuning.html)). However, by default, it does not support custom machine learning algorithms, data splitting methods, and evaluation metrics, like what are offered as utility functions in the Recommenders repository. \n",
    "\n",
    "For example, the Spark native constuct can be used for tuning a recommender against the `rmse` metric which is one of the available regression metrics in Spark."
   ]
  },
  {
   "cell_type": "markdown",
   "metadata": {},
   "source": [
    "Firstly, a Spark ALS object needs to be created. In this case, for illustration purpose, it is an ALS model object."
   ]
  },
  {
   "cell_type": "code",
   "execution_count": 42,
   "metadata": {},
   "outputs": [],
   "source": [
    "# NOTE the parameters of interest, rank and regParam, are left unset, \n",
    "# because their values will be assigned in the parameter grid builder.\n",
    "als = ALS(\n",
    "    maxIter=15,\n",
    "    implicitPrefs=False,\n",
    "    alpha=0.1,\n",
    "    coldStartStrategy='drop',\n",
    "    nonnegative=False,\n",
    "    **HEADER_ALS\n",
    ")"
   ]
  },
  {
   "cell_type": "markdown",
   "metadata": {},
   "source": [
    "Then, a parameter grid can be defined as follows. Without loss of generity, only `rank` and `regParam` are considered."
   ]
  },
  {
   "cell_type": "code",
   "execution_count": 43,
   "metadata": {},
   "outputs": [],
   "source": [
    "paramGrid = ParamGridBuilder() \\\n",
    "    .addGrid(als.rank, [10, 15, 20, 30, 40]) \\\n",
    "    .addGrid(als.regParam, [ 0.1, 0.01, 0.001, 0.0001, 0.00001]) \\\n",
    "    .build()"
   ]
  },
  {
   "cell_type": "markdown",
   "metadata": {},
   "source": [
    "Given the settings above, a `TrainValidationSplit` constructor can be created for fitting the best model in the given parameter range. In this case, the RegressionEvaluator is using `RMSE`, by default, as an evaluation metric. "
   ]
  },
  {
   "cell_type": "code",
   "execution_count": 44,
   "metadata": {},
   "outputs": [],
   "source": [
    "tvs = TrainValidationSplit(\n",
    "    estimator=als,\n",
    "    estimatorParamMaps=paramGrid,\n",
    "    # A regression evaluation method is used. \n",
    "    evaluator=RegressionEvaluator(labelCol='Rating'),\n",
    "    # 80% of the data will be used for training, 20% for validation.\n",
    "    # NOTE here the splitting is random. The Spark splitting utilities (e.g. chrono splitter)\n",
    "    # are therefore not available here. \n",
    "    trainRatio=0.75\n",
    ")"
   ]
  },
  {
   "cell_type": "code",
   "execution_count": 45,
   "metadata": {},
   "outputs": [],
   "source": [
    "time_start = time.time()\n",
    "\n",
    "# Run TrainValidationSplit, and choose the best set of parameters.\n",
    "# NOTE train and valid is union because in Spark TrainValidationSplit does splitting by itself.\n",
    "model = tvs.fit(train.union(valid))\n",
    "\n",
    "time_spark = time.time() - time_start"
   ]
  },
  {
   "cell_type": "markdown",
   "metadata": {},
   "source": [
    "The model parameters in the grid and the best metrics can be then returned. "
   ]
  },
  {
   "cell_type": "code",
   "execution_count": 46,
   "metadata": {},
   "outputs": [
    {
     "name": "stdout",
     "output_type": "stream",
     "text": [
      "Run 0:\n",
      "\tValidation Metric: 0.9518731347695127\n",
      "\tParam(parent='ALS_4e9d896efcd2c395805c', name='rank', doc='rank of the factorization'): 10\n",
      "\tParam(parent='ALS_4e9d896efcd2c395805c', name='regParam', doc='regularization parameter (>= 0).'): 0.1\n",
      "Run 1:\n",
      "\tValidation Metric: 1.1993512598759388\n",
      "\tParam(parent='ALS_4e9d896efcd2c395805c', name='rank', doc='rank of the factorization'): 10\n",
      "\tParam(parent='ALS_4e9d896efcd2c395805c', name='regParam', doc='regularization parameter (>= 0).'): 0.01\n",
      "Run 2:\n",
      "\tValidation Metric: 1.528217488792868\n",
      "\tParam(parent='ALS_4e9d896efcd2c395805c', name='rank', doc='rank of the factorization'): 10\n",
      "\tParam(parent='ALS_4e9d896efcd2c395805c', name='regParam', doc='regularization parameter (>= 0).'): 0.001\n",
      "Run 3:\n",
      "\tValidation Metric: 2.0539426130014924\n",
      "\tParam(parent='ALS_4e9d896efcd2c395805c', name='rank', doc='rank of the factorization'): 10\n",
      "\tParam(parent='ALS_4e9d896efcd2c395805c', name='regParam', doc='regularization parameter (>= 0).'): 0.0001\n",
      "Run 4:\n",
      "\tValidation Metric: 2.8008061805246602\n",
      "\tParam(parent='ALS_4e9d896efcd2c395805c', name='rank', doc='rank of the factorization'): 10\n",
      "\tParam(parent='ALS_4e9d896efcd2c395805c', name='regParam', doc='regularization parameter (>= 0).'): 1e-05\n",
      "Run 5:\n",
      "\tValidation Metric: 0.9506523765598295\n",
      "\tParam(parent='ALS_4e9d896efcd2c395805c', name='rank', doc='rank of the factorization'): 15\n",
      "\tParam(parent='ALS_4e9d896efcd2c395805c', name='regParam', doc='regularization parameter (>= 0).'): 0.1\n",
      "Run 6:\n",
      "\tValidation Metric: 1.2624824123793825\n",
      "\tParam(parent='ALS_4e9d896efcd2c395805c', name='rank', doc='rank of the factorization'): 15\n",
      "\tParam(parent='ALS_4e9d896efcd2c395805c', name='regParam', doc='regularization parameter (>= 0).'): 0.01\n",
      "Run 7:\n",
      "\tValidation Metric: 1.6124385838943827\n",
      "\tParam(parent='ALS_4e9d896efcd2c395805c', name='rank', doc='rank of the factorization'): 15\n",
      "\tParam(parent='ALS_4e9d896efcd2c395805c', name='regParam', doc='regularization parameter (>= 0).'): 0.001\n",
      "Run 8:\n",
      "\tValidation Metric: 2.3458244077725423\n",
      "\tParam(parent='ALS_4e9d896efcd2c395805c', name='rank', doc='rank of the factorization'): 15\n",
      "\tParam(parent='ALS_4e9d896efcd2c395805c', name='regParam', doc='regularization parameter (>= 0).'): 0.0001\n",
      "Run 9:\n",
      "\tValidation Metric: 2.9213420928541143\n",
      "\tParam(parent='ALS_4e9d896efcd2c395805c', name='rank', doc='rank of the factorization'): 15\n",
      "\tParam(parent='ALS_4e9d896efcd2c395805c', name='regParam', doc='regularization parameter (>= 0).'): 1e-05\n",
      "Run 10:\n",
      "\tValidation Metric: 0.9504988977655762\n",
      "\tParam(parent='ALS_4e9d896efcd2c395805c', name='rank', doc='rank of the factorization'): 20\n",
      "\tParam(parent='ALS_4e9d896efcd2c395805c', name='regParam', doc='regularization parameter (>= 0).'): 0.1\n",
      "Run 11:\n",
      "\tValidation Metric: 1.2809968728707484\n",
      "\tParam(parent='ALS_4e9d896efcd2c395805c', name='rank', doc='rank of the factorization'): 20\n",
      "\tParam(parent='ALS_4e9d896efcd2c395805c', name='regParam', doc='regularization parameter (>= 0).'): 0.01\n",
      "Run 12:\n",
      "\tValidation Metric: 1.6820353585718988\n",
      "\tParam(parent='ALS_4e9d896efcd2c395805c', name='rank', doc='rank of the factorization'): 20\n",
      "\tParam(parent='ALS_4e9d896efcd2c395805c', name='regParam', doc='regularization parameter (>= 0).'): 0.001\n",
      "Run 13:\n",
      "\tValidation Metric: 2.228707702268983\n",
      "\tParam(parent='ALS_4e9d896efcd2c395805c', name='rank', doc='rank of the factorization'): 20\n",
      "\tParam(parent='ALS_4e9d896efcd2c395805c', name='regParam', doc='regularization parameter (>= 0).'): 0.0001\n",
      "Run 14:\n",
      "\tValidation Metric: 3.5020573143357434\n",
      "\tParam(parent='ALS_4e9d896efcd2c395805c', name='rank', doc='rank of the factorization'): 20\n",
      "\tParam(parent='ALS_4e9d896efcd2c395805c', name='regParam', doc='regularization parameter (>= 0).'): 1e-05\n",
      "Run 15:\n",
      "\tValidation Metric: 0.9491530023089245\n",
      "\tParam(parent='ALS_4e9d896efcd2c395805c', name='rank', doc='rank of the factorization'): 30\n",
      "\tParam(parent='ALS_4e9d896efcd2c395805c', name='regParam', doc='regularization parameter (>= 0).'): 0.1\n",
      "Run 16:\n",
      "\tValidation Metric: 1.2932667424333513\n",
      "\tParam(parent='ALS_4e9d896efcd2c395805c', name='rank', doc='rank of the factorization'): 30\n",
      "\tParam(parent='ALS_4e9d896efcd2c395805c', name='regParam', doc='regularization parameter (>= 0).'): 0.01\n",
      "Run 17:\n",
      "\tValidation Metric: 1.6414605894816903\n",
      "\tParam(parent='ALS_4e9d896efcd2c395805c', name='rank', doc='rank of the factorization'): 30\n",
      "\tParam(parent='ALS_4e9d896efcd2c395805c', name='regParam', doc='regularization parameter (>= 0).'): 0.001\n",
      "Run 18:\n",
      "\tValidation Metric: 2.252360339808764\n",
      "\tParam(parent='ALS_4e9d896efcd2c395805c', name='rank', doc='rank of the factorization'): 30\n",
      "\tParam(parent='ALS_4e9d896efcd2c395805c', name='regParam', doc='regularization parameter (>= 0).'): 0.0001\n",
      "Run 19:\n",
      "\tValidation Metric: 3.0558377544828965\n",
      "\tParam(parent='ALS_4e9d896efcd2c395805c', name='rank', doc='rank of the factorization'): 30\n",
      "\tParam(parent='ALS_4e9d896efcd2c395805c', name='regParam', doc='regularization parameter (>= 0).'): 1e-05\n",
      "Run 20:\n",
      "\tValidation Metric: 0.9460155035675099\n",
      "\tParam(parent='ALS_4e9d896efcd2c395805c', name='rank', doc='rank of the factorization'): 40\n",
      "\tParam(parent='ALS_4e9d896efcd2c395805c', name='regParam', doc='regularization parameter (>= 0).'): 0.1\n",
      "Run 21:\n",
      "\tValidation Metric: 1.2783726917155642\n",
      "\tParam(parent='ALS_4e9d896efcd2c395805c', name='rank', doc='rank of the factorization'): 40\n",
      "\tParam(parent='ALS_4e9d896efcd2c395805c', name='regParam', doc='regularization parameter (>= 0).'): 0.01\n",
      "Run 22:\n",
      "\tValidation Metric: 1.6600444075416376\n",
      "\tParam(parent='ALS_4e9d896efcd2c395805c', name='rank', doc='rank of the factorization'): 40\n",
      "\tParam(parent='ALS_4e9d896efcd2c395805c', name='regParam', doc='regularization parameter (>= 0).'): 0.001\n",
      "Run 23:\n",
      "\tValidation Metric: 2.1247288407202407\n",
      "\tParam(parent='ALS_4e9d896efcd2c395805c', name='rank', doc='rank of the factorization'): 40\n",
      "\tParam(parent='ALS_4e9d896efcd2c395805c', name='regParam', doc='regularization parameter (>= 0).'): 0.0001\n",
      "Run 24:\n",
      "\tValidation Metric: 2.740690895026354\n",
      "\tParam(parent='ALS_4e9d896efcd2c395805c', name='rank', doc='rank of the factorization'): 40\n",
      "\tParam(parent='ALS_4e9d896efcd2c395805c', name='regParam', doc='regularization parameter (>= 0).'): 1e-05\n"
     ]
    }
   ],
   "source": [
    "for idx, item in enumerate(model.getEstimatorParamMaps()):\n",
    "    print('Run {}:'.format(idx))\n",
    "    print('\\tValidation Metric: {}'.format(model.validationMetrics[idx]))\n",
    "    for key, value in item.items():\n",
    "        print('\\t{0}: {1}'.format(repr(key), value))"
   ]
  },
  {
   "cell_type": "code",
   "execution_count": 47,
   "metadata": {},
   "outputs": [
    {
     "data": {
      "text/plain": [
       "[0.9518731347695127,\n",
       " 1.1993512598759388,\n",
       " 1.528217488792868,\n",
       " 2.0539426130014924,\n",
       " 2.8008061805246602,\n",
       " 0.9506523765598295,\n",
       " 1.2624824123793825,\n",
       " 1.6124385838943827,\n",
       " 2.3458244077725423,\n",
       " 2.9213420928541143,\n",
       " 0.9504988977655762,\n",
       " 1.2809968728707484,\n",
       " 1.6820353585718988,\n",
       " 2.228707702268983,\n",
       " 3.5020573143357434,\n",
       " 0.9491530023089245,\n",
       " 1.2932667424333513,\n",
       " 1.6414605894816903,\n",
       " 2.252360339808764,\n",
       " 3.0558377544828965,\n",
       " 0.9460155035675099,\n",
       " 1.2783726917155642,\n",
       " 1.6600444075416376,\n",
       " 2.1247288407202407,\n",
       " 2.740690895026354]"
      ]
     },
     "execution_count": 47,
     "metadata": {},
     "output_type": "execute_result"
    }
   ],
   "source": [
    "model.validationMetrics"
   ]
  },
  {
   "cell_type": "markdown",
   "metadata": {},
   "source": [
    "To get the best model, just do"
   ]
  },
  {
   "cell_type": "code",
   "execution_count": 48,
   "metadata": {},
   "outputs": [],
   "source": [
    "model_best_spark = model.bestModel"
   ]
  },
  {
   "cell_type": "markdown",
   "metadata": {},
   "source": [
    "### 3.2 Custom `Estimator`, `Transformer`, and `Evaluator` for Spark ALS\n",
    "\n",
    "One can also customize Spark modules to allow tuning hyperparameters for a desired model. For instance, the native Spark ALS does not allow tuning hyperparameters for ranking metrics such as precision@k, recall@k, etc. This can be done by creating custom `Estimator`, `Transformer` and `Evaluator`. The benefit is that, after the customization, the tuning process can make use of `trainValidSplit` directly, which distributes the tuning in a Spark session."
   ]
  },
  {
   "cell_type": "markdown",
   "metadata": {},
   "source": [
    "#### Customized `Estimator` and `Transformer` for top k recommender based on Spark ALS"
   ]
  },
  {
   "cell_type": "code",
   "execution_count": 49,
   "metadata": {},
   "outputs": [],
   "source": [
    "class ALSTopK(\n",
    "    ALS,\n",
    "    Estimator,\n",
    "    HasInputCol,\n",
    "    HasPredictionCol\n",
    "):    \n",
    "    rank = Param(Params._dummy(), \"rank\", \"rank of the factorization\",\n",
    "                 typeConverter=TypeConverters.toInt)\n",
    "    numUserBlocks = Param(Params._dummy(), \"numUserBlocks\", \"number of user blocks\",\n",
    "                          typeConverter=TypeConverters.toInt)\n",
    "    numItemBlocks = Param(Params._dummy(), \"numItemBlocks\", \"number of item blocks\",\n",
    "                          typeConverter=TypeConverters.toInt)\n",
    "    implicitPrefs = Param(Params._dummy(), \"implicitPrefs\", \"whether to use implicit preference\",\n",
    "                          typeConverter=TypeConverters.toBoolean)\n",
    "    alpha = Param(Params._dummy(), \"alpha\", \"alpha for implicit preference\",\n",
    "                  typeConverter=TypeConverters.toFloat)\n",
    "    userCol = Param(Params._dummy(), \"userCol\", \"column name for user ids. Ids must be within \" +\n",
    "                    \"the integer value range.\", typeConverter=TypeConverters.toString)\n",
    "    itemCol = Param(Params._dummy(), \"itemCol\", \"column name for item ids. Ids must be within \" +\n",
    "                    \"the integer value range.\", typeConverter=TypeConverters.toString)\n",
    "    ratingCol = Param(Params._dummy(), \"ratingCol\", \"column name for ratings\",\n",
    "                      typeConverter=TypeConverters.toString)\n",
    "    nonnegative = Param(Params._dummy(), \"nonnegative\",\n",
    "                        \"whether to use nonnegative constraint for least squares\",\n",
    "                        typeConverter=TypeConverters.toBoolean)\n",
    "    intermediateStorageLevel = Param(Params._dummy(), \"intermediateStorageLevel\",\n",
    "                                     \"StorageLevel for intermediate datasets. Cannot be 'NONE'.\",\n",
    "                                     typeConverter=TypeConverters.toString)\n",
    "    finalStorageLevel = Param(Params._dummy(), \"finalStorageLevel\",\n",
    "                              \"StorageLevel for ALS model factors.\",\n",
    "                              typeConverter=TypeConverters.toString)\n",
    "    coldStartStrategy = Param(Params._dummy(), \"coldStartStrategy\", \"strategy for dealing with \" +\n",
    "                              \"unknown or new users/items at prediction time. This may be useful \" +\n",
    "                              \"in cross-validation or production scenarios, for handling \" +\n",
    "                              \"user/item ids the model has not seen in the training data. \" +\n",
    "                              \"Supported values: 'nan', 'drop'.\",\n",
    "                              typeConverter=TypeConverters.toString)\n",
    "\n",
    "    @keyword_only\n",
    "    def __init__(\n",
    "        self,\n",
    "        rank=10, maxIter=10, regParam=0.1, numUserBlocks=10, numItemBlocks=10,\n",
    "        implicitPrefs=False, alpha=1.0, userCol=\"user\", itemCol=\"item\", seed=None, k=10,\n",
    "        ratingCol=\"rating\", nonnegative=False, checkpointInterval=10,\n",
    "        intermediateStorageLevel=\"MEMORY_AND_DISK\",\n",
    "        finalStorageLevel=\"MEMORY_AND_DISK\", coldStartStrategy=\"nan\"\n",
    "    ):\n",
    "        super(ALS, self).__init__()\n",
    "        self._java_obj = self._new_java_obj(\"org.apache.spark.ml.recommendation.ALS\", self.uid)\n",
    "        self._setDefault(rank=10, maxIter=10, regParam=0.1, numUserBlocks=10, numItemBlocks=10,\n",
    "                         implicitPrefs=False, alpha=1.0, userCol=\"user\", itemCol=\"item\",\n",
    "                         ratingCol=\"rating\", nonnegative=False, checkpointInterval=10,\n",
    "                         intermediateStorageLevel=\"MEMORY_AND_DISK\",\n",
    "                         finalStorageLevel=\"MEMORY_AND_DISK\", coldStartStrategy=\"nan\")\n",
    "\n",
    "        kwargs = self._input_kwargs \n",
    "        kwargs = {x: kwargs[x] for x in kwargs if x not in {'k'}}\n",
    "        self.setParams(**kwargs)\n",
    "        \n",
    "        # The manually added parameter is not present in ALS Java implementation. \n",
    "        self.k = k\n",
    "        \n",
    "    def setRank(self, value):\n",
    "        \"\"\"\n",
    "        Sets the value of :py:attr:`rank`.\n",
    "        \"\"\"\n",
    "        return self._set(rank=value)\n",
    "\n",
    "    def getRank(self):\n",
    "        \"\"\"\n",
    "        Gets the value of rank or its default value.\n",
    "        \"\"\"\n",
    "        return self.getOrDefault(self.rank)\n",
    "    \n",
    "    def setParams(self, rank=10, maxIter=10, regParam=0.1, numUserBlocks=10, numItemBlocks=10,\n",
    "                  implicitPrefs=False, alpha=1.0, userCol=\"user\", itemCol=\"item\", seed=None,\n",
    "                  ratingCol=\"rating\", nonnegative=False, checkpointInterval=10,\n",
    "                  intermediateStorageLevel=\"MEMORY_AND_DISK\",\n",
    "                  finalStorageLevel=\"MEMORY_AND_DISK\", coldStartStrategy=\"nan\"):\n",
    "        \"\"\"\n",
    "        setParams(self, rank=10, maxIter=10, regParam=0.1, numUserBlocks=10, numItemBlocks=10, \\\n",
    "                 implicitPrefs=False, alpha=1.0, userCol=\"user\", itemCol=\"item\", seed=None, \\\n",
    "                 ratingCol=\"rating\", nonnegative=False, checkpointInterval=10, \\\n",
    "                 intermediateStorageLevel=\"MEMORY_AND_DISK\", \\\n",
    "                 finalStorageLevel=\"MEMORY_AND_DISK\", coldStartStrategy=\"nan\")\n",
    "        Sets params for ALS.\n",
    "        \"\"\"\n",
    "        kwargs = self._input_kwargs\n",
    "        kwargs = {x: kwargs[x] for x in kwargs if x not in {'k'}}\n",
    "        return self._set(**kwargs)\n",
    "        \n",
    "    def _fit(self, dataset):\n",
    "        kwargs = self._input_kwargs    \n",
    "        # Exclude k as it is not a parameter for ALS.\n",
    "        kwargs = {x: kwargs[x] for x in kwargs if x not in {'k'}}\n",
    "        kwargs['rank'] = self.getRank()\n",
    "        kwargs['regParam'] = self.getOrDefault(self.regParam)\n",
    "        als = ALS(\n",
    "            **kwargs\n",
    "        )\n",
    "        als_model = als.fit(dataset)\n",
    "        \n",
    "        user_col = kwargs['userCol']\n",
    "        item_col = kwargs['itemCol']\n",
    "        \n",
    "        k = self.k\n",
    "                     \n",
    "        topk_model = ALSTopKModel()\n",
    "        topk_model.setParams(\n",
    "            als_model,\n",
    "            user_col, \n",
    "            item_col, \n",
    "            k\n",
    "        )\n",
    "        \n",
    "        return topk_model\n",
    "    \n",
    "    \n",
    "class ALSTopKModel(\n",
    "    Model,\n",
    "    HasInputCol,\n",
    "    HasPredictionCol,\n",
    "    HasLabelCol\n",
    "):    \n",
    "    def setParams(self, model, userCol, itemCol, k):\n",
    "        self.model = model\n",
    "        self.userCol = userCol\n",
    "        self.itemCol = itemCol\n",
    "        self.k = k\n",
    "    \n",
    "    def _transform(self, dataset):\n",
    "        predictionCol = self.getPredictionCol()\n",
    "        labelCol = self.getLabelCol()\n",
    "        \n",
    "        users = dataset.select(self.userCol).distinct()\n",
    "        topk_recommendation = self.model.recommendForUserSubset(users, self.k)  \n",
    "        \n",
    "        extract_value = F.udf((lambda x: [y[0] for y in x]), ArrayType(IntegerType()))\n",
    "        topk_recommendation = topk_recommendation.withColumn(predictionCol, extract_value(F.col(\"recommendations\")))        \n",
    "        \n",
    "        dataset = (\n",
    "            dataset\n",
    "            .groupBy(self.userCol)\n",
    "            .agg(F.collect_list(F.col(self.itemCol)).alias(labelCol))\n",
    "        )\n",
    "            \n",
    "        topk_recommendation_all = dataset.join(\n",
    "            topk_recommendation, \n",
    "            on=self.userCol,\n",
    "            how=\"outer\"\n",
    "        )\n",
    "        \n",
    "        return topk_recommendation_all.select(self.userCol, labelCol, predictionCol)"
   ]
  },
  {
   "cell_type": "markdown",
   "metadata": {},
   "source": [
    "#### Customized precision@k evaluation metric"
   ]
  },
  {
   "cell_type": "code",
   "execution_count": 50,
   "metadata": {},
   "outputs": [],
   "source": [
    "# Define a custom Evaulator. Here precision@k is used.\n",
    "class PrecisionAtKEvaluator(Evaluator):\n",
    "\n",
    "    def __init__(self, predictionCol=\"prediction\", labelCol=\"label\", k=10):\n",
    "        self.predictionCol = predictionCol\n",
    "        self.labelCol = labelCol\n",
    "        self.k = k\n",
    "\n",
    "    def _evaluate(self, dataset):\n",
    "        \"\"\"\n",
    "        Returns a random number. \n",
    "        Implement here the true metric\n",
    "        \"\"\"      \n",
    "        # Drop Nulls.\n",
    "        dataset = dataset.na.drop()\n",
    "        metrics = RankingMetrics(dataset.select(self.predictionCol, self.labelCol).rdd)\n",
    "        return metrics.precisionAt(self.k)\n",
    "\n",
    "    def isLargerBetter(self):\n",
    "        return True"
   ]
  },
  {
   "cell_type": "markdown",
   "metadata": {},
   "source": [
    "Create new ALS top-k recommender and find the optimal model with a train-valid splitter."
   ]
  },
  {
   "cell_type": "code",
   "execution_count": 51,
   "metadata": {},
   "outputs": [],
   "source": [
    "alstopk = ALSTopK(\n",
    "    userCol=\"UserId\",\n",
    "    itemCol=\"MovieId\",\n",
    "    ratingCol=\"Rating\",\n",
    "    k=10\n",
    ")\n",
    "\n",
    "# Here for illustration purpose, a small grid is used.\n",
    "paramGrid = ParamGridBuilder() \\\n",
    "    .addGrid(alstopk.rank, [10, 20]) \\\n",
    "    .addGrid(alstopk.regParam, [0.1, 0.01]) \\\n",
    "    .build()\n",
    "\n",
    "tvs = TrainValidationSplit(\n",
    "    estimator=alstopk,\n",
    "    estimatorParamMaps=paramGrid,\n",
    "    # A regression evaluation method is used. \n",
    "    evaluator=PrecisionAtKEvaluator(),\n",
    "    # 80% of the data will be used for training, 20% for validation.\n",
    "    # NOTE here the splitting is random. The Spark splitting utilities (e.g. chrono splitter)\n",
    "    # are therefore not available here. \n",
    "    trainRatio=0.75\n",
    ")"
   ]
  },
  {
   "cell_type": "code",
   "execution_count": 52,
   "metadata": {},
   "outputs": [],
   "source": [
    "time_start = time.time()\n",
    "\n",
    "# Run TrainValidationSplit, and choose the best set of parameters.\n",
    "# NOTE train and valid is union because in Spark TrainValidationSplit does splitting by itself.\n",
    "model = tvs.fit(train.union(valid))\n",
    "\n",
    "time_spark = time.time() - time_start"
   ]
  },
  {
   "cell_type": "code",
   "execution_count": 53,
   "metadata": {},
   "outputs": [
    {
     "data": {
      "text/plain": [
       "41.124152183532715"
      ]
     },
     "execution_count": 53,
     "metadata": {},
     "output_type": "execute_result"
    }
   ],
   "source": [
    "time_spark"
   ]
  },
  {
   "cell_type": "code",
   "execution_count": 54,
   "metadata": {},
   "outputs": [
    {
     "data": {
      "text/plain": [
       "[{Param(parent='ALSTopK_433f9c26f468b2a0f242', name='rank', doc='rank of the factorization'): 10,\n",
       "  Param(parent='ALSTopK_433f9c26f468b2a0f242', name='regParam', doc='regularization parameter (>= 0).'): 0.1},\n",
       " {Param(parent='ALSTopK_433f9c26f468b2a0f242', name='rank', doc='rank of the factorization'): 10,\n",
       "  Param(parent='ALSTopK_433f9c26f468b2a0f242', name='regParam', doc='regularization parameter (>= 0).'): 0.01},\n",
       " {Param(parent='ALSTopK_433f9c26f468b2a0f242', name='rank', doc='rank of the factorization'): 20,\n",
       "  Param(parent='ALSTopK_433f9c26f468b2a0f242', name='regParam', doc='regularization parameter (>= 0).'): 0.1},\n",
       " {Param(parent='ALSTopK_433f9c26f468b2a0f242', name='rank', doc='rank of the factorization'): 20,\n",
       "  Param(parent='ALSTopK_433f9c26f468b2a0f242', name='regParam', doc='regularization parameter (>= 0).'): 0.01}]"
      ]
     },
     "execution_count": 54,
     "metadata": {},
     "output_type": "execute_result"
    }
   ],
   "source": [
    "model.getEstimatorParamMaps()"
   ]
  },
  {
   "cell_type": "code",
   "execution_count": 55,
   "metadata": {},
   "outputs": [],
   "source": [
    "def best_param(model, is_larger_better=True):\n",
    "    if is_larger_better:\n",
    "        best_metric = max(model.validationMetrics)\n",
    "    else:\n",
    "        best_metric = min(model.validationMetrics)\n",
    "        \n",
    "    parameters = model.getEstimatorParamMaps()[model.validationMetrics.index(best_metric)]\n",
    "     \n",
    "    return list(parameters.values())"
   ]
  },
  {
   "cell_type": "code",
   "execution_count": 56,
   "metadata": {},
   "outputs": [],
   "source": [
    "params = best_param(model)"
   ]
  },
  {
   "cell_type": "code",
   "execution_count": 57,
   "metadata": {},
   "outputs": [
    {
     "name": "stdout",
     "output_type": "stream",
     "text": [
      "+------+--------------------+--------------------+\n",
      "|UserId|               label|          prediction|\n",
      "+------+--------------------+--------------------+\n",
      "|   148|[7, 8, 78, 127, 1...|[902, 995, 463, 5...|\n",
      "|   463|[1, 7, 16, 19, 10...|[19, 408, 119, 30...|\n",
      "|   471|[50, 99, 404, 420...|[1242, 102, 1643,...|\n",
      "|   496|[28, 50, 53, 133,...|[320, 1589, 114, ...|\n",
      "|   833|[23, 26, 72, 92, ...|[1368, 1597, 32, ...|\n",
      "|   243|[13, 22, 83, 194,...|[408, 1398, 1642,...|\n",
      "|   392|[98, 99, 174, 189...|[1463, 178, 483, ...|\n",
      "|   540|[7, 20, 25, 257, ...|[12, 1169, 1122, ...|\n",
      "|   623|[163, 211, 234, 2...|[1450, 408, 657, ...|\n",
      "|   737|[89, 169, 174, 18...|[56, 1405, 1005, ...|\n",
      "|   858|     [323, 334, 515]|[9, 127, 344, 113...|\n",
      "|   897|[11, 23, 66, 68, ...|[50, 64, 313, 174...|\n",
      "|    31|[124, 299, 319, 3...|[1643, 408, 114, ...|\n",
      "|   516|[194, 204, 214, 431]|[1449, 1642, 512,...|\n",
      "|    85|[10, 13, 14, 30, ...|[1643, 1463, 483,...|\n",
      "|   137|[183, 210, 257, 3...|[1019, 1643, 1269...|\n",
      "|   251|[24, 60, 79, 117,...|[1643, 480, 483, ...|\n",
      "|   451|[262, 268, 269, 2...|[313, 253, 1275, ...|\n",
      "|   580|[15, 100, 121, 12...|[854, 921, 50, 27...|\n",
      "|   808|     [262, 312, 872]|[613, 1643, 1169,...|\n",
      "+------+--------------------+--------------------+\n",
      "only showing top 20 rows\n",
      "\n"
     ]
    }
   ],
   "source": [
    "model.bestModel.transform(valid).show()"
   ]
  },
  {
   "cell_type": "code",
   "execution_count": 58,
   "metadata": {},
   "outputs": [
    {
     "name": "stdout",
     "output_type": "stream",
     "text": [
      "Run 0:\n",
      "\tValidation Metric: 0.027736450584484602\n",
      "\tParam(parent='ALSTopK_433f9c26f468b2a0f242', name='rank', doc='rank of the factorization'): 10\n",
      "\tParam(parent='ALSTopK_433f9c26f468b2a0f242', name='regParam', doc='regularization parameter (>= 0).'): 0.1\n",
      "Run 1:\n",
      "\tValidation Metric: 0.010733262486716258\n",
      "\tParam(parent='ALSTopK_433f9c26f468b2a0f242', name='rank', doc='rank of the factorization'): 10\n",
      "\tParam(parent='ALSTopK_433f9c26f468b2a0f242', name='regParam', doc='regularization parameter (>= 0).'): 0.01\n",
      "Run 2:\n",
      "\tValidation Metric: 0.03857598299681191\n",
      "\tParam(parent='ALSTopK_433f9c26f468b2a0f242', name='rank', doc='rank of the factorization'): 20\n",
      "\tParam(parent='ALSTopK_433f9c26f468b2a0f242', name='regParam', doc='regularization parameter (>= 0).'): 0.1\n",
      "Run 3:\n",
      "\tValidation Metric: 0.028905419766206173\n",
      "\tParam(parent='ALSTopK_433f9c26f468b2a0f242', name='rank', doc='rank of the factorization'): 20\n",
      "\tParam(parent='ALSTopK_433f9c26f468b2a0f242', name='regParam', doc='regularization parameter (>= 0).'): 0.01\n"
     ]
    }
   ],
   "source": [
    "for idx, item in enumerate(model.getEstimatorParamMaps()):\n",
    "    print('Run {}:'.format(idx))\n",
    "    print('\\tValidation Metric: {}'.format(model.validationMetrics[idx]))\n",
    "    for key, value in item.items():\n",
    "        print('\\t{0}: {1}'.format(repr(key), value))"
   ]
  },
  {
   "cell_type": "markdown",
   "metadata": {},
   "source": [
    "## 4 Hyperparameter tuning with `hyperopt`"
   ]
  },
  {
   "cell_type": "markdown",
   "metadata": {},
   "source": [
    "`hyperopt` is an open source Python package that is designed for tuning parameters for generic function with any pre-defined loss. More information about `hyperopt` can be found [here](https://github.com/hyperopt/hyperopt). `hyperopt` supports parallelization on MongoDB but not Spark. In our case, the tuning is performed in a sequential mode on a local computer.\n",
    "\n",
    "In `hyperopt`, an *objective* function is defined for optimizing the hyper parameters. In this case, the objective is similar to that in the Spark native construct situation, which is *to the RMSE metric for an ALS recommender*. Parameters of `rank` and `regParam` are used as hyperparameters. \n",
    "\n",
    "The objective function shown below demonstrates a RMSE loss for an ALS recommender. "
   ]
  },
  {
   "cell_type": "code",
   "execution_count": 59,
   "metadata": {},
   "outputs": [],
   "source": [
    "# Customize an objective function\n",
    "def objective(params):\n",
    "    rank = params['rank']\n",
    "    reg = params['reg']\n",
    "    train = params['train'] \n",
    "    valid = params['valid'] \n",
    "    col_user = params['col_user'] \n",
    "    col_item = params['col_item']\n",
    "    col_rating = params['col_rating'] \n",
    "    col_prediction = params['col_prediction'] \n",
    "    k = params['k']\n",
    "    relevancy_method = params['relevancy_method']\n",
    "    \n",
    "    als = ALS(\n",
    "        rank=rank,\n",
    "        maxIter=15,\n",
    "        implicitPrefs=False,\n",
    "        alpha=0.1,\n",
    "        regParam=reg,\n",
    "        coldStartStrategy='drop',\n",
    "        nonnegative=False,\n",
    "        seed=0,\n",
    "        **HEADER_ALS\n",
    "    )\n",
    "    \n",
    "    model = als.fit(train) \n",
    "    prediction = model.transform(valid)\n",
    "\n",
    "    rating_eval = SparkRatingEvaluation(\n",
    "        valid, \n",
    "        prediction, \n",
    "        **HEADER\n",
    "    )\n",
    "    \n",
    "    rmse = rating_eval.rmse()\n",
    "    \n",
    "    # Return the objective function result.\n",
    "    return {\n",
    "        'loss': rmse,\n",
    "        'status': STATUS_OK,\n",
    "        'eval_time': time.time()\n",
    "    }"
   ]
  },
  {
   "cell_type": "markdown",
   "metadata": {},
   "source": [
    "A search space is usually defined for hyperparameter exploration. Design of search space is empirical, and depends on the understanding of how distribution of parameter of interest affects the model performance measured by the loss function. \n",
    "\n",
    "In the ALS algorithm, the two hyper parameters, rank and reg, affect model performance in a way that\n",
    "* The higher the rank, the better the model performance but also the higher risk of overfitting.\n",
    "* The reg parameter is subject to rank and it prevents overfitting in certain way. \n",
    "\n",
    "Therefore, in this case, a uniform distribution and a lognormal distribution sampling spaces are used for rank and reg, respectively. A narrow search space is used for illustration purpose, that is, the range of rank is from 10 to 20, while that of reg is from $e^{-5}$ to $e^{-1}$. Together with the randomly sampled hyper parameters, other parameters use for building / evaluating the recommender, like `k`, column names, data, etc., are kept as constants."
   ]
  },
  {
   "cell_type": "code",
   "execution_count": 60,
   "metadata": {},
   "outputs": [],
   "source": [
    "# define a search space\n",
    "space = {\n",
    "    'rank': hp.quniform('rank', 10, 40, 5),\n",
    "    'reg': hp.loguniform('reg', -5, -1),\n",
    "    'train': train, \n",
    "    'valid': valid, \n",
    "    'col_user': \"UserId\", \n",
    "    'col_item': \"MovieId\", \n",
    "    'col_rating': \"Rating\", \n",
    "    'col_prediction': \"prediction\", \n",
    "    'k': 10,\n",
    "    'relevancy_method': \"top_k\"\n",
    "}"
   ]
  },
  {
   "cell_type": "markdown",
   "metadata": {},
   "source": [
    "### 4.1 Hyperparameter tuning with TPE"
   ]
  },
  {
   "cell_type": "markdown",
   "metadata": {},
   "source": [
    "`fmin` of `hyperopt` is used for running the trials for searching optimal hyper parameters. In `hyperopt`, there are different strategies for intelligently optimize hyper parameters. For example, `hyperopt` avails [Tree of Parzen Estimators (TPE) method](https://papers.nips.cc/paper/4443-algorithms-for-hyper-parameter-optimization.pdf) for searching optimal parameters, which is more efficient than random search or grid search (details can be found [here](http://hyperopt.github.io/hyperopt/)). It is claimed in the project website that Bayesian based optimization method is planned but so far it has not yet been implemented. \n",
    "\n",
    "The following runs the trials with the pre-defined objective function and search space. TPE is used as the optimization method. Totally there will be 10 evaluations run for searching the best parameters."
   ]
  },
  {
   "cell_type": "code",
   "execution_count": 61,
   "metadata": {},
   "outputs": [],
   "source": [
    "time_start = time.time()\n",
    "\n",
    "# Trials for recording each iteration of the hyperparameter searching.\n",
    "trials = Trials()\n",
    "\n",
    "best = fmin(\n",
    "    fn=objective,\n",
    "    space=space,\n",
    "    algo=tpe.suggest,\n",
    "    trials=trials,\n",
    "    max_evals=25\n",
    ")\n",
    "                  \n",
    "time_hyperopt = time.time() - time_start"
   ]
  },
  {
   "cell_type": "code",
   "execution_count": 62,
   "metadata": {},
   "outputs": [
    {
     "data": {
      "text/plain": [
       "{'state': 2,\n",
       " 'tid': 22,\n",
       " 'spec': None,\n",
       " 'result': {'loss': 0.9426736452289529,\n",
       "  'status': 'ok',\n",
       "  'eval_time': 1547456509.2377234},\n",
       " 'misc': {'tid': 22,\n",
       "  'cmd': ('domain_attachment', 'FMinIter_Domain'),\n",
       "  'workdir': None,\n",
       "  'idxs': {'rank': [22], 'reg': [22]},\n",
       "  'vals': {'rank': [40.0], 'reg': [0.13943382632414314]}},\n",
       " 'exp_key': None,\n",
       " 'owner': None,\n",
       " 'version': 0,\n",
       " 'book_time': datetime.datetime(2019, 1, 14, 9, 1, 37, 864000),\n",
       " 'refresh_time': datetime.datetime(2019, 1, 14, 9, 1, 49, 238000)}"
      ]
     },
     "execution_count": 62,
     "metadata": {},
     "output_type": "execute_result"
    }
   ],
   "source": [
    "trials.best_trial"
   ]
  },
  {
   "cell_type": "code",
   "execution_count": 63,
   "metadata": {},
   "outputs": [
    {
     "data": {
      "image/png": "[encoded data removed]",
      "text/plain": [
       "<Figure size 1080x360 with 2 Axes>"
      ]
     },
     "metadata": {
      "needs_background": "light"
     },
     "output_type": "display_data"
    }
   ],
   "source": [
    "parameters = ['rank', 'reg']\n",
    "cols = len(parameters)\n",
    "f, axes = plt.subplots(nrows=1, ncols=cols, figsize=(15,5))\n",
    "cmap = plt.cm.jet\n",
    "for i, val in enumerate(parameters):\n",
    "    xs = np.array([t['misc']['vals'][val] for t in trials.trials]).ravel()\n",
    "    ys = [t['result']['loss'] for t in trials.trials]\n",
    "    xs, ys = zip(*sorted(zip(xs, ys)))\n",
    "    ys = np.array(ys)\n",
    "    axes[i].scatter(xs, ys, s=20, linewidth=0.01, alpha=0.75, c=cmap(float(i)/len(parameters)))\n",
    "    axes[i].set_title(val)"
   ]
  },
  {
   "cell_type": "markdown",
   "metadata": {},
   "source": [
    "It can be seen from the above plot that\n",
    "* The actual impact of rank is in line with the intuition - the smaller the value the better the result.\n",
    "* It is interesting to see that the optimal value of reg is around 0.1 to 0.15. "
   ]
  },
  {
   "cell_type": "markdown",
   "metadata": {},
   "source": [
    "Get the best model."
   ]
  },
  {
   "cell_type": "code",
   "execution_count": 64,
   "metadata": {},
   "outputs": [],
   "source": [
    "als = ALS(\n",
    "    rank=best[\"rank\"],\n",
    "    regParam=best[\"reg\"],\n",
    "    maxIter=15,\n",
    "    implicitPrefs=False,\n",
    "    alpha=0.1,\n",
    "    coldStartStrategy='drop',\n",
    "    nonnegative=False,\n",
    "    seed=0,\n",
    "    **HEADER_ALS\n",
    ")\n",
    "    \n",
    "model_best_hyperopt = als.fit(train)"
   ]
  },
  {
   "cell_type": "markdown",
   "metadata": {},
   "source": [
    "Tuning prameters against other metrics can be simply done by modifying the `objective` function. The following shows an objective function of how to tune \"precision@k\". Since `fmin` in `hyperopt` only supports minimization while the actual objective of the loss is to maximize \"precision@k\", `-precision` instead of `precision` is used in the returned value of the `objective` function."
   ]
  },
  {
   "cell_type": "code",
   "execution_count": 65,
   "metadata": {},
   "outputs": [],
   "source": [
    "# Customize an objective function\n",
    "def objective(params):\n",
    "    rank = params['rank']\n",
    "    reg = params['reg']\n",
    "    train = params['train'] \n",
    "    valid = params['valid'] \n",
    "    col_user = params['col_user'] \n",
    "    col_item = params['col_item']\n",
    "    col_rating = params['col_rating'] \n",
    "    col_prediction = params['col_prediction'] \n",
    "    k = params['k']\n",
    "    relevancy_method = params['relevancy_method']\n",
    "    \n",
    "    header = {\n",
    "        \"userCol\": col_user,\n",
    "        \"itemCol\": col_item,\n",
    "        \"ratingCol\": col_rating,\n",
    "    }\n",
    "    \n",
    "    als = ALS(\n",
    "        rank=rank,\n",
    "        maxIter=15,\n",
    "        implicitPrefs=False,\n",
    "        alpha=0.1,\n",
    "        regParam=reg,\n",
    "        coldStartStrategy='drop',\n",
    "        nonnegative=False,\n",
    "        seed=0,\n",
    "        **header\n",
    "    )\n",
    "    \n",
    "    model = als.fit(train)\n",
    "    \n",
    "    users = train.select(col_user).distinct()\n",
    "    items = train.select(col_item).distinct()\n",
    "    user_item = users.crossJoin(items)\n",
    "    dfs_pred = model.transform(user_item)\n",
    "\n",
    "    # Remove seen items.\n",
    "    dfs_pred_exclude_train = dfs_pred.alias(\"pred\").join(\n",
    "        train.alias(\"train\"),\n",
    "        (dfs_pred[col_user] == train[col_user]) & (dfs_pred[col_item] == train[col_item]),\n",
    "        how='outer'\n",
    "    )\n",
    "\n",
    "    top_all = dfs_pred_exclude_train.filter(dfs_pred_exclude_train[\"train.Rating\"].isNull()) \\\n",
    "        .select('pred.' + col_user, 'pred.' + col_item, 'pred.' + \"prediction\")\n",
    "    \n",
    "    top_all.cache().count()\n",
    "\n",
    "    rank_eval = SparkRankingEvaluation(\n",
    "        valid, \n",
    "        top_all, \n",
    "        k=k, \n",
    "        col_user=col_user, \n",
    "        col_item=col_item, \n",
    "        col_rating=\"Rating\", \n",
    "        col_prediction=\"prediction\", \n",
    "        relevancy_method=relevancy_method\n",
    "    )\n",
    "    \n",
    "    precision = rank_eval.precision_at_k()\n",
    "    \n",
    "    # Return the objective function result.\n",
    "    return {\n",
    "        'loss': -precision,\n",
    "        'status': STATUS_OK,\n",
    "        'eval_time': time.time()\n",
    "    }"
   ]
  },
  {
   "cell_type": "markdown",
   "metadata": {},
   "source": [
    "### 4.2 Hyperparameter tuning with `hyperopt` sampling methods"
   ]
  },
  {
   "cell_type": "markdown",
   "metadata": {},
   "source": [
    "Though `hyperopt` works well in a single node machine, its features (e.g., `Trials` module) do not support Spark environment. A good practice is to use `hyperopt` for sampling parameter values from the defined sampling space, and then parallelize the model training onto Spark cluster with the sampled parameter combinations.\n",
    "\n",
    "The downside of this method is that the intelligent searching algorithm (i.e., TPE) of `hyperopt` cannot be used. The approach introduced here is therefore equivalent to random search."
   ]
  },
  {
   "cell_type": "markdown",
   "metadata": {},
   "source": [
    "Sample the parameters used for model building from the pre-defined space. "
   ]
  },
  {
   "cell_type": "code",
   "execution_count": 66,
   "metadata": {},
   "outputs": [],
   "source": [
    "import hyperopt.pyll.stochastic\n",
    "\n",
    "time_start = time.time()\n",
    "\n",
    "sample_params = [hyperopt.pyll.stochastic.sample(space) for x in range(25)]"
   ]
  },
  {
   "cell_type": "markdown",
   "metadata": {},
   "source": [
    "If the master node of the Spark cluster has multiple cores, a local parallelization with Python `map` function can be used for running model building in parallel. Note here the Spark `flatMap` function cannot be used, because parallelizing Spark sessions in a Spark session is forbidden.\n",
    "\n",
    "The following runs model building on the sampled parameter values with the pre-defined objective function."
   ]
  },
  {
   "cell_type": "code",
   "execution_count": 67,
   "metadata": {},
   "outputs": [],
   "source": [
    "results_map = list(map(lambda x: objective(x), sample_params))\n",
    "\n",
    "time_sample = time.time() - time_start"
   ]
  },
  {
   "cell_type": "code",
   "execution_count": 68,
   "metadata": {},
   "outputs": [
    {
     "data": {
      "text/plain": [
       "[{'loss': -0.06316348195329086,\n",
       "  'status': 'ok',\n",
       "  'eval_time': 1547456561.2650208},\n",
       " {'loss': -0.04872611464968152,\n",
       "  'status': 'ok',\n",
       "  'eval_time': 1547456583.7776701},\n",
       " {'loss': -0.063588110403397, 'status': 'ok', 'eval_time': 1547456606.18952},\n",
       " {'loss': -0.000636942675159236,\n",
       "  'status': 'ok',\n",
       "  'eval_time': 1547456628.2891402},\n",
       " {'loss': -0.051061571125265395,\n",
       "  'status': 'ok',\n",
       "  'eval_time': 1547456650.9296675},\n",
       " {'loss': -0.03099787685774948,\n",
       "  'status': 'ok',\n",
       "  'eval_time': 1547456672.8254037},\n",
       " {'loss': -0.06528662420382164,\n",
       "  'status': 'ok',\n",
       "  'eval_time': 1547456696.4067771},\n",
       " {'loss': -0.04405520169851379,\n",
       "  'status': 'ok',\n",
       "  'eval_time': 1547456718.4654493},\n",
       " {'loss': -0.07271762208067939,\n",
       "  'status': 'ok',\n",
       "  'eval_time': 1547456741.6164548},\n",
       " {'loss': -0.03917197452229302,\n",
       "  'status': 'ok',\n",
       "  'eval_time': 1547456766.4931762},\n",
       " {'loss': -0.02876857749469215,\n",
       "  'status': 'ok',\n",
       "  'eval_time': 1547456789.3636198},\n",
       " {'loss': -0.0006369426751592359,\n",
       "  'status': 'ok',\n",
       "  'eval_time': 1547456812.3931463},\n",
       " {'loss': -0.06380042462845013,\n",
       "  'status': 'ok',\n",
       "  'eval_time': 1547456835.1296172},\n",
       " {'loss': -0.0757961783439491, 'status': 'ok', 'eval_time': 1547456860.145631},\n",
       " {'loss': -0.0256900212314225, 'status': 'ok', 'eval_time': 1547456882.513194},\n",
       " {'loss': -0.051592356687898085,\n",
       "  'status': 'ok',\n",
       "  'eval_time': 1547456905.7654784},\n",
       " {'loss': -0.06783439490445858,\n",
       "  'status': 'ok',\n",
       "  'eval_time': 1547456930.2055445},\n",
       " {'loss': -0.062208067940552, 'status': 'ok', 'eval_time': 1547456954.89058},\n",
       " {'loss': -0.04925690021231422,\n",
       "  'status': 'ok',\n",
       "  'eval_time': 1547456978.290196},\n",
       " {'loss': -0.06050955414012738,\n",
       "  'status': 'ok',\n",
       "  'eval_time': 1547457000.9508402},\n",
       " {'loss': -0.041507430997876835,\n",
       "  'status': 'ok',\n",
       "  'eval_time': 1547457023.4373724},\n",
       " {'loss': -0.0006369426751592355,\n",
       "  'status': 'ok',\n",
       "  'eval_time': 1547457046.3026032},\n",
       " {'loss': -0.03789808917197454,\n",
       "  'status': 'ok',\n",
       "  'eval_time': 1547457068.8337734},\n",
       " {'loss': -0.0006369426751592361,\n",
       "  'status': 'ok',\n",
       "  'eval_time': 1547457092.0212884},\n",
       " {'loss': -0.05817409766454352,\n",
       "  'status': 'ok',\n",
       "  'eval_time': 1547457115.6734076}]"
      ]
     },
     "execution_count": 68,
     "metadata": {},
     "output_type": "execute_result"
    }
   ],
   "source": [
    "results_map"
   ]
  },
  {
   "cell_type": "markdown",
   "metadata": {},
   "source": [
    "Get the best model."
   ]
  },
  {
   "cell_type": "code",
   "execution_count": 69,
   "metadata": {},
   "outputs": [],
   "source": [
    "loss_metrics = np.array([x['loss'] for x in results_map])\n",
    "best_loss = np.where(loss_metrics == min(loss_metrics))"
   ]
  },
  {
   "cell_type": "code",
   "execution_count": 70,
   "metadata": {},
   "outputs": [],
   "source": [
    "best_param = sample_params[best_loss[0].item()]"
   ]
  },
  {
   "cell_type": "code",
   "execution_count": 71,
   "metadata": {},
   "outputs": [],
   "source": [
    "als = ALS(\n",
    "    rank=best_param[\"rank\"],\n",
    "    regParam=best_param[\"reg\"],\n",
    "    maxIter=15,\n",
    "    implicitPrefs=False,\n",
    "    alpha=0.1,\n",
    "    coldStartStrategy='drop',\n",
    "    nonnegative=False,\n",
    "    seed=0,\n",
    "    **HEADER_ALS\n",
    ")\n",
    "    \n",
    "model_best_sample = als.fit(train)"
   ]
  },
  {
   "cell_type": "markdown",
   "metadata": {},
   "source": [
    "## 5 Evaluation on testing data"
   ]
  },
  {
   "cell_type": "markdown",
   "metadata": {},
   "source": [
    "The optimal parameters can then be used for building a recommender, which is then evaluated on the testing data.\n",
    "\n",
    "To compare the aforementioned three approaches, the evaluation metrics (loss) and the elapsed time to run each of them are recorded. "
   ]
  },
  {
   "cell_type": "code",
   "execution_count": 72,
   "metadata": {},
   "outputs": [],
   "source": [
    "# Get prediction results with the optimal modesl from different approaches.\n",
    "prediction_spark = model_best_spark.transform(test)\n",
    "prediction_hyperopt = model_best_hyperopt.transform(test)\n",
    "prediction_sample = model_best_sample.transform(test)\n",
    "\n",
    "predictions = [prediction_spark, prediction_hyperopt, prediction_sample]\n",
    "elapsed = [time_spark, time_hyperopt, time_sample]\n",
    "\n",
    "approaches = ['spark', 'hyperopt', 'sample']\n",
    "comparison = pd.DataFrame()\n",
    "for ind, approach in enumerate(approaches):    \n",
    "    rating_eval = SparkRatingEvaluation(\n",
    "        test, \n",
    "        predictions[ind],\n",
    "        **HEADER\n",
    "    )\n",
    "    \n",
    "    result = pd.DataFrame({\n",
    "        'Approach': approach,\n",
    "        'RMSE': rating_eval.rmse(),\n",
    "        'MAE': rating_eval.mae(),\n",
    "        'Explained variance': rating_eval.exp_var(),\n",
    "        'R squared': rating_eval.rsquared(),\n",
    "        'Elapsed': elapsed[ind]\n",
    "    }, index=[0])\n",
    "    \n",
    "    comparison = comparison.append(result)"
   ]
  },
  {
   "cell_type": "code",
   "execution_count": 75,
   "metadata": {},
   "outputs": [
    {
     "data": {
      "text/html": [
       "<div>\n",
       "<style scoped>\n",
       "    .dataframe tbody tr th:only-of-type {\n",
       "        vertical-align: middle;\n",
       "    }\n",
       "\n",
       "    .dataframe tbody tr th {\n",
       "        vertical-align: top;\n",
       "    }\n",
       "\n",
       "    .dataframe thead th {\n",
       "        text-align: right;\n",
       "    }\n",
       "</style>\n",
       "<table border=\"1\" class=\"dataframe\">\n",
       "  <thead>\n",
       "    <tr style=\"text-align: right;\">\n",
       "      <th></th>\n",
       "      <th>Approach</th>\n",
       "      <th>RMSE</th>\n",
       "      <th>MAE</th>\n",
       "      <th>Explained variance</th>\n",
       "      <th>R squared</th>\n",
       "      <th>Elapsed</th>\n",
       "    </tr>\n",
       "  </thead>\n",
       "  <tbody>\n",
       "    <tr>\n",
       "      <th>0</th>\n",
       "      <td>spark</td>\n",
       "      <td>0.916510</td>\n",
       "      <td>0.728810</td>\n",
       "      <td>0.350507</td>\n",
       "      <td>0.327230</td>\n",
       "      <td>41.124152</td>\n",
       "    </tr>\n",
       "    <tr>\n",
       "      <th>0</th>\n",
       "      <td>hyperopt</td>\n",
       "      <td>0.931035</td>\n",
       "      <td>0.745581</td>\n",
       "      <td>0.338503</td>\n",
       "      <td>0.305381</td>\n",
       "      <td>283.482648</td>\n",
       "    </tr>\n",
       "    <tr>\n",
       "      <th>0</th>\n",
       "      <td>sample</td>\n",
       "      <td>0.971059</td>\n",
       "      <td>0.767857</td>\n",
       "      <td>0.265452</td>\n",
       "      <td>0.244376</td>\n",
       "      <td>580.297325</td>\n",
       "    </tr>\n",
       "  </tbody>\n",
       "</table>\n",
       "</div>"
      ],
      "text/plain": [
       "   Approach      RMSE       MAE  Explained variance  R squared     Elapsed\n",
       "0     spark  0.916510  0.728810            0.350507   0.327230   41.124152\n",
       "0  hyperopt  0.931035  0.745581            0.338503   0.305381  283.482648\n",
       "0    sample  0.971059  0.767857            0.265452   0.244376  580.297325"
      ]
     },
     "execution_count": 75,
     "metadata": {},
     "output_type": "execute_result"
    }
   ],
   "source": [
    "comparison"
   ]
  },
  {
   "cell_type": "markdown",
   "metadata": {},
   "source": [
    "From the results, it can be seen that, *with the same number of iterations*, Spark native construct based approach takes the least amount of time, and not suprisingly, sample based approach takes the most amount of time. Intuitively this is because Spark native constructs leverage the underlying Java codes for running the actual analytics with high performance efficiency. There is a tradeoff in choosing between `hyperopt` TPE based approach and sampling approach in a for-loop. The former uses TPE for searching optimal parameters intelligently but runs the tuning iterations sequentially, while the latter simple samples parameter values from the pre-defined space but parallelizes the runs with Python `map` function. Run-time performance of the two approaches therefore depends on acutal use cases.  \n",
    "\n",
    "The three approaches use the same RMSE loss. In this measure, the native Spark construct performs the best. The `hyperopt` based approach performs the second best. This may be owing to the limited number of iterations used in the TPE searching algorithm. Note the differences in the RMSE metrics may also come from the randomness of the intermediate steps in parameter tuning process. In practice, multiple runs are required for generating statistically robust comparison results. We have tried 5 times for running the same comparison codes above. The results aligned well with each other in terms of objective metric values and elapsed time. "
   ]
  },
  {
   "cell_type": "markdown",
   "metadata": {},
   "source": [
    "# Conclusions"
   ]
  },
  {
   "cell_type": "markdown",
   "metadata": {},
   "source": [
    "In summary, there are mainly three different approaches for running hyperparameter tuning for Spark based recommendation algorithm. The three different approaches are compared as follows."
   ]
  },
  {
   "cell_type": "markdown",
   "metadata": {},
   "source": [
    "|Approach|Distributed (on Spark)|Param sampling|Advanced hyperparam searching algo|Custom evaluation metrics|Custom data split|\n",
    "|---------|-------------|--------------|--------------------------|--------------|------------|\n",
    "|AML Services|Parallelizing Spark sessions on multi-node cluster or single Spark session on one VM node.)|Random, Grid, Bayesian sampling for discrete and continuous variables.|Bandit policy, Median stopping policy, and truncation selection policy.|Yes|Yes|\n",
    "|Spark native construct|Distributed in single-node standalone Spark environment or multi-node Spark cluster.|No|No|Need to re-engineer Spark modules|Need to re-engineer Spark modules.|\n",
    "|`hyperopt`|No (only support parallelization on MongoDB)|Random sampling for discrete and continuous variables.|Tree Parzen Estimator|Yes|Yes|"
   ]
  },
  {
   "cell_type": "markdown",
   "metadata": {},
   "source": [
    "# References\n",
    "\n",
    "* Azure Machine Learning Services, url: https://azure.microsoft.com/en-us/services/machine-learning-service/\n",
    "* Lisa Li, *et al*, Hyperband: A Novel Bandit-Based Approach to Hyperparameter Optimization, The Journal of Machine Learning Research, Volume 18 Issue 1, pp 6765-6816, January 2017.\n",
    "* James Bergstrat *et al*, Algorithms for Hyper-Parameter Optimization, Procs 25th NIPS 2011. \n",
    "* `hyperopt`, url: http://hyperopt.github.io/hyperopt/.\n",
    "* Bergstra, J., Yamins, D., Cox, D. D. (2013) Making a Science of Model Search: Hyperparameter Optimization in Hundreds of Dimensions for Vision Architectures. Proc. of the 30th International Conference on Machine Learning (ICML 2013).\n",
    "* Kris Wright, \"Hyper parameter tuning with hyperopt\", url:https://districtdatalabs.silvrback.com/parameter-tuning-with-hyperopt"
   ]
  }
 ],
 "metadata": {
  "kernelspec": {
   "display_name": "Python 3.6 (recommender)",
   "language": "python",
   "name": "recommender"
  },
  "language_info": {
   "codemirror_mode": {
    "name": "ipython",
    "version": 3
   },
   "file_extension": ".py",
   "mimetype": "text/x-python",
   "name": "python",
   "nbconvert_exporter": "python",
   "pygments_lexer": "ipython3",
   "version": "3.6.0"
  }
 },
 "nbformat": 4,
 "nbformat_minor": 2
}
