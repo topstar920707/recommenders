{
 "cells": [
  {
   "cell_type": "markdown",
   "metadata": {},
   "source": [
    "<i>Copyright (c) Microsoft Corporation. All rights reserved.</i>\n",
    "\n",
    "<i>Licensed under the MIT License.</i>"
   ]
  },
  {
   "cell_type": "markdown",
   "metadata": {},
   "source": [
    "# Factorization Machine Deep Dive\n",
    "\n",
    "Factorization machine (FM) is one of the representative algorithms that are used for building content-based recommender model. The algorithm is powerful in terms of capturing the effects of not just the input features but also their interactions. The algorithm provides better generalization capability and expressiveness compared to the other classic algorithms such as SVM. The most recent research extends the basic FM algorithms by using deep learning techniques, which achieve remarkable improvement in a few practical use cases.\n",
    "\n",
    "This notebook presents a deep dive into the Factorization Machine algorithm, and demonstrates some best practices of using the contemporary FM implementations like [`xlearn`](https://github.com/aksnzhy/xlearn) for dealing with tasks like click-through rate prediction."
   ]
  },
  {
   "cell_type": "markdown",
   "metadata": {},
   "source": [
    "## 1 Factorization Machine"
   ]
  },
  {
   "cell_type": "markdown",
   "metadata": {},
   "source": [
    "### 1.1 Factorization Machine"
   ]
  },
  {
   "cell_type": "markdown",
   "metadata": {},
   "source": [
    "FM is an algorithm that uses factorization in prediction tasks with data set of high sparsity. The algorithm was original proposed in [\\[1\\]](https://www.csie.ntu.edu.tw/~b97053/paper/Rendle2010FM.pdf). Traditionally, the algorithms such as SVM failed in dealing with highly sparse data that is usually seen in many contemporary problems, e.g., click-through rate prediction, recommendation, etc. FM handles the problem by modeling not just first-order linear components for predicting the label, but also the cross-product of the feature variables in order to capture more generalized correlation between variables and label. "
   ]
  },
  {
   "cell_type": "markdown",
   "metadata": {},
   "source": [
    "For example, usually, the data that appears in recommendation problems can be encoded in the following way - the user, item, and feature vectors are transformed into one-hot representation for building model. For this arrangement, using the classic algorithms like linear regression, SVM, for predicting the target, are that\n",
    "1. The feature vectors are highly sparse, and thus it makes it hard to converge the parameters to fit the model efficienly\n",
    "2. Cross-product of features will be sparse as well, and this in turn, reduces the expressiveness of a model if it is designed to capture the high-order interactions between features"
   ]
  },
  {
   "cell_type": "markdown",
   "metadata": {},
   "source": [
    "<img src=\"https://recodatasets.blob.core.windows.net/images/fm_data.png?sanitize=true\">"
   ]
  },
  {
   "cell_type": "markdown",
   "metadata": {},
   "source": [
    "The FM algorithm is designed to tackle the above two problems by factorizing latent vectors that model the low- and high-order components. The general idea of a FM model is expressed in the following equation:"
   ]
  },
  {
   "cell_type": "markdown",
   "metadata": {},
   "source": [
    "$$\\hat{y}(\\textbf{x})=w_{0}+\\sum^{n}_{i=1}w_{i}x_{i}+\\sum^{n}_{i=1}\\sum^{n}_{j=i+1}<\\textbf{v}_{i}, \\textbf{v}_{j}>x_{i}x_{j}$$"
   ]
  },
  {
   "cell_type": "markdown",
   "metadata": {},
   "source": [
    "where $\\hat{y}$ and $\\textbf{x}$ are the target to predict and input feature vectors, respectively. $w_{i}$ is the model parameters for the first-order component. $<\\textbf{v}_{i}, \\textbf{v}_{j}>$ is the dot product of two latent factors for the second-order interaction of feature variables, and it is defined as  "
   ]
  },
  {
   "cell_type": "markdown",
   "metadata": {},
   "source": [
    "$$<\\textbf{v}_{i}, \\textbf{v}_{j}>=\\sum^{k}_{f=1}v_{i,f}\\cdot v_{j,f}$$"
   ]
  },
  {
   "cell_type": "markdown",
   "metadata": {},
   "source": [
    "Compared to using fixed parameter for the high-order interaction components, using the factorized vectors increase generalization as well as expressiveness of the model. In addition to this, the computation complexity of the model is $O(kn)$ where $k$ and $n$ are the dimensionalities of the factorization vector and input feature vector, respectively. In practice, usually a two-way FM model is used, i.e., only the second-order feature interactions are considered, to favor computational efficiency without loss of model performance."
   ]
  },
  {
   "cell_type": "markdown",
   "metadata": {},
   "source": [
    "### 1.2 Field-Aware Factorization Machine"
   ]
  },
  {
   "cell_type": "markdown",
   "metadata": {},
   "source": [
    "Field-aware factorization machine (FFM) is an extension to FM. It was originally introduced in [\\[2\\]](https://www.csie.ntu.edu.tw/~cjlin/papers/ffm.pdf). The advantage of FFM over FM is that, it uses different factorized latent factors for different groups of features. The \"group\" is called \"field\" in the context of FFM. Putting features into fields resolves the issue that the latent factors shared by features that intuitively represent different categories of information may not well generalize the correlation. \n",
    "\n",
    "Different from the formula for the 2-order cross product as can be seen above in the FM equation, in the FFM settings, the equation changes to "
   ]
  },
  {
   "cell_type": "markdown",
   "metadata": {},
   "source": [
    "$$\\theta_{\\text{FFM}}(\\textbf{w}\\textbf{x})=\\sum^{n}_{j1=1}\\sum^{n}_{j2=j1+1}<\\textbf{v}_{j1,f2}, \\textbf{v}_{j2,f1}>x_{j1}x_{j2}$$"
   ]
  },
  {
   "cell_type": "markdown",
   "metadata": {},
   "source": [
    "where $f_1$ and $f_2$ are the fields of $j_1$ and $j_2$, respectively."
   ]
  },
  {
   "cell_type": "markdown",
   "metadata": {},
   "source": [
    "Compared to FM, the computational complexity increases to $O(n^2k)$. However, since the latent factors in FFM only need to learn the effect within the field, so the $k$ values in FFM is usually much smaller than that in FM."
   ]
  },
  {
   "cell_type": "markdown",
   "metadata": {},
   "source": [
    "### 1.3 FM/FFM extensions"
   ]
  },
  {
   "cell_type": "markdown",
   "metadata": {},
   "source": [
    "In the recent years, FM/FFM extensions were proposed to enhance the model performance further. The new algorithms leverage the powerful deep learning neural network to improve the generalization capability of the original FM/FFM algorithms. Representatives of the such algorithms are summarized as below. Some of them are implemented and demonstrated in the microsoft/recommenders repository. \n",
    "\n",
    "|Algorithm|Notes|References|Example in Microsoft/Recommenders|\n",
    "|--------------------|---------------------|------------------------|\n",
    "|DeepFM|Combination of FM and DNN where DNN handles high-order interactions|[\\[3\\]](https://arxiv.org/abs/1703.04247)|-|\n",
    "|xDeepFM|Combination of FM, DNN, and Compressed Interaction Network, for vectorized feature interactions|[\\[4\\]](https://dl.acm.org/citation.cfm?id=3220023)|[notebook](https://github.com/microsoft/recommenders/blob/master/notebooks/00_quick_start/xdeepfm_criteo.ipynb) / [utilities](https://github.com/microsoft/recommenders/blob/master/reco_utils/recommender/deeprec/models/xDeepFM.py)|\n",
    "|Factorization Machine Supported Neural Network|Use FM user/item weight vectors as input layers for DNN model|[\\[5\\]](https://link.springer.com/chapter/10.1007/978-3-319-30671-1_4)|-|\n",
    "|Product-based Neural Network|An additional product-wise layer between embedding layer and fully connected layer to improve expressiveness of interactions of features across fields|[\\[6\\]](https://ieeexplore.ieee.org/abstract/document/7837964)|-|\n",
    "|Neural Factorization Machines|Improve the factorization part of FM by using stacks of NN layers to improve non-linear expressiveness|[\\[7\\]](https://dl.acm.org/citation.cfm?id=3080777)|-|\n",
    "|Wide and deep|Combination of linear model (wide part) and deep neural network model (deep part) for memorisation and generalization|[\\[8\\]](https://dl.acm.org/citation.cfm?id=2988454)|[notebook](https://github.com/microsoft/recommenders/blob/master/notebooks/00_quick_start/wide_deep_movielens.ipynb) / [utilities](https://github.com/microsoft/recommenders/tree/master/reco_utils/recommender/wide_deep)|"
   ]
  },
  {
   "cell_type": "markdown",
   "metadata": {},
   "source": [
    "## 2 Factorization Machine Implementation"
   ]
  },
  {
   "cell_type": "markdown",
   "metadata": {},
   "source": [
    "### 2.1 Implementations"
   ]
  },
  {
   "cell_type": "markdown",
   "metadata": {},
   "source": [
    "The following table summarizes the implementations of FM/FFM. Some of them (e.g., xDeepFM and VW) are implemented and/or demonstrated in the microsoft/recommenders repository"
   ]
  },
  {
   "cell_type": "markdown",
   "metadata": {},
   "source": [
    "|Implementation|Language|Notes|Examples in Microsoft/Recommenders|\n",
    "|-----------------|------------------|------------------|---------------------|\n",
    "|[libfm](https://github.com/srendle/libfm)|C++|Implementation of FM algorithm|-|\n",
    "|[libffm](https://github.com/ycjuan/libffm)|C++|Original implemenation of FFM algorithm. It is handy in model building, but does not support Python interface|-|\n",
    "|[xlearn](https://github.com/aksnzhy/xlearn)|C++ with Python interface|More computationally efficient compared to libffm without loss of modeling effectiveness|Appear soon|\n",
    "|[Vowpal Wabbit FM](https://github.com/VowpalWabbit/vowpal_wabbit/wiki/Matrix-factorization-example)|Online library with estimator API|Easy to use by calling API, but flexibility and configurability are limited|[notebook](https://github.com/microsoft/recommenders/blob/master/notebooks/02_model/vowpal_wabbit_deep_dive.ipynb) / [utilities](https://github.com/microsoft/recommenders/tree/master/reco_utils/recommender/vowpal_wabbit)\n",
    "|[microsoft/recommenders xDeepFM](https://github.com/microsoft/recommenders/blob/master/reco_utils/recommender/deeprec/models/xDeepFM.py)|Python|Support flexible interface with different configurations of FM and FM extensions, i.e., LR, FM, and/or CIN|[notebook](https://github.com/microsoft/recommenders/blob/master/notebooks/00_quick_start/xdeepfm_criteo.ipynb) / [utilities](https://github.com/microsoft/recommenders/blob/master/reco_utils/recommender/deeprec/models/xDeepFM.py)|"
   ]
  },
  {
   "cell_type": "markdown",
   "metadata": {},
   "source": [
    "Other than `libfm` and `libffm`, all the other three can be used in a Python environment. \n",
    "\n",
    "* A deep dive of using Vowbal Wabbit for FM model can be found [here](https://github.com/microsoft/recommenders/blob/master/notebooks/02_model/vowpal_wabbit_deep_dive.ipynb)\n",
    "* A quick start of Microsoft xDeepFM algorithm can be found [here](https://github.com/microsoft/recommenders/blob/master/notebooks/00_quick_start/xdeepfm_criteo.ipynb). \n",
    "\n",
    "Therefore, in the example below, only code examples and best practices of using `xlearn` are presented."
   ]
  },
  {
   "cell_type": "markdown",
   "metadata": {},
   "source": [
    "### 2.2 xlearn"
   ]
  },
  {
   "cell_type": "markdown",
   "metadata": {},
   "source": [
    "Setups for using `xlearn`.\n",
    "\n",
    "1. `xlearn` is implemented in C++ and has Python bindings, so it can be directly installed as a Python package from PyPI. The installation of `xlearn` is enabled in the [Recommenders repo environment setup script](https://github.com/microsoft/recommenders/blob/master/scripts/generate_conda_file.py). One can follow the general setup steps to install the environment as required, in which `xlearn` is installed as well.\n",
    "2. NOTE `xlearn` may require some base libraries installed as prerequisites in the system, e.g., `cmake`."
   ]
  },
  {
   "cell_type": "markdown",
   "metadata": {},
   "source": [
    "After a succesful creation of the environment, one can load the packages to run `xlearn` in a Jupyter notebook or Python script."
   ]
  },
  {
   "cell_type": "code",
   "execution_count": 1,
   "metadata": {},
   "outputs": [],
   "source": [
    "%matplotlib notebook"
   ]
  },
  {
   "cell_type": "code",
   "execution_count": 2,
   "metadata": {},
   "outputs": [
    {
     "name": "stdout",
     "output_type": "stream",
     "text": [
      "System version: 3.6.8 |Anaconda, Inc.| (default, Dec 30 2018, 01:22:34) \n",
      "[GCC 7.3.0]\n",
      "Tensorflow version: 1.12.0\n"
     ]
    }
   ],
   "source": [
    "import time\n",
    "import sys\n",
    "sys.path.append(\"../../\")\n",
    "import os\n",
    "import papermill as pm\n",
    "from tempfile import TemporaryDirectory\n",
    "import xlearn as xl\n",
    "import tensorflow as tf\n",
    "from sklearn.metrics import roc_auc_score\n",
    "import numpy as np\n",
    "import pandas as pd\n",
    "import seaborn as sns\n",
    "from matplotlib import pyplot as plt\n",
    "\n",
    "from reco_utils.common.constants import SEED\n",
    "from reco_utils.common.timer import Timer\n",
    "from reco_utils.recommender.deeprec.deeprec_utils import (\n",
    "    download_deeprec_resources, prepare_hparams\n",
    ")\n",
    "from reco_utils.recommender.deeprec.models.xDeepFM import XDeepFMModel\n",
    "from reco_utils.recommender.deeprec.IO.iterator import FFMTextIterator\n",
    "from reco_utils.tuning.parameter_sweep import generate_param_grid\n",
    "from reco_utils.dataset.pandas_df_utils import LibffmConverter\n",
    "\n",
    "print(\"System version: {}\".format(sys.version))\n",
    "print(\"Tensorflow version: {}\".format(tf.__version__))"
   ]
  },
  {
   "cell_type": "markdown",
   "metadata": {},
   "source": [
    "In the FM model building, data is usually represented in the libsvm data format. That is, `label feat1:val1 feat2:val2 ...`, where `label` is the target to predict, and `val` is the value to each feature `feat`.\n",
    "\n",
    "FFM algorithm requires data to be represented in the libffm format, where each vector is split into several fields with categorical/numerical features inside. That is, `label field1:feat1:val1 field2:feat2:val2 ...`."
   ]
  },
  {
   "cell_type": "markdown",
   "metadata": {},
   "source": [
    "In the Microsoft/Recommenders utility functions, [a libffm converter](https://github.com/microsoft/recommenders/blob/290dd920d4a6a4d3bff71dd9ee7273be0c02dbbc/reco_utils/dataset/pandas_df_utils.py#L86) is provided to achieve the transformation from a tabular feature vectors to the corresponding libffm representation. For example, the following shows how to transform the format of a synthesized data by using the module of `LibffmConverter`."
   ]
  },
  {
   "cell_type": "code",
   "execution_count": 3,
   "metadata": {},
   "outputs": [
    {
     "data": {
      "text/html": [
       "<div>\n",
       "<style scoped>\n",
       "    .dataframe tbody tr th:only-of-type {\n",
       "        vertical-align: middle;\n",
       "    }\n",
       "\n",
       "    .dataframe tbody tr th {\n",
       "        vertical-align: top;\n",
       "    }\n",
       "\n",
       "    .dataframe thead th {\n",
       "        text-align: right;\n",
       "    }\n",
       "</style>\n",
       "<table border=\"1\" class=\"dataframe\">\n",
       "  <thead>\n",
       "    <tr style=\"text-align: right;\">\n",
       "      <th></th>\n",
       "      <th>rating</th>\n",
       "      <th>field1</th>\n",
       "      <th>field2</th>\n",
       "      <th>field3</th>\n",
       "      <th>field4</th>\n",
       "    </tr>\n",
       "  </thead>\n",
       "  <tbody>\n",
       "    <tr>\n",
       "      <td>0</td>\n",
       "      <td>1</td>\n",
       "      <td>1:1:1</td>\n",
       "      <td>2:4:3</td>\n",
       "      <td>3:5:1.0</td>\n",
       "      <td>4:6:1</td>\n",
       "    </tr>\n",
       "    <tr>\n",
       "      <td>1</td>\n",
       "      <td>0</td>\n",
       "      <td>1:2:1</td>\n",
       "      <td>2:4:4</td>\n",
       "      <td>3:5:2.0</td>\n",
       "      <td>4:7:1</td>\n",
       "    </tr>\n",
       "    <tr>\n",
       "      <td>2</td>\n",
       "      <td>0</td>\n",
       "      <td>1:3:1</td>\n",
       "      <td>2:4:5</td>\n",
       "      <td>3:5:3.0</td>\n",
       "      <td>4:8:1</td>\n",
       "    </tr>\n",
       "    <tr>\n",
       "      <td>3</td>\n",
       "      <td>1</td>\n",
       "      <td>1:3:1</td>\n",
       "      <td>2:4:6</td>\n",
       "      <td>3:5:4.0</td>\n",
       "      <td>4:9:1</td>\n",
       "    </tr>\n",
       "    <tr>\n",
       "      <td>4</td>\n",
       "      <td>1</td>\n",
       "      <td>1:3:1</td>\n",
       "      <td>2:4:7</td>\n",
       "      <td>3:5:5.0</td>\n",
       "      <td>4:10:1</td>\n",
       "    </tr>\n",
       "  </tbody>\n",
       "</table>\n",
       "</div>"
      ],
      "text/plain": [
       "   rating field1 field2   field3  field4\n",
       "0       1  1:1:1  2:4:3  3:5:1.0   4:6:1\n",
       "1       0  1:2:1  2:4:4  3:5:2.0   4:7:1\n",
       "2       0  1:3:1  2:4:5  3:5:3.0   4:8:1\n",
       "3       1  1:3:1  2:4:6  3:5:4.0   4:9:1\n",
       "4       1  1:3:1  2:4:7  3:5:5.0  4:10:1"
      ]
     },
     "execution_count": 3,
     "metadata": {},
     "output_type": "execute_result"
    }
   ],
   "source": [
    "df_feature_original = pd.DataFrame({\n",
    "    'rating': [1, 0, 0, 1, 1],\n",
    "    'field1': ['xxx1', 'xxx2', 'xxx4', 'xxx4', 'xxx4'],\n",
    "    'field2': [3, 4, 5, 6, 7],\n",
    "    'field3': [1.0, 2.0, 3.0, 4.0, 5.0],\n",
    "    'field4': ['1', '2', '3', '4', '5']\n",
    "})\n",
    "\n",
    "converter = LibffmConverter().fit(df_feature_original, col_rating='rating')\n",
    "df_out = converter.transform(df_feature_original)\n",
    "df_out"
   ]
  },
  {
   "cell_type": "code",
   "execution_count": 4,
   "metadata": {},
   "outputs": [
    {
     "name": "stdout",
     "output_type": "stream",
     "text": [
      "There are in total 4 fields and 10 features.\n"
     ]
    }
   ],
   "source": [
    "print('There are in total {0} fields and {1} features.'.format(converter.field_count, converter.feature_count))"
   ]
  },
  {
   "cell_type": "markdown",
   "metadata": {},
   "source": [
    "To illustrate the use of `xlearn`, the following example uses the [Criteo data set](https://labs.criteo.com/category/dataset/), which has already been processed in the libffm format, for building and evaluating a FFM model built by using `xlearn`. Sometimes, it is important to know the total numbers of fields and features. When building a FFM model, `xlearn` can count these numbers automatically."
   ]
  },
  {
   "cell_type": "code",
   "execution_count": 5,
   "metadata": {
    "tags": [
     "parameters"
    ]
   },
   "outputs": [],
   "source": [
    "YAML_FILE_NAME = 'xDeepFM.yaml'\n",
    "TRAIN_FILE_NAME = 'cretio_tiny_train'\n",
    "VALID_FILE_NAME = 'cretio_tiny_valid'\n",
    "TEST_FILE_NAME = 'cretio_tiny_test'\n",
    "MODEL_FILE_NAME = 'model.out'\n",
    "OUTPUT_FILE_NAME = 'output.txt'\n",
    "\n",
    "LEARNING_RATE = 0.2\n",
    "LAMBDA = 0.002\n",
    "METRIC = 'auc'"
   ]
  },
  {
   "cell_type": "code",
   "execution_count": 6,
   "metadata": {},
   "outputs": [
    {
     "name": "stderr",
     "output_type": "stream",
     "text": [
      "100%|██████████| 10.3k/10.3k [00:04<00:00, 2.27kKB/s]\n"
     ]
    }
   ],
   "source": [
    "tmpdir = TemporaryDirectory()\n",
    "\n",
    "data_path = tmpdir.name\n",
    "yaml_file = os.path.join(data_path, YAML_FILE_NAME)\n",
    "train_file = os.path.join(data_path, TRAIN_FILE_NAME)\n",
    "valid_file = os.path.join(data_path, VALID_FILE_NAME)\n",
    "test_file = os.path.join(data_path, TEST_FILE_NAME)\n",
    "model_file = os.path.join(data_path, MODEL_FILE_NAME)\n",
    "output_file = os.path.join(data_path, OUTPUT_FILE_NAME)\n",
    "\n",
    "if not os.path.exists(yaml_file):\n",
    "    download_deeprec_resources(r'https://recodatasets.blob.core.windows.net/deeprec/', data_path, 'xdeepfmresources.zip')"
   ]
  },
  {
   "cell_type": "markdown",
   "metadata": {},
   "source": [
    "The following steps are from the [official documentation of `xlearn`](https://xlearn-doc.readthedocs.io/en/latest/index.html) for building a model. To begin with, we do not modify any training parameter values. "
   ]
  },
  {
   "cell_type": "markdown",
   "metadata": {},
   "source": [
    "NOTE, if `xlearn` is run through command line, the training process can be displayed in the console."
   ]
  },
  {
   "cell_type": "code",
   "execution_count": 7,
   "metadata": {},
   "outputs": [],
   "source": [
    "# Training task\n",
    "ffm_model = xl.create_ffm()        # Use field-aware factorization machine (ffm)\n",
    "ffm_model.setTrain(train_file)     # Set the path of training dataset\n",
    "ffm_model.setValidate(valid_file)  # Set the path of validation dataset\n",
    "\n",
    "# Parameters:\n",
    "#  0. task: binary classification\n",
    "#  1. learning rate: 0.2\n",
    "#  2. regular lambda: 0.002\n",
    "#  3. evaluation metric: accuracy\n",
    "param = {'task':'binary', 'lr':LEARNING_RATE, 'lambda':LAMBDA, 'metric':METRIC}\n",
    "\n",
    "# Start to train\n",
    "# The trained model will be stored in model.out\n",
    "\n",
    "with Timer() as time_train:\n",
    "    ffm_model.fit(param, model_file)\n",
    "\n",
    "# Prediction task\n",
    "ffm_model.setTest(test_file)  # Set the path of test dataset\n",
    "ffm_model.setSigmoid()        # Convert output to 0-1\n",
    "\n",
    "# Start to predict\n",
    "# The output result will be stored in output.txt\n",
    "with Timer() as time_predict:\n",
    "    ffm_model.predict(model_file, output_file)"
   ]
  },
  {
   "cell_type": "markdown",
   "metadata": {},
   "source": [
    "The output are the predicted labels (i.e., 1 or 0) for the testing data set. AUC score is calculated to evaluate the model performance."
   ]
  },
  {
   "cell_type": "code",
   "execution_count": 8,
   "metadata": {},
   "outputs": [],
   "source": [
    "with open(output_file) as f:\n",
    "    predictions = f.readlines()\n",
    "\n",
    "with open(test_file) as f:\n",
    "    truths = f.readlines()\n",
    "\n",
    "truths = np.array([float(truth.split(' ')[0]) for truth in truths])\n",
    "predictions = np.array([float(prediction.strip('')) for prediction in predictions])\n",
    "\n",
    "auc_score = roc_auc_score(truths, predictions)"
   ]
  },
  {
   "cell_type": "code",
   "execution_count": 9,
   "metadata": {},
   "outputs": [
    {
     "data": {
      "text/plain": [
       "0.7525931323342309"
      ]
     },
     "execution_count": 9,
     "metadata": {},
     "output_type": "execute_result"
    }
   ],
   "source": [
    "auc_score"
   ]
  },
  {
   "cell_type": "code",
   "execution_count": 10,
   "metadata": {},
   "outputs": [
    {
     "data": {
      "application/papermill.record+json": {
       "auc_score": 0.7525931323342309
      }
     },
     "metadata": {},
     "output_type": "display_data"
    }
   ],
   "source": [
    "pm.record('auc_score', auc_score)"
   ]
  },
  {
   "cell_type": "code",
   "execution_count": 11,
   "metadata": {},
   "outputs": [
    {
     "name": "stdout",
     "output_type": "stream",
     "text": [
      "Training takes 26.86s and predicting takes 5.60s.\n"
     ]
    }
   ],
   "source": [
    "print('Training takes {0:.2f}s and predicting takes {1:.2f}s.'.format(time_train.interval, time_predict.interval))"
   ]
  },
  {
   "cell_type": "markdown",
   "metadata": {},
   "source": [
    "It can be seen that the model building/scoring process is fast and the model performance is good. "
   ]
  },
  {
   "cell_type": "markdown",
   "metadata": {},
   "source": [
    "### 2.3 Hyperparameter tuning of `xlearn`"
   ]
  },
  {
   "cell_type": "markdown",
   "metadata": {},
   "source": [
    "The following presents a naive approach to tune the parameters of `xlearn`, which is using grid-search of parameter values to find the optimal combinations. It is worth noting that the original [FFM paper](https://www.csie.ntu.edu.tw/~cjlin/papers/ffm.pdf) gave some hints in terms of the impact of parameters on the sampled Criteo dataset. \n",
    "\n",
    "The following are the parameters that can be tuned in the `xlearn` implementation of FM/FFM algorithm."
   ]
  },
  {
   "cell_type": "markdown",
   "metadata": {},
   "source": [
    "|Parameter|Description|Default value|Notes|\n",
    "|-------------|-----------------|------------------|-----------------|\n",
    "|`lr`|Learning rate|0.2|Higher learning rate helps fit a model more efficiently but may also result in overfitting.|\n",
    "|`lambda`|Regularization parameter|0.00002|The value needs to be selected empirically to avoid overfitting.|\n",
    "|`k`|Dimensionality of the latent factors|4|In FFM the effect of k is not that significant as the algorithm itself considers field where `k` can be small to capture the effect of features within each of the fields.|\n",
    "|`init`|Model initialization|0.66|-|\n",
    "|`epoch`|Number of epochs|10|Using a larger epoch size will help converge the model to its optimal point|"
   ]
  },
  {
   "cell_type": "code",
   "execution_count": 12,
   "metadata": {},
   "outputs": [],
   "source": [
    "param_dict = {\n",
    "    \"lr\": [0.0001, 0.001, 0.01],\n",
    "    \"lambda\": [0.001, 0.01, 0.1]\n",
    "}\n",
    "\n",
    "param_grid = generate_param_grid(param_dict)"
   ]
  },
  {
   "cell_type": "code",
   "execution_count": 13,
   "metadata": {},
   "outputs": [],
   "source": [
    "auc_scores = []\n",
    "\n",
    "with Timer() as time_tune:\n",
    "    for param in param_grid:\n",
    "        ffm_model = xl.create_ffm()       \n",
    "        ffm_model.setTrain(train_file)     \n",
    "        ffm_model.setValidate(valid_file)\n",
    "        ffm_model.fit(param, model_file)\n",
    "\n",
    "        ffm_model.setTest(test_file)  \n",
    "        ffm_model.setSigmoid()        \n",
    "        ffm_model.predict(model_file, output_file)\n",
    "\n",
    "        with open(output_file) as f:\n",
    "            predictions = f.readlines()\n",
    "\n",
    "        with open(test_file) as f:\n",
    "            truths = f.readlines()\n",
    "\n",
    "        truths = np.array([float(truth.split(' ')[0]) for truth in truths])\n",
    "        predictions = np.array([float(prediction.strip('')) for prediction in predictions])\n",
    "\n",
    "        auc_scores.append(roc_auc_score(truths, predictions))\n",
    "\n",
    "auc_scores = [float('%.4f' % x) for x in auc_scores]\n",
    "auc_scores_array = np.reshape(auc_scores, (len(param_dict[\"lr\"]), len(param_dict[\"lambda\"]))) \n",
    "\n",
    "auc_df = pd.DataFrame(\n",
    "    data=auc_scores_array, \n",
    "    index=pd.Index(param_dict[\"lr\"], name=\"LR\"), \n",
    "    columns=pd.Index(param_dict[\"lambda\"], name=\"Lambda\")\n",
    ")"
   ]
  },
  {
   "cell_type": "code",
   "execution_count": 14,
   "metadata": {},
   "outputs": [
    {
     "name": "stdout",
     "output_type": "stream",
     "text": [
      "Tuning by grid search takes 8.2 min\n"
     ]
    }
   ],
   "source": [
    "print('Tuning by grid search takes {0:.2} min'.format(time_tune.interval / 60))"
   ]
  },
  {
   "cell_type": "code",
   "execution_count": 15,
   "metadata": {},
   "outputs": [
    {
     "data": {
      "application/javascript": [
       "/* Put everything inside the global mpl namespace */\n",
       "window.mpl = {};\n",
       "\n",
       "\n",
       "mpl.get_websocket_type = function() {\n",
       "    if (typeof(WebSocket) !== 'undefined') {\n",
       "        return WebSocket;\n",
       "    } else if (typeof(MozWebSocket) !== 'undefined') {\n",
       "        return MozWebSocket;\n",
       "    } else {\n",
       "        alert('Your browser does not have WebSocket support. ' +\n",
       "              'Please try Chrome, Safari or Firefox ≥ 6. ' +\n",
       "              'Firefox 4 and 5 are also supported but you ' +\n",
       "              'have to enable WebSockets in about:config.');\n",
       "    };\n",
       "}\n",
       "\n",
       "mpl.figure = function(figure_id, websocket, ondownload, parent_element) {\n",
       "    this.id = figure_id;\n",
       "\n",
       "    this.ws = websocket;\n",
       "\n",
       "    this.supports_binary = (this.ws.binaryType != undefined);\n",
       "\n",
       "    if (!this.supports_binary) {\n",
       "        var warnings = document.getElementById(\"mpl-warnings\");\n",
       "        if (warnings) {\n",
       "            warnings.style.display = 'block';\n",
       "            warnings.textContent = (\n",
       "                \"This browser does not support binary websocket messages. \" +\n",
       "                    \"Performance may be slow.\");\n",
       "        }\n",
       "    }\n",
       "\n",
       "    this.imageObj = new Image();\n",
       "\n",
       "    this.context = undefined;\n",
       "    this.message = undefined;\n",
       "    this.canvas = undefined;\n",
       "    this.rubberband_canvas = undefined;\n",
       "    this.rubberband_context = undefined;\n",
       "    this.format_dropdown = undefined;\n",
       "\n",
       "    this.image_mode = 'full';\n",
       "\n",
       "    this.root = $('<div/>');\n",
       "    this._root_extra_style(this.root)\n",
       "    this.root.attr('style', 'display: inline-block');\n",
       "\n",
       "    $(parent_element).append(this.root);\n",
       "\n",
       "    this._init_header(this);\n",
       "    this._init_canvas(this);\n",
       "    this._init_toolbar(this);\n",
       "\n",
       "    var fig = this;\n",
       "\n",
       "    this.waiting = false;\n",
       "\n",
       "    this.ws.onopen =  function () {\n",
       "            fig.send_message(\"supports_binary\", {value: fig.supports_binary});\n",
       "            fig.send_message(\"send_image_mode\", {});\n",
       "            if (mpl.ratio != 1) {\n",
       "                fig.send_message(\"set_dpi_ratio\", {'dpi_ratio': mpl.ratio});\n",
       "            }\n",
       "            fig.send_message(\"refresh\", {});\n",
       "        }\n",
       "\n",
       "    this.imageObj.onload = function() {\n",
       "            if (fig.image_mode == 'full') {\n",
       "                // Full images could contain transparency (where diff images\n",
       "                // almost always do), so we need to clear the canvas so that\n",
       "                // there is no ghosting.\n",
       "                fig.context.clearRect(0, 0, fig.canvas.width, fig.canvas.height);\n",
       "            }\n",
       "            fig.context.drawImage(fig.imageObj, 0, 0);\n",
       "        };\n",
       "\n",
       "    this.imageObj.onunload = function() {\n",
       "        fig.ws.close();\n",
       "    }\n",
       "\n",
       "    this.ws.onmessage = this._make_on_message_function(this);\n",
       "\n",
       "    this.ondownload = ondownload;\n",
       "}\n",
       "\n",
       "mpl.figure.prototype._init_header = function() {\n",
       "    var titlebar = $(\n",
       "        '<div class=\"ui-dialog-titlebar ui-widget-header ui-corner-all ' +\n",
       "        'ui-helper-clearfix\"/>');\n",
       "    var titletext = $(\n",
       "        '<div class=\"ui-dialog-title\" style=\"width: 100%; ' +\n",
       "        'text-align: center; padding: 3px;\"/>');\n",
       "    titlebar.append(titletext)\n",
       "    this.root.append(titlebar);\n",
       "    this.header = titletext[0];\n",
       "}\n",
       "\n",
       "\n",
       "\n",
       "mpl.figure.prototype._canvas_extra_style = function(canvas_div) {\n",
       "\n",
       "}\n",
       "\n",
       "\n",
       "mpl.figure.prototype._root_extra_style = function(canvas_div) {\n",
       "\n",
       "}\n",
       "\n",
       "mpl.figure.prototype._init_canvas = function() {\n",
       "    var fig = this;\n",
       "\n",
       "    var canvas_div = $('<div/>');\n",
       "\n",
       "    canvas_div.attr('style', 'position: relative; clear: both; outline: 0');\n",
       "\n",
       "    function canvas_keyboard_event(event) {\n",
       "        return fig.key_event(event, event['data']);\n",
       "    }\n",
       "\n",
       "    canvas_div.keydown('key_press', canvas_keyboard_event);\n",
       "    canvas_div.keyup('key_release', canvas_keyboard_event);\n",
       "    this.canvas_div = canvas_div\n",
       "    this._canvas_extra_style(canvas_div)\n",
       "    this.root.append(canvas_div);\n",
       "\n",
       "    var canvas = $('<canvas/>');\n",
       "    canvas.addClass('mpl-canvas');\n",
       "    canvas.attr('style', \"left: 0; top: 0; z-index: 0; outline: 0\")\n",
       "\n",
       "    this.canvas = canvas[0];\n",
       "    this.context = canvas[0].getContext(\"2d\");\n",
       "\n",
       "    var backingStore = this.context.backingStorePixelRatio ||\n",
       "\tthis.context.webkitBackingStorePixelRatio ||\n",
       "\tthis.context.mozBackingStorePixelRatio ||\n",
       "\tthis.context.msBackingStorePixelRatio ||\n",
       "\tthis.context.oBackingStorePixelRatio ||\n",
       "\tthis.context.backingStorePixelRatio || 1;\n",
       "\n",
       "    mpl.ratio = (window.devicePixelRatio || 1) / backingStore;\n",
       "\n",
       "    var rubberband = $('<canvas/>');\n",
       "    rubberband.attr('style', \"position: absolute; left: 0; top: 0; z-index: 1;\")\n",
       "\n",
       "    var pass_mouse_events = true;\n",
       "\n",
       "    canvas_div.resizable({\n",
       "        start: function(event, ui) {\n",
       "            pass_mouse_events = false;\n",
       "        },\n",
       "        resize: function(event, ui) {\n",
       "            fig.request_resize(ui.size.width, ui.size.height);\n",
       "        },\n",
       "        stop: function(event, ui) {\n",
       "            pass_mouse_events = true;\n",
       "            fig.request_resize(ui.size.width, ui.size.height);\n",
       "        },\n",
       "    });\n",
       "\n",
       "    function mouse_event_fn(event) {\n",
       "        if (pass_mouse_events)\n",
       "            return fig.mouse_event(event, event['data']);\n",
       "    }\n",
       "\n",
       "    rubberband.mousedown('button_press', mouse_event_fn);\n",
       "    rubberband.mouseup('button_release', mouse_event_fn);\n",
       "    // Throttle sequential mouse events to 1 every 20ms.\n",
       "    rubberband.mousemove('motion_notify', mouse_event_fn);\n",
       "\n",
       "    rubberband.mouseenter('figure_enter', mouse_event_fn);\n",
       "    rubberband.mouseleave('figure_leave', mouse_event_fn);\n",
       "\n",
       "    canvas_div.on(\"wheel\", function (event) {\n",
       "        event = event.originalEvent;\n",
       "        event['data'] = 'scroll'\n",
       "        if (event.deltaY < 0) {\n",
       "            event.step = 1;\n",
       "        } else {\n",
       "            event.step = -1;\n",
       "        }\n",
       "        mouse_event_fn(event);\n",
       "    });\n",
       "\n",
       "    canvas_div.append(canvas);\n",
       "    canvas_div.append(rubberband);\n",
       "\n",
       "    this.rubberband = rubberband;\n",
       "    this.rubberband_canvas = rubberband[0];\n",
       "    this.rubberband_context = rubberband[0].getContext(\"2d\");\n",
       "    this.rubberband_context.strokeStyle = \"#000000\";\n",
       "\n",
       "    this._resize_canvas = function(width, height) {\n",
       "        // Keep the size of the canvas, canvas container, and rubber band\n",
       "        // canvas in synch.\n",
       "        canvas_div.css('width', width)\n",
       "        canvas_div.css('height', height)\n",
       "\n",
       "        canvas.attr('width', width * mpl.ratio);\n",
       "        canvas.attr('height', height * mpl.ratio);\n",
       "        canvas.attr('style', 'width: ' + width + 'px; height: ' + height + 'px;');\n",
       "\n",
       "        rubberband.attr('width', width);\n",
       "        rubberband.attr('height', height);\n",
       "    }\n",
       "\n",
       "    // Set the figure to an initial 600x600px, this will subsequently be updated\n",
       "    // upon first draw.\n",
       "    this._resize_canvas(600, 600);\n",
       "\n",
       "    // Disable right mouse context menu.\n",
       "    $(this.rubberband_canvas).bind(\"contextmenu\",function(e){\n",
       "        return false;\n",
       "    });\n",
       "\n",
       "    function set_focus () {\n",
       "        canvas.focus();\n",
       "        canvas_div.focus();\n",
       "    }\n",
       "\n",
       "    window.setTimeout(set_focus, 100);\n",
       "}\n",
       "\n",
       "mpl.figure.prototype._init_toolbar = function() {\n",
       "    var fig = this;\n",
       "\n",
       "    var nav_element = $('<div/>');\n",
       "    nav_element.attr('style', 'width: 100%');\n",
       "    this.root.append(nav_element);\n",
       "\n",
       "    // Define a callback function for later on.\n",
       "    function toolbar_event(event) {\n",
       "        return fig.toolbar_button_onclick(event['data']);\n",
       "    }\n",
       "    function toolbar_mouse_event(event) {\n",
       "        return fig.toolbar_button_onmouseover(event['data']);\n",
       "    }\n",
       "\n",
       "    for(var toolbar_ind in mpl.toolbar_items) {\n",
       "        var name = mpl.toolbar_items[toolbar_ind][0];\n",
       "        var tooltip = mpl.toolbar_items[toolbar_ind][1];\n",
       "        var image = mpl.toolbar_items[toolbar_ind][2];\n",
       "        var method_name = mpl.toolbar_items[toolbar_ind][3];\n",
       "\n",
       "        if (!name) {\n",
       "            // put a spacer in here.\n",
       "            continue;\n",
       "        }\n",
       "        var button = $('<button/>');\n",
       "        button.addClass('ui-button ui-widget ui-state-default ui-corner-all ' +\n",
       "                        'ui-button-icon-only');\n",
       "        button.attr('role', 'button');\n",
       "        button.attr('aria-disabled', 'false');\n",
       "        button.click(method_name, toolbar_event);\n",
       "        button.mouseover(tooltip, toolbar_mouse_event);\n",
       "\n",
       "        var icon_img = $('<span/>');\n",
       "        icon_img.addClass('ui-button-icon-primary ui-icon');\n",
       "        icon_img.addClass(image);\n",
       "        icon_img.addClass('ui-corner-all');\n",
       "\n",
       "        var tooltip_span = $('<span/>');\n",
       "        tooltip_span.addClass('ui-button-text');\n",
       "        tooltip_span.html(tooltip);\n",
       "\n",
       "        button.append(icon_img);\n",
       "        button.append(tooltip_span);\n",
       "\n",
       "        nav_element.append(button);\n",
       "    }\n",
       "\n",
       "    var fmt_picker_span = $('<span/>');\n",
       "\n",
       "    var fmt_picker = $('<select/>');\n",
       "    fmt_picker.addClass('mpl-toolbar-option ui-widget ui-widget-content');\n",
       "    fmt_picker_span.append(fmt_picker);\n",
       "    nav_element.append(fmt_picker_span);\n",
       "    this.format_dropdown = fmt_picker[0];\n",
       "\n",
       "    for (var ind in mpl.extensions) {\n",
       "        var fmt = mpl.extensions[ind];\n",
       "        var option = $(\n",
       "            '<option/>', {selected: fmt === mpl.default_extension}).html(fmt);\n",
       "        fmt_picker.append(option);\n",
       "    }\n",
       "\n",
       "    // Add hover states to the ui-buttons\n",
       "    $( \".ui-button\" ).hover(\n",
       "        function() { $(this).addClass(\"ui-state-hover\");},\n",
       "        function() { $(this).removeClass(\"ui-state-hover\");}\n",
       "    );\n",
       "\n",
       "    var status_bar = $('<span class=\"mpl-message\"/>');\n",
       "    nav_element.append(status_bar);\n",
       "    this.message = status_bar[0];\n",
       "}\n",
       "\n",
       "mpl.figure.prototype.request_resize = function(x_pixels, y_pixels) {\n",
       "    // Request matplotlib to resize the figure. Matplotlib will then trigger a resize in the client,\n",
       "    // which will in turn request a refresh of the image.\n",
       "    this.send_message('resize', {'width': x_pixels, 'height': y_pixels});\n",
       "}\n",
       "\n",
       "mpl.figure.prototype.send_message = function(type, properties) {\n",
       "    properties['type'] = type;\n",
       "    properties['figure_id'] = this.id;\n",
       "    this.ws.send(JSON.stringify(properties));\n",
       "}\n",
       "\n",
       "mpl.figure.prototype.send_draw_message = function() {\n",
       "    if (!this.waiting) {\n",
       "        this.waiting = true;\n",
       "        this.ws.send(JSON.stringify({type: \"draw\", figure_id: this.id}));\n",
       "    }\n",
       "}\n",
       "\n",
       "\n",
       "mpl.figure.prototype.handle_save = function(fig, msg) {\n",
       "    var format_dropdown = fig.format_dropdown;\n",
       "    var format = format_dropdown.options[format_dropdown.selectedIndex].value;\n",
       "    fig.ondownload(fig, format);\n",
       "}\n",
       "\n",
       "\n",
       "mpl.figure.prototype.handle_resize = function(fig, msg) {\n",
       "    var size = msg['size'];\n",
       "    if (size[0] != fig.canvas.width || size[1] != fig.canvas.height) {\n",
       "        fig._resize_canvas(size[0], size[1]);\n",
       "        fig.send_message(\"refresh\", {});\n",
       "    };\n",
       "}\n",
       "\n",
       "mpl.figure.prototype.handle_rubberband = function(fig, msg) {\n",
       "    var x0 = msg['x0'] / mpl.ratio;\n",
       "    var y0 = (fig.canvas.height - msg['y0']) / mpl.ratio;\n",
       "    var x1 = msg['x1'] / mpl.ratio;\n",
       "    var y1 = (fig.canvas.height - msg['y1']) / mpl.ratio;\n",
       "    x0 = Math.floor(x0) + 0.5;\n",
       "    y0 = Math.floor(y0) + 0.5;\n",
       "    x1 = Math.floor(x1) + 0.5;\n",
       "    y1 = Math.floor(y1) + 0.5;\n",
       "    var min_x = Math.min(x0, x1);\n",
       "    var min_y = Math.min(y0, y1);\n",
       "    var width = Math.abs(x1 - x0);\n",
       "    var height = Math.abs(y1 - y0);\n",
       "\n",
       "    fig.rubberband_context.clearRect(\n",
       "        0, 0, fig.canvas.width / mpl.ratio, fig.canvas.height / mpl.ratio);\n",
       "\n",
       "    fig.rubberband_context.strokeRect(min_x, min_y, width, height);\n",
       "}\n",
       "\n",
       "mpl.figure.prototype.handle_figure_label = function(fig, msg) {\n",
       "    // Updates the figure title.\n",
       "    fig.header.textContent = msg['label'];\n",
       "}\n",
       "\n",
       "mpl.figure.prototype.handle_cursor = function(fig, msg) {\n",
       "    var cursor = msg['cursor'];\n",
       "    switch(cursor)\n",
       "    {\n",
       "    case 0:\n",
       "        cursor = 'pointer';\n",
       "        break;\n",
       "    case 1:\n",
       "        cursor = 'default';\n",
       "        break;\n",
       "    case 2:\n",
       "        cursor = 'crosshair';\n",
       "        break;\n",
       "    case 3:\n",
       "        cursor = 'move';\n",
       "        break;\n",
       "    }\n",
       "    fig.rubberband_canvas.style.cursor = cursor;\n",
       "}\n",
       "\n",
       "mpl.figure.prototype.handle_message = function(fig, msg) {\n",
       "    fig.message.textContent = msg['message'];\n",
       "}\n",
       "\n",
       "mpl.figure.prototype.handle_draw = function(fig, msg) {\n",
       "    // Request the server to send over a new figure.\n",
       "    fig.send_draw_message();\n",
       "}\n",
       "\n",
       "mpl.figure.prototype.handle_image_mode = function(fig, msg) {\n",
       "    fig.image_mode = msg['mode'];\n",
       "}\n",
       "\n",
       "mpl.figure.prototype.updated_canvas_event = function() {\n",
       "    // Called whenever the canvas gets updated.\n",
       "    this.send_message(\"ack\", {});\n",
       "}\n",
       "\n",
       "// A function to construct a web socket function for onmessage handling.\n",
       "// Called in the figure constructor.\n",
       "mpl.figure.prototype._make_on_message_function = function(fig) {\n",
       "    return function socket_on_message(evt) {\n",
       "        if (evt.data instanceof Blob) {\n",
       "            /* FIXME: We get \"Resource interpreted as Image but\n",
       "             * transferred with MIME type text/plain:\" errors on\n",
       "             * Chrome.  But how to set the MIME type?  It doesn't seem\n",
       "             * to be part of the websocket stream */\n",
       "            evt.data.type = \"image/png\";\n",
       "\n",
       "            /* Free the memory for the previous frames */\n",
       "            if (fig.imageObj.src) {\n",
       "                (window.URL || window.webkitURL).revokeObjectURL(\n",
       "                    fig.imageObj.src);\n",
       "            }\n",
       "\n",
       "            fig.imageObj.src = (window.URL || window.webkitURL).createObjectURL(\n",
       "                evt.data);\n",
       "            fig.updated_canvas_event();\n",
       "            fig.waiting = false;\n",
       "            return;\n",
       "        }\n",
       "        else if (typeof evt.data === 'string' && evt.data.slice(0, 21) == \"data:image/png;base64\") {\n",
       "            fig.imageObj.src = evt.data;\n",
       "            fig.updated_canvas_event();\n",
       "            fig.waiting = false;\n",
       "            return;\n",
       "        }\n",
       "\n",
       "        var msg = JSON.parse(evt.data);\n",
       "        var msg_type = msg['type'];\n",
       "\n",
       "        // Call the  \"handle_{type}\" callback, which takes\n",
       "        // the figure and JSON message as its only arguments.\n",
       "        try {\n",
       "            var callback = fig[\"handle_\" + msg_type];\n",
       "        } catch (e) {\n",
       "            console.log(\"No handler for the '\" + msg_type + \"' message type: \", msg);\n",
       "            return;\n",
       "        }\n",
       "\n",
       "        if (callback) {\n",
       "            try {\n",
       "                // console.log(\"Handling '\" + msg_type + \"' message: \", msg);\n",
       "                callback(fig, msg);\n",
       "            } catch (e) {\n",
       "                console.log(\"Exception inside the 'handler_\" + msg_type + \"' callback:\", e, e.stack, msg);\n",
       "            }\n",
       "        }\n",
       "    };\n",
       "}\n",
       "\n",
       "// from http://stackoverflow.com/questions/1114465/getting-mouse-location-in-canvas\n",
       "mpl.findpos = function(e) {\n",
       "    //this section is from http://www.quirksmode.org/js/events_properties.html\n",
       "    var targ;\n",
       "    if (!e)\n",
       "        e = window.event;\n",
       "    if (e.target)\n",
       "        targ = e.target;\n",
       "    else if (e.srcElement)\n",
       "        targ = e.srcElement;\n",
       "    if (targ.nodeType == 3) // defeat Safari bug\n",
       "        targ = targ.parentNode;\n",
       "\n",
       "    // jQuery normalizes the pageX and pageY\n",
       "    // pageX,Y are the mouse positions relative to the document\n",
       "    // offset() returns the position of the element relative to the document\n",
       "    var x = e.pageX - $(targ).offset().left;\n",
       "    var y = e.pageY - $(targ).offset().top;\n",
       "\n",
       "    return {\"x\": x, \"y\": y};\n",
       "};\n",
       "\n",
       "/*\n",
       " * return a copy of an object with only non-object keys\n",
       " * we need this to avoid circular references\n",
       " * http://stackoverflow.com/a/24161582/3208463\n",
       " */\n",
       "function simpleKeys (original) {\n",
       "  return Object.keys(original).reduce(function (obj, key) {\n",
       "    if (typeof original[key] !== 'object')\n",
       "        obj[key] = original[key]\n",
       "    return obj;\n",
       "  }, {});\n",
       "}\n",
       "\n",
       "mpl.figure.prototype.mouse_event = function(event, name) {\n",
       "    var canvas_pos = mpl.findpos(event)\n",
       "\n",
       "    if (name === 'button_press')\n",
       "    {\n",
       "        this.canvas.focus();\n",
       "        this.canvas_div.focus();\n",
       "    }\n",
       "\n",
       "    var x = canvas_pos.x * mpl.ratio;\n",
       "    var y = canvas_pos.y * mpl.ratio;\n",
       "\n",
       "    this.send_message(name, {x: x, y: y, button: event.button,\n",
       "                             step: event.step,\n",
       "                             guiEvent: simpleKeys(event)});\n",
       "\n",
       "    /* This prevents the web browser from automatically changing to\n",
       "     * the text insertion cursor when the button is pressed.  We want\n",
       "     * to control all of the cursor setting manually through the\n",
       "     * 'cursor' event from matplotlib */\n",
       "    event.preventDefault();\n",
       "    return false;\n",
       "}\n",
       "\n",
       "mpl.figure.prototype._key_event_extra = function(event, name) {\n",
       "    // Handle any extra behaviour associated with a key event\n",
       "}\n",
       "\n",
       "mpl.figure.prototype.key_event = function(event, name) {\n",
       "\n",
       "    // Prevent repeat events\n",
       "    if (name == 'key_press')\n",
       "    {\n",
       "        if (event.which === this._key)\n",
       "            return;\n",
       "        else\n",
       "            this._key = event.which;\n",
       "    }\n",
       "    if (name == 'key_release')\n",
       "        this._key = null;\n",
       "\n",
       "    var value = '';\n",
       "    if (event.ctrlKey && event.which != 17)\n",
       "        value += \"ctrl+\";\n",
       "    if (event.altKey && event.which != 18)\n",
       "        value += \"alt+\";\n",
       "    if (event.shiftKey && event.which != 16)\n",
       "        value += \"shift+\";\n",
       "\n",
       "    value += 'k';\n",
       "    value += event.which.toString();\n",
       "\n",
       "    this._key_event_extra(event, name);\n",
       "\n",
       "    this.send_message(name, {key: value,\n",
       "                             guiEvent: simpleKeys(event)});\n",
       "    return false;\n",
       "}\n",
       "\n",
       "mpl.figure.prototype.toolbar_button_onclick = function(name) {\n",
       "    if (name == 'download') {\n",
       "        this.handle_save(this, null);\n",
       "    } else {\n",
       "        this.send_message(\"toolbar_button\", {name: name});\n",
       "    }\n",
       "};\n",
       "\n",
       "mpl.figure.prototype.toolbar_button_onmouseover = function(tooltip) {\n",
       "    this.message.textContent = tooltip;\n",
       "};\n",
       "mpl.toolbar_items = [[\"Home\", \"Reset original view\", \"fa fa-home icon-home\", \"home\"], [\"Back\", \"Back to previous view\", \"fa fa-arrow-left icon-arrow-left\", \"back\"], [\"Forward\", \"Forward to next view\", \"fa fa-arrow-right icon-arrow-right\", \"forward\"], [\"\", \"\", \"\", \"\"], [\"Pan\", \"Pan axes with left mouse, zoom with right\", \"fa fa-arrows icon-move\", \"pan\"], [\"Zoom\", \"Zoom to rectangle\", \"fa fa-square-o icon-check-empty\", \"zoom\"], [\"\", \"\", \"\", \"\"], [\"Download\", \"Download plot\", \"fa fa-floppy-o icon-save\", \"download\"]];\n",
       "\n",
       "mpl.extensions = [\"eps\", \"jpeg\", \"pdf\", \"png\", \"ps\", \"raw\", \"svg\", \"tif\"];\n",
       "\n",
       "mpl.default_extension = \"png\";var comm_websocket_adapter = function(comm) {\n",
       "    // Create a \"websocket\"-like object which calls the given IPython comm\n",
       "    // object with the appropriate methods. Currently this is a non binary\n",
       "    // socket, so there is still some room for performance tuning.\n",
       "    var ws = {};\n",
       "\n",
       "    ws.close = function() {\n",
       "        comm.close()\n",
       "    };\n",
       "    ws.send = function(m) {\n",
       "        //console.log('sending', m);\n",
       "        comm.send(m);\n",
       "    };\n",
       "    // Register the callback with on_msg.\n",
       "    comm.on_msg(function(msg) {\n",
       "        //console.log('receiving', msg['content']['data'], msg);\n",
       "        // Pass the mpl event to the overridden (by mpl) onmessage function.\n",
       "        ws.onmessage(msg['content']['data'])\n",
       "    });\n",
       "    return ws;\n",
       "}\n",
       "\n",
       "mpl.mpl_figure_comm = function(comm, msg) {\n",
       "    // This is the function which gets called when the mpl process\n",
       "    // starts-up an IPython Comm through the \"matplotlib\" channel.\n",
       "\n",
       "    var id = msg.content.data.id;\n",
       "    // Get hold of the div created by the display call when the Comm\n",
       "    // socket was opened in Python.\n",
       "    var element = $(\"#\" + id);\n",
       "    var ws_proxy = comm_websocket_adapter(comm)\n",
       "\n",
       "    function ondownload(figure, format) {\n",
       "        window.open(figure.imageObj.src);\n",
       "    }\n",
       "\n",
       "    var fig = new mpl.figure(id, ws_proxy,\n",
       "                           ondownload,\n",
       "                           element.get(0));\n",
       "\n",
       "    // Call onopen now - mpl needs it, as it is assuming we've passed it a real\n",
       "    // web socket which is closed, not our websocket->open comm proxy.\n",
       "    ws_proxy.onopen();\n",
       "\n",
       "    fig.parent_element = element.get(0);\n",
       "    fig.cell_info = mpl.find_output_cell(\"<div id='\" + id + \"'></div>\");\n",
       "    if (!fig.cell_info) {\n",
       "        console.error(\"Failed to find cell for figure\", id, fig);\n",
       "        return;\n",
       "    }\n",
       "\n",
       "    var output_index = fig.cell_info[2]\n",
       "    var cell = fig.cell_info[0];\n",
       "\n",
       "};\n",
       "\n",
       "mpl.figure.prototype.handle_close = function(fig, msg) {\n",
       "    var width = fig.canvas.width/mpl.ratio\n",
       "    fig.root.unbind('remove')\n",
       "\n",
       "    // Update the output cell to use the data from the current canvas.\n",
       "    fig.push_to_output();\n",
       "    var dataURL = fig.canvas.toDataURL();\n",
       "    // Re-enable the keyboard manager in IPython - without this line, in FF,\n",
       "    // the notebook keyboard shortcuts fail.\n",
       "    IPython.keyboard_manager.enable()\n",
       "    $(fig.parent_element).html('<img src=\"' + dataURL + '\" width=\"' + width + '\">');\n",
       "    fig.close_ws(fig, msg);\n",
       "}\n",
       "\n",
       "mpl.figure.prototype.close_ws = function(fig, msg){\n",
       "    fig.send_message('closing', msg);\n",
       "    // fig.ws.close()\n",
       "}\n",
       "\n",
       "mpl.figure.prototype.push_to_output = function(remove_interactive) {\n",
       "    // Turn the data on the canvas into data in the output cell.\n",
       "    var width = this.canvas.width/mpl.ratio\n",
       "    var dataURL = this.canvas.toDataURL();\n",
       "    this.cell_info[1]['text/html'] = '<img src=\"' + dataURL + '\" width=\"' + width + '\">';\n",
       "}\n",
       "\n",
       "mpl.figure.prototype.updated_canvas_event = function() {\n",
       "    // Tell IPython that the notebook contents must change.\n",
       "    IPython.notebook.set_dirty(true);\n",
       "    this.send_message(\"ack\", {});\n",
       "    var fig = this;\n",
       "    // Wait a second, then push the new image to the DOM so\n",
       "    // that it is saved nicely (might be nice to debounce this).\n",
       "    setTimeout(function () { fig.push_to_output() }, 1000);\n",
       "}\n",
       "\n",
       "mpl.figure.prototype._init_toolbar = function() {\n",
       "    var fig = this;\n",
       "\n",
       "    var nav_element = $('<div/>');\n",
       "    nav_element.attr('style', 'width: 100%');\n",
       "    this.root.append(nav_element);\n",
       "\n",
       "    // Define a callback function for later on.\n",
       "    function toolbar_event(event) {\n",
       "        return fig.toolbar_button_onclick(event['data']);\n",
       "    }\n",
       "    function toolbar_mouse_event(event) {\n",
       "        return fig.toolbar_button_onmouseover(event['data']);\n",
       "    }\n",
       "\n",
       "    for(var toolbar_ind in mpl.toolbar_items){\n",
       "        var name = mpl.toolbar_items[toolbar_ind][0];\n",
       "        var tooltip = mpl.toolbar_items[toolbar_ind][1];\n",
       "        var image = mpl.toolbar_items[toolbar_ind][2];\n",
       "        var method_name = mpl.toolbar_items[toolbar_ind][3];\n",
       "\n",
       "        if (!name) { continue; };\n",
       "\n",
       "        var button = $('<button class=\"btn btn-default\" href=\"#\" title=\"' + name + '\"><i class=\"fa ' + image + ' fa-lg\"></i></button>');\n",
       "        button.click(method_name, toolbar_event);\n",
       "        button.mouseover(tooltip, toolbar_mouse_event);\n",
       "        nav_element.append(button);\n",
       "    }\n",
       "\n",
       "    // Add the status bar.\n",
       "    var status_bar = $('<span class=\"mpl-message\" style=\"text-align:right; float: right;\"/>');\n",
       "    nav_element.append(status_bar);\n",
       "    this.message = status_bar[0];\n",
       "\n",
       "    // Add the close button to the window.\n",
       "    var buttongrp = $('<div class=\"btn-group inline pull-right\"></div>');\n",
       "    var button = $('<button class=\"btn btn-mini btn-primary\" href=\"#\" title=\"Stop Interaction\"><i class=\"fa fa-power-off icon-remove icon-large\"></i></button>');\n",
       "    button.click(function (evt) { fig.handle_close(fig, {}); } );\n",
       "    button.mouseover('Stop Interaction', toolbar_mouse_event);\n",
       "    buttongrp.append(button);\n",
       "    var titlebar = this.root.find($('.ui-dialog-titlebar'));\n",
       "    titlebar.prepend(buttongrp);\n",
       "}\n",
       "\n",
       "mpl.figure.prototype._root_extra_style = function(el){\n",
       "    var fig = this\n",
       "    el.on(\"remove\", function(){\n",
       "\tfig.close_ws(fig, {});\n",
       "    });\n",
       "}\n",
       "\n",
       "mpl.figure.prototype._canvas_extra_style = function(el){\n",
       "    // this is important to make the div 'focusable\n",
       "    el.attr('tabindex', 0)\n",
       "    // reach out to IPython and tell the keyboard manager to turn it's self\n",
       "    // off when our div gets focus\n",
       "\n",
       "    // location in version 3\n",
       "    if (IPython.notebook.keyboard_manager) {\n",
       "        IPython.notebook.keyboard_manager.register_events(el);\n",
       "    }\n",
       "    else {\n",
       "        // location in version 2\n",
       "        IPython.keyboard_manager.register_events(el);\n",
       "    }\n",
       "\n",
       "}\n",
       "\n",
       "mpl.figure.prototype._key_event_extra = function(event, name) {\n",
       "    var manager = IPython.notebook.keyboard_manager;\n",
       "    if (!manager)\n",
       "        manager = IPython.keyboard_manager;\n",
       "\n",
       "    // Check for shift+enter\n",
       "    if (event.shiftKey && event.which == 13) {\n",
       "        this.canvas_div.blur();\n",
       "        event.shiftKey = false;\n",
       "        // Send a \"J\" for go to next cell\n",
       "        event.which = 74;\n",
       "        event.keyCode = 74;\n",
       "        manager.command_mode();\n",
       "        manager.handle_keydown(event);\n",
       "    }\n",
       "}\n",
       "\n",
       "mpl.figure.prototype.handle_save = function(fig, msg) {\n",
       "    fig.ondownload(fig, null);\n",
       "}\n",
       "\n",
       "\n",
       "mpl.find_output_cell = function(html_output) {\n",
       "    // Return the cell and output element which can be found *uniquely* in the notebook.\n",
       "    // Note - this is a bit hacky, but it is done because the \"notebook_saving.Notebook\"\n",
       "    // IPython event is triggered only after the cells have been serialised, which for\n",
       "    // our purposes (turning an active figure into a static one), is too late.\n",
       "    var cells = IPython.notebook.get_cells();\n",
       "    var ncells = cells.length;\n",
       "    for (var i=0; i<ncells; i++) {\n",
       "        var cell = cells[i];\n",
       "        if (cell.cell_type === 'code'){\n",
       "            for (var j=0; j<cell.output_area.outputs.length; j++) {\n",
       "                var data = cell.output_area.outputs[j];\n",
       "                if (data.data) {\n",
       "                    // IPython >= 3 moved mimebundle to data attribute of output\n",
       "                    data = data.data;\n",
       "                }\n",
       "                if (data['text/html'] == html_output) {\n",
       "                    return [cell, data, j];\n",
       "                }\n",
       "            }\n",
       "        }\n",
       "    }\n",
       "}\n",
       "\n",
       "// Register the function which deals with the matplotlib target/channel.\n",
       "// The kernel may be null if the page has been refreshed.\n",
       "if (IPython.notebook.kernel != null) {\n",
       "    IPython.notebook.kernel.comm_manager.register_target('matplotlib', mpl.mpl_figure_comm);\n",
       "}\n"
      ],
      "text/plain": [
       "<IPython.core.display.Javascript object>"
      ]
     },
     "metadata": {},
     "output_type": "display_data"
    },
    {
     "data": {
      "text/html": [
       "<img src=\"data:image/png;base64,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\" width=\"640\">"
      ],
      "text/plain": [
       "<IPython.core.display.HTML object>"
      ]
     },
     "metadata": {},
     "output_type": "display_data"
    },
    {
     "data": {
      "text/plain": [
       "<matplotlib.axes._subplots.AxesSubplot at 0x7f4e9148cac8>"
      ]
     },
     "execution_count": 15,
     "metadata": {},
     "output_type": "execute_result"
    }
   ],
   "source": [
    "fig, ax = plt.subplots()\n",
    "sns.heatmap(auc_df, cbar=False, annot=True, fmt=\".4g\")"
   ]
  },
  {
   "cell_type": "markdown",
   "metadata": {},
   "source": [
    "More advanced tuning methods like Bayesian Optimization can be used for searching for the optimal model efficiently. The benefit of using, for example, `HyperDrive` from Azure Machine Learning Services, for tuning the parameters, is that, the tuning tasks can be distributed across nodes of a cluster and the optimization can be run concurrently to save the total cost.\n",
    "\n",
    "* Details about how to tune hyper parameters by using Azure Machine Learning Services can be found [here](https://github.com/microsoft/recommenders/tree/master/notebooks/04_model_select_and_optimize).\n",
    "* Note, to enable the tuning task on Azure Machine Learning Services by using HyperDrive, one needs a Docker image to containerize the environment where `xlearn` can be run. The Docker file provided [here](https://github.com/microsoft/recommenders/tree/master/docker) can be used for such purpose."
   ]
  },
  {
   "cell_type": "markdown",
   "metadata": {},
   "source": [
    "### 2.4 Clean up"
   ]
  },
  {
   "cell_type": "code",
   "execution_count": 16,
   "metadata": {},
   "outputs": [],
   "source": [
    "tmpdir.cleanup()"
   ]
  },
  {
   "cell_type": "markdown",
   "metadata": {},
   "source": [
    "## References"
   ]
  },
  {
   "cell_type": "markdown",
   "metadata": {},
   "source": [
    "<a id='references'></a>\n",
    "1. Rendle, Steffen. \"Factorization machines.\" 2010 IEEE International Conference on Data Mining. IEEE, 2010.\n",
    "2. Juan, Yuchin, et al. \"Field-aware factorization machines for CTR prediction.\" Proceedings of the 10th ACM Conference on Recommender Systems. ACM, 2016.\n",
    "3. Guo, Huifeng, et al. \"DeepFM: a factorization-machine based neural network for CTR prediction.\" arXiv preprint arXiv:1703.04247 (2017).\n",
    "4. Lian, Jianxun, et al. \"xdeepfm: Combining explicit and implicit feature interactions for recommender systems.\" Proceedings of the 24th ACM SIGKDD International Conference on Knowledge Discovery & Data Mining. ACM, 2018.\n",
    "5. Qu, Yanru, et al. \"Product-based neural networks for user response prediction.\" 2016 IEEE 16th International Conference on Data Mining (ICDM). IEEE, 2016.\n",
    "6. Zhang, Weinan, Tianming Du, and Jun Wang. \"Deep learning over multi-field categorical data.\" European conference on information retrieval. Springer, Cham, 2016.\n",
    "7. He, Xiangnan, and Tat-Seng Chua. \"Neural factorization machines for sparse predictive analytics.\" Proceedings of the 40th International ACM SIGIR conference on Research and Development in Information Retrieval. ACM, 2017.\n",
    "8. Cheng, Heng-Tze, et al. \"Wide & deep learning for recommender systems.\" Proceedings of the 1st workshop on deep learning for recommender systems. ACM, 2016.\n",
    "9. Langford, John, Lihong Li, and Alex Strehl. \"Vowpal wabbit online learning project.\" (2007)."
   ]
  }
 ],
 "metadata": {
  "celltoolbar": "Tags",
  "kernelspec": {
   "display_name": "Python (GPU)",
   "language": "python",
   "name": "reco_gpu"
  },
  "language_info": {
   "codemirror_mode": {
    "name": "ipython",
    "version": 3
   },
   "file_extension": ".py",
   "mimetype": "text/x-python",
   "name": "python",
   "nbconvert_exporter": "python",
   "pygments_lexer": "ipython3",
   "version": "3.6.8"
  }
 },
 "nbformat": 4,
 "nbformat_minor": 2
}
