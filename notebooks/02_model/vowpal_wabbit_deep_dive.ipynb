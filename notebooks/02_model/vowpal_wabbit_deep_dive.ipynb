{
 "cells": [
  {
   "cell_type": "markdown",
   "metadata": {},
   "source": [
    "<h1>Using Vowpal Wabbit for Recommendations</h1>\n",
    "\n",
    "[Vowpal Wabbit](https://github.com/VowpalWabbit/vowpal_wabbit)\n",
    "\n",
    "- linear / logistic regression\n",
    "- matrix factorization\n",
    "\n",
    "https://stackoverflow.com/questions/39040721/vowpal-wabbit-low-rank-matrix-factorization"
   ]
  },
  {
   "cell_type": "code",
   "execution_count": 90,
   "metadata": {},
   "outputs": [],
   "source": [
    "import sys\n",
    "sys.path.append('..')"
   ]
  },
  {
   "cell_type": "code",
   "execution_count": 47,
   "metadata": {},
   "outputs": [],
   "source": [
    "import os\n",
    "from subprocess import run\n",
    "from tempfile import TemporaryDirectory\n",
    "\n",
    "import pandas as pd\n",
    "\n",
    "from reco_utils.dataset.movielens import load_pandas_df\n",
    "from reco_utils.dataset.python_splitters import python_stratified_split\n",
    "from reco_utils.evaluation.python_evaluation import rmse, mae, exp_var, rsquared"
   ]
  },
  {
   "cell_type": "code",
   "execution_count": 12,
   "metadata": {},
   "outputs": [],
   "source": [
    "def to_vw(df, output):\n",
    "    \"\"\"Convert Pandas DataFrame to vw input format\n",
    "    Args:\n",
    "        df (pd.DataFrame): input DataFrame\n",
    "        output (str): path to output file\n",
    "    \"\"\"\n",
    "    with open(output, 'w') as f:\n",
    "        for _, row in df.reset_index().iterrows():\n",
    "            f.write('{rating} {index}|u {userID} |i {itemID}\\n'.format_map(row))"
   ]
  },
  {
   "cell_type": "code",
   "execution_count": 74,
   "metadata": {},
   "outputs": [],
   "source": [
    "def evaluate(test, prediction_path):\n",
    "    \"\"\"Convenience function to show metrics of interest\"\"\"\n",
    "    preds = pd.read_csv(prediction_path, delim_whitespace=True, names=['prediction'], index_col=1).join(test)\n",
    "    # ensure results are integers\n",
    "    preds['prediction'] = preds['prediction'].apply(lambda x: int(max(1, min(5, round(x)))))\n",
    "\n",
    "    for f in [rmse, mae, rsquared, exp_var]:\n",
    "        print('{name}: {metric}'.format(name=f.__name__.upper(), metric=f(test, preds)))"
   ]
  },
  {
   "cell_type": "code",
   "execution_count": 92,
   "metadata": {},
   "outputs": [],
   "source": [
    "# create temp directory to maintain data files\n",
    "tmpdir = TemporaryDirectory()\n",
    "\n",
    "model_path = os.path.join(tmpdir.name, 'vw.model')\n",
    "train_path = os.path.join(tmpdir.name, 'train.dat')\n",
    "test_path = os.path.join(tmpdir.name, 'test.dat')\n",
    "prediction_path = os.path.join(tmpdir.name, 'prediction.dat')"
   ]
  },
  {
   "cell_type": "code",
   "execution_count": 96,
   "metadata": {},
   "outputs": [],
   "source": [
    "# load movielens data (defaults to 100k dataset)\n",
    "df = load_pandas_df()\n",
    "\n",
    "# we need to reset the rating type to an integer to simplify the vw formatting\n",
    "df['rating'] = df['rating'].astype('int64')\n",
    "\n",
    "# split data to train and test sets, default values take 75% of each users ratings as train, and 25% as test\n",
    "train, test = python_stratified_split(df)\n",
    "\n",
    "# save train and test data in vw format\n",
    "to_vw(train, train_path)\n",
    "to_vw(test, test_path)"
   ]
  },
  {
   "cell_type": "code",
   "execution_count": 97,
   "metadata": {},
   "outputs": [
    {
     "name": "stdout",
     "output_type": "stream",
     "text": [
      "RMSE: 1.096127511484472\n",
      "MAE: 0.7486004478566859\n",
      "RSQUARED: 0.0619844518503353\n",
      "EXP_VAR: 0.09174928195842325\n"
     ]
    }
   ],
   "source": [
    "train_params = 'vw --loss_function logistic --oaa 5 -f {model} -d {data}'.format(model=model_path, data=train_path)\n",
    "test_params = 'vw --loss_function logistic -i {model} -d {data} -t -p {pred}'.format(model=model_path, data=test_path, pred=prediction_path)\n",
    "\n",
    "run(train_params.split(' '))\n",
    "run(test_params.split(' '))\n",
    "evaluate(test=test, prediction_path=prediction_path)"
   ]
  },
  {
   "cell_type": "code",
   "execution_count": 98,
   "metadata": {},
   "outputs": [
    {
     "name": "stdout",
     "output_type": "stream",
     "text": [
      "RMSE: 1.0062584072124479\n",
      "MAE: 0.727447216890595\n",
      "RSQUARED: 0.2094908073935564\n",
      "EXP_VAR: 0.20961863654797408\n"
     ]
    }
   ],
   "source": [
    "train_params = 'vw -f {model} -d {data}'.format(model=model_path, data=train_path)\n",
    "test_params = 'vw -i {model} -d {data} -t -p {pred}'.format(model=model_path, data=test_path, pred=prediction_path)\n",
    "\n",
    "run(train_params.split(' '))\n",
    "run(test_params.split(' '))\n",
    "evaluate(test=test, prediction_path=prediction_path)"
   ]
  },
  {
   "cell_type": "code",
   "execution_count": 101,
   "metadata": {},
   "outputs": [
    {
     "name": "stdout",
     "output_type": "stream",
     "text": [
      "RMSE: 1.0417354423872618\n",
      "MAE: 0.7565978886756238\n",
      "RSQUARED: 0.15276719934656535\n",
      "EXP_VAR: 0.1679807175013488\n"
     ]
    }
   ],
   "source": [
    "# https://github.com/VowpalWabbit/vowpal_wabbit/wiki/Matrix-factorization-example\n",
    "train_params = 'vw --rank 5 -qui -f {model} -d {data}'.format(model=model_path, data=train_path)\n",
    "test_params = 'vw -i {model} -d {data} -t -p {pred}'.format(model=model_path, data=test_path, pred=prediction_path)\n",
    "\n",
    "run(train_params.split(' '))\n",
    "run(test_params.split(' '))\n",
    "evaluate(test=test, prediction_path=prediction_path)"
   ]
  },
  {
   "cell_type": "code",
   "execution_count": 100,
   "metadata": {},
   "outputs": [
    {
     "name": "stdout",
     "output_type": "stream",
     "text": [
      "RMSE: 1.022910147347139\n",
      "MAE: 0.7394033909149073\n",
      "RSQUARED: 0.18311136391545657\n",
      "EXP_VAR: 0.18355330450522944\n"
     ]
    }
   ],
   "source": [
    "# https://github.com/VowpalWabbit/vowpal_wabbit/tree/master/demo/movielens\n",
    "train_params = 'vw --lrq ui5 -f {model} -d {data}'.format(model=model_path, data=train_path)\n",
    "test_params = 'vw -i {model} -d {data} -t -p {pred}'.format(model=model_path, data=test_path, pred=prediction_path)\n",
    "\n",
    "run(train_params.split(' '))\n",
    "run(test_params.split(' '))\n",
    "evaluate(test=test, prediction_path=prediction_path)"
   ]
  },
  {
   "cell_type": "code",
   "execution_count": 88,
   "metadata": {},
   "outputs": [],
   "source": [
    "# show example of get_top_k"
   ]
  },
  {
   "cell_type": "code",
   "execution_count": 89,
   "metadata": {},
   "outputs": [],
   "source": [
    "tmpdir.cleanup()"
   ]
  },
  {
   "cell_type": "code",
   "execution_count": null,
   "metadata": {},
   "outputs": [],
   "source": []
  }
 ],
 "metadata": {
  "kernelspec": {
   "display_name": "Python (reco)",
   "language": "python",
   "name": "reco"
  },
  "language_info": {
   "codemirror_mode": {
    "name": "ipython",
    "version": 3
   },
   "file_extension": ".py",
   "mimetype": "text/x-python",
   "name": "python",
   "nbconvert_exporter": "python",
   "pygments_lexer": "ipython3",
   "version": "3.6.7"
  }
 },
 "nbformat": 4,
 "nbformat_minor": 2
}
