{
 "cells": [
  {
   "cell_type": "markdown",
   "metadata": {},
   "source": [
    "# LightFM -  hybrid matrix factorisation on MovieLens (Python, CPU)"
   ]
  },
  {
   "cell_type": "markdown",
   "metadata": {},
   "source": [
    "## Notes\n",
    "Last updated: 24-04-2020\n",
    "\n",
    "TO-DO:\n",
    "- update movielens in reco_utils to retrieve and join user metadata\n",
    "- extract model outputs to assess performance with ndcg_at_k"
   ]
  },
  {
   "cell_type": "markdown",
   "metadata": {},
   "source": [
    "This notebook explains the concept of a hybrid matrix factorisation based model for recommendation, it also outlines the steps to construct a pure matrix factorisation and a hybrid models using the [LightFM](https://github.com/lyst/lightfm) package. It also demonstrates how to extract both user and item affinity from a fitted hybrid model.\n",
    "\n",
    "## 1. Hybrid matrix factorisation model\n",
    "\n",
    "### 1.1 Background\n",
    "\n",
    "In general, most recommendation models can be divided into two categories:\n",
    "- Content based model,\n",
    "- Collaborative filtering model.\n",
    "\n",
    "The content-based model recommends based on similarity of the items and/or users using their description/metadata/profile. On the other hand, collaborative filtering model (discussion is limited to matrix factorisation approach in this notebook) computes the latent factors of the users and items. It works based on the assumption that if a group of people expressed similar opinions on an item, these peole would tend to have similar opinions on other items. For further background and detailed explanation between these two approaches, the reader can refer to machine learning literatures [3, 4].\n",
    "\n",
    "The choice between the two models is largely based on the data availability. For example, the collaborative filtering model is usually adopted and effective when sufficient ratings/feedbacks have been recorded for a group of users and items.\n",
    "\n",
    "However, if there is a lack of ratings, content based model can be used provided that the metadata of the users and items are available. This is also the common approach to address the cold-start issues, where there are insufficient historical collaborative interactions available to model new users and/or items.\n",
    "\n",
    "<!-- In addition, most collaborative filtering models only consume explicit ratings e.g. movie \n",
    "\n",
    "**NOTE** add stuff about implicit and explicit ratings -->\n",
    "\n",
    "### 1.2 Hybrid matrix factorisation algorithm\n",
    "\n",
    "In view of the above problems, there have been a number of proposals to address the cold-start issues by combining both content-based and collaborative filtering approaches. The hybrid matrix factorisation model is among one of the solutions proposed [1].  \n",
    "\n",
    "In general, most hybrid approaches proposed different ways of assessing and/or combining the feature data in conjunction with the collaborative information.\n",
    "\n",
    "### 1.3 LightFM package \n",
    "\n",
    "LightFM is a Python implementation of a hybrid recommendation algorithms for both implicit and explicit feedbacks [1].\n",
    "\n",
    "It is a hybrid content-collaborative model which represents users and items as linear combinations of their content features’ latent factors. The model learns **embeddings or latent representations of the users and items in such a way that it encodes user preferences over items**. These representations produce scores for every item for a given user; items scored highly are more likely to be interesting to the user.\n",
    "\n",
    "The user and item embeddings are estimated for every feature, and these features are then added together to be the final representations for users and items. \n",
    "\n",
    "For example, for user i, the model retrieves the i-th row of the feature matrix to find the features with non-zero weights. The embeddings for these features will then be added together to become the user representation e.g. if user 10 has weight 1 in the 5th column of the user feature matrix, and weight 3 in the 20th column, the user 10’s representation is the sum of embedding for the 5th and the 20th features multiplying their corresponding weights. The representation for each items is computed in the same approach. \n",
    "\n",
    "#### 1.3.1 Modelling approach\n",
    "\n",
    "Let $U$ be the set of users and $I$ be the set of items, and each user can be described by a set of user features $f_{u} \\subset F^{U}$ whilst each items can be described by item features $f_{i} \\subset F^{I}$. Both $F^{U}$ and $F^{I}$ are all the features which fully describe all users and items. \n",
    "\n",
    "The LightFM model operates based binary feedbacks, the ratings will be normalised into two groups. The user-item interaction pairs $(u,i) \\in U\\times I$ are the union of positive (favourable reviews) $S^+$ and negative interactions (negative reviews) $S^-$ for explicit ratings. For implicit feedbacks, these can be the observed and not observed interactions respectively.\n",
    "\n",
    "For each user and item feature, their embeddings are $e_{f}^{U}$ and $e_{f}^{I}$ respectively. Furthermore, each feature is also has a scalar bias term ($b_U^f$ for user and $b_I^f$ for item features). The embedding (latent representation) of user $u$ and item $i$ are the sum of its respective features’ latent vectors:\n",
    "\n",
    "\\begin{equation}\n",
    "    q_u = \\sum_{j \\in f_u} e_{j}^{U}\n",
    "\\end{equation}\n",
    "\n",
    "\\begin{equation}\n",
    "    p_i = \\sum_{j \\in f_i} e_{j}^{I}\n",
    "\\end{equation}\n",
    "\n",
    "Similarly the biases for user $u$ and item $i$ are the sum of its respective bias vectors. These variables capture the variation in behaviour across users and items:\n",
    "\n",
    "\\begin{equation}\n",
    "    b_u = \\sum_{j \\in f_u} b_{j}^{U}\n",
    "\\end{equation}\n",
    "\n",
    "\\begin{equation}\n",
    "    b_i = \\sum_{j \\in f_i} b_{j}^{I}\n",
    "\\end{equation}\n",
    "\n",
    "In LightFM, the representation for each user/item is a linear weighted sum of its feature vectors.\n",
    "\n",
    "The prediction for user $u$ and item $i$ can be modelled as sigmoid of the dot product of user and item vectors, adjusted by its feature biases as follows:\n",
    "\n",
    "\\begin{equation}\n",
    "    \\hat{r}_{ui} = \\sigma (q_u · p_i + b_u + b_i)\n",
    "\\end{equation}\n",
    "\n",
    "As the LightFM is constructed to predict binary outcomes e.g. $S^+$ and $S^-$, the function $\\sigma()$ is based on the [sigmoid function](https://mathworld.wolfram.com/SigmoidFunction.html). \n",
    "\n",
    "The LightFM algorithm estimates interaction latent vectors and bias for features. For model fitting, the cost function of the model consists of maximising the likelihood of data conditional on the parameters described above using stochastic gradient descent. The likelihood can be expressed as follows:\n",
    "\n",
    "\\begin{equation}\n",
    "   L = \\prod_{(u,i) \\in S+}\\hat{r}_{ui} \\times \\prod_{(u,i) \\in S-}1 - \\hat{r}_{ui}\n",
    "\\end{equation}\n",
    "\n",
    "Note that if the feature latent vectors are not available, the algorithm will be behaves like a [logistic matrix factorisation model](http://stanford.edu/~rezab/nips2014workshop/submits/logmat.pdf)."
   ]
  },
  {
   "cell_type": "markdown",
   "metadata": {},
   "source": [
    "## 2. Movie recommender with LightFM using only explicit feedbacks"
   ]
  },
  {
   "cell_type": "markdown",
   "metadata": {},
   "source": [
    "### 2.1 Import libraries"
   ]
  },
  {
   "cell_type": "code",
   "execution_count": 27,
   "metadata": {},
   "outputs": [],
   "source": [
    "import sys\n",
    "sys.path.append(\"../../\")\n",
    "import os\n",
    "\n",
    "import pandas as pd\n",
    "import numpy as np\n",
    "import matplotlib.pyplot as plt\n",
    "import seaborn as sns\n",
    "\n",
    "import lightfm\n",
    "\n",
    "# default number of recommendations\n",
    "k = 10\n",
    "# percentage of data used for testing\n",
    "test_percentage = 0.25\n",
    "# model learning rate\n",
    "learning_rate = 0.25\n",
    "# no of latent factors\n",
    "no_components = 50\n",
    "# no of epochs to fit model\n",
    "no_epochs = 250\n",
    "# no of threads to fit model\n",
    "no_threads = 8\n",
    "# regularisation for both user and item features\n",
    "item_alpha=1e-6\n",
    "user_alpha=1e-6\n",
    "\n",
    "# seed for pseudonumber generations\n",
    "seedno = 42"
   ]
  },
  {
   "cell_type": "code",
   "execution_count": 28,
   "metadata": {},
   "outputs": [],
   "source": [
    "from reco_utils.dataset import movielens\n",
    "from reco_utils.recommender.lightfm.lightfm_utils import (\n",
    "    model_perf_plots, compare_metric, track_model_metrics, \n",
    "    similar_users, similar_items)"
   ]
  },
  {
   "cell_type": "code",
   "execution_count": 29,
   "metadata": {},
   "outputs": [
    {
     "name": "stdout",
     "output_type": "stream",
     "text": [
      "System version: 3.7.7 (default, Mar 26 2020, 15:48:22) \n",
      "[GCC 7.3.0]\n",
      "LightFM version: 1.15\n"
     ]
    }
   ],
   "source": [
    "print(\"System version: {}\".format(sys.version))\n",
    "print(\"LightFM version: {}\".format(lightfm.__version__))"
   ]
  },
  {
   "cell_type": "markdown",
   "metadata": {},
   "source": [
    "### 2.2 Retrieve data"
   ]
  },
  {
   "cell_type": "code",
   "execution_count": 30,
   "metadata": {},
   "outputs": [],
   "source": [
    "# Select MovieLens data size: 100k, 1m, 10m, or 20m\n",
    "MOVIELENS_DATA_SIZE = '100k'"
   ]
  },
  {
   "cell_type": "code",
   "execution_count": 31,
   "metadata": {
    "scrolled": true
   },
   "outputs": [
    {
     "name": "stderr",
     "output_type": "stream",
     "text": [
      "100%|██████████| 4.81k/4.81k [00:01<00:00, 4.17kKB/s]\n"
     ]
    },
    {
     "data": {
      "text/html": [
       "<div>\n",
       "<style scoped>\n",
       "    .dataframe tbody tr th:only-of-type {\n",
       "        vertical-align: middle;\n",
       "    }\n",
       "\n",
       "    .dataframe tbody tr th {\n",
       "        vertical-align: top;\n",
       "    }\n",
       "\n",
       "    .dataframe thead th {\n",
       "        text-align: right;\n",
       "    }\n",
       "</style>\n",
       "<table border=\"1\" class=\"dataframe\">\n",
       "  <thead>\n",
       "    <tr style=\"text-align: right;\">\n",
       "      <th></th>\n",
       "      <th>userID</th>\n",
       "      <th>itemID</th>\n",
       "      <th>rating</th>\n",
       "      <th>genre</th>\n",
       "    </tr>\n",
       "  </thead>\n",
       "  <tbody>\n",
       "    <tr>\n",
       "      <th>14971</th>\n",
       "      <td>325</td>\n",
       "      <td>23</td>\n",
       "      <td>5.0</td>\n",
       "      <td>Drama|Thriller</td>\n",
       "    </tr>\n",
       "    <tr>\n",
       "      <th>31880</th>\n",
       "      <td>662</td>\n",
       "      <td>591</td>\n",
       "      <td>4.0</td>\n",
       "      <td>Drama|Thriller</td>\n",
       "    </tr>\n",
       "    <tr>\n",
       "      <th>56994</th>\n",
       "      <td>741</td>\n",
       "      <td>22</td>\n",
       "      <td>5.0</td>\n",
       "      <td>Action|Drama|War</td>\n",
       "    </tr>\n",
       "    <tr>\n",
       "      <th>27180</th>\n",
       "      <td>719</td>\n",
       "      <td>77</td>\n",
       "      <td>3.0</td>\n",
       "      <td>Drama|Thriller</td>\n",
       "    </tr>\n",
       "    <tr>\n",
       "      <th>18297</th>\n",
       "      <td>506</td>\n",
       "      <td>514</td>\n",
       "      <td>5.0</td>\n",
       "      <td>Comedy|Romance</td>\n",
       "    </tr>\n",
       "  </tbody>\n",
       "</table>\n",
       "</div>"
      ],
      "text/plain": [
       "       userID  itemID  rating             genre\n",
       "14971     325      23     5.0    Drama|Thriller\n",
       "31880     662     591     4.0    Drama|Thriller\n",
       "56994     741      22     5.0  Action|Drama|War\n",
       "27180     719      77     3.0    Drama|Thriller\n",
       "18297     506     514     5.0    Comedy|Romance"
      ]
     },
     "execution_count": 31,
     "metadata": {},
     "output_type": "execute_result"
    }
   ],
   "source": [
    "data = movielens.load_pandas_df(\n",
    "    size=MOVIELENS_DATA_SIZE,\n",
    "    genres_col='genre',\n",
    "    header=[\"userID\", \"itemID\", \"rating\"]\n",
    ")\n",
    "# quick look at the data\n",
    "data.sample(5)"
   ]
  },
  {
   "cell_type": "markdown",
   "metadata": {},
   "source": [
    "### 2.3 Prepare data"
   ]
  },
  {
   "cell_type": "markdown",
   "metadata": {},
   "source": [
    "Before fitting the LightFM model, we need to create an instance of `Dataset` which holds the interaction matrix."
   ]
  },
  {
   "cell_type": "code",
   "execution_count": 32,
   "metadata": {},
   "outputs": [],
   "source": [
    "from lightfm.data import Dataset\n",
    "dataset = Dataset()"
   ]
  },
  {
   "cell_type": "markdown",
   "metadata": {},
   "source": [
    "The `fit` method creates the user/item id mappings."
   ]
  },
  {
   "cell_type": "code",
   "execution_count": 33,
   "metadata": {},
   "outputs": [
    {
     "name": "stdout",
     "output_type": "stream",
     "text": [
      "Num users: 943, num_topics: 1682.\n"
     ]
    }
   ],
   "source": [
    "dataset.fit(users=data['userID'], \n",
    "            items=data['itemID'])\n",
    "\n",
    "# quick check to determine the number of unique users and items in the data\n",
    "num_users, num_topics = dataset.interactions_shape()\n",
    "print(f'Num users: {num_users}, num_topics: {num_topics}.')"
   ]
  },
  {
   "cell_type": "markdown",
   "metadata": {},
   "source": [
    "Next is to build the interaction matrix. The `build_interactions` method returns 2 COO sparse matrices, namely the `interactions` and `weights` matrices."
   ]
  },
  {
   "cell_type": "code",
   "execution_count": 34,
   "metadata": {},
   "outputs": [],
   "source": [
    "(interactions, weights) = dataset.build_interactions(data.iloc[:, 0:3].values)"
   ]
  },
  {
   "cell_type": "markdown",
   "metadata": {},
   "source": [
    "LightLM works slightly differently compared to other packages as it expects the train and test sets to have same dimension. Therefore the conventional train test split will not work.\n",
    "\n",
    "The package has included the `cross_validation.random_train_test_split` method to split the interaction data and splits it into two disjoint training and test sets. \n",
    "\n",
    "However, note that **it does not validate the interactions in the test set to guarantee all items and users have historical interactions in the training set**. Therefore this may result into a partial cold-start problem in the test set."
   ]
  },
  {
   "cell_type": "code",
   "execution_count": 35,
   "metadata": {},
   "outputs": [],
   "source": [
    "from lightfm import cross_validation\n",
    "train_interactions, test_interactions = cross_validation.random_train_test_split(\n",
    "    interactions, test_percentage=test_percentage,\n",
    "    random_state=np.random.RandomState(seedno))"
   ]
  },
  {
   "cell_type": "markdown",
   "metadata": {},
   "source": [
    "Double check the size of both the train and test sets."
   ]
  },
  {
   "cell_type": "code",
   "execution_count": 36,
   "metadata": {},
   "outputs": [
    {
     "name": "stdout",
     "output_type": "stream",
     "text": [
      "Shape of train interactions: (943, 1682)\n",
      "Shape of test interactions: (943, 1682)\n"
     ]
    }
   ],
   "source": [
    "print(f\"Shape of train interactions: {train_interactions.shape}\")\n",
    "print(f\"Shape of test interactions: {test_interactions.shape}\")"
   ]
  },
  {
   "cell_type": "markdown",
   "metadata": {},
   "source": [
    "### 2.4 Fit & evaluate the LightFM model"
   ]
  },
  {
   "cell_type": "markdown",
   "metadata": {},
   "source": [
    "In this notebook, the LightFM model will be using the weighted Approximate-Rank Pairwise (WARP) as the loss. Further explanation on the topic can be found [here](https://making.lyst.com/lightfm/docs/examples/warp_loss.html#learning-to-rank-using-the-warp-loss).\n",
    "\n",
    "\n",
    "In general, it maximises the rank of positive examples by repeatedly sampling negative examples until a rank violation has been located. This approach is recommended when only positive interactions are present."
   ]
  },
  {
   "cell_type": "code",
   "execution_count": 37,
   "metadata": {
    "scrolled": true
   },
   "outputs": [],
   "source": [
    "from lightfm import LightFM\n",
    "\n",
    "model1 = LightFM(loss='warp', no_components=no_components, \n",
    "                 learning_rate=learning_rate,                 \n",
    "                 random_state=np.random.RandomState(seedno))"
   ]
  },
  {
   "cell_type": "markdown",
   "metadata": {},
   "source": [
    "The performance of the model will be tracked using 3 metrics, namely: AUC, Precision and Recall. The progression of these metrics during the fitting process is shown as follows:"
   ]
  },
  {
   "cell_type": "code",
   "execution_count": 38,
   "metadata": {
    "scrolled": true
   },
   "outputs": [
    {
     "data": {
      "image/png": "[encoded data removed]",
      "text/plain": [
       "<Figure size 707.375x216 with 3 Axes>"
      ]
     },
     "metadata": {
      "needs_background": "light"
     },
     "output_type": "display_data"
    }
   ],
   "source": [
    "output1, _ = track_model_metrics(model=model1, \n",
    "                              train_interactions=train_interactions, \n",
    "                              test_interactions=test_interactions, k=k,\n",
    "                              no_epochs=no_epochs, no_threads=no_threads)"
   ]
  },
  {
   "cell_type": "markdown",
   "metadata": {},
   "source": [
    "Based on the model's AUC score, it seems the model is levelling off its performance quite early on ~50 epochs. The model then slowly improves as training progresses. As there is a gap between training and testing AUC, \n",
    "\n",
    "However, referring to both the Precision and Recall metric, the test performance in both cases plateaued out fairly early on, suggesting the model might be overfitting.\n",
    "\n",
    "There are a few approaches to fix this (not part of objectives in this notebook) such as:\n",
    "- changing model parameters,\n",
    "- include more data."
   ]
  },
  {
   "cell_type": "markdown",
   "metadata": {},
   "source": [
    "## 3. Movie recommender with LightFM using explicit feedbacks and additional item and user features"
   ]
  },
  {
   "cell_type": "markdown",
   "metadata": {},
   "source": [
    "As the LightFM was designed to incorporates both user and item metadata, the model can be extended to include additional features such as movie genres and user occupations."
   ]
  },
  {
   "cell_type": "markdown",
   "metadata": {},
   "source": [
    "### 3.1 Extract and prepare movie genres"
   ]
  },
  {
   "cell_type": "markdown",
   "metadata": {},
   "source": [
    "In this notebook, the movie's genres will be used as the item metadata. As the genres have already been loaded during the initial data import, it can be processed directly as follows:"
   ]
  },
  {
   "cell_type": "code",
   "execution_count": 39,
   "metadata": {},
   "outputs": [],
   "source": [
    "# split the genre based on the separator\n",
    "movie_genre = [x.split('|') for x in data['genre']]"
   ]
  },
  {
   "cell_type": "code",
   "execution_count": 40,
   "metadata": {},
   "outputs": [
    {
     "data": {
      "text/plain": [
       "['Action',\n",
       " 'Adventure',\n",
       " 'Animation',\n",
       " \"Children's\",\n",
       " 'Comedy',\n",
       " 'Crime',\n",
       " 'Documentary',\n",
       " 'Drama',\n",
       " 'Fantasy',\n",
       " 'Film-Noir',\n",
       " 'Horror',\n",
       " 'Musical',\n",
       " 'Mystery',\n",
       " 'Romance',\n",
       " 'Sci-Fi',\n",
       " 'Thriller',\n",
       " 'War',\n",
       " 'Western',\n",
       " 'unknown']"
      ]
     },
     "execution_count": 40,
     "metadata": {},
     "output_type": "execute_result"
    }
   ],
   "source": [
    "# retrieve the all the unique genres in the data\n",
    "import itertools\n",
    "all_movie_genre = sorted(list(set(itertools.chain.from_iterable(movie_genre))))\n",
    "# quick look at the all the genres within the data\n",
    "all_movie_genre"
   ]
  },
  {
   "cell_type": "markdown",
   "metadata": {},
   "source": [
    "### 3.2 Retrieve and prepare movie genres"
   ]
  },
  {
   "cell_type": "markdown",
   "metadata": {},
   "source": [
    "Further user features can be included as part of the model fitting process. In this notebook, **only the occupation of each user will be included** but the feature list can be extended easily.\n"
   ]
  },
  {
   "cell_type": "markdown",
   "metadata": {},
   "source": [
    "#### 3.2.1 Retrieve and merge data"
   ]
  },
  {
   "cell_type": "markdown",
   "metadata": {},
   "source": [
    "The user features can be retrieved directly from the grouplens website and merged with the existing data as follows:"
   ]
  },
  {
   "cell_type": "code",
   "execution_count": 41,
   "metadata": {},
   "outputs": [
    {
     "data": {
      "text/html": [
       "<div>\n",
       "<style scoped>\n",
       "    .dataframe tbody tr th:only-of-type {\n",
       "        vertical-align: middle;\n",
       "    }\n",
       "\n",
       "    .dataframe tbody tr th {\n",
       "        vertical-align: top;\n",
       "    }\n",
       "\n",
       "    .dataframe thead th {\n",
       "        text-align: right;\n",
       "    }\n",
       "</style>\n",
       "<table border=\"1\" class=\"dataframe\">\n",
       "  <thead>\n",
       "    <tr style=\"text-align: right;\">\n",
       "      <th></th>\n",
       "      <th>userID</th>\n",
       "      <th>itemID</th>\n",
       "      <th>rating</th>\n",
       "      <th>genre</th>\n",
       "      <th>occupation</th>\n",
       "    </tr>\n",
       "  </thead>\n",
       "  <tbody>\n",
       "    <tr>\n",
       "      <th>53892</th>\n",
       "      <td>130</td>\n",
       "      <td>389</td>\n",
       "      <td>3.0</td>\n",
       "      <td>Adventure|Children's</td>\n",
       "      <td>none</td>\n",
       "    </tr>\n",
       "    <tr>\n",
       "      <th>63853</th>\n",
       "      <td>469</td>\n",
       "      <td>161</td>\n",
       "      <td>3.0</td>\n",
       "      <td>Action|Romance</td>\n",
       "      <td>educator</td>\n",
       "    </tr>\n",
       "    <tr>\n",
       "      <th>45074</th>\n",
       "      <td>230</td>\n",
       "      <td>451</td>\n",
       "      <td>4.0</td>\n",
       "      <td>Comedy|Musical|Romance</td>\n",
       "      <td>student</td>\n",
       "    </tr>\n",
       "    <tr>\n",
       "      <th>91292</th>\n",
       "      <td>66</td>\n",
       "      <td>24</td>\n",
       "      <td>3.0</td>\n",
       "      <td>Action|Adventure|Crime</td>\n",
       "      <td>student</td>\n",
       "    </tr>\n",
       "    <tr>\n",
       "      <th>65572</th>\n",
       "      <td>847</td>\n",
       "      <td>39</td>\n",
       "      <td>2.0</td>\n",
       "      <td>Action|Crime|Sci-Fi</td>\n",
       "      <td>student</td>\n",
       "    </tr>\n",
       "  </tbody>\n",
       "</table>\n",
       "</div>"
      ],
      "text/plain": [
       "       userID  itemID  rating                   genre occupation\n",
       "53892     130     389     3.0    Adventure|Children's       none\n",
       "63853     469     161     3.0          Action|Romance   educator\n",
       "45074     230     451     4.0  Comedy|Musical|Romance    student\n",
       "91292      66      24     3.0  Action|Adventure|Crime    student\n",
       "65572     847      39     2.0     Action|Crime|Sci-Fi    student"
      ]
     },
     "execution_count": 41,
     "metadata": {},
     "output_type": "execute_result"
    }
   ],
   "source": [
    "user_feature_URL = 'http://files.grouplens.org/datasets/movielens/ml-100k/u.user'\n",
    "user_data = pd.read_table(user_feature_URL, \n",
    "              sep='|', header=None)\n",
    "user_data.columns = ['userID','age','gender','occupation','zipcode']\n",
    "\n",
    "# merging user feature with existing data\n",
    "new_data = data.merge(user_data[['userID','occupation']], left_on='userID', right_on='userID')\n",
    "# quick look at the merged data\n",
    "new_data.sample(5)"
   ]
  },
  {
   "cell_type": "markdown",
   "metadata": {},
   "source": [
    "#### 3.2.2 Extract and prepare user occupations"
   ]
  },
  {
   "cell_type": "code",
   "execution_count": 42,
   "metadata": {},
   "outputs": [],
   "source": [
    "# retrieve all the unique occupations in the data\n",
    "all_occupations = sorted(list(set(new_data['occupation'])))"
   ]
  },
  {
   "cell_type": "markdown",
   "metadata": {},
   "source": [
    "### 3.3 Prepare data and features"
   ]
  },
  {
   "cell_type": "markdown",
   "metadata": {},
   "source": [
    "Similar to the previous model, the data is required to be converted into a `Dataset` instance and then create a user/item id mapping with the `fit` method."
   ]
  },
  {
   "cell_type": "code",
   "execution_count": 43,
   "metadata": {},
   "outputs": [],
   "source": [
    "dataset2 = Dataset()\n",
    "dataset2.fit(data['userID'], \n",
    "            data['itemID'], \n",
    "            item_features=all_movie_genre,\n",
    "            user_features=all_occupations)"
   ]
  },
  {
   "cell_type": "markdown",
   "metadata": {},
   "source": [
    "The movie genres are then converted into a item feature matrix using the `build_item_features` method as follows:"
   ]
  },
  {
   "cell_type": "code",
   "execution_count": 44,
   "metadata": {},
   "outputs": [],
   "source": [
    "item_features = dataset2.build_item_features(\n",
    "    (x, y) for x,y in zip(data.itemID, movie_genre))"
   ]
  },
  {
   "cell_type": "markdown",
   "metadata": {},
   "source": [
    "The user occupations are then converted into an user feature matrix using the `build_user_features` method as follows:"
   ]
  },
  {
   "cell_type": "code",
   "execution_count": 45,
   "metadata": {},
   "outputs": [],
   "source": [
    "user_features = dataset2.build_user_features(\n",
    "    (x, [y]) for x,y in zip(new_data.userID, new_data['occupation']))"
   ]
  },
  {
   "cell_type": "markdown",
   "metadata": {},
   "source": [
    "Once the item and user features matrices have been completed, the next steps are similar as before, which is to build the interaction matrix and split the interactions into train and test sets as follows:"
   ]
  },
  {
   "cell_type": "code",
   "execution_count": 46,
   "metadata": {},
   "outputs": [],
   "source": [
    "(interactions2, weights) = dataset2.build_interactions(data.iloc[:, 0:3].values)\n",
    "\n",
    "train_interactions2, test_interactions2 = cross_validation.random_train_test_split(\n",
    "    interactions2, test_percentage=test_percentage,\n",
    "    random_state=np.random.RandomState(seedno))"
   ]
  },
  {
   "cell_type": "markdown",
   "metadata": {},
   "source": [
    "### 3.3 Fit & evaluate the LightFM model with additional user and item features"
   ]
  },
  {
   "cell_type": "markdown",
   "metadata": {},
   "source": [
    "The parameters of the second model will be similar to the first model to facilitates comparison.\n",
    "\n",
    "The model performance at each epoch is also tracked by the same metrics as before."
   ]
  },
  {
   "cell_type": "code",
   "execution_count": 47,
   "metadata": {},
   "outputs": [
    {
     "data": {
      "image/png": "[encoded data removed]",
      "text/plain": [
       "<Figure size 707.375x216 with 3 Axes>"
      ]
     },
     "metadata": {
      "needs_background": "light"
     },
     "output_type": "display_data"
    }
   ],
   "source": [
    "model2 = LightFM(loss='warp', no_components=no_components, \n",
    "                 learning_rate=learning_rate, \n",
    "                 item_alpha=item_alpha,\n",
    "                 user_alpha=user_alpha,\n",
    "                 random_state=np.random.RandomState(seedno))\n",
    "\n",
    "output2, _ = track_model_metrics(model=model2, train_interactions=train_interactions2, \n",
    "                              test_interactions=test_interactions2, k=k,\n",
    "                              no_epochs=no_epochs, no_threads=no_threads, \n",
    "                              item_features=item_features,\n",
    "                              user_features=user_features)"
   ]
  },
  {
   "cell_type": "markdown",
   "metadata": {},
   "source": [
    "Referring to the AUC figure above, it is rather interesting to see that with the inclusive of both user and item features, the model seems to have overfitted.\n",
    "\n",
    "On the other hand, the Precision and Recall traces have plateued fairly early on, in particular for Precision@K there seems to be a large difference between train and test results. This could be due to the different number of user-item interactions between these data sets, e.g. the number of user-item interactions in the test set is less than the train set such that if the available interactions were less than K (in this case K=10), the best Precision@K will be bounded by the maximum number of interactions over K."
   ]
  },
  {
   "cell_type": "markdown",
   "metadata": {},
   "source": [
    "## 4. Performance comparison"
   ]
  },
  {
   "cell_type": "markdown",
   "metadata": {},
   "source": [
    "As more features were included in this model, we can check whether movie genres actually helped in lifting the model's performance. The following plots look at the performance between the three models based on the test data set."
   ]
  },
  {
   "cell_type": "code",
   "execution_count": 48,
   "metadata": {},
   "outputs": [
    {
     "data": {
      "image/png": "[encoded data removed]",
      "text/plain": [
       "<Figure size 432x288 with 1 Axes>"
      ]
     },
     "metadata": {
      "needs_background": "light"
     },
     "output_type": "display_data"
    },
    {
     "data": {
      "image/png": "[encoded data removed]",
      "text/plain": [
       "<Figure size 432x288 with 1 Axes>"
      ]
     },
     "metadata": {
      "needs_background": "light"
     },
     "output_type": "display_data"
    },
    {
     "data": {
      "image/png": "[encoded data removed]",
      "text/plain": [
       "<Figure size 432x288 with 1 Axes>"
      ]
     },
     "metadata": {
      "needs_background": "light"
     },
     "output_type": "display_data"
    }
   ],
   "source": [
    "for i in ['AUC', 'Precision', 'Recall']:\n",
    "    sns.set_palette(\"Set2\")\n",
    "    plt.figure()\n",
    "    sns.scatterplot(x=\"epoch\", y=\"value\", hue='data',\n",
    "                data=compare_metric(df_list = [output1, output2], metric=i)\n",
    "               ).set_title(f'{i} comparison using test set');"
   ]
  },
  {
   "cell_type": "markdown",
   "metadata": {},
   "source": [
    "From the AUC metric plots above, the model2 (with additional user and movie metadata) started with better AUC but regresses as model fit progresses perhaps due to the fact WARP loss function was used. It prioritises the top items on the list of recommendations, hence sacrificing global metrics such as AUC which measures overall ranking.\n",
    "\n",
    "These can be evidenced by the Precision and Recall traces of model2, which are consistently better than model1. Note that model1 was essentially operating as a pure logistic matrix factorisation based model and interestingly from both Precision and Recall perspectives, the model1 seems to be experiencing variance issues as model fitting progresses.\n",
    "\n",
    "Readers who are interested could further investigate parameters such as learning rate and/or regularisation penalty as these preliminary models would certainly benefit from further hyperparameter studies."
   ]
  },
  {
   "cell_type": "markdown",
   "metadata": {},
   "source": [
    "## 5. Similar users and items"
   ]
  },
  {
   "cell_type": "markdown",
   "metadata": {},
   "source": [
    "As the LightFM package operates based on latent embeddings, these can be retrieved once the model has been fitted to assess user-user and/or item-item affinity."
   ]
  },
  {
   "cell_type": "markdown",
   "metadata": {},
   "source": [
    "### 5.1 User affinity"
   ]
  },
  {
   "cell_type": "markdown",
   "metadata": {},
   "source": [
    "The user-user affinity can be retrieved with the `get_user_representations` method from the fitted model as follows:"
   ]
  },
  {
   "cell_type": "code",
   "execution_count": 49,
   "metadata": {},
   "outputs": [
    {
     "data": {
      "text/plain": [
       "array([[-1.7449448 ,  1.606015  , -2.7514825 , ..., -1.1988842 ,\n",
       "        -0.98012036,  2.2778337 ],\n",
       "       [-2.4820952 ,  2.5339978 , -2.4981472 , ..., -1.594287  ,\n",
       "        -0.90987504, -1.2825124 ],\n",
       "       [-3.6589475 ,  1.8421713 , -2.2528863 , ..., -2.561452  ,\n",
       "        -0.9987179 , -1.4625393 ],\n",
       "       ...,\n",
       "       [-1.4798514 ,  2.0558143 , -3.9313061 , ..., -0.16646278,\n",
       "        -0.630225  ,  0.7988999 ],\n",
       "       [-2.50483   ,  2.5269976 , -2.4418788 , ..., -1.6030183 ,\n",
       "        -0.87051755, -1.4102486 ],\n",
       "       [-1.4102867 ,  2.5314386 , -3.1730924 , ..., -0.7470633 ,\n",
       "        -1.3810096 ,  0.96972007]], dtype=float32)"
      ]
     },
     "execution_count": 49,
     "metadata": {},
     "output_type": "execute_result"
    }
   ],
   "source": [
    "_, user_embeddings = model2.get_user_representations(features=user_features)\n",
    "user_embeddings"
   ]
  },
  {
   "cell_type": "markdown",
   "metadata": {},
   "source": [
    "In order to retrieve the top N similar users, we can use the `similar_users` from `reco_utils`. For example, if we want to choose top 10 users most similar to the user 1:"
   ]
  },
  {
   "cell_type": "code",
   "execution_count": 50,
   "metadata": {},
   "outputs": [
    {
     "data": {
      "text/html": [
       "<div>\n",
       "<style scoped>\n",
       "    .dataframe tbody tr th:only-of-type {\n",
       "        vertical-align: middle;\n",
       "    }\n",
       "\n",
       "    .dataframe tbody tr th {\n",
       "        vertical-align: top;\n",
       "    }\n",
       "\n",
       "    .dataframe thead th {\n",
       "        text-align: right;\n",
       "    }\n",
       "</style>\n",
       "<table border=\"1\" class=\"dataframe\">\n",
       "  <thead>\n",
       "    <tr style=\"text-align: right;\">\n",
       "      <th></th>\n",
       "      <th>userID</th>\n",
       "      <th>score</th>\n",
       "    </tr>\n",
       "  </thead>\n",
       "  <tbody>\n",
       "    <tr>\n",
       "      <th>0</th>\n",
       "      <td>54</td>\n",
       "      <td>0.999947</td>\n",
       "    </tr>\n",
       "    <tr>\n",
       "      <th>1</th>\n",
       "      <td>555</td>\n",
       "      <td>0.999884</td>\n",
       "    </tr>\n",
       "    <tr>\n",
       "      <th>2</th>\n",
       "      <td>314</td>\n",
       "      <td>0.999870</td>\n",
       "    </tr>\n",
       "    <tr>\n",
       "      <th>3</th>\n",
       "      <td>57</td>\n",
       "      <td>0.999793</td>\n",
       "    </tr>\n",
       "    <tr>\n",
       "      <th>4</th>\n",
       "      <td>481</td>\n",
       "      <td>0.999775</td>\n",
       "    </tr>\n",
       "    <tr>\n",
       "      <th>5</th>\n",
       "      <td>881</td>\n",
       "      <td>0.999761</td>\n",
       "    </tr>\n",
       "    <tr>\n",
       "      <th>6</th>\n",
       "      <td>395</td>\n",
       "      <td>0.999754</td>\n",
       "    </tr>\n",
       "    <tr>\n",
       "      <th>7</th>\n",
       "      <td>282</td>\n",
       "      <td>0.999749</td>\n",
       "    </tr>\n",
       "    <tr>\n",
       "      <th>8</th>\n",
       "      <td>465</td>\n",
       "      <td>0.999745</td>\n",
       "    </tr>\n",
       "    <tr>\n",
       "      <th>9</th>\n",
       "      <td>411</td>\n",
       "      <td>0.999733</td>\n",
       "    </tr>\n",
       "  </tbody>\n",
       "</table>\n",
       "</div>"
      ],
      "text/plain": [
       "   userID     score\n",
       "0      54  0.999947\n",
       "1     555  0.999884\n",
       "2     314  0.999870\n",
       "3      57  0.999793\n",
       "4     481  0.999775\n",
       "5     881  0.999761\n",
       "6     395  0.999754\n",
       "7     282  0.999749\n",
       "8     465  0.999745\n",
       "9     411  0.999733"
      ]
     },
     "execution_count": 50,
     "metadata": {},
     "output_type": "execute_result"
    }
   ],
   "source": [
    "similar_users(user_id=1, user_features=user_features, \n",
    "            model=model2)"
   ]
  },
  {
   "cell_type": "markdown",
   "metadata": {},
   "source": [
    "### 5.2 Item affinity"
   ]
  },
  {
   "cell_type": "markdown",
   "metadata": {},
   "source": [
    "Similar to the user affinity, the item-item affinity can be retrieved with the `get_item_representations` method using the fitted model."
   ]
  },
  {
   "cell_type": "code",
   "execution_count": 51,
   "metadata": {
    "scrolled": true
   },
   "outputs": [
    {
     "data": {
      "text/plain": [
       "array([[ 1.1062707 ,  0.8927453 , -1.5677273 , ..., -2.3183582 ,\n",
       "        -2.4075446 ,  0.0940212 ],\n",
       "       [-0.8874399 ,  1.3941586 , -2.0147014 , ..., -2.580072  ,\n",
       "        -2.0936942 , -0.5360981 ],\n",
       "       [-0.42032516,  1.5974525 , -1.81178   , ..., -1.6215241 ,\n",
       "        -1.90354   , -0.03670605],\n",
       "       ...,\n",
       "       [ 0.64684373,  0.13459201, -0.6228615 , ..., -2.0026166 ,\n",
       "        -2.074505  , -0.16437057],\n",
       "       [ 1.0834942 ,  0.17840905, -0.9320961 , ..., -2.0627866 ,\n",
       "        -2.237648  , -0.7145192 ],\n",
       "       [-0.26402223,  0.8548981 , -1.3160198 , ..., -1.2337382 ,\n",
       "        -1.5590715 , -0.50455445]], dtype=float32)"
      ]
     },
     "execution_count": 51,
     "metadata": {},
     "output_type": "execute_result"
    }
   ],
   "source": [
    "_, item_embeddings = model2.get_item_representations(features=item_features)\n",
    "item_embeddings"
   ]
  },
  {
   "cell_type": "markdown",
   "metadata": {},
   "source": [
    "The function to retrieve the top N similar items is similar to similar_users() above. For example, if we want to choose top 10 items most similar to the item 10:"
   ]
  },
  {
   "cell_type": "code",
   "execution_count": 52,
   "metadata": {},
   "outputs": [
    {
     "data": {
      "text/html": [
       "<div>\n",
       "<style scoped>\n",
       "    .dataframe tbody tr th:only-of-type {\n",
       "        vertical-align: middle;\n",
       "    }\n",
       "\n",
       "    .dataframe tbody tr th {\n",
       "        vertical-align: top;\n",
       "    }\n",
       "\n",
       "    .dataframe thead th {\n",
       "        text-align: right;\n",
       "    }\n",
       "</style>\n",
       "<table border=\"1\" class=\"dataframe\">\n",
       "  <thead>\n",
       "    <tr style=\"text-align: right;\">\n",
       "      <th></th>\n",
       "      <th>itemID</th>\n",
       "      <th>score</th>\n",
       "    </tr>\n",
       "  </thead>\n",
       "  <tbody>\n",
       "    <tr>\n",
       "      <th>0</th>\n",
       "      <td>417</td>\n",
       "      <td>0.996527</td>\n",
       "    </tr>\n",
       "    <tr>\n",
       "      <th>1</th>\n",
       "      <td>44</td>\n",
       "      <td>0.994937</td>\n",
       "    </tr>\n",
       "    <tr>\n",
       "      <th>2</th>\n",
       "      <td>352</td>\n",
       "      <td>0.994796</td>\n",
       "    </tr>\n",
       "    <tr>\n",
       "      <th>3</th>\n",
       "      <td>1092</td>\n",
       "      <td>0.994696</td>\n",
       "    </tr>\n",
       "    <tr>\n",
       "      <th>4</th>\n",
       "      <td>65</td>\n",
       "      <td>0.994526</td>\n",
       "    </tr>\n",
       "    <tr>\n",
       "      <th>5</th>\n",
       "      <td>556</td>\n",
       "      <td>0.994432</td>\n",
       "    </tr>\n",
       "    <tr>\n",
       "      <th>6</th>\n",
       "      <td>622</td>\n",
       "      <td>0.994304</td>\n",
       "    </tr>\n",
       "    <tr>\n",
       "      <th>7</th>\n",
       "      <td>373</td>\n",
       "      <td>0.993302</td>\n",
       "    </tr>\n",
       "    <tr>\n",
       "      <th>8</th>\n",
       "      <td>521</td>\n",
       "      <td>0.992124</td>\n",
       "    </tr>\n",
       "    <tr>\n",
       "      <th>9</th>\n",
       "      <td>181</td>\n",
       "      <td>0.991760</td>\n",
       "    </tr>\n",
       "  </tbody>\n",
       "</table>\n",
       "</div>"
      ],
      "text/plain": [
       "   itemID     score\n",
       "0     417  0.996527\n",
       "1      44  0.994937\n",
       "2     352  0.994796\n",
       "3    1092  0.994696\n",
       "4      65  0.994526\n",
       "5     556  0.994432\n",
       "6     622  0.994304\n",
       "7     373  0.993302\n",
       "8     521  0.992124\n",
       "9     181  0.991760"
      ]
     },
     "execution_count": 52,
     "metadata": {},
     "output_type": "execute_result"
    }
   ],
   "source": [
    "similar_items(item_id=10, item_features=item_features, \n",
    "            model=model2)"
   ]
  },
  {
   "cell_type": "markdown",
   "metadata": {},
   "source": [
    "## 6. Conclusion"
   ]
  },
  {
   "cell_type": "markdown",
   "metadata": {},
   "source": [
    "In this notebook, the background of hybrid matrix factorisation model has been explained together with a detailed example of LightFM's implementation. \n",
    "\n",
    "The process of incorporating additional user and item metadata has also been demonstrated with performance comparison. Furthermore, the calculation of both user and item affinity scores have also been demonstrated and extracted from the fitted model.\n",
    "\n",
    "This notebook remains a fairly simple treatment on the subject and hopefully could serve as a good foundation for the reader."
   ]
  },
  {
   "cell_type": "markdown",
   "metadata": {},
   "source": [
    "## References"
   ]
  },
  {
   "cell_type": "markdown",
   "metadata": {},
   "source": [
    "- [[1](https://arxiv.org/abs/1507.08439)]. Maciej Kula - Metadata Embeddings for User and Item Cold-start Recommendations. arXiv:1507.08439\n",
    "- [[2](https://making.lyst.com/lightfm/docs/home.html)]. LightFM documentation,\n",
    "- [3]. Charu C. Aggarwal - Recommender Systems: The Textbook, Springer, April 2016. ISBN 978-3-319-29659-3\n",
    "- [4]. Deepak K. Agarwal, Bee-Chung Chen - Statistical Methods for Recommender Systems. ISBN: 9781107036079 \n"
   ]
  }
 ],
 "metadata": {
  "kernelspec": {
   "display_name": "Python 3",
   "language": "python",
   "name": "python3"
  },
  "language_info": {
   "codemirror_mode": {
    "name": "ipython",
    "version": 3
   },
   "file_extension": ".py",
   "mimetype": "text/x-python",
   "name": "python",
   "nbconvert_exporter": "python",
   "pygments_lexer": "ipython3",
   "version": "3.7.7"
  }
 },
 "nbformat": 4,
 "nbformat_minor": 4
}
