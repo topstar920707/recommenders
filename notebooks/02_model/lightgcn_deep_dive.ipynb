{
 "cells": [
  {
   "cell_type": "markdown",
   "metadata": {},
   "source": [
    "<i>Copyright (c) Microsoft Corporation. All rights reserved.</i>\n",
    "\n",
    "<i>Licensed under the MIT License.</i>"
   ]
  },
  {
   "cell_type": "markdown",
   "metadata": {},
   "source": [
    "# LightGCN - simplified GCN model for recommendation\n",
    "\n",
    "This notebook serves as an introduction to LightGCN, which is an simple, linear and neat GCN model for recommendation."
   ]
  },
  {
   "cell_type": "markdown",
   "metadata": {},
   "source": [
    "## 0 Global Settings and Imports"
   ]
  },
  {
   "cell_type": "code",
   "execution_count": 1,
   "metadata": {},
   "outputs": [
    {
     "name": "stdout",
     "output_type": "stream",
     "text": [
      "System version: 3.6.10 |Anaconda, Inc.| (default, May  8 2020, 02:54:21) \n",
      "[GCC 7.3.0]\n",
      "Pandas version: 0.25.3\n",
      "Tensorflow version: 1.15.2\n"
     ]
    }
   ],
   "source": [
    "import sys\n",
    "sys.path.append(\"../../\")\n",
    "import os\n",
    "import papermill as pm\n",
    "import pandas as pd\n",
    "import numpy as np\n",
    "import tensorflow as tf\n",
    "from reco_utils.common.timer import Timer\n",
    "from reco_utils.recommender.deeprec.graphrec.lightgcn import LightGCN\n",
    "from reco_utils.recommender.deeprec.graphrec.dataset import Dataset as LightGCNDataset\n",
    "from reco_utils.dataset import movielens\n",
    "from reco_utils.dataset.python_splitters import python_chrono_split\n",
    "from reco_utils.evaluation.python_evaluation import map_at_k, ndcg_at_k, precision_at_k, recall_at_k\n",
    "from reco_utils.common.constants import SEED as DEFAULT_SEED\n",
    "\n",
    "\n",
    "print(\"System version: {}\".format(sys.version))\n",
    "print(\"Pandas version: {}\".format(pd.__version__))\n",
    "print(\"Tensorflow version: {}\".format(tf.__version__))"
   ]
  },
  {
   "cell_type": "code",
   "execution_count": 2,
   "metadata": {
    "tags": [
     "parameters"
    ]
   },
   "outputs": [],
   "source": [
    "# top k items to recommend\n",
    "TOP_K = 10\n",
    "\n",
    "# Select MovieLens data size: 100k, 1m, 10m, or 20m\n",
    "MOVIELENS_DATA_SIZE = '100k'\n",
    "\n",
    "# Model parameters\n",
    "EPOCHS = 100\n",
    "BATCH_SIZE = 1024\n",
    "\n",
    "SEED = DEFAULT_SEED  # Set None for non-deterministic results"
   ]
  },
  {
   "cell_type": "markdown",
   "metadata": {},
   "source": [
    "## 1 LightGCN model architecture\n",
    "\n",
    "LightGCN is a simplified design of GCN to make it more concise and appropriate for recommendation. The model architecture is illustrated below.\n",
    "\n",
    "<img src=\"https://recodatasets.blob.core.windows.net/images/lightGCN-model.jpg\">\n",
    "\n",
    "In Light Graph Convolution, only the normalized sum of neighbor embeddings is performed towards next layer; other operations like self-connection, feature transformation, and nonlinear activation are all removed, which largely simplifies GCNs. In Layer Combination, we sum over the embeddings at each layer to obtain the final representations.\n",
    "\n",
    "### 1.1 Light Graph Convolution (LGC)\n",
    "\n",
    "In LightGCN, we adopt the simple weighted sum aggregator and abandon the use of feature transformation and nonlinear activation. The graph convolution operation in LightGCN is defined as:\n",
    "\n",
    "$$\n",
    "\\begin{array}{l}\n",
    "\\mathbf{e}_{u}^{(k+1)}=\\sum_{i \\in \\mathcal{N}_{u}} \\frac{1}{\\sqrt{\\left|\\mathcal{N}_{u}\\right|} \\sqrt{\\left|\\mathcal{N}_{i}\\right|}} \\mathbf{e}_{i}^{(k)} \\\\\n",
    "\\mathbf{e}_{i}^{(k+1)}=\\sum_{u \\in \\mathcal{N}_{i}} \\frac{1}{\\sqrt{\\left|\\mathcal{N}_{i}\\right|} \\sqrt{\\left|\\mathcal{N}_{u}\\right|}} \\mathbf{e}_{u}^{(k)}\n",
    "\\end{array}\n",
    "$$\n",
    "\n",
    "The symmetric normalization term $\\frac{1}{\\sqrt{\\left|\\mathcal{N}_{u}\\right|} \\sqrt{\\left|\\mathcal{N}_{i}\\right|}}$ follows the design of standard GCN, which can avoid the scale of embeddings increasing with graph convolution operations.\n",
    "\n",
    "\n",
    "### 1.2 Layer Combination and Model Prediction\n",
    "\n",
    "In LightGCN, the only trainable model parameters are the embeddings at the 0-th layer, i.e., $\\mathbf{e}_{u}^{(0)}$ for all users and $\\mathbf{e}_{i}^{(0)}$ for all items. When they are given, the embeddings at higher layers can be computed via LGC. After $K$ layers LGC, we further combine the embeddings obtained at each layer to form the final representation of a user (an item):\n",
    "\n",
    "$$\n",
    "\\mathbf{e}_{u}=\\sum_{k=0}^{K} \\alpha_{k} \\mathbf{e}_{u}^{(k)} ; \\quad \\mathbf{e}_{i}=\\sum_{k=0}^{K} \\alpha_{k} \\mathbf{e}_{i}^{(k)}\n",
    "$$\n",
    "\n",
    "where $\\alpha_{k} \\geq 0$ denotes the importance of the $k$-th layer embedding in constituting the final embedding. In our experiments, we set $\\alpha_{k}$ uniformly as $1 / (K+1)$.\n",
    "\n",
    "The model prediction is defined as the inner product of user and item final representations:\n",
    "\n",
    "$$\n",
    "\\hat{y}_{u i}=\\mathbf{e}_{u}^{T} \\mathbf{e}_{i}\n",
    "$$\n",
    "\n",
    "which is used as the ranking score for recommendation generation.\n",
    "\n",
    "\n",
    "### 1.3 Matrix Form\n",
    "\n",
    "Let the user-item interaction matrix be $\\mathbf{R} \\in \\mathbb{R}^{M \\times N}$ where $M$ and $N$ denote the number of users and items, respectively, and each entry $R_{ui}$ is 1 if $u$ has interacted with item $i$ otherwise 0. We then obtain the adjacency matrix of the user-item graph as\n",
    "\n",
    "$$\n",
    "\\mathbf{A}=\\left(\\begin{array}{cc}\n",
    "\\mathbf{0} & \\mathbf{R} \\\\\n",
    "\\mathbf{R}^{T} & \\mathbf{0}\n",
    "\\end{array}\\right)\n",
    "$$\n",
    "\n",
    "Let the 0-th layer embedding matrix be $\\mathbf{E}^{(0)} \\in \\mathbb{R}^{(M+N) \\times T}$, where $T$ is the embedding size. Then we can obtain the matrix equivalent form of LGC as:\n",
    "\n",
    "$$\n",
    "\\mathbf{E}^{(k+1)}=\\left(\\mathbf{D}^{-\\frac{1}{2}} \\mathbf{A} \\mathbf{D}^{-\\frac{1}{2}}\\right) \\mathbf{E}^{(k)}\n",
    "$$\n",
    "\n",
    "where $\\mathbf{D}$ is a $(M+N) \\times(M+N)$ diagonal matrix, in which each entry $D_{ii}$ denotes the number of nonzero entries in the $i$-th row vector of the adjacency matrix $\\mathbf{A}$ (also named as degree matrix). Lastly, we get the final embedding matrix used for model prediction as:\n",
    "\n",
    "$$\n",
    "\\begin{aligned}\n",
    "\\mathbf{E} &=\\alpha_{0} \\mathbf{E}^{(0)}+\\alpha_{1} \\mathbf{E}^{(1)}+\\alpha_{2} \\mathbf{E}^{(2)}+\\ldots+\\alpha_{K} \\mathbf{E}^{(K)} \\\\\n",
    "&=\\alpha_{0} \\mathbf{E}^{(0)}+\\alpha_{1} \\tilde{\\mathbf{A}} \\mathbf{E}^{(0)}+\\alpha_{2} \\tilde{\\mathbf{A}}^{2} \\mathbf{E}^{(0)}+\\ldots+\\alpha_{K} \\tilde{\\mathbf{A}}^{K} \\mathbf{E}^{(0)}\n",
    "\\end{aligned}\n",
    "$$\n",
    "\n",
    "where $\\tilde{\\mathbf{A}}=\\mathbf{D}^{-\\frac{1}{2}} \\mathbf{A} \\mathbf{D}^{-\\frac{1}{2}}$ is the symmetrically normalized matrix.\n",
    "\n",
    "### 1.4 Model Training\n",
    "\n",
    "We employ the Bayesian Personalized Ranking (BPR) loss which is a pairwise loss that encourages the prediction of an observed entry to be higher than its unobserved counterparts:\n",
    "\n",
    "$$\n",
    "L_{B P R}=-\\sum_{u=1}^{M} \\sum_{i \\in \\mathcal{N}_{u}} \\sum_{j \\notin \\mathcal{N}_{u}} \\ln \\sigma\\left(\\hat{y}_{u i}-\\hat{y}_{u j}\\right)+\\lambda\\left\\|\\mathbf{E}^{(0)}\\right\\|^{2}\n",
    "$$\n",
    "\n",
    "Where $\\lambda$ controls the $L_2$ regularization strength. We employ the Adam optimizer and use it in a mini-batch manner.\n"
   ]
  },
  {
   "cell_type": "markdown",
   "metadata": {},
   "source": [
    "## 2 TensorFlow implementation of LightGCN\n",
    "\n",
    "We will use the MovieLens dataset, which is composed of integer ratings from 1 to 5.\n",
    "\n",
    "We convert MovieLens into implicit feedback for model training and evaluation.\n",
    "\n",
    "You can check the details of implementation in `reco_utils/recommender/deeprec/graphrec/`\n"
   ]
  },
  {
   "cell_type": "markdown",
   "metadata": {},
   "source": [
    "## 3 TensorFlow LightGCN movie recommender\n",
    "\n",
    "### 3.1 Load and split data\n",
    "\n",
    "For each user, we held out his/her latest interaction as the test set and utilized the remaining data for training. We use `python_chrono_split` to achieve this."
   ]
  },
  {
   "cell_type": "code",
   "execution_count": 3,
   "metadata": {},
   "outputs": [
    {
     "name": "stderr",
     "output_type": "stream",
     "text": [
      "100%|██████████| 4.81k/4.81k [00:02<00:00, 1.96kKB/s]\n"
     ]
    },
    {
     "data": {
      "text/html": [
       "<div>\n",
       "<style scoped>\n",
       "    .dataframe tbody tr th:only-of-type {\n",
       "        vertical-align: middle;\n",
       "    }\n",
       "\n",
       "    .dataframe tbody tr th {\n",
       "        vertical-align: top;\n",
       "    }\n",
       "\n",
       "    .dataframe thead th {\n",
       "        text-align: right;\n",
       "    }\n",
       "</style>\n",
       "<table border=\"1\" class=\"dataframe\">\n",
       "  <thead>\n",
       "    <tr style=\"text-align: right;\">\n",
       "      <th></th>\n",
       "      <th>userID</th>\n",
       "      <th>itemID</th>\n",
       "      <th>rating</th>\n",
       "      <th>timestamp</th>\n",
       "    </tr>\n",
       "  </thead>\n",
       "  <tbody>\n",
       "    <tr>\n",
       "      <th>0</th>\n",
       "      <td>196</td>\n",
       "      <td>242</td>\n",
       "      <td>3.0</td>\n",
       "      <td>881250949</td>\n",
       "    </tr>\n",
       "    <tr>\n",
       "      <th>1</th>\n",
       "      <td>186</td>\n",
       "      <td>302</td>\n",
       "      <td>3.0</td>\n",
       "      <td>891717742</td>\n",
       "    </tr>\n",
       "    <tr>\n",
       "      <th>2</th>\n",
       "      <td>22</td>\n",
       "      <td>377</td>\n",
       "      <td>1.0</td>\n",
       "      <td>878887116</td>\n",
       "    </tr>\n",
       "    <tr>\n",
       "      <th>3</th>\n",
       "      <td>244</td>\n",
       "      <td>51</td>\n",
       "      <td>2.0</td>\n",
       "      <td>880606923</td>\n",
       "    </tr>\n",
       "    <tr>\n",
       "      <th>4</th>\n",
       "      <td>166</td>\n",
       "      <td>346</td>\n",
       "      <td>1.0</td>\n",
       "      <td>886397596</td>\n",
       "    </tr>\n",
       "  </tbody>\n",
       "</table>\n",
       "</div>"
      ],
      "text/plain": [
       "   userID  itemID  rating  timestamp\n",
       "0     196     242     3.0  881250949\n",
       "1     186     302     3.0  891717742\n",
       "2      22     377     1.0  878887116\n",
       "3     244      51     2.0  880606923\n",
       "4     166     346     1.0  886397596"
      ]
     },
     "execution_count": 3,
     "metadata": {},
     "output_type": "execute_result"
    }
   ],
   "source": [
    "df = movielens.load_pandas_df(size=MOVIELENS_DATA_SIZE)\n",
    "\n",
    "df.head()"
   ]
  },
  {
   "cell_type": "code",
   "execution_count": 4,
   "metadata": {},
   "outputs": [],
   "source": [
    "train, test = python_chrono_split(df, 0.75)"
   ]
  },
  {
   "cell_type": "markdown",
   "metadata": {},
   "source": [
    "### 3.2 Functions of LightGCN Dataset \n",
    "\n",
    "Dataset Class for LightGCN, where important functions are:\n",
    "\n",
    "`get_norm_adj_mat`, load normalized adjacency matrix $\\mathbf{A}$ of user-item graph if it already exists, otherwise create the matrix.\n",
    "\n",
    "`create_norm_adj_mat`, create normalized adjacency matrix $\\mathbf{A}$ of user-item graph.\n",
    "\n",
    "`train_loader`, generate a batch of training data — sample a batch of users and then sample one positive item and one negative item for each user.\n"
   ]
  },
  {
   "cell_type": "code",
   "execution_count": 5,
   "metadata": {},
   "outputs": [],
   "source": [
    "data = LightGCNDataset(train=train, test=test, seed=SEED)"
   ]
  },
  {
   "cell_type": "markdown",
   "metadata": {},
   "source": [
    "### 3.3 Train LightGCN based on TensorFlow\n",
    "\n",
    "The LightGCN has a lot of parameters. The most important ones are:\n",
    "\n",
    "`data`, initialized LightGCNDataset object.\n",
    "\n",
    "`epoch`, number of epochs for training.\n",
    "\n",
    "`n_layers`, number of layers of the model.\n",
    "\n",
    "`eval_epoch`, if it is not None, evaluation metrics will be calculated on test set every \"eval_epoch\" epochs. In this way, we can observe the effect of the model during the training process.\n",
    "\n",
    "`top_k`, the number of items to be recommended for each user when calculating ranking metrics.\n",
    "\n",
    "To train the model, we simply need to call the `fit()` method."
   ]
  },
  {
   "cell_type": "code",
   "execution_count": 6,
   "metadata": {},
   "outputs": [
    {
     "name": "stdout",
     "output_type": "stream",
     "text": [
      "WARNING:tensorflow:From ../../reco_utils/recommender/deeprec/graphrec/lightgcn.py:59: The name tf.set_random_seed is deprecated. Please use tf.compat.v1.set_random_seed instead.\n",
      "\n",
      "Already create adjacency matrix.\n",
      "Already normalize adjacency matrix.\n",
      "WARNING:tensorflow:From ../../reco_utils/recommender/deeprec/graphrec/lightgcn.py:95: The name tf.placeholder is deprecated. Please use tf.compat.v1.placeholder instead.\n",
      "\n",
      "WARNING:tensorflow:\n",
      "The TensorFlow contrib module will not be included in TensorFlow 2.0.\n",
      "For more information, please see:\n",
      "  * https://github.com/tensorflow/community/blob/master/rfcs/20180907-contrib-sunset.md\n",
      "  * https://github.com/tensorflow/addons\n",
      "  * https://github.com/tensorflow/io (for I/O related ops)\n",
      "If you depend on functionality not listed there, please file an issue.\n",
      "\n"
     ]
    },
    {
     "name": "stderr",
     "output_type": "stream",
     "text": [
      "../../reco_utils/recommender/deeprec/graphrec/dataset.py:128: RuntimeWarning: divide by zero encountered in power\n",
      "  d_inv = np.power(rowsum, -0.5).flatten()\n"
     ]
    },
    {
     "name": "stdout",
     "output_type": "stream",
     "text": [
      "Using xavier initialization.\n",
      "WARNING:tensorflow:From ../../reco_utils/recommender/deeprec/graphrec/lightgcn.py:158: The name tf.sparse_tensor_dense_matmul is deprecated. Please use tf.sparse.sparse_dense_matmul instead.\n",
      "\n",
      "WARNING:tensorflow:From ../../reco_utils/recommender/deeprec/graphrec/lightgcn.py:116: The name tf.train.AdamOptimizer is deprecated. Please use tf.compat.v1.train.AdamOptimizer instead.\n",
      "\n",
      "WARNING:tensorflow:From ../../reco_utils/recommender/deeprec/graphrec/lightgcn.py:117: The name tf.train.Saver is deprecated. Please use tf.compat.v1.train.Saver instead.\n",
      "\n",
      "WARNING:tensorflow:From ../../reco_utils/recommender/deeprec/graphrec/lightgcn.py:119: The name tf.GPUOptions is deprecated. Please use tf.compat.v1.GPUOptions instead.\n",
      "\n",
      "WARNING:tensorflow:From ../../reco_utils/recommender/deeprec/graphrec/lightgcn.py:120: The name tf.Session is deprecated. Please use tf.compat.v1.Session instead.\n",
      "\n",
      "WARNING:tensorflow:From ../../reco_utils/recommender/deeprec/graphrec/lightgcn.py:121: The name tf.ConfigProto is deprecated. Please use tf.compat.v1.ConfigProto instead.\n",
      "\n",
      "WARNING:tensorflow:From ../../reco_utils/recommender/deeprec/graphrec/lightgcn.py:123: The name tf.global_variables_initializer is deprecated. Please use tf.compat.v1.global_variables_initializer instead.\n",
      "\n"
     ]
    }
   ],
   "source": [
    "model = LightGCN (\n",
    "    data,\n",
    "    seed=SEED,\n",
    "    epoch=EPOCHS,\n",
    "    learning_rate=0.001,\n",
    "    embed_size=64,\n",
    "    batch_size=BATCH_SIZE,\n",
    "    n_layers=3,\n",
    "    decay=1e-4,\n",
    "    eval_epoch=5,\n",
    "    top_k=TOP_K\n",
    ")"
   ]
  },
  {
   "cell_type": "code",
   "execution_count": 7,
   "metadata": {},
   "outputs": [
    {
     "name": "stdout",
     "output_type": "stream",
     "text": [
      "Epoch 1 (train)4.1s: train loss = 0.67001 = (mf)0.66999 + (embed)0.00002\n",
      "Epoch 2 (train)2.0s: train loss = 0.47925 = (mf)0.47911 + (embed)0.00013\n",
      "Epoch 3 (train)2.0s: train loss = 0.33086 = (mf)0.33056 + (embed)0.00030\n",
      "Epoch 4 (train)2.0s: train loss = 0.29205 = (mf)0.29162 + (embed)0.00042\n",
      "Epoch 5 (train)1.9s + (eval)1.0s: train loss = 0.27894 = (mf)0.27845 + (embed)0.00049, recall = 0.06678, ndcg = 0.11996, precision = 0.11241, map = 0.02757\n",
      "Epoch 6 (train)2.0s: train loss = 0.26818 = (mf)0.26765 + (embed)0.00054\n",
      "Epoch 7 (train)1.9s: train loss = 0.26423 = (mf)0.26366 + (embed)0.00057\n",
      "Epoch 8 (train)1.9s: train loss = 0.25734 = (mf)0.25674 + (embed)0.00060\n",
      "Epoch 9 (train)1.9s: train loss = 0.24631 = (mf)0.24568 + (embed)0.00063\n",
      "Epoch 10 (train)1.9s + (eval)0.3s: train loss = 0.24007 = (mf)0.23941 + (embed)0.00066, recall = 0.07510, ndcg = 0.14055, precision = 0.12715, map = 0.03356\n",
      "Epoch 11 (train)1.9s: train loss = 0.23424 = (mf)0.23355 + (embed)0.00069\n",
      "Epoch 12 (train)1.9s: train loss = 0.22726 = (mf)0.22654 + (embed)0.00072\n",
      "Epoch 13 (train)1.9s: train loss = 0.22245 = (mf)0.22170 + (embed)0.00075\n",
      "Epoch 14 (train)2.0s: train loss = 0.21863 = (mf)0.21784 + (embed)0.00079\n",
      "Epoch 15 (train)2.0s + (eval)0.3s: train loss = 0.21593 = (mf)0.21511 + (embed)0.00082, recall = 0.07915, ndcg = 0.15626, precision = 0.13849, map = 0.03752\n",
      "Epoch 16 (train)2.0s: train loss = 0.21206 = (mf)0.21121 + (embed)0.00085\n",
      "Epoch 17 (train)2.0s: train loss = 0.20553 = (mf)0.20465 + (embed)0.00088\n",
      "Epoch 18 (train)1.9s: train loss = 0.20449 = (mf)0.20358 + (embed)0.00091\n",
      "Epoch 19 (train)1.9s: train loss = 0.20396 = (mf)0.20301 + (embed)0.00094\n",
      "Epoch 20 (train)1.9s + (eval)0.2s: train loss = 0.20176 = (mf)0.20079 + (embed)0.00097, recall = 0.07927, ndcg = 0.15860, precision = 0.14072, map = 0.03793\n",
      "Epoch 21 (train)1.8s: train loss = 0.20105 = (mf)0.20005 + (embed)0.00100\n",
      "Epoch 22 (train)1.8s: train loss = 0.19856 = (mf)0.19754 + (embed)0.00102\n",
      "Epoch 23 (train)1.8s: train loss = 0.19740 = (mf)0.19636 + (embed)0.00104\n",
      "Epoch 24 (train)1.7s: train loss = 0.19545 = (mf)0.19438 + (embed)0.00107\n",
      "Epoch 25 (train)1.9s + (eval)0.3s: train loss = 0.19319 = (mf)0.19210 + (embed)0.00109, recall = 0.07991, ndcg = 0.16048, precision = 0.14231, map = 0.03840\n",
      "Epoch 26 (train)1.6s: train loss = 0.19365 = (mf)0.19254 + (embed)0.00111\n",
      "Epoch 27 (train)1.7s: train loss = 0.18908 = (mf)0.18794 + (embed)0.00114\n",
      "Epoch 28 (train)1.8s: train loss = 0.19009 = (mf)0.18893 + (embed)0.00116\n",
      "Epoch 29 (train)1.7s: train loss = 0.19298 = (mf)0.19180 + (embed)0.00117\n",
      "Epoch 30 (train)1.7s + (eval)0.3s: train loss = 0.18819 = (mf)0.18699 + (embed)0.00119, recall = 0.07872, ndcg = 0.15987, precision = 0.14115, map = 0.03823\n",
      "Epoch 31 (train)1.9s: train loss = 0.18724 = (mf)0.18603 + (embed)0.00121\n",
      "Epoch 32 (train)1.9s: train loss = 0.18798 = (mf)0.18674 + (embed)0.00123\n",
      "Epoch 33 (train)1.9s: train loss = 0.18462 = (mf)0.18337 + (embed)0.00125\n",
      "Epoch 34 (train)1.9s: train loss = 0.18086 = (mf)0.17958 + (embed)0.00128\n",
      "Epoch 35 (train)1.8s + (eval)0.2s: train loss = 0.18214 = (mf)0.18084 + (embed)0.00130, recall = 0.07939, ndcg = 0.16170, precision = 0.14369, map = 0.03866\n",
      "Epoch 36 (train)1.6s: train loss = 0.17806 = (mf)0.17674 + (embed)0.00133\n",
      "Epoch 37 (train)1.7s: train loss = 0.17550 = (mf)0.17415 + (embed)0.00135\n",
      "Epoch 38 (train)2.0s: train loss = 0.17449 = (mf)0.17311 + (embed)0.00138\n",
      "Epoch 39 (train)2.0s: train loss = 0.17261 = (mf)0.17120 + (embed)0.00141\n",
      "Epoch 40 (train)2.0s + (eval)0.3s: train loss = 0.17040 = (mf)0.16896 + (embed)0.00144, recall = 0.08026, ndcg = 0.16350, precision = 0.14539, map = 0.03941\n",
      "Epoch 41 (train)2.0s: train loss = 0.16675 = (mf)0.16528 + (embed)0.00147\n",
      "Epoch 42 (train)1.9s: train loss = 0.16717 = (mf)0.16568 + (embed)0.00149\n",
      "Epoch 43 (train)1.9s: train loss = 0.16275 = (mf)0.16122 + (embed)0.00153\n",
      "Epoch 44 (train)1.9s: train loss = 0.16173 = (mf)0.16018 + (embed)0.00156\n",
      "Epoch 45 (train)1.8s + (eval)0.2s: train loss = 0.16032 = (mf)0.15873 + (embed)0.00159, recall = 0.08093, ndcg = 0.16630, precision = 0.14920, map = 0.03997\n",
      "Epoch 46 (train)1.7s: train loss = 0.15890 = (mf)0.15728 + (embed)0.00162\n",
      "Epoch 47 (train)1.8s: train loss = 0.15517 = (mf)0.15351 + (embed)0.00166\n",
      "Epoch 48 (train)1.9s: train loss = 0.15438 = (mf)0.15269 + (embed)0.00169\n",
      "Epoch 49 (train)1.7s: train loss = 0.15517 = (mf)0.15345 + (embed)0.00172\n",
      "Epoch 50 (train)1.7s + (eval)0.2s: train loss = 0.15151 = (mf)0.14975 + (embed)0.00176, recall = 0.08398, ndcg = 0.17178, precision = 0.15408, map = 0.04092\n",
      "Epoch 51 (train)1.8s: train loss = 0.14976 = (mf)0.14797 + (embed)0.00178\n",
      "Epoch 52 (train)1.8s: train loss = 0.14796 = (mf)0.14614 + (embed)0.00182\n",
      "Epoch 53 (train)1.9s: train loss = 0.14960 = (mf)0.14776 + (embed)0.00185\n",
      "Epoch 54 (train)1.9s: train loss = 0.14772 = (mf)0.14585 + (embed)0.00187\n",
      "Epoch 55 (train)1.7s + (eval)0.2s: train loss = 0.14398 = (mf)0.14208 + (embed)0.00190, recall = 0.08657, ndcg = 0.17519, precision = 0.15832, map = 0.04207\n",
      "Epoch 56 (train)1.6s: train loss = 0.14234 = (mf)0.14040 + (embed)0.00194\n",
      "Epoch 57 (train)1.7s: train loss = 0.14725 = (mf)0.14530 + (embed)0.00196\n",
      "Epoch 58 (train)1.6s: train loss = 0.14310 = (mf)0.14111 + (embed)0.00199\n",
      "Epoch 59 (train)1.8s: train loss = 0.14219 = (mf)0.14018 + (embed)0.00201\n",
      "Epoch 60 (train)1.7s + (eval)0.2s: train loss = 0.13858 = (mf)0.13654 + (embed)0.00204, recall = 0.08916, ndcg = 0.17798, precision = 0.16034, map = 0.04342\n",
      "Epoch 61 (train)1.7s: train loss = 0.14113 = (mf)0.13907 + (embed)0.00207\n",
      "Epoch 62 (train)1.6s: train loss = 0.13890 = (mf)0.13681 + (embed)0.00209\n",
      "Epoch 63 (train)1.6s: train loss = 0.13988 = (mf)0.13776 + (embed)0.00212\n",
      "Epoch 64 (train)1.7s: train loss = 0.14037 = (mf)0.13823 + (embed)0.00214\n",
      "Epoch 65 (train)1.6s + (eval)0.2s: train loss = 0.13412 = (mf)0.13196 + (embed)0.00216, recall = 0.09018, ndcg = 0.17954, precision = 0.16193, map = 0.04417\n",
      "Epoch 66 (train)1.6s: train loss = 0.13782 = (mf)0.13564 + (embed)0.00218\n",
      "Epoch 67 (train)1.7s: train loss = 0.13736 = (mf)0.13516 + (embed)0.00221\n",
      "Epoch 68 (train)1.7s: train loss = 0.13602 = (mf)0.13379 + (embed)0.00223\n",
      "Epoch 69 (train)1.7s: train loss = 0.13433 = (mf)0.13207 + (embed)0.00226\n",
      "Epoch 70 (train)1.6s + (eval)0.2s: train loss = 0.13619 = (mf)0.13392 + (embed)0.00228, recall = 0.08980, ndcg = 0.17862, precision = 0.16129, map = 0.04418\n",
      "Epoch 71 (train)1.7s: train loss = 0.13304 = (mf)0.13074 + (embed)0.00230\n",
      "Epoch 72 (train)1.6s: train loss = 0.13232 = (mf)0.13000 + (embed)0.00232\n",
      "Epoch 73 (train)1.6s: train loss = 0.13201 = (mf)0.12967 + (embed)0.00234\n",
      "Epoch 74 (train)1.6s: train loss = 0.13343 = (mf)0.13107 + (embed)0.00236\n",
      "Epoch 75 (train)1.6s + (eval)0.2s: train loss = 0.13159 = (mf)0.12921 + (embed)0.00238, recall = 0.09133, ndcg = 0.18027, precision = 0.16320, map = 0.04477\n",
      "Epoch 76 (train)1.6s: train loss = 0.13306 = (mf)0.13066 + (embed)0.00240\n",
      "Epoch 77 (train)1.6s: train loss = 0.12964 = (mf)0.12723 + (embed)0.00241\n",
      "Epoch 78 (train)1.6s: train loss = 0.12889 = (mf)0.12645 + (embed)0.00244\n",
      "Epoch 79 (train)1.6s: train loss = 0.12966 = (mf)0.12719 + (embed)0.00246\n",
      "Epoch 80 (train)1.6s + (eval)0.2s: train loss = 0.13018 = (mf)0.12770 + (embed)0.00249, recall = 0.09228, ndcg = 0.18026, precision = 0.16373, map = 0.04492\n",
      "Epoch 81 (train)1.6s: train loss = 0.12899 = (mf)0.12650 + (embed)0.00250\n",
      "Epoch 82 (train)1.6s: train loss = 0.13051 = (mf)0.12798 + (embed)0.00252\n",
      "Epoch 83 (train)1.6s: train loss = 0.12874 = (mf)0.12621 + (embed)0.00254\n",
      "Epoch 84 (train)1.6s: train loss = 0.12665 = (mf)0.12409 + (embed)0.00256\n",
      "Epoch 85 (train)1.5s + (eval)0.2s: train loss = 0.12658 = (mf)0.12400 + (embed)0.00258, recall = 0.09324, ndcg = 0.18321, precision = 0.16607, map = 0.04565\n",
      "Epoch 86 (train)1.6s: train loss = 0.12949 = (mf)0.12690 + (embed)0.00259\n",
      "Epoch 87 (train)1.6s: train loss = 0.12620 = (mf)0.12360 + (embed)0.00260\n",
      "Epoch 88 (train)1.6s: train loss = 0.12886 = (mf)0.12624 + (embed)0.00262\n",
      "Epoch 89 (train)1.5s: train loss = 0.12597 = (mf)0.12332 + (embed)0.00265\n",
      "Epoch 90 (train)1.6s + (eval)0.2s: train loss = 0.12425 = (mf)0.12158 + (embed)0.00267, recall = 0.09529, ndcg = 0.18553, precision = 0.16797, map = 0.04634\n",
      "Epoch 91 (train)1.6s: train loss = 0.12513 = (mf)0.12244 + (embed)0.00269\n"
     ]
    },
    {
     "name": "stdout",
     "output_type": "stream",
     "text": [
      "Epoch 92 (train)1.6s: train loss = 0.12294 = (mf)0.12023 + (embed)0.00271\n",
      "Epoch 93 (train)1.6s: train loss = 0.12378 = (mf)0.12106 + (embed)0.00272\n",
      "Epoch 94 (train)1.6s: train loss = 0.12361 = (mf)0.12086 + (embed)0.00275\n",
      "Epoch 95 (train)1.6s + (eval)0.2s: train loss = 0.12396 = (mf)0.12119 + (embed)0.00276, recall = 0.09690, ndcg = 0.18621, precision = 0.16850, map = 0.04711\n",
      "Epoch 96 (train)1.6s: train loss = 0.12161 = (mf)0.11883 + (embed)0.00278\n",
      "Epoch 97 (train)1.6s: train loss = 0.12354 = (mf)0.12075 + (embed)0.00280\n",
      "Epoch 98 (train)1.6s: train loss = 0.12106 = (mf)0.11824 + (embed)0.00282\n",
      "Epoch 99 (train)1.6s: train loss = 0.12263 = (mf)0.11980 + (embed)0.00284\n",
      "Epoch 100 (train)1.6s + (eval)0.2s: train loss = 0.12106 = (mf)0.11820 + (embed)0.00286, recall = 0.09700, ndcg = 0.18557, precision = 0.16766, map = 0.04714\n",
      "Took 182.74709977395833 seconds for training.\n"
     ]
    }
   ],
   "source": [
    "with Timer() as train_time:\n",
    "    model.fit()\n",
    "\n",
    "print(\"Took {} seconds for training.\".format(train_time.interval))"
   ]
  },
  {
   "cell_type": "markdown",
   "metadata": {},
   "source": [
    "## 3.4 Recommendation and Evaluation"
   ]
  },
  {
   "cell_type": "markdown",
   "metadata": {},
   "source": [
    "Recommendation and evaluation have been performed on the specified test set during training. After training, we can also use the model to perform recommendation and evalution on other data. Here we still use `test` as test data, but `test` can be replaced by other data with similar data structure."
   ]
  },
  {
   "cell_type": "markdown",
   "metadata": {},
   "source": [
    "### 3.4.1 Recommendation\n",
    "\n",
    "We can call `recommend_k_items` to recommend k items for each user passed in this function. We set `remove_seen=True` to remove the items already seen by the user. The function returns a dataframe, containing each user and top k items recommended to them and the corresponding ranking scores."
   ]
  },
  {
   "cell_type": "code",
   "execution_count": 8,
   "metadata": {},
   "outputs": [
    {
     "data": {
      "text/html": [
       "<div>\n",
       "<style scoped>\n",
       "    .dataframe tbody tr th:only-of-type {\n",
       "        vertical-align: middle;\n",
       "    }\n",
       "\n",
       "    .dataframe tbody tr th {\n",
       "        vertical-align: top;\n",
       "    }\n",
       "\n",
       "    .dataframe thead th {\n",
       "        text-align: right;\n",
       "    }\n",
       "</style>\n",
       "<table border=\"1\" class=\"dataframe\">\n",
       "  <thead>\n",
       "    <tr style=\"text-align: right;\">\n",
       "      <th></th>\n",
       "      <th>userID</th>\n",
       "      <th>itemID</th>\n",
       "      <th>prediction</th>\n",
       "    </tr>\n",
       "  </thead>\n",
       "  <tbody>\n",
       "    <tr>\n",
       "      <th>0</th>\n",
       "      <td>1</td>\n",
       "      <td>100</td>\n",
       "      <td>6.981168</td>\n",
       "    </tr>\n",
       "    <tr>\n",
       "      <th>1</th>\n",
       "      <td>1</td>\n",
       "      <td>222</td>\n",
       "      <td>5.855599</td>\n",
       "    </tr>\n",
       "    <tr>\n",
       "      <th>2</th>\n",
       "      <td>1</td>\n",
       "      <td>210</td>\n",
       "      <td>5.580697</td>\n",
       "    </tr>\n",
       "    <tr>\n",
       "      <th>3</th>\n",
       "      <td>1</td>\n",
       "      <td>405</td>\n",
       "      <td>5.470736</td>\n",
       "    </tr>\n",
       "    <tr>\n",
       "      <th>4</th>\n",
       "      <td>1</td>\n",
       "      <td>12</td>\n",
       "      <td>5.363650</td>\n",
       "    </tr>\n",
       "  </tbody>\n",
       "</table>\n",
       "</div>"
      ],
      "text/plain": [
       "   userID  itemID  prediction\n",
       "0       1     100    6.981168\n",
       "1       1     222    5.855599\n",
       "2       1     210    5.580697\n",
       "3       1     405    5.470736\n",
       "4       1      12    5.363650"
      ]
     },
     "execution_count": 8,
     "metadata": {},
     "output_type": "execute_result"
    }
   ],
   "source": [
    "topk_scores = model.recommend_k_items(test, top_k=TOP_K, remove_seen=True)\n",
    "\n",
    "topk_scores.head()"
   ]
  },
  {
   "cell_type": "markdown",
   "metadata": {},
   "source": [
    "### 3.4.2 Evaluation\n",
    "\n",
    "With `topk_scores` predicted by the model, we can evaluate how LightGCN performs on this test set."
   ]
  },
  {
   "cell_type": "code",
   "execution_count": 9,
   "metadata": {},
   "outputs": [
    {
     "name": "stdout",
     "output_type": "stream",
     "text": [
      "MAP:\t0.047139\n",
      "NDCG:\t0.185569\n",
      "Precision@K:\t0.167656\n",
      "Recall@K:\t0.097002\n"
     ]
    }
   ],
   "source": [
    "eval_map = map_at_k(test, topk_scores, k=TOP_K)\n",
    "eval_ndcg = ndcg_at_k(test, topk_scores, k=TOP_K)\n",
    "eval_precision = precision_at_k(test, topk_scores, k=TOP_K)\n",
    "eval_recall = recall_at_k(test, topk_scores, k=TOP_K)\n",
    "\n",
    "print(\"MAP:\\t%f\" % eval_map,\n",
    "      \"NDCG:\\t%f\" % eval_ndcg,\n",
    "      \"Precision@K:\\t%f\" % eval_precision,\n",
    "      \"Recall@K:\\t%f\" % eval_recall, sep='\\n')"
   ]
  },
  {
   "cell_type": "code",
   "execution_count": 10,
   "metadata": {},
   "outputs": [
    {
     "name": "stderr",
     "output_type": "stream",
     "text": [
      "/home/conda/lib/python3.6/site-packages/ipykernel_launcher.py:2: DeprecationWarning: Function record is deprecated and will be removed in verison 1.0.0 (current version 0.19.1). Please see `scrapbook.glue` (nteract-scrapbook) as a replacement for this functionality.\n",
      "  \n"
     ]
    },
    {
     "data": {
      "application/papermill.record+json": {
       "map": 0.047138701886595503
      }
     },
     "metadata": {},
     "output_type": "display_data"
    },
    {
     "name": "stderr",
     "output_type": "stream",
     "text": [
      "/home/conda/lib/python3.6/site-packages/ipykernel_launcher.py:3: DeprecationWarning: Function record is deprecated and will be removed in verison 1.0.0 (current version 0.19.1). Please see `scrapbook.glue` (nteract-scrapbook) as a replacement for this functionality.\n",
      "  This is separate from the ipykernel package so we can avoid doing imports until\n"
     ]
    },
    {
     "data": {
      "application/papermill.record+json": {
       "ndcg": 0.18556887670559996
      }
     },
     "metadata": {},
     "output_type": "display_data"
    },
    {
     "name": "stderr",
     "output_type": "stream",
     "text": [
      "/home/conda/lib/python3.6/site-packages/ipykernel_launcher.py:4: DeprecationWarning: Function record is deprecated and will be removed in verison 1.0.0 (current version 0.19.1). Please see `scrapbook.glue` (nteract-scrapbook) as a replacement for this functionality.\n",
      "  after removing the cwd from sys.path.\n"
     ]
    },
    {
     "data": {
      "application/papermill.record+json": {
       "precision": 0.16765641569459175
      }
     },
     "metadata": {},
     "output_type": "display_data"
    },
    {
     "name": "stderr",
     "output_type": "stream",
     "text": [
      "/home/conda/lib/python3.6/site-packages/ipykernel_launcher.py:5: DeprecationWarning: Function record is deprecated and will be removed in verison 1.0.0 (current version 0.19.1). Please see `scrapbook.glue` (nteract-scrapbook) as a replacement for this functionality.\n",
      "  \"\"\"\n"
     ]
    },
    {
     "data": {
      "application/papermill.record+json": {
       "recall": 0.09700165868123412
      }
     },
     "metadata": {},
     "output_type": "display_data"
    }
   ],
   "source": [
    "# Record results with papermill for tests\n",
    "pm.record(\"map\", eval_map)\n",
    "pm.record(\"ndcg\", eval_ndcg)\n",
    "pm.record(\"precision\", eval_precision)\n",
    "pm.record(\"recall\", eval_recall)"
   ]
  },
  {
   "cell_type": "markdown",
   "metadata": {},
   "source": [
    "### Reference: \n",
    "1. Xiangnan He, Kuan Deng, Xiang Wang, Yan Li, Yongdong Zhang & Meng Wang, LightGCN: Simplifying and Powering Graph Convolution Network for Recommendation, 2020, https://arxiv.org/abs/2002.02126\n",
    "\n",
    "2. LightGCN implementation [TensorFlow]: https://github.com/kuandeng/lightgcn"
   ]
  }
 ],
 "metadata": {
  "celltoolbar": "Tags",
  "kernelspec": {
   "display_name": "python3",
   "language": "python",
   "name": "python3"
  },
  "language_info": {
   "codemirror_mode": {
    "name": "ipython",
    "version": 3
   },
   "file_extension": ".py",
   "mimetype": "text/x-python",
   "name": "python",
   "nbconvert_exporter": "python",
   "pygments_lexer": "ipython3",
   "version": "3.6.10"
  }
 },
 "nbformat": 4,
 "nbformat_minor": 2
}