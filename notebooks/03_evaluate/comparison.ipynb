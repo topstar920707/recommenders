{
 "cells": [
  {
   "cell_type": "markdown",
   "metadata": {},
   "source": [
    "<i>Copyright (c) Microsoft Corporation. All rights reserved.</i>\n",
    "\n",
    "<i>Licensed under the MIT License.</i>"
   ]
  },
  {
   "cell_type": "markdown",
   "metadata": {},
   "source": [
    "# Collaborative Filtering Recommendation Algorithm Comparison"
   ]
  },
  {
   "cell_type": "markdown",
   "metadata": {},
   "source": [
    "This illustrative comparison applies to collaborative filtering algorithms available in this repository such as Spark ALS, Surprise SVD and SAR. These algorithms are usable in a variety of recommendation tasks, including product or news recommendations. \n",
    "\n",
    "The main purpose of this notebook is not to produce comprehensive benchmarking results on multiple datasets. Rather, it is intended to illustrate on how one could evaluate different recommender algorithms using tools in this repository.\n",
    "\n",
    "## Experimentation setup:\n",
    "* Objective\n",
    "  * To compare how each collaborative filtering algorithm perform in predicting ratings and recommending relevant items.\n",
    "* Environment\n",
    "  * The comparison is run on a [Azure Data Science Virtual Machine](https://azure.microsoft.com/en-us/services/virtual-machines/data-science-virtual-machines/). \n",
    "  * The virtual machine size is Standard NC6s_v2 (6 vcpus, 112 GB memory).\n",
    "  * It should be noted that the single node DSVM is not supposed to run scalable benchmarking analysis. Either scaling up or out the computing instances is necessary to run the benchmarking in an run-time efficient way without any memory issue.\n",
    "* Datasets\n",
    "  * [Movielens 100K](https://grouplens.org/datasets/movielens/100k/).\n",
    "  * [Movielens 1M](https://grouplens.org/datasets/movielens/1m/).\n",
    "* Data split\n",
    "  * The data is split into train and test sets.\n",
    "  * The split ratios are 75-25 for train and test datasets.\n",
    "  * The splitting is random. \n",
    "* Model training\n",
    "  * A recommendation model is trained by using each of the collaborative filtering algorithms. \n",
    "  * Empirical parameter values reported [here](http://mymedialite.net/examples/datasets.html) are used in this notebook.  More exhaustive hyper parameter tuning would be required to further optimize results.\n",
    "* Evaluation metrics\n",
    "  * Ranking metrics:\n",
    "    * Precision@k.\n",
    "    * Recall@k.\n",
    "    * Normalized discounted cumulative gain@k (NDCG@k).\n",
    "    * Mean-average-precision (MAP). \n",
    "    * In the evaluation metrics above, k = 10. \n",
    "  * Rating metrics:\n",
    "    * Root mean squared error (RMSE).\n",
    "    * Mean average error (MAE).\n",
    "    * R squared.\n",
    "    * Explained variance.\n",
    "  * Run time performance\n",
    "    * Elapsed for training a model and using a model for predicting/recommending k items. \n",
    "    * The time may vary across different machines. "
   ]
  },
  {
   "cell_type": "markdown",
   "metadata": {},
   "source": [
    "## 0 Global settings"
   ]
  },
  {
   "cell_type": "code",
   "execution_count": 5,
   "metadata": {},
   "outputs": [
    {
     "name": "stdout",
     "output_type": "stream",
     "text": [
      "System version: 3.6.8 |Anaconda, Inc.| (default, Dec 30 2018, 01:22:34) \n",
      "[GCC 7.3.0]\n",
      "Pandas version: 0.24.1\n",
      "PySpark version: 2.3.1\n"
     ]
    }
   ],
   "source": [
    "import sys\n",
    "sys.path.append(\"../../\")\n",
    "\n",
    "import os\n",
    "from tempfile import TemporaryDirectory\n",
    "\n",
    "from matplotlib import pyplot as plt\n",
    "import numpy as np\n",
    "import pandas as pd\n",
    "import papermill as pm\n",
    "import pyspark\n",
    "import seaborn as sns\n",
    "\n",
    "print(\"System version: {}\".format(sys.version))\n",
    "print(\"Pandas version: {}\".format(pd.__version__))\n",
    "print(\"PySpark version: {}\".format(pyspark.__version__))"
   ]
  },
  {
   "cell_type": "markdown",
   "metadata": {},
   "source": [
    "A temporary directory is created to preserve the output notebook."
   ]
  },
  {
   "cell_type": "code",
   "execution_count": 6,
   "metadata": {},
   "outputs": [],
   "source": [
    "# Put temp results in a temp folder.\n",
    "temp_dir = TemporaryDirectory()\n",
    "temp_path = temp_dir.name\n",
    "output_path = os.path.join(temp_path, 'output.ipynb')"
   ]
  },
  {
   "cell_type": "code",
   "execution_count": 7,
   "metadata": {},
   "outputs": [],
   "source": [
    "# Global set-up parameters used to run the notebooks.\n",
    "k = 10\n",
    "\n",
    "data_sizes = ['100k', '1m']\n",
    "algorithms = ['als', 'sar', 'svd', 'fast', 'lr']\n",
    "\n",
    "notebooks = {\n",
    "    'als': '../00_quick_start/als_pyspark_movielens.ipynb',\n",
    "    'sar': '../00_quick_start/sar_single_node_movielens.ipynb',\n",
    "    'svd': '../02_model/surprise_svd_deep_dive.ipynb',\n",
    "    'fast': '../00_quick_start/fastai_recommendation.ipynb',\n",
    "    'lr': '../02_model/vowpal_wabbit_deep_dive.ipynb',\n",
    "}"
   ]
  },
  {
   "cell_type": "markdown",
   "metadata": {},
   "source": [
    "## 1 Run notebooks to generate results"
   ]
  },
  {
   "cell_type": "code",
   "execution_count": null,
   "metadata": {},
   "outputs": [
    {
     "name": "stdout",
     "output_type": "stream",
     "text": [
      "als 100k\n"
     ]
    },
    {
     "data": {
      "application/vnd.jupyter.widget-view+json": {
       "model_id": "a927aa91859c4cf3b9623b82381a66fa",
       "version_major": 2,
       "version_minor": 0
      },
      "text/plain": [
       "HBox(children=(IntProgress(value=0, max=25), HTML(value='')))"
      ]
     },
     "metadata": {},
     "output_type": "display_data"
    },
    {
     "name": "stdout",
     "output_type": "stream",
     "text": [
      "\n",
      "sar 100k\n"
     ]
    },
    {
     "data": {
      "application/vnd.jupyter.widget-view+json": {
       "model_id": "53d958c3531a4183a1207f8a4108df8b",
       "version_major": 2,
       "version_minor": 0
      },
      "text/plain": [
       "HBox(children=(IntProgress(value=0, max=27), HTML(value='')))"
      ]
     },
     "metadata": {},
     "output_type": "display_data"
    },
    {
     "name": "stdout",
     "output_type": "stream",
     "text": [
      "\n",
      "svd 100k\n"
     ]
    },
    {
     "data": {
      "application/vnd.jupyter.widget-view+json": {
       "model_id": "fc2d9d43c9f84b37831f721874ed4e52",
       "version_major": 2,
       "version_minor": 0
      },
      "text/plain": [
       "HBox(children=(IntProgress(value=0, max=25), HTML(value='')))"
      ]
     },
     "metadata": {},
     "output_type": "display_data"
    },
    {
     "name": "stdout",
     "output_type": "stream",
     "text": [
      "\n",
      "fast 100k\n"
     ]
    },
    {
     "data": {
      "application/vnd.jupyter.widget-view+json": {
       "model_id": "738ddaff6e594c1b8df8e3cafabe8791",
       "version_major": 2,
       "version_minor": 0
      },
      "text/plain": [
       "HBox(children=(IntProgress(value=0, max=46), HTML(value='')))"
      ]
     },
     "metadata": {},
     "output_type": "display_data"
    },
    {
     "name": "stdout",
     "output_type": "stream",
     "text": [
      "\n",
      "lr 100k\n"
     ]
    },
    {
     "data": {
      "application/vnd.jupyter.widget-view+json": {
       "model_id": "5a4cd0ba70d8407ab30f7f1f798ba97a",
       "version_major": 2,
       "version_minor": 0
      },
      "text/plain": [
       "HBox(children=(IntProgress(value=0, max=37), HTML(value='')))"
      ]
     },
     "metadata": {},
     "output_type": "display_data"
    },
    {
     "name": "stdout",
     "output_type": "stream",
     "text": [
      "\n",
      "als 1m\n"
     ]
    },
    {
     "data": {
      "application/vnd.jupyter.widget-view+json": {
       "model_id": "6d7b0b3b92a842ea843492ba03db3901",
       "version_major": 2,
       "version_minor": 0
      },
      "text/plain": [
       "HBox(children=(IntProgress(value=0, max=25), HTML(value='')))"
      ]
     },
     "metadata": {},
     "output_type": "display_data"
    },
    {
     "name": "stdout",
     "output_type": "stream",
     "text": [
      "\n",
      "sar 1m\n"
     ]
    },
    {
     "data": {
      "application/vnd.jupyter.widget-view+json": {
       "model_id": "887bf860001f4540b2450eb4efb78527",
       "version_major": 2,
       "version_minor": 0
      },
      "text/plain": [
       "HBox(children=(IntProgress(value=0, max=27), HTML(value='')))"
      ]
     },
     "metadata": {},
     "output_type": "display_data"
    },
    {
     "name": "stdout",
     "output_type": "stream",
     "text": [
      "\n",
      "svd 1m\n"
     ]
    },
    {
     "data": {
      "application/vnd.jupyter.widget-view+json": {
       "model_id": "62d9d80e1db04c34b175f55e40fcc353",
       "version_major": 2,
       "version_minor": 0
      },
      "text/plain": [
       "HBox(children=(IntProgress(value=0, max=25), HTML(value='')))"
      ]
     },
     "metadata": {},
     "output_type": "display_data"
    }
   ],
   "source": [
    "# For each data size and each algorithm, a recommender is evaluated. \n",
    "df_results = pd.DataFrame()\n",
    "\n",
    "for data_size in data_sizes:\n",
    "    for algorithm in algorithms:\n",
    "        print(algorithm, data_size)\n",
    "        # Execute the notebook\n",
    "        pm.execute_notebook(\n",
    "            notebooks[algorithm],\n",
    "            output_path,\n",
    "            parameters = dict(TOP_K=k, MOVIELENS_DATA_SIZE=data_size)\n",
    "        )\n",
    "        \n",
    "        # Read records from the notebook.\n",
    "        nb = pm.read_notebook(output_path)\n",
    "        \n",
    "        # Arrange results and save them into dataframe.\n",
    "        df_eval = nb.dataframe.transpose()\n",
    "        df_eval = df_eval.rename(columns=df_eval.iloc[0]).drop(['name', 'type', 'filename'])\n",
    "        df_eval.columns = [x.lower() for x in list(df_eval.columns)]\n",
    "        \n",
    "        if algorithm in [\"als\", \"svd\", \"fast\", \"lr\"]:\n",
    "            df_result = pd.DataFrame(\n",
    "                {\n",
    "                    \"Data\": data_size,\n",
    "                    \"Algo\": algorithm,\n",
    "                    \"K\": k,\n",
    "                    \"MAP\": df_eval['map'].item(),\n",
    "                    \"nDCG@k\": df_eval['ndcg'].item(),\n",
    "                    \"Precision@k\": df_eval['precision'].item(),\n",
    "                    \"Recall@k\": df_eval['recall'].item(),\n",
    "                    \"RMSE\": df_eval['rmse'].item(),\n",
    "                    \"MAE\": df_eval['mae'].item(),\n",
    "                    \"R2\": df_eval['rsquared'].item(),\n",
    "                    \"Explained Variance\": df_eval['exp_var'].item(),\n",
    "                    \"Train time\": df_eval['train_time'].item(),\n",
    "                    \"Test time\": df_eval['test_time'].item()\n",
    "                }, \n",
    "                index=[0]\n",
    "            )\n",
    "        # NOTE SAR algorithm does not predict rating scores so the rating metrics do not apply. \n",
    "        # Therefore, for SAR, the rating metrics are assigned with NAN.\n",
    "        elif algorithm in [\"sar\"]:\n",
    "            df_result = pd.DataFrame(\n",
    "                {\n",
    "                    \"Data\": data_size,\n",
    "                    \"Algo\": algorithm,\n",
    "                    \"K\": k,\n",
    "                    \"MAP\": df_eval['map'].item(),\n",
    "                    \"nDCG@k\": df_eval['ndcg'].item(),\n",
    "                    \"Precision@k\": df_eval['precision'].item(),\n",
    "                    \"Recall@k\": df_eval['recall'].item(),\n",
    "                    \"RMSE\": np.nan,\n",
    "                    \"MAE\": np.nan,\n",
    "                    \"R2\": np.nan,\n",
    "                    \"Explained Variance\": np.nan,\n",
    "                    \"Train time\": df_eval['train_time'].item(),\n",
    "                    \"Test time\": df_eval['test_time'].item()\n",
    "                }, \n",
    "                index=[0]\n",
    "            )\n",
    "        else:\n",
    "            raise ValueError(\"{} is not a recognized algorithm\".format(algorithm))\n",
    "        df_results = df_results.append(df_result, ignore_index=True)\n",
    "        \n",
    "df_results"
   ]
  },
  {
   "cell_type": "markdown",
   "metadata": {},
   "source": [
    "The temporary directory is removed after completion of all runs."
   ]
  },
  {
   "cell_type": "markdown",
   "metadata": {},
   "source": [
    "## 2 Clean up"
   ]
  },
  {
   "cell_type": "code",
   "execution_count": null,
   "metadata": {},
   "outputs": [],
   "source": [
    "# Remove the temp directory and files\n",
    "temp_dir.cleanup()"
   ]
  }
 ],
 "metadata": {
  "kernelspec": {
   "display_name": "Python (reco_pyspark)",
   "language": "python",
   "name": "reco_pyspark"
  },
  "language_info": {
   "codemirror_mode": {
    "name": "ipython",
    "version": 3
   },
   "file_extension": ".py",
   "mimetype": "text/x-python",
   "name": "python",
   "nbconvert_exporter": "python",
   "pygments_lexer": "ipython3",
   "version": "3.6.8"
  }
 },
 "nbformat": 4,
 "nbformat_minor": 2
}
