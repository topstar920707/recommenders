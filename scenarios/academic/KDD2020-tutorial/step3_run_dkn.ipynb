{
 "cells": [
  {
   "cell_type": "markdown",
   "metadata": {},
   "source": [
    "<i>Copyright (c) Microsoft Corporation. All rights reserved.</i>\n",
    "\n",
    "<i>Licensed under the MIT License.</i>"
   ]
  },
  {
   "cell_type": "markdown",
   "metadata": {},
   "source": [
    "# DKN : Deep Knowledge-Aware Network for News Recommendation\n",
    "DKN \\[1\\] is a deep learning model which incorporates information from knowledge graph for better news recommendation. Specifically, DKN uses TransX \\[2\\] method for knowledge graph representaion learning, then applies a CNN framework, named KCNN, to combine entity embedding with word embedding and generate a final embedding vector for a news article. CTR prediction is made via an attention-based neural scorer. \n",
    "<img src=\"https://recodatasets.blob.core.windows.net/kdd2020/images%2FDKN-introduction-pic.JPG\" width=\"600\">\n",
    "\n",
    "## Properties of DKN:\n",
    "- DKN is a content-based deep model for CTR prediction rather than traditional ID-based collaborative filtering. \n",
    "- It makes use of knowledge entities and common sense in news content via joint learning from semantic-level and knnowledge-level representations of news articles.\n",
    "- DKN uses an attention module to dynamically calculate a user's aggregated historical representaition.\n",
    "\n",
    "\n",
    "\n",
    "## Data format:\n",
    "### DKN takes several files as input as follows:\n",
    "- training / validation / test files: each line in these files represents one instance. Impressionid is used to evaluate performance within an impression session, so it is only used when evaluating, you can set it to 0 for training data. The format is : <br> \n",
    "`[label] [userid] [CandidateNews]%[impressionid] `<br> \n",
    "e.g., `1 train_U1 N1%0` <br> \n",
    "- user history file: each line in this file represents a users' click history. You need to set his_size parameter in config file, which is the max number of user's click history we use. We will automatically keep the last his_size number of user click history, if user's click history is more than his_size, and we will automatically padding 0 if user's click history less than his_size. the format is : <br> \n",
    "`[Userid] [newsid1,newsid2...]`<br>\n",
    "e.g., `train_U1 N1,N2` <br> \n",
    "- document feature file:\n",
    "It contains the word and entity features of news. News article is represented by (aligned) title words and title entities. To take a quick example, a news title may be : Trump to deliver State of the Union address next week , then the title words value may be CandidateNews:34,45,334,23,12,987,3456,111,456,432 and the title entitie value may be: entity:45,0,0,0,0,0,0,0,0,0. Only the first value of entity vector is non-zero due to the word Trump. The title value and entity value is hashed from 1 to n(n is the number of distinct words or entities). Each feature length should be fixed at k(doc_size papameter), if the number of words in document is more than k, you should truncate the document to k words, and if the number of words in document is less than k, you should padding 0 to the end. \n",
    "the format is like: <br> \n",
    "`[Newsid] [w1,w2,w3...wk] [e1,e2,e3...ek]`\n",
    "- word embedding/entity embedding/ context embedding files: These are npy files of pretrained embeddings. After loading, each file is a [n+1,k] two-dimensional matrix, n is the number of words(or entities) of their hash dictionary, k is dimension of the embedding, note that we keep embedding 0 for zero padding. \n",
    "In this experiment, we used GloVe\\[4\\] vectors to initialize the word embedding. We trained entity embedding using TransE\\[2\\] on knowledge graph and context embedding is the average of the entity's neighbors in the knowledge graph.<br>"
   ]
  },
  {
   "cell_type": "markdown",
   "metadata": {},
   "source": [
    "## Global settings and imports"
   ]
  },
  {
   "cell_type": "code",
   "execution_count": 1,
   "metadata": {
    "pycharm": {
     "is_executing": false
    }
   },
   "outputs": [],
   "source": [
    "import sys\n",
    "sys.path.append(\"../../../\")\n",
    "from reco_utils.recommender.deeprec.deeprec_utils import *\n",
    "from reco_utils.recommender.deeprec.models.dkn import *\n",
    "from reco_utils.recommender.deeprec.io.dkn_iterator import *\n",
    "import time\n",
    "\n",
    "import tensorflow as tf\n",
    "tf.logging.set_verbosity(tf.logging.ERROR)"
   ]
  },
  {
   "cell_type": "markdown",
   "metadata": {},
   "source": [
    "## data paths\n",
    "Usually we will debug and search hyper-parameters on a small dataset.  You can switch between the small dataset and full dataset by changing the value of `tag`."
   ]
  },
  {
   "cell_type": "code",
   "execution_count": 2,
   "metadata": {},
   "outputs": [],
   "source": [
    "tag = 'small' # small or full"
   ]
  },
  {
   "cell_type": "code",
   "execution_count": 3,
   "metadata": {
    "pycharm": {
     "is_executing": false
    }
   },
   "outputs": [],
   "source": [
    "data_path = 'data_folder/my/DKN-training-folder'\n",
    "\n",
    "yaml_file = './dkn.yaml' #  os.path.join(data_path, r'../../../../../../dkn.yaml')\n",
    "train_file = os.path.join(data_path, r'train_{0}.txt'.format(tag))\n",
    "valid_file = os.path.join(data_path, r'valid_{0}.txt'.format(tag))\n",
    "test_file = os.path.join(data_path, r'test_{0}.txt'.format(tag))\n",
    "user_history_file = os.path.join(data_path, r'user_history_{0}.txt'.format(tag))\n",
    "news_feature_file = os.path.join(data_path, r'../paper_feature.txt')\n",
    "wordEmb_file = os.path.join(data_path, r'word_embedding.npy')\n",
    "entityEmb_file = os.path.join(data_path, r'entity_embedding.npy')\n",
    "contextEmb_file = os.path.join(data_path, r'context_embedding.npy')\n",
    "infer_embedding_file = os.path.join(data_path, r'infer_embedding.txt')\n",
    "    "
   ]
  },
  {
   "cell_type": "markdown",
   "metadata": {},
   "source": [
    "## Create hyper-parameters"
   ]
  },
  {
   "cell_type": "code",
   "execution_count": 4,
   "metadata": {
    "pycharm": {
     "is_executing": false
    }
   },
   "outputs": [
    {
     "name": "stdout",
     "output_type": "stream",
     "text": [
      "<bound method HParams.values of HParams([('DNN_FIELD_NUM', None), ('EARLY_STOP', 100), ('FEATURE_COUNT', None), ('FIELD_COUNT', None), ('L', None), ('MODEL_DIR', 'data_folder/my/DKN-training-folder/save_models'), ('PAIR_NUM', None), ('SUMMARIES_DIR', None), ('T', None), ('activation', ['sigmoid']), ('att_fcn_layer_sizes', None), ('attention_activation', 'relu'), ('attention_dropout', 0.0), ('attention_layer_sizes', 32), ('attention_size', None), ('batch_size', 100), ('cate_embedding_dim', None), ('cate_vocab', None), ('contextEmb_file', 'data_folder/my/DKN-training-folder/context_embedding.npy'), ('cross_activation', 'identity'), ('cross_l1', 0.0), ('cross_l2', 0.0), ('cross_layer_sizes', None), ('cross_layers', None), ('data_format', 'dkn'), ('decay', None), ('dilations', None), ('dim', 32), ('doc_size', 15), ('dropout', [0.0]), ('dtype', 32), ('embed_l1', 0.0), ('embed_l2', 0.0), ('embed_size', None), ('embedding_dropout', 0.3), ('enable_BN', False), ('entityEmb_file', 'data_folder/my/DKN-training-folder/entity_embedding.npy'), ('entity_dim', 32), ('entity_embedding_method', 'TransE'), ('entity_size', 57267), ('epochs', 5), ('eval_epoch', None), ('fast_CIN_d', 0), ('filter_sizes', [1, 2, 3]), ('hidden_size', None), ('history_size', 20), ('init_method', 'uniform'), ('init_value', 0.01), ('is_clip_norm', True), ('item_embedding_dim', None), ('item_vocab', None), ('iterator_type', None), ('kernel_size', None), ('kg_file', None), ('kg_training_interval', 5), ('layer_l1', 0.0), ('layer_l2', 0.0), ('layer_sizes', [300]), ('learning_rate', 0.001), ('load_model_name', None), ('load_saved_model', False), ('loss', 'log_loss'), ('lr_kg', 0.5), ('lr_rs', 1), ('max_grad_norm', 0.5), ('max_seq_length', None), ('method', 'classification'), ('metrics', ['auc']), ('min_seq_length', 1), ('model_type', 'dkn'), ('mu', None), ('n_h', None), ('n_item', None), ('n_item_attr', None), ('n_layers', None), ('n_user', None), ('n_user_attr', None), ('n_v', None), ('need_sample', True), ('news_feature_file', 'data_folder/my/DKN-training-folder/../paper_feature.txt'), ('num_filters', 50), ('optimizer', 'adam'), ('pairwise_metrics', ['group_auc', 'mean_mrr', 'ndcg@2;4;6']), ('reg_kg', 0.0), ('save_epoch', 1), ('save_model', True), ('show_step', 10000), ('top_k', None), ('train_num_ngs', 4), ('train_ratio', None), ('transform', True), ('use_CIN_part', False), ('use_DNN_part', False), ('use_FM_part', False), ('use_Linear_part', False), ('use_context', True), ('use_entity', True), ('user_clicks', None), ('user_dropout', False), ('user_embedding_dim', None), ('user_history_file', 'data_folder/my/DKN-training-folder/user_history_full.txt'), ('user_vocab', None), ('wordEmb_file', 'data_folder/my/DKN-training-folder/word_embedding.npy'), ('word_size', 194755), ('write_tfevents', False)])>\n"
     ]
    }
   ],
   "source": [
    "epoch=5\n",
    "hparams = prepare_hparams(yaml_file,\n",
    "                          news_feature_file = news_feature_file,\n",
    "                          user_history_file = user_history_file,\n",
    "                          wordEmb_file=wordEmb_file,\n",
    "                          entityEmb_file=entityEmb_file,\n",
    "                          contextEmb_file=contextEmb_file,\n",
    "                          epochs=epoch,\n",
    "                          is_clip_norm=True,\n",
    "                          max_grad_norm=0.5,\n",
    "                          history_size=20,\n",
    "                          MODEL_DIR=os.path.join(data_path, 'save_models'),\n",
    "                          learning_rate=0.001,\n",
    "                          embed_l2=0.0,\n",
    "                          layer_l2=0.0,\n",
    "                          use_entity=True,\n",
    "                          use_context=True\n",
    "                         )\n",
    "print(hparams.values)"
   ]
  },
  {
   "cell_type": "code",
   "execution_count": 5,
   "metadata": {
    "pycharm": {
     "is_executing": false
    }
   },
   "outputs": [],
   "source": [
    "input_creator = DKNTextIterator"
   ]
  },
  {
   "cell_type": "markdown",
   "metadata": {},
   "source": [
    "## Train the DKN model\n",
    "<img src=\"https://recodatasets.blob.core.windows.net/kdd2020/images%2FDKN-main.JPG\" width=\"600\">"
   ]
  },
  {
   "cell_type": "code",
   "execution_count": 6,
   "metadata": {
    "pycharm": {
     "is_executing": false
    }
   },
   "outputs": [],
   "source": [
    "model = DKN(hparams, input_creator)"
   ]
  },
  {
   "cell_type": "code",
   "execution_count": 7,
   "metadata": {
    "pycharm": {
     "is_executing": false
    }
   },
   "outputs": [
    {
     "name": "stdout",
     "output_type": "stream",
     "text": [
      "{'auc': 0.5069, 'group_auc': 0.51, 'mean_mrr': 0.4661, 'ndcg@2': 0.3385, 'ndcg@4': 0.5223, 'ndcg@6': 0.5969}\n",
      "3.6947784701983135\n"
     ]
    }
   ],
   "source": [
    "t01 = time.time()\n",
    "print(model.run_eval(valid_file))\n",
    "t02 = time.time()\n",
    "print((t02-t01)/60)"
   ]
  },
  {
   "cell_type": "code",
   "execution_count": 8,
   "metadata": {
    "pycharm": {
     "is_executing": false
    },
    "scrolled": false
   },
   "outputs": [
    {
     "name": "stdout",
     "output_type": "stream",
     "text": [
      "step 10000 , total_loss: 0.2198, data_loss: 0.2198\n",
      "step 20000 , total_loss: 0.1421, data_loss: 0.1421\n",
      "step 30000 , total_loss: 0.2206, data_loss: 0.2206\n",
      "step 40000 , total_loss: 0.2509, data_loss: 0.2509\n",
      "step 50000 , total_loss: 0.1930, data_loss: 0.1930\n",
      "step 60000 , total_loss: 0.2545, data_loss: 0.2545\n",
      "step 70000 , total_loss: 0.2485, data_loss: 0.2485\n",
      "step 80000 , total_loss: 0.1687, data_loss: 0.1687\n",
      "at epoch 1\n",
      "train info: logloss loss:0.22057119277352458\n",
      "eval info: auc:0.9585, group_auc:0.9553, mean_mrr:0.9238, ndcg@2:0.929, ndcg@4:0.9429, ndcg@6:0.9435\n",
      "at epoch 1 , train time: 1632.5 eval time: 219.5\n",
      "step 10000 , total_loss: 0.1426, data_loss: 0.1426\n",
      "step 20000 , total_loss: 0.0908, data_loss: 0.0908\n",
      "step 30000 , total_loss: 0.2087, data_loss: 0.2087\n",
      "step 40000 , total_loss: 0.2400, data_loss: 0.2400\n",
      "step 50000 , total_loss: 0.1679, data_loss: 0.1679\n",
      "step 60000 , total_loss: 0.2621, data_loss: 0.2621\n",
      "step 70000 , total_loss: 0.1824, data_loss: 0.1824\n",
      "step 80000 , total_loss: 0.1458, data_loss: 0.1458\n",
      "at epoch 2\n",
      "train info: logloss loss:0.17467311549610012\n",
      "eval info: auc:0.9587, group_auc:0.9558, mean_mrr:0.9251, ndcg@2:0.9299, ndcg@4:0.9438, ndcg@6:0.9444\n",
      "at epoch 2 , train time: 1631.1 eval time: 219.0\n",
      "step 10000 , total_loss: 0.1706, data_loss: 0.1706\n",
      "step 20000 , total_loss: 0.1158, data_loss: 0.1158\n",
      "step 30000 , total_loss: 0.1763, data_loss: 0.1763\n",
      "step 40000 , total_loss: 0.2525, data_loss: 0.2525\n",
      "step 50000 , total_loss: 0.1231, data_loss: 0.1231\n",
      "step 60000 , total_loss: 0.2822, data_loss: 0.2822\n",
      "step 70000 , total_loss: 0.2257, data_loss: 0.2257\n",
      "step 80000 , total_loss: 0.0979, data_loss: 0.0979\n",
      "at epoch 3\n",
      "train info: logloss loss:0.1649624304201234\n",
      "eval info: auc:0.9626, group_auc:0.9604, mean_mrr:0.9324, ndcg@2:0.9371, ndcg@4:0.9495, ndcg@6:0.9499\n",
      "at epoch 3 , train time: 1630.6 eval time: 217.6\n",
      "step 10000 , total_loss: 0.1863, data_loss: 0.1863\n",
      "step 20000 , total_loss: 0.0999, data_loss: 0.0999\n",
      "step 30000 , total_loss: 0.1524, data_loss: 0.1524\n",
      "step 40000 , total_loss: 0.2105, data_loss: 0.2105\n",
      "step 50000 , total_loss: 0.1223, data_loss: 0.1223\n",
      "step 70000 , total_loss: 0.2559, data_loss: 0.2559\n",
      "step 80000 , total_loss: 0.1231, data_loss: 0.1231\n",
      "at epoch 4\n",
      "train info: logloss loss:0.16042525397805998\n",
      "eval info: auc:0.9625, group_auc:0.9606, mean_mrr:0.9326, ndcg@2:0.9374, ndcg@4:0.9495, ndcg@6:0.95\n",
      "at epoch 4 , train time: 1630.1 eval time: 222.0\n",
      "step 10000 , total_loss: 0.1489, data_loss: 0.1489\n",
      "step 20000 , total_loss: 0.0991, data_loss: 0.0991\n",
      "step 30000 , total_loss: 0.1715, data_loss: 0.1715\n",
      "step 40000 , total_loss: 0.2485, data_loss: 0.2485\n",
      "step 50000 , total_loss: 0.1522, data_loss: 0.1522\n",
      "step 60000 , total_loss: 0.2663, data_loss: 0.2663\n",
      "step 70000 , total_loss: 0.2219, data_loss: 0.2219\n",
      "step 80000 , total_loss: 0.1963, data_loss: 0.1963\n",
      "at epoch 5\n",
      "train info: logloss loss:0.15766921606071715\n",
      "eval info: auc:0.9623, group_auc:0.9607, mean_mrr:0.9331, ndcg@2:0.9378, ndcg@4:0.9499, ndcg@6:0.9504\n",
      "at epoch 5 , train time: 1631.0 eval time: 218.8\n"
     ]
    },
    {
     "data": {
      "text/plain": [
       "<reco_utils.recommender.deeprec.models.dkn.DKN at 0x7f43a371d4a8>"
      ]
     },
     "execution_count": 8,
     "metadata": {},
     "output_type": "execute_result"
    }
   ],
   "source": [
    "model.fit(train_file, valid_file)"
   ]
  },
  {
   "cell_type": "markdown",
   "metadata": {},
   "source": [
    "Now we can test again the performance on valid set:"
   ]
  },
  {
   "cell_type": "code",
   "execution_count": 9,
   "metadata": {},
   "outputs": [
    {
     "name": "stdout",
     "output_type": "stream",
     "text": [
      "{'auc': 0.9554, 'group_auc': 0.953, 'mean_mrr': 0.7745, 'ndcg@2': 0.7493, 'ndcg@4': 0.8051, 'ndcg@6': 0.8204}\n",
      "6.071236582597097\n"
     ]
    }
   ],
   "source": [
    "t01 = time.time()\n",
    "print(model.run_eval(test_file))\n",
    "t02 = time.time()\n",
    "print((t02-t01)/60)"
   ]
  },
  {
   "cell_type": "markdown",
   "metadata": {
    "pycharm": {
     "name": "#%% md\n"
    }
   },
   "source": [
    "## Document embedding inference API\n",
    "After training, you can get document embedding through this document embedding inference API. The input file format is same with document feature file. The output file fomrat is: `[Newsid] [embedding]`"
   ]
  },
  {
   "cell_type": "code",
   "execution_count": 10,
   "metadata": {
    "pycharm": {
     "is_executing": false,
     "name": "#%%\n"
    }
   },
   "outputs": [
    {
     "data": {
      "text/plain": [
       "<reco_utils.recommender.deeprec.models.dkn.DKN at 0x7f43a371d4a8>"
      ]
     },
     "execution_count": 10,
     "metadata": {},
     "output_type": "execute_result"
    }
   ],
   "source": [
    "model.run_get_embedding(news_feature_file, infer_embedding_file)"
   ]
  },
  {
   "cell_type": "markdown",
   "metadata": {},
   "source": [
    "we compre with DKN performance between using knowledge entities or without using knowledge entities (DKN(-)):\n",
    "\n",
    "| Models | Group-AUC | MRR |NDCG@2 | NDCG@4 |\n",
    "| :------| :------: | :------: | :------: | :------ |\n",
    "| DKN | 0.9557 | 0.8993 | 0.8951 | 0.9123 |\n",
    "| DKN(-) | 0.9506 | 0.8817 | 0.8758 | 0.8982 |\n",
    "| LightGCN | 0.8608 | 0.5605 | 0.4975 | 0.5792 |"
   ]
  },
  {
   "cell_type": "markdown",
   "metadata": {},
   "source": [
    "## Reference\n",
    "\\[1\\] Wang, Hongwei, et al. \"DKN: Deep Knowledge-Aware Network for News Recommendation.\" Proceedings of the 2018 World Wide Web Conference on World Wide Web. International World Wide Web Conferences Steering Committee, 2018.<br>\n"
   ]
  },
  {
   "cell_type": "code",
   "execution_count": null,
   "metadata": {},
   "outputs": [],
   "source": []
  }
 ],
 "metadata": {
  "celltoolbar": "Tags",
  "kernelspec": {
   "display_name": "reco_gpu_kdd",
   "language": "python",
   "name": "reco_gpu_kdd"
  },
  "language_info": {
   "codemirror_mode": {
    "name": "ipython",
    "version": 3
   },
   "file_extension": ".py",
   "mimetype": "text/x-python",
   "name": "python",
   "nbconvert_exporter": "python",
   "pygments_lexer": "ipython3",
   "version": "3.6.10"
  },
  "pycharm": {
   "stem_cell": {
    "cell_type": "raw",
    "metadata": {
     "collapsed": false
    },
    "source": []
   }
  }
 },
 "nbformat": 4,
 "nbformat_minor": 2
}
