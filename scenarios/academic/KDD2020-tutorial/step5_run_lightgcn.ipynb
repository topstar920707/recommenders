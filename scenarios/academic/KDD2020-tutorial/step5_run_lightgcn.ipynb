{
 "cells": [
  {
   "cell_type": "markdown",
   "metadata": {},
   "source": [
    "<i>Copyright (c) Microsoft Corporation. All rights reserved.</i>\n",
    "\n",
    "<i>Licensed under the MIT License.</i>"
   ]
  },
  {
   "cell_type": "markdown",
   "metadata": {},
   "source": [
    "# User2Item recommendations with LightGCN \n",
    "We offer an example to help readers to run a ID-based collaborative filtering baseline with LightGCN. <br>\n",
    "LightGCN is a simple and neat Graph Convolution Network (GCN) model for recommender systems.  I It uses a GCN to learn the embeddings of users/items, with the goal that low-order and high-order user-item interactions are explicitly exploited into the embedding function.\n",
    "<img src=\"https://recodatasets.blob.core.windows.net/kdd2020/images%2FLightGCN-graphexample.JPG\" width=\"600\">\n",
    "\n",
    "\n",
    "\n",
    "The model architecture is illustrated as follows:\n",
    "<img src=\"https://recodatasets.blob.core.windows.net/images/lightGCN-model.jpg\" width=\"600\">\n",
    "\n",
    "For more details and instructions, please refer to https://github.com/microsoft/recommenders/blob/master/examples/02_model_collaborative_filtering/lightgcn_deep_dive.ipynb  "
   ]
  },
  {
   "cell_type": "code",
   "execution_count": 1,
   "metadata": {},
   "outputs": [],
   "source": [
    "import sys\n",
    "sys.path.append(\"../../../\")\n",
    "import os\n",
    "import pandas as pd\n",
    "import numpy as np\n",
    "import tensorflow as tf\n",
    "from reco_utils.common.timer import Timer\n",
    "from reco_utils.recommender.deeprec.models.graphrec.lightgcn import LightGCN\n",
    "from reco_utils.recommender.deeprec.DataModel.ImplicitCF import ImplicitCF\n",
    "from reco_utils.dataset import movielens\n",
    "from reco_utils.dataset.python_splitters import python_stratified_split\n",
    "from reco_utils.evaluation.python_evaluation import map_at_k, ndcg_at_k, precision_at_k, recall_at_k\n",
    "from reco_utils.common.constants import SEED as DEFAULT_SEED\n",
    "from reco_utils.recommender.deeprec.deeprec_utils import prepare_hparams\n",
    "from reco_utils.recommender.deeprec.deeprec_utils import cal_metric\n",
    "from utils.general import *\n",
    "from utils.data_helper import *\n",
    "from utils.task_helper import *\n",
    "\n",
    "tf.logging.set_verbosity(tf.logging.ERROR)"
   ]
  },
  {
   "cell_type": "code",
   "execution_count": 2,
   "metadata": {},
   "outputs": [],
   "source": [
    "tag = 'full'"
   ]
  },
  {
   "cell_type": "code",
   "execution_count": 3,
   "metadata": {},
   "outputs": [],
   "source": [
    "lightgcn_dir = 'data_folder/my/LightGCN-training-folder'\n",
    "rawdata_dir = 'data_folder/my/DKN-training-folder'\n",
    "create_dir(lightgcn_dir)"
   ]
  },
  {
   "cell_type": "markdown",
   "metadata": {},
   "source": [
    "First, we need to transform the raw dataset into LightGCN's input data format:"
   ]
  },
  {
   "cell_type": "code",
   "execution_count": 4,
   "metadata": {},
   "outputs": [
    {
     "name": "stdout",
     "output_type": "stream",
     "text": [
      "load_instance_file: train_full.txt   done.\n",
      "load_instance_file: valid_full.txt   done.\n",
      "load_instance_file: test_full.txt   done.\n"
     ]
    }
   ],
   "source": [
    "prepare_dataset(lightgcn_dir, rawdata_dir, tag)"
   ]
  },
  {
   "cell_type": "code",
   "execution_count": 5,
   "metadata": {},
   "outputs": [],
   "source": [
    "df_train = pd.read_csv(\n",
    "        os.path.join(lightgcn_dir, 'lightgcn_train_{0}.txt'.format(tag)),\n",
    "        sep=' ',\n",
    "        engine=\"python\",\n",
    "        names=['userID', 'itemID', 'rating'],\n",
    "        header=0\n",
    "    )"
   ]
  },
  {
   "cell_type": "code",
   "execution_count": 6,
   "metadata": {},
   "outputs": [
    {
     "data": {
      "text/html": [
       "<div>\n",
       "<style scoped>\n",
       "    .dataframe tbody tr th:only-of-type {\n",
       "        vertical-align: middle;\n",
       "    }\n",
       "\n",
       "    .dataframe tbody tr th {\n",
       "        vertical-align: top;\n",
       "    }\n",
       "\n",
       "    .dataframe thead th {\n",
       "        text-align: right;\n",
       "    }\n",
       "</style>\n",
       "<table border=\"1\" class=\"dataframe\">\n",
       "  <thead>\n",
       "    <tr style=\"text-align: right;\">\n",
       "      <th></th>\n",
       "      <th>userID</th>\n",
       "      <th>itemID</th>\n",
       "      <th>rating</th>\n",
       "    </tr>\n",
       "  </thead>\n",
       "  <tbody>\n",
       "    <tr>\n",
       "      <th>0</th>\n",
       "      <td>2144272947</td>\n",
       "      <td>2079255671</td>\n",
       "      <td>0</td>\n",
       "    </tr>\n",
       "    <tr>\n",
       "      <th>1</th>\n",
       "      <td>2144272947</td>\n",
       "      <td>1610919278</td>\n",
       "      <td>0</td>\n",
       "    </tr>\n",
       "    <tr>\n",
       "      <th>2</th>\n",
       "      <td>2144272947</td>\n",
       "      <td>2124077899</td>\n",
       "      <td>0</td>\n",
       "    </tr>\n",
       "    <tr>\n",
       "      <th>3</th>\n",
       "      <td>2144272947</td>\n",
       "      <td>3002539152</td>\n",
       "      <td>0</td>\n",
       "    </tr>\n",
       "    <tr>\n",
       "      <th>4</th>\n",
       "      <td>2028615304</td>\n",
       "      <td>2606150498</td>\n",
       "      <td>1</td>\n",
       "    </tr>\n",
       "  </tbody>\n",
       "</table>\n",
       "</div>"
      ],
      "text/plain": [
       "       userID      itemID  rating\n",
       "0  2144272947  2079255671       0\n",
       "1  2144272947  1610919278       0\n",
       "2  2144272947  2124077899       0\n",
       "3  2144272947  3002539152       0\n",
       "4  2028615304  2606150498       1"
      ]
     },
     "execution_count": 6,
     "metadata": {},
     "output_type": "execute_result"
    }
   ],
   "source": [
    "df_train.head()"
   ]
  },
  {
   "cell_type": "markdown",
   "metadata": {},
   "source": [
    "LightGCN only takes positive user-item interactions for model training. Pairs with rating < 1 will be ignored by the model."
   ]
  },
  {
   "cell_type": "code",
   "execution_count": 7,
   "metadata": {},
   "outputs": [],
   "source": [
    "df_valid = pd.read_csv(\n",
    "        os.path.join(lightgcn_dir, 'lightgcn_valid_{0}.txt'.format(tag)),\n",
    "        sep=' ',\n",
    "        engine=\"python\",\n",
    "        names=['userID', 'itemID', 'rating'],\n",
    "        header=0\n",
    "    )"
   ]
  },
  {
   "cell_type": "code",
   "execution_count": 8,
   "metadata": {},
   "outputs": [],
   "source": [
    "data = ImplicitCF(\n",
    "    train=df_train, test=df_valid, seed=0,\n",
    "    col_user='userID',\n",
    "    col_item='itemID',\n",
    "    col_rating='rating'\n",
    ")"
   ]
  },
  {
   "cell_type": "code",
   "execution_count": 9,
   "metadata": {},
   "outputs": [],
   "source": [
    "yaml_file = './lightgcn.yaml'\n",
    "\n",
    "\n",
    "hparams = prepare_hparams(yaml_file,                          \n",
    "                          learning_rate=0.005,\n",
    "                          eval_epoch=1,\n",
    "                          top_k=10,\n",
    "                          save_model=True,\n",
    "                          epochs=15,\n",
    "                          save_epoch=1\n",
    "                         )\n",
    "hparams.MODEL_DIR = os.path.join(lightgcn_dir, 'saved_models')\n"
   ]
  },
  {
   "cell_type": "code",
   "execution_count": 10,
   "metadata": {},
   "outputs": [
    {
     "data": {
      "text/plain": [
       "<bound method HParams.values of HParams([('DNN_FIELD_NUM', None), ('EARLY_STOP', 100), ('FEATURE_COUNT', None), ('FIELD_COUNT', None), ('L', None), ('MODEL_DIR', 'data_folder/my/LightGCN-training-folder/saved_models'), ('PAIR_NUM', None), ('SUMMARIES_DIR', None), ('T', None), ('activation', None), ('att_fcn_layer_sizes', None), ('attention_activation', None), ('attention_dropout', 0.0), ('attention_layer_sizes', None), ('attention_size', None), ('batch_size', 1024), ('cate_embedding_dim', None), ('cate_vocab', None), ('contextEmb_file', None), ('cross_activation', 'identity'), ('cross_l1', 0.0), ('cross_l2', 0.0), ('cross_layer_sizes', None), ('cross_layers', None), ('data_format', None), ('decay', 0.0001), ('dilations', None), ('dim', None), ('doc_size', None), ('dropout', [0.0]), ('dtype', 32), ('embed_l1', 0.0), ('embed_l2', 0.0), ('embed_size', 64), ('embedding_dropout', 0.3), ('enable_BN', False), ('entityEmb_file', None), ('entity_dim', None), ('entity_embedding_method', None), ('entity_size', None), ('epochs', 15), ('eval_epoch', 1), ('fast_CIN_d', 0), ('filter_sizes', None), ('hidden_size', None), ('history_size', None), ('init_method', 'tnormal'), ('init_value', 0.01), ('is_clip_norm', 0), ('item_embedding_dim', None), ('item_vocab', None), ('iterator_type', None), ('kernel_size', None), ('kg_file', None), ('kg_training_interval', 5), ('layer_l1', 0.0), ('layer_l2', 0.0), ('layer_sizes', None), ('learning_rate', 0.005), ('load_model_name', None), ('load_saved_model', False), ('loss', None), ('lr_kg', 0.5), ('lr_rs', 1), ('max_grad_norm', 2), ('max_seq_length', None), ('method', None), ('metrics', ['recall', 'ndcg', 'precision', 'map']), ('min_seq_length', 1), ('model_type', 'lightgcn'), ('mu', None), ('n_h', None), ('n_item', None), ('n_item_attr', None), ('n_layers', 3), ('n_user', None), ('n_user_attr', None), ('n_v', None), ('need_sample', True), ('news_feature_file', None), ('num_filters', None), ('optimizer', 'adam'), ('pairwise_metrics', None), ('reg_kg', 0.0), ('save_epoch', 1), ('save_model', True), ('show_step', 1), ('top_k', 10), ('train_num_ngs', 4), ('train_ratio', None), ('transform', None), ('use_CIN_part', False), ('use_DNN_part', False), ('use_FM_part', False), ('use_Linear_part', False), ('use_context', True), ('use_entity', True), ('user_clicks', None), ('user_dropout', False), ('user_embedding_dim', None), ('user_history_file', None), ('user_vocab', None), ('wordEmb_file', None), ('word_size', None), ('write_tfevents', False)])>"
      ]
     },
     "execution_count": 10,
     "metadata": {},
     "output_type": "execute_result"
    }
   ],
   "source": [
    "hparams.values"
   ]
  },
  {
   "cell_type": "code",
   "execution_count": 11,
   "metadata": {},
   "outputs": [
    {
     "name": "stdout",
     "output_type": "stream",
     "text": [
      "Already create adjacency matrix.\n"
     ]
    },
    {
     "name": "stderr",
     "output_type": "stream",
     "text": [
      "../../../reco_utils/recommender/deeprec/DataModel/ImplicitCF.py:179: RuntimeWarning: divide by zero encountered in power\n",
      "  d_inv = np.power(rowsum, -0.5).flatten()\n"
     ]
    },
    {
     "name": "stdout",
     "output_type": "stream",
     "text": [
      "Already normalize adjacency matrix.\n",
      "Using xavier initialization.\n"
     ]
    }
   ],
   "source": [
    "model = LightGCN(hparams, data, seed=0)"
   ]
  },
  {
   "cell_type": "code",
   "execution_count": 12,
   "metadata": {},
   "outputs": [
    {
     "name": "stdout",
     "output_type": "stream",
     "text": [
      "Save model to path /data/home/jialia/jialia/kdd2020tutorial/formal_03/recommenders/scenarios/academic/KDD2020-tutorial/data_folder/my/LightGCN-training-folder/saved_models/epoch_1\n",
      "Epoch 1 (train)3777.7s + (eval)499.0s: train loss = 0.01516 = (mf)0.01231 + (embed)0.00286, recall = 0.13229, ndcg = 0.06734, precision = 0.01323, map = 0.04794\n",
      "Save model to path /data/home/jialia/jialia/kdd2020tutorial/formal_03/recommenders/scenarios/academic/KDD2020-tutorial/data_folder/my/LightGCN-training-folder/saved_models/epoch_2\n",
      "Epoch 2 (train)3747.2s + (eval)422.4s: train loss = 0.00558 = (mf)0.00254 + (embed)0.00304, recall = 0.14837, ndcg = 0.07491, precision = 0.01484, map = 0.05276\n",
      "Save model to path /data/home/jialia/jialia/kdd2020tutorial/formal_03/recommenders/scenarios/academic/KDD2020-tutorial/data_folder/my/LightGCN-training-folder/saved_models/epoch_3\n",
      "Epoch 3 (train)3792.5s + (eval)515.7s: train loss = 0.00524 = (mf)0.00221 + (embed)0.00303, recall = 0.15160, ndcg = 0.07634, precision = 0.01516, map = 0.05384\n",
      "Save model to path /data/home/jialia/jialia/kdd2020tutorial/formal_03/recommenders/scenarios/academic/KDD2020-tutorial/data_folder/my/LightGCN-training-folder/saved_models/epoch_4\n",
      "Epoch 4 (train)3803.0s + (eval)466.9s: train loss = 0.00512 = (mf)0.00210 + (embed)0.00303, recall = 0.13765, ndcg = 0.07614, precision = 0.01376, map = 0.05749\n",
      "Save model to path /data/home/jialia/jialia/kdd2020tutorial/formal_03/recommenders/scenarios/academic/KDD2020-tutorial/data_folder/my/LightGCN-training-folder/saved_models/epoch_5\n",
      "Epoch 5 (train)3791.1s + (eval)471.7s: train loss = 0.00508 = (mf)0.00205 + (embed)0.00303, recall = 0.14075, ndcg = 0.07074, precision = 0.01407, map = 0.04973\n",
      "Save model to path /data/home/jialia/jialia/kdd2020tutorial/formal_03/recommenders/scenarios/academic/KDD2020-tutorial/data_folder/my/LightGCN-training-folder/saved_models/epoch_6\n",
      "Epoch 6 (train)3785.9s + (eval)499.8s: train loss = 0.00504 = (mf)0.00202 + (embed)0.00302, recall = 0.15195, ndcg = 0.07237, precision = 0.01519, map = 0.04889\n",
      "Save model to path /data/home/jialia/jialia/kdd2020tutorial/formal_03/recommenders/scenarios/academic/KDD2020-tutorial/data_folder/my/LightGCN-training-folder/saved_models/epoch_7\n",
      "Epoch 7 (train)3779.8s + (eval)471.1s: train loss = 0.00502 = (mf)0.00200 + (embed)0.00302, recall = 0.13911, ndcg = 0.07350, precision = 0.01391, map = 0.05364\n",
      "Save model to path /data/home/jialia/jialia/kdd2020tutorial/formal_03/recommenders/scenarios/academic/KDD2020-tutorial/data_folder/my/LightGCN-training-folder/saved_models/epoch_8\n",
      "Epoch 8 (train)3776.5s + (eval)468.6s: train loss = 0.00503 = (mf)0.00202 + (embed)0.00302, recall = 0.15359, ndcg = 0.07870, precision = 0.01536, map = 0.05605\n",
      "Save model to path /data/home/jialia/jialia/kdd2020tutorial/formal_03/recommenders/scenarios/academic/KDD2020-tutorial/data_folder/my/LightGCN-training-folder/saved_models/epoch_9\n",
      "Epoch 9 (train)3776.8s + (eval)496.8s: train loss = 0.00502 = (mf)0.00200 + (embed)0.00302, recall = 0.15309, ndcg = 0.07367, precision = 0.01531, map = 0.05042\n",
      "Save model to path /data/home/jialia/jialia/kdd2020tutorial/formal_03/recommenders/scenarios/academic/KDD2020-tutorial/data_folder/my/LightGCN-training-folder/saved_models/epoch_10\n",
      "Epoch 10 (train)3775.7s + (eval)464.8s: train loss = 0.00500 = (mf)0.00198 + (embed)0.00302, recall = 0.14833, ndcg = 0.07680, precision = 0.01483, map = 0.05505\n",
      "Save model to path /data/home/jialia/jialia/kdd2020tutorial/formal_03/recommenders/scenarios/academic/KDD2020-tutorial/data_folder/my/LightGCN-training-folder/saved_models/epoch_11\n",
      "Epoch 11 (train)3794.1s + (eval)523.3s: train loss = 0.00500 = (mf)0.00198 + (embed)0.00302, recall = 0.14384, ndcg = 0.07333, precision = 0.01438, map = 0.05213\n",
      "Save model to path /data/home/jialia/jialia/kdd2020tutorial/formal_03/recommenders/scenarios/academic/KDD2020-tutorial/data_folder/my/LightGCN-training-folder/saved_models/epoch_12\n",
      "Epoch 12 (train)3729.9s + (eval)457.7s: train loss = 0.00499 = (mf)0.00197 + (embed)0.00302, recall = 0.14425, ndcg = 0.07031, precision = 0.01443, map = 0.04841\n",
      "Save model to path /data/home/jialia/jialia/kdd2020tutorial/formal_03/recommenders/scenarios/academic/KDD2020-tutorial/data_folder/my/LightGCN-training-folder/saved_models/epoch_13\n",
      "Epoch 13 (train)3725.3s + (eval)440.6s: train loss = 0.00497 = (mf)0.00196 + (embed)0.00301, recall = 0.15021, ndcg = 0.07368, precision = 0.01502, map = 0.05085\n",
      "Save model to path /data/home/jialia/jialia/kdd2020tutorial/formal_03/recommenders/scenarios/academic/KDD2020-tutorial/data_folder/my/LightGCN-training-folder/saved_models/epoch_14\n",
      "Epoch 14 (train)3727.3s + (eval)445.0s: train loss = 0.00499 = (mf)0.00198 + (embed)0.00301, recall = 0.15511, ndcg = 0.07841, precision = 0.01551, map = 0.05508\n",
      "Save model to path /data/home/jialia/jialia/kdd2020tutorial/formal_03/recommenders/scenarios/academic/KDD2020-tutorial/data_folder/my/LightGCN-training-folder/saved_models/epoch_15\n",
      "Epoch 15 (train)3727.6s + (eval)497.9s: train loss = 0.00498 = (mf)0.00197 + (embed)0.00302, recall = 0.13718, ndcg = 0.07101, precision = 0.01372, map = 0.05107\n",
      "Took 63661.958748156205 seconds for training.\n"
     ]
    }
   ],
   "source": [
    "with Timer() as train_time:\n",
    "    model.fit()\n",
    "\n",
    "print(\"Took {} seconds for training.\".format(train_time.interval))"
   ]
  },
  {
   "cell_type": "code",
   "execution_count": 13,
   "metadata": {},
   "outputs": [],
   "source": [
    "user_emb_file = os.path.join(lightgcn_dir, 'user.emb.txt')\n",
    "item_emb_file = os.path.join(lightgcn_dir, 'item.emb.txt')\n",
    "model.infer_embedding(\n",
    "    user_emb_file,\n",
    "    item_emb_file    \n",
    ")"
   ]
  },
  {
   "cell_type": "markdown",
   "metadata": {},
   "source": [
    "To compare LightGCN's performance with DKN, we need to make predictions on the same test set. So we infer the users/items embedding, then compute the similarity scores between each pairs of user-item in the test set."
   ]
  },
  {
   "cell_type": "code",
   "execution_count": 14,
   "metadata": {},
   "outputs": [],
   "source": [
    "def infer_scores_via_embeddings(test_filename, user_emb_file, item_emb_file):\n",
    "    print('loading embedding file...', end=' ')\n",
    "    user2vec = load_emb_file(user_emb_file)\n",
    "    item2vec = load_emb_file(item_emb_file)\n",
    "    preds, labels, groupids = [], [], []\n",
    "    with open(test_filename, 'r') as rd:\n",
    "        while True:\n",
    "            line = rd.readline()\n",
    "            if not line:\n",
    "                break\n",
    "            words = line.strip().split('%')\n",
    "            tokens = words[0].split(' ')\n",
    "            userid = words[1]\n",
    "            itemid = tokens[2]\n",
    "            pred = user2vec[userid].dot(item2vec[itemid])\n",
    "            preds.append(pred)\n",
    "            labels.append(int(tokens[0]))\n",
    "            groupids.append(userid)\n",
    "    print('done')\n",
    "    return labels, preds, groupids\n",
    "            "
   ]
  },
  {
   "cell_type": "code",
   "execution_count": 15,
   "metadata": {},
   "outputs": [
    {
     "name": "stdout",
     "output_type": "stream",
     "text": [
      "loading embedding file... done\n"
     ]
    }
   ],
   "source": [
    "test_filename = os.path.join(rawdata_dir, 'test_{}.txt'.format(tag)) \n",
    "labels, preds, group_keys = infer_scores_via_embeddings(test_filename, user_emb_file, item_emb_file)\n",
    "group_labels, group_preds = group_labels(labels, preds, group_keys)\n"
   ]
  },
  {
   "cell_type": "code",
   "execution_count": 16,
   "metadata": {},
   "outputs": [
    {
     "name": "stdout",
     "output_type": "stream",
     "text": [
      "{'ndcg@2': 0.4902, 'ndcg@4': 0.5741, 'ndcg@6': 0.6073, 'group_auc': 0.858}\n",
      "{'auc': 0.8564}\n"
     ]
    }
   ],
   "source": [
    "res_pairwise = cal_metric(\n",
    "                group_labels, group_preds, ['ndcg@2;4;6', \"group_auc\"]\n",
    "            )\n",
    "print(res_pairwise)\n",
    "res_pointwise = cal_metric(labels, preds, ['auc'])\n",
    "print(res_pointwise)    "
   ]
  },
  {
   "cell_type": "markdown",
   "metadata": {},
   "source": [
    "### Reference: \n",
    "1. Xiangnan He, Kuan Deng, Xiang Wang, Yan Li, Yongdong Zhang & Meng Wang, LightGCN: Simplifying and Powering Graph Convolution Network for Recommendation, 2020, https://arxiv.org/abs/2002.02126"
   ]
  },
  {
   "cell_type": "code",
   "execution_count": null,
   "metadata": {},
   "outputs": [],
   "source": []
  }
 ],
 "metadata": {
  "kernelspec": {
   "display_name": "reco_gpu_tf15",
   "language": "python",
   "name": "reco_gpu_tf15"
  },
  "language_info": {
   "codemirror_mode": {
    "name": "ipython",
    "version": 3
   },
   "file_extension": ".py",
   "mimetype": "text/x-python",
   "name": "python",
   "nbconvert_exporter": "python",
   "pygments_lexer": "ipython3",
   "version": "3.6.10"
  }
 },
 "nbformat": 4,
 "nbformat_minor": 2
}
