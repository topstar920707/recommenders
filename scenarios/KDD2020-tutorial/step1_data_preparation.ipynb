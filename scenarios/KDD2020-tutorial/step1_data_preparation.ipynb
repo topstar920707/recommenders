{
 "cells": [
  {
   "cell_type": "code",
   "execution_count": 2,
   "metadata": {},
   "outputs": [],
   "source": [
    "import os \n",
    "import codecs\n",
    "import pickle\n",
    "import time \n",
    "from datetime import datetime  \n",
    "import random\n",
    "import numpy as np\n",
    "import math\n",
    "\n",
    "from utils.task_helper import *\n",
    "from utils.general import *\n",
    "from utils.data_helper import *\n",
    "\n"
   ]
  },
  {
   "cell_type": "markdown",
   "metadata": {},
   "source": [
    "## Prepare paper related files"
   ]
  },
  {
   "cell_type": "code",
   "execution_count": 3,
   "metadata": {},
   "outputs": [],
   "source": [
    "InFile_dir = 'data_folder/raw'\n",
    "OutFile_dir = 'data_folder/my'\n",
    "Path_PaperTitleAbs_bySentence = os.path.join(InFile_dir, 'PaperTitleAbs_bySentence.txt')\n",
    "Path_PaperFeature = os.path.join(OutFile_dir, 'paper_feature.txt')\n",
    "max_word_size_per_paper = 15 \n",
    "create_dir(OutFile_dir)"
   ]
  },
  {
   "cell_type": "code",
   "execution_count": 4,
   "metadata": {},
   "outputs": [
    {
     "name": "stdout",
     "output_type": "stream",
     "text": [
      "loading file PaperTitleAbs_bySentence.txt...\n",
      "loading line: 880000, time elapses: 10.4s  \n",
      "parsing into feature file  ...\n",
      "parsed paper count: 110000, time elapses: 0.5s \n"
     ]
    }
   ],
   "source": [
    "word2idx = {}\n",
    "entity2idx = {}\n",
    "relation2idx = {}\n",
    "word2idx, entity2idx = gen_paper_content(\n",
    "    Path_PaperTitleAbs_bySentence, Path_PaperFeature, word2idx, entity2idx, field=[\"Title\"], doc_len=max_word_size_per_paper\n",
    ")\n"
   ]
  },
  {
   "cell_type": "code",
   "execution_count": 5,
   "metadata": {},
   "outputs": [
    {
     "name": "stdout",
     "output_type": "stream",
     "text": [
      "processing file RelatedFieldOfStudy.txt... done.\n"
     ]
    }
   ],
   "source": [
    "word2idx_filename = os.path.join(OutFile_dir, 'word2idx.pkl')\n",
    "entity2idx_filename = os.path.join(OutFile_dir, 'entity2idx.pkl')\n",
    "\n",
    "Path_RelatedFieldOfStudy = os.path.join(InFile_dir, 'RelatedFieldOfStudy.txt')\n",
    "OutFile_dir_KG = os.path.join(OutFile_dir, 'KG')\n",
    "create_dir(OutFile_dir_KG)\n",
    "\n",
    "gen_knowledge_relations(Path_RelatedFieldOfStudy, OutFile_dir_KG, entity2idx, relation2idx) "
   ]
  },
  {
   "cell_type": "code",
   "execution_count": 6,
   "metadata": {},
   "outputs": [
    {
     "name": "stdout",
     "output_type": "stream",
     "text": [
      "loading file PaperTitleAbs_bySentence.txt...\n",
      "loading line: 880000, time elapses: 9.1s "
     ]
    }
   ],
   "source": [
    "Path_SentenceCollection = os.path.join(OutFile_dir, 'sentence.txt')\n",
    "gen_sentence_collection(\n",
    "    Path_PaperTitleAbs_bySentence,\n",
    "    Path_SentenceCollection,\n",
    "    word2idx\n",
    ")\n",
    "\n",
    "with open(word2idx_filename, 'wb') as f:\n",
    "    pickle.dump(word2idx, f)\n",
    "dump_dict_as_txt(word2idx, os.path.join(OutFile_dir, 'word2id.tsv'))\n",
    "with open(entity2idx_filename, 'wb') as f:\n",
    "    pickle.dump(entity2idx, f)"
   ]
  },
  {
   "cell_type": "markdown",
   "metadata": {},
   "source": [
    "## Prepare user related files"
   ]
  },
  {
   "cell_type": "code",
   "execution_count": 7,
   "metadata": {},
   "outputs": [
    {
     "name": "stdout",
     "output_type": "stream",
     "text": [
      "loading PaperAuthorAffiliations.txt...\n",
      "loading Papers.txt...\n",
      "loading PaperReferences.txt...\n",
      "parsing user's reference list ...\n",
      "parsed user count: 430000, time elapses: 3.6s \n",
      "outputing author reference list\n"
     ]
    }
   ],
   "source": [
    "\n",
    "_t0 = time.time()\n",
    "\n",
    "Path_PaperReference = os.path.join(InFile_dir, 'PaperReferences.txt')\n",
    "Path_PaperAuthorAffiliations = os.path.join(InFile_dir, 'PaperAuthorAffiliations.txt')\n",
    "Path_Papers = os.path.join(InFile_dir, 'Papers.txt')\n",
    "Path_Author2ReferencePapers = os.path.join(OutFile_dir, 'Author2ReferencePapers.tsv')\n",
    "\n",
    "author2paper_list = load_author_paperlist(Path_PaperAuthorAffiliations)\n",
    "paper2date = load_paper_date(Path_Papers)\n",
    "paper2reference_list = load_paper_reference(Path_PaperReference)\n",
    "\n",
    "author2reference_list = get_author_reference_list(author2paper_list, paper2reference_list, paper2date)\n",
    "\n",
    "output_author2reference_list(\n",
    "    author2reference_list,\n",
    "    Path_Author2ReferencePapers\n",
    ")\n",
    "\n",
    "OutFile_dir_DKN = os.path.join(OutFile_dir, 'DKN-training-folder')\n",
    "create_dir(OutFile_dir_KG)\n"
   ]
  },
  {
   "cell_type": "code",
   "execution_count": 8,
   "metadata": {},
   "outputs": [
    {
     "name": "stdout",
     "output_type": "stream",
     "text": [
      "expanding user behaviors...\n",
      "processing user number : 287000, time elapses: 1.6s done. Sample number in train / valid / test is 150485 / 7985 / 7985\n",
      "Negative sampling for train...\n",
      "Negative sampling for validation...\n",
      "Negative sampling for test...\n",
      "done.\n",
      "expanding user behaviors...\n",
      "processing user number : 287000, time elapses: 8.1s done. Sample number in train / valid / test is 1782333 / 125010 / 125010\n",
      "Negative sampling for train...\n"
     ]
    },
    {
     "ename": "KeyboardInterrupt",
     "evalue": "",
     "output_type": "error",
     "traceback": [
      "\u001b[0;31m---------------------------------------------------------------------------\u001b[0m",
      "\u001b[0;31mKeyboardInterrupt\u001b[0m                         Traceback (most recent call last)",
      "\u001b[0;32m<ipython-input-8-308e28715e80>\u001b[0m in \u001b[0;36m<module>\u001b[0;34m\u001b[0m\n\u001b[1;32m     11\u001b[0m     \u001b[0mPath_PaperFeature\u001b[0m\u001b[0;34m,\u001b[0m\u001b[0;34m\u001b[0m\u001b[0;34m\u001b[0m\u001b[0m\n\u001b[1;32m     12\u001b[0m     \u001b[0mitem_ratio\u001b[0m\u001b[0;34m=\u001b[0m\u001b[0;36m1.0\u001b[0m\u001b[0;34m,\u001b[0m\u001b[0;34m\u001b[0m\u001b[0;34m\u001b[0m\u001b[0m\n\u001b[0;32m---> 13\u001b[0;31m     \u001b[0mtag\u001b[0m\u001b[0;34m=\u001b[0m\u001b[0;34m'full'\u001b[0m\u001b[0;34m\u001b[0m\u001b[0;34m\u001b[0m\u001b[0m\n\u001b[0m\u001b[1;32m     14\u001b[0m ) \n\u001b[1;32m     15\u001b[0m \u001b[0;34m\u001b[0m\u001b[0m\n",
      "\u001b[0;32m/data/home/jialia/jialia/kdd2020tutorial/formal_02/recommenders/scenarios/KDD2020-tutorial/utils/task_helper.py\u001b[0m in \u001b[0;36mgen_experiment_splits\u001b[0;34m(file_Author2ReferencePapers, OutFile_dir, InFile_paper_feature, item_ratio, tag)\u001b[0m\n\u001b[1;32m    317\u001b[0m     \u001b[0mitem_list\u001b[0m\u001b[0;34m,\u001b[0m \u001b[0msample_probs\u001b[0m \u001b[0;34m=\u001b[0m \u001b[0mget_normalized_item_freq\u001b[0m\u001b[0;34m(\u001b[0m\u001b[0mitem2cnt\u001b[0m\u001b[0;34m)\u001b[0m\u001b[0;34m\u001b[0m\u001b[0;34m\u001b[0m\u001b[0m\n\u001b[1;32m    318\u001b[0m     \u001b[0mprint\u001b[0m\u001b[0;34m(\u001b[0m\u001b[0;34m'Negative sampling for train...'\u001b[0m\u001b[0;34m)\u001b[0m\u001b[0;34m\u001b[0m\u001b[0;34m\u001b[0m\u001b[0m\n\u001b[0;32m--> 319\u001b[0;31m     \u001b[0msample_negative_and_write_to_file\u001b[0m\u001b[0;34m(\u001b[0m\u001b[0mtrain_file\u001b[0m\u001b[0;34m,\u001b[0m \u001b[0mtrain_samples\u001b[0m\u001b[0;34m,\u001b[0m \u001b[0mtrain_neg_cnt\u001b[0m\u001b[0;34m,\u001b[0m  \u001b[0mpositive_pairs\u001b[0m\u001b[0;34m,\u001b[0m \u001b[0mitem_list\u001b[0m\u001b[0;34m,\u001b[0m \u001b[0msample_probs\u001b[0m\u001b[0;34m)\u001b[0m\u001b[0;34m\u001b[0m\u001b[0;34m\u001b[0m\u001b[0m\n\u001b[0m\u001b[1;32m    320\u001b[0m     \u001b[0mprint\u001b[0m\u001b[0;34m(\u001b[0m\u001b[0;34m'Negative sampling for validation...'\u001b[0m\u001b[0;34m)\u001b[0m\u001b[0;34m\u001b[0m\u001b[0;34m\u001b[0m\u001b[0m\n\u001b[1;32m    321\u001b[0m     \u001b[0msample_negative_and_write_to_file\u001b[0m\u001b[0;34m(\u001b[0m\u001b[0mvalid_file\u001b[0m\u001b[0;34m,\u001b[0m \u001b[0mvalid_samples\u001b[0m\u001b[0;34m,\u001b[0m \u001b[0mtrain_neg_cnt\u001b[0m\u001b[0;34m,\u001b[0m \u001b[0mpositive_pairs\u001b[0m\u001b[0;34m,\u001b[0m \u001b[0mitem_list\u001b[0m\u001b[0;34m,\u001b[0m \u001b[0msample_probs\u001b[0m\u001b[0;34m)\u001b[0m\u001b[0;34m\u001b[0m\u001b[0;34m\u001b[0m\u001b[0m\n",
      "\u001b[0;32m/data/home/jialia/jialia/kdd2020tutorial/formal_02/recommenders/scenarios/KDD2020-tutorial/utils/task_helper.py\u001b[0m in \u001b[0;36msample_negative_and_write_to_file\u001b[0;34m(outfilename, samples, neg_cnt, positive_pairs, item_list, sample_probs, remove_false_negative)\u001b[0m\n\u001b[1;32m    211\u001b[0m             \u001b[0mlabel\u001b[0m\u001b[0;34m,\u001b[0m \u001b[0muser_tag\u001b[0m\u001b[0;34m,\u001b[0m \u001b[0mitem_id\u001b[0m \u001b[0;34m=\u001b[0m \u001b[0mwords\u001b[0m\u001b[0;34m[\u001b[0m\u001b[0;36m0\u001b[0m\u001b[0;34m]\u001b[0m\u001b[0;34m.\u001b[0m\u001b[0msplit\u001b[0m\u001b[0;34m(\u001b[0m\u001b[0;34m' '\u001b[0m\u001b[0;34m)\u001b[0m\u001b[0;34m\u001b[0m\u001b[0;34m\u001b[0m\u001b[0m\n\u001b[1;32m    212\u001b[0m             \u001b[0mwt\u001b[0m\u001b[0;34m.\u001b[0m\u001b[0mwrite\u001b[0m\u001b[0;34m(\u001b[0m\u001b[0msample\u001b[0m\u001b[0;34m+\u001b[0m\u001b[0;34m'\\n'\u001b[0m\u001b[0;34m)\u001b[0m\u001b[0;34m\u001b[0m\u001b[0;34m\u001b[0m\u001b[0m\n\u001b[0;32m--> 213\u001b[0;31m             \u001b[0msampled_items_indices\u001b[0m \u001b[0;34m=\u001b[0m \u001b[0mreparameter_sampling\u001b[0m\u001b[0;34m(\u001b[0m\u001b[0mneg_cnt\u001b[0m\u001b[0;34m,\u001b[0m \u001b[0msample_probs\u001b[0m\u001b[0;34m)\u001b[0m\u001b[0;34m\u001b[0m\u001b[0;34m\u001b[0m\u001b[0m\n\u001b[0m\u001b[1;32m    214\u001b[0m             \u001b[0;32mfor\u001b[0m \u001b[0msampled_item_idx\u001b[0m \u001b[0;32min\u001b[0m \u001b[0msampled_items_indices\u001b[0m\u001b[0;34m:\u001b[0m\u001b[0;34m\u001b[0m\u001b[0;34m\u001b[0m\u001b[0m\n\u001b[1;32m    215\u001b[0m                 \u001b[0msampled_item\u001b[0m \u001b[0;34m=\u001b[0m \u001b[0mitem_list\u001b[0m\u001b[0;34m[\u001b[0m\u001b[0msampled_item_idx\u001b[0m\u001b[0;34m]\u001b[0m\u001b[0;34m\u001b[0m\u001b[0;34m\u001b[0m\u001b[0m\n",
      "\u001b[0;32m/data/home/jialia/jialia/kdd2020tutorial/formal_02/recommenders/scenarios/KDD2020-tutorial/utils/general.py\u001b[0m in \u001b[0;36mreparameter_sampling\u001b[0;34m(sample_size, probabilities)\u001b[0m\n\u001b[1;32m     43\u001b[0m     '''\n\u001b[1;32m     44\u001b[0m     \u001b[0mrandom_values\u001b[0m \u001b[0;34m=\u001b[0m \u001b[0mnp\u001b[0m\u001b[0;34m.\u001b[0m\u001b[0mrandom\u001b[0m\u001b[0;34m.\u001b[0m\u001b[0muniform\u001b[0m\u001b[0;34m(\u001b[0m\u001b[0msize\u001b[0m\u001b[0;34m=\u001b[0m\u001b[0mprobabilities\u001b[0m\u001b[0;34m.\u001b[0m\u001b[0mshape\u001b[0m\u001b[0;34m)\u001b[0m\u001b[0;34m\u001b[0m\u001b[0;34m\u001b[0m\u001b[0m\n\u001b[0;32m---> 45\u001b[0;31m     \u001b[0mrandom_values\u001b[0m \u001b[0;34m=\u001b[0m \u001b[0mnp\u001b[0m\u001b[0;34m.\u001b[0m\u001b[0mlog\u001b[0m\u001b[0;34m(\u001b[0m\u001b[0;34m-\u001b[0m\u001b[0mnp\u001b[0m\u001b[0;34m.\u001b[0m\u001b[0mlog\u001b[0m\u001b[0;34m(\u001b[0m\u001b[0mrandom_values\u001b[0m\u001b[0;34m)\u001b[0m\u001b[0;34m)\u001b[0m  \u001b[0;31m#gives gumbel random variable\u001b[0m\u001b[0;34m\u001b[0m\u001b[0;34m\u001b[0m\u001b[0m\n\u001b[0m\u001b[1;32m     46\u001b[0m     \u001b[0mshifted_probabilities\u001b[0m \u001b[0;34m=\u001b[0m \u001b[0mrandom_values\u001b[0m \u001b[0;34m-\u001b[0m \u001b[0mnp\u001b[0m\u001b[0;34m.\u001b[0m\u001b[0mlog\u001b[0m\u001b[0;34m(\u001b[0m\u001b[0mprobabilities\u001b[0m\u001b[0;34m)\u001b[0m\u001b[0;34m\u001b[0m\u001b[0;34m\u001b[0m\u001b[0m\n\u001b[1;32m     47\u001b[0m     \u001b[0;32mreturn\u001b[0m \u001b[0mnp\u001b[0m\u001b[0;34m.\u001b[0m\u001b[0margpartition\u001b[0m\u001b[0;34m(\u001b[0m\u001b[0mshifted_probabilities\u001b[0m\u001b[0;34m,\u001b[0m \u001b[0msample_size\u001b[0m\u001b[0;34m)\u001b[0m\u001b[0;34m[\u001b[0m\u001b[0;34m:\u001b[0m\u001b[0msample_size\u001b[0m\u001b[0;34m]\u001b[0m\u001b[0;34m\u001b[0m\u001b[0;34m\u001b[0m\u001b[0m\n",
      "\u001b[0;31mKeyboardInterrupt\u001b[0m: "
     ]
    }
   ],
   "source": [
    "gen_experiment_splits(\n",
    "    Path_Author2ReferencePapers,\n",
    "    OutFile_dir_DKN,\n",
    "    Path_PaperFeature,\n",
    "    item_ratio=0.1,\n",
    "    tag='small'\n",
    ")\n",
    "gen_experiment_splits(\n",
    "    Path_Author2ReferencePapers,\n",
    "    OutFile_dir_DKN,\n",
    "    Path_PaperFeature,\n",
    "    item_ratio=1.0,\n",
    "    tag='full'\n",
    ") \n",
    "\n",
    "\n",
    "_t1 = time.time()\n",
    "print('time elapses for user is : {0:.1f}s'.format(_t1 - _t0))"
   ]
  },
  {
   "cell_type": "markdown",
   "metadata": {},
   "source": [
    "### item2item "
   ]
  },
  {
   "cell_type": "code",
   "execution_count": null,
   "metadata": {},
   "outputs": [],
   "source": [
    "\n",
    "\n"
   ]
  },
  {
   "cell_type": "code",
   "execution_count": 9,
   "metadata": {},
   "outputs": [
    {
     "name": "stdout",
     "output_type": "stream",
     "text": [
      "loading PaperReferences.txt...\n",
      "process paper num 53400 / 53452...time elapses: 9.0s\tDone.\n",
      "process paper num 73600 / 73699...time elapses: 48.2s\tDone.\n"
     ]
    }
   ],
   "source": [
    "OutFile_dir_item2item = r'data_folder/my/item2item'\n",
    "create_dir(OutFile_dir_item2item)\n",
    "Path_PaperFeature\n",
    "item_set = load_has_feature_items(Path_PaperFeature)\n",
    "\n",
    "\n",
    "Path_PaperReference = os.path.join(InFile_dir, 'PaperReferences.txt')\n",
    "pair2CocitedCnt, pair2CoReferenceCnt = gen_paper_cocitation(Path_PaperReference)\n",
    "\n",
    "Path_paper_pair_cocitation = os.path.join(OutFile_dir_item2item, 'paper_pair_cocitation_cnt.csv')\n",
    "Path_paper_pair_coreference = os.path.join(OutFile_dir_item2item, 'paper_pair_coreference_cnt.csv')\n",
    "\n",
    "with open(Path_paper_pair_cocitation, 'w') as wt:\n",
    "    for p, v in pair2CocitedCnt.items():\n",
    "        if p[0] in item_set and p[1] in item_set:\n",
    "            wt.write('{0},{1},{2}\\n'.format(p[0], p[1], v))\n",
    "\n",
    "with open(Path_paper_pair_coreference, 'w') as wt:\n",
    "    for p, v in pair2CoReferenceCnt.items():\n",
    "        if p[0] in item_set and p[1] in item_set:\n",
    "            wt.write('{0},{1},{2}\\n'.format(p[0], p[1], v))\n",
    "\n"
   ]
  },
  {
   "cell_type": "code",
   "execution_count": 10,
   "metadata": {},
   "outputs": [
    {
     "name": "stdout",
     "output_type": "stream",
     "text": [
      "loading Papers.txt...\n",
      "loading PaperAuthorAffiliations.txt...\n",
      "process author num 435800 / 435822...time elapses: 1.0s"
     ]
    }
   ],
   "source": [
    "\n",
    "Path_Papers = os.path.join(InFile_dir, 'Papers.txt')\n",
    "Path_PaperAuthorAffiliations = os.path.join(InFile_dir, 'PaperAuthorAffiliations.txt')\n",
    "paper2date = load_paper_date(Path_Papers)\n",
    "author2paper_list, paper2author_set = load_paper_author_relation(Path_PaperAuthorAffiliations)\n",
    "Path_FirstAuthorPaperPair = os.path.join(OutFile_dir_item2item, 'paper_pair_cofirstauthor.csv')\n",
    "first_author_pairs = gen_paper_pairs_from_same_author(\n",
    "    author2paper_list, paper2author_set, paper2date, Path_FirstAuthorPaperPair, item_set\n",
    ")\n",
    "\n"
   ]
  },
  {
   "cell_type": "code",
   "execution_count": 11,
   "metadata": {},
   "outputs": [
    {
     "name": "stdout",
     "output_type": "stream",
     "text": [
      "negative sampling for file item2item_train.txt...\n",
      "process line num 182500 / 182531...time elapses: 3.4s\tdone.\n",
      "negative sampling for file item2item_valid.txt...\n",
      "process line num 45600 / 45619...time elapses: 0.9s\tdone.\n"
     ]
    }
   ],
   "source": [
    "\n",
    "split_train_valid_file(\n",
    "    [Path_paper_pair_cocitation, Path_FirstAuthorPaperPair, Path_paper_pair_coreference],\n",
    "    OutFile_dir_DKN\n",
    ")\n",
    "gen_negative_instances(\n",
    "    item_set,\n",
    "    os.path.join(OutFile_dir_DKN, 'item2item_train.txt'),\n",
    "    os.path.join(OutFile_dir_DKN, 'item2item_train_instances.txt'),\n",
    "    9\n",
    ")\n",
    "gen_negative_instances(\n",
    "    item_set,\n",
    "    os.path.join(OutFile_dir_DKN, 'item2item_valid.txt'),\n",
    "    os.path.join(OutFile_dir_DKN, 'item2item_valid_instances.txt'),\n",
    "    9\n",
    ")\n"
   ]
  },
  {
   "cell_type": "code",
   "execution_count": null,
   "metadata": {},
   "outputs": [],
   "source": [
    "\n"
   ]
  },
  {
   "cell_type": "code",
   "execution_count": null,
   "metadata": {},
   "outputs": [],
   "source": []
  }
 ],
 "metadata": {
  "kernelspec": {
   "display_name": "reco_gpu_kdd",
   "language": "python",
   "name": "reco_gpu_kdd"
  },
  "language_info": {
   "codemirror_mode": {
    "name": "ipython",
    "version": 3
   },
   "file_extension": ".py",
   "mimetype": "text/x-python",
   "name": "python",
   "nbconvert_exporter": "python",
   "pygments_lexer": "ipython3",
   "version": "3.6.10"
  }
 },
 "nbformat": 4,
 "nbformat_minor": 2
}
