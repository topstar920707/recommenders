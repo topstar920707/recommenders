{
 "cells": [
  {
   "cell_type": "code",
   "execution_count": 1,
   "metadata": {},
   "outputs": [],
   "source": [
    "import sys\n",
    "sys.path.append(\"../../\")\n",
    "from reco_utils.recommender.deeprec.deeprec_utils import *\n",
    "from reco_utils.recommender.deeprec.models.dkn_item2item import *\n",
    "from reco_utils.recommender.deeprec.io.dkn_item2item_iterator import *\n",
    "import time"
   ]
  },
  {
   "cell_type": "code",
   "execution_count": 2,
   "metadata": {},
   "outputs": [],
   "source": [
    "\n",
    "data_path = 'data_folder/my/DKN-training-folder'\n",
    "yaml_file = './dkn.yaml' #os.path.join(data_path, r'../../../../../../dkn.yaml')\n",
    "train_file = os.path.join(data_path, r'item2item_train_instances.txt')\n",
    "valid_file = os.path.join(data_path, r'item2item_valid_instances.txt')\n",
    "news_feature_file = os.path.join(data_path, r'../paper_feature.txt')\n",
    "wordEmb_file = os.path.join(data_path, r'word_embedding.npy')\n",
    "entityEmb_file = os.path.join(data_path, r'entity_embedding.npy')\n",
    "contextEmb_file = os.path.join(data_path, r'context_embedding.npy')\n",
    "infer_embedding_file = os.path.join(data_path, r'infer_embedding_item2item.txt')\n",
    "news_feature_file = os.path.join(data_path,  r'../paper_feature.txt')\n"
   ]
  },
  {
   "cell_type": "code",
   "execution_count": 3,
   "metadata": {},
   "outputs": [
    {
     "name": "stdout",
     "output_type": "stream",
     "text": [
      "WARNING:tensorflow:\n",
      "The TensorFlow contrib module will not be included in TensorFlow 2.0.\n",
      "For more information, please see:\n",
      "  * https://github.com/tensorflow/community/blob/master/rfcs/20180907-contrib-sunset.md\n",
      "  * https://github.com/tensorflow/addons\n",
      "  * https://github.com/tensorflow/io (for I/O related ops)\n",
      "If you depend on functionality not listed there, please file an issue.\n",
      "\n",
      "kg_file=None,user_clicks=None,FEATURE_COUNT=None,FIELD_COUNT=None,data_format=dkn,PAIR_NUM=None,DNN_FIELD_NUM=None,n_user=None,n_item=None,n_user_attr=None,n_item_attr=None,iterator_type=None,SUMMARIES_DIR=None,MODEL_DIR=data_folder/my/DKN-training-folder/save_models,wordEmb_file=data_folder/my/DKN-training-folder/word_embedding.npy,entityEmb_file=data_folder/my/DKN-training-folder/entity_embedding.npy,contextEmb_file=data_folder/my/DKN-training-folder/context_embedding.npy,news_feature_file=data_folder/my/DKN-training-folder/../paper_feature.txt,user_history_file=None,use_entity=False,use_context=False,doc_size=15,history_size=None,word_size=194755,entity_size=57267,entity_dim=32,entity_embedding_method=TransE,transform=True,train_ratio=None,dim=32,layer_sizes=[300],cross_layer_sizes=None,cross_layers=None,activation=['sigmoid'],cross_activation=identity,user_dropout=False,dropout=[0.0],attention_layer_sizes=32,attention_activation=relu,attention_dropout=0.0,model_type=dkn,method=classification,load_saved_model=False,load_model_name=None,filter_sizes=[1, 2, 3],num_filters=50,mu=None,fast_CIN_d=0,use_Linear_part=False,use_FM_part=False,use_CIN_part=False,use_DNN_part=False,init_method=uniform,init_value=0.01,embed_l2=0.0,embed_l1=0.0,layer_l2=0.0,layer_l1=0.0,cross_l2=0.0,cross_l1=0.0,reg_kg=0.0,learning_rate=0.0002,lr_rs=1,lr_kg=0.5,kg_training_interval=5,max_grad_norm=0.5,is_clip_norm=True,dtype=32,loss=log_loss,optimizer=adam,epochs=10,batch_size=32,enable_BN=False,show_step=10000,save_model=True,save_epoch=1,metrics=['auc'],write_tfevents=False,item_embedding_dim=None,cate_embedding_dim=None,user_embedding_dim=None,train_num_ngs=4,need_sample=True,embedding_dropout=0.3,user_vocab=None,item_vocab=None,cate_vocab=None,pairwise_metrics=['group_auc', 'mean_mrr', 'ndcg@2;4;6'],EARLY_STOP=100,max_seq_length=None,hidden_size=None,L=None,T=None,n_v=None,n_h=None,min_seq_length=1,attention_size=None,att_fcn_layer_sizes=None,dilations=None,kernel_size=None,embed_size=None,n_layers=None,decay=None,eval_epoch=None,top_k=None\n"
     ]
    }
   ],
   "source": [
    "epoch = 10\n",
    "hparams = prepare_hparams(yaml_file,\n",
    "                          news_feature_file=news_feature_file,\n",
    "                          wordEmb_file=wordEmb_file,\n",
    "                          entityEmb_file=entityEmb_file,\n",
    "                          contextEmb_file=contextEmb_file,\n",
    "                          epochs=epoch,\n",
    "                          is_clip_norm=True,\n",
    "                          max_grad_norm=0.5,\n",
    "                          his_size=20,\n",
    "                          MODEL_DIR=os.path.join(data_path, 'save_models'),\n",
    "                          learning_rate=0.0002,\n",
    "                          embed_l2=0.0,\n",
    "                          layer_l2=0.0,\n",
    "                          batch_size=32,\n",
    "                          use_entity=False,\n",
    "                          use_context=False\n",
    "                          )\n",
    "hparams.neg_num=9\n",
    "print(hparams)"
   ]
  },
  {
   "cell_type": "code",
   "execution_count": 4,
   "metadata": {},
   "outputs": [],
   "source": [
    "input_creator = DKNItem2itemTextIterator"
   ]
  },
  {
   "cell_type": "code",
   "execution_count": 5,
   "metadata": {},
   "outputs": [
    {
     "name": "stdout",
     "output_type": "stream",
     "text": [
      "WARNING:tensorflow:From ../../reco_utils/recommender/deeprec/io/dkn_item2item_iterator.py:15: The name tf.placeholder is deprecated. Please use tf.compat.v1.placeholder instead.\n",
      "\n",
      "WARNING:tensorflow:From ../../reco_utils/recommender/deeprec/models/dkn_item2item.py:54: The name tf.variable_scope is deprecated. Please use tf.compat.v1.variable_scope instead.\n",
      "\n",
      "WARNING:tensorflow:From ../../reco_utils/recommender/deeprec/models/dkn_item2item.py:56: The name tf.get_variable is deprecated. Please use tf.compat.v1.get_variable instead.\n",
      "\n",
      "WARNING:tensorflow:From /home/jialia/.conda/envs/reco_gpu_tf15/lib/python3.6/site-packages/tensorflow_core/python/ops/math_grad.py:1424: where (from tensorflow.python.ops.array_ops) is deprecated and will be removed in a future version.\n",
      "Instructions for updating:\n",
      "Use tf.where in 2.0, which has the same broadcast rule as np.where\n"
     ]
    }
   ],
   "source": [
    "model = DKNItem2Item(hparams, input_creator)"
   ]
  },
  {
   "cell_type": "code",
   "execution_count": 6,
   "metadata": {},
   "outputs": [
    {
     "name": "stdout",
     "output_type": "stream",
     "text": [
      "{'group_auc': 0.84, 'mean_mrr': 0.6799, 'ndcg@2': 0.6291, 'ndcg@4': 0.7024, 'ndcg@6': 0.7331}\n",
      "0.7933795015017192\n"
     ]
    }
   ],
   "source": [
    "t01 = time.time()\n",
    "print(model.run_eval(valid_file))\n",
    "t02 = time.time()\n",
    "print((t02 - t01) / 60)"
   ]
  },
  {
   "cell_type": "code",
   "execution_count": 7,
   "metadata": {},
   "outputs": [
    {
     "name": "stdout",
     "output_type": "stream",
     "text": [
      "at epoch 1\n",
      "train info: logloss loss:51.840644601726616\n",
      "eval info: group_auc:0.9486, mean_mrr:0.8653, ndcg@2:0.8575, ndcg@4:0.8875, ndcg@6:0.8937\n",
      "at epoch 1 , train time: 53.5 eval time: 47.4\n",
      "at epoch 2\n",
      "train info: logloss loss:49.367171327154644\n",
      "eval info: group_auc:0.95, mean_mrr:0.8747, ndcg@2:0.8691, ndcg@4:0.8934, ndcg@6:0.8998\n",
      "at epoch 2 , train time: 49.8 eval time: 47.3\n",
      "at epoch 3\n",
      "train info: logloss loss:48.27005588421166\n",
      "eval info: group_auc:0.9487, mean_mrr:0.8776, ndcg@2:0.8719, ndcg@4:0.8947, ndcg@6:0.9006\n",
      "at epoch 3 , train time: 75.4 eval time: 52.0\n",
      "at epoch 4\n",
      "train info: logloss loss:47.53569007091205\n",
      "eval info: group_auc:0.9482, mean_mrr:0.8807, ndcg@2:0.8747, ndcg@4:0.8963, ndcg@6:0.9021\n",
      "at epoch 4 , train time: 75.6 eval time: 52.0\n",
      "at epoch 5\n",
      "train info: logloss loss:46.95931732150988\n",
      "eval info: group_auc:0.9475, mean_mrr:0.8818, ndcg@2:0.8759, ndcg@4:0.8968, ndcg@6:0.9025\n",
      "at epoch 5 , train time: 53.4 eval time: 48.6\n",
      "at epoch 6\n",
      "train info: logloss loss:46.50594117066821\n",
      "eval info: group_auc:0.9491, mean_mrr:0.8842, ndcg@2:0.8785, ndcg@4:0.8992, ndcg@6:0.9046\n",
      "at epoch 6 , train time: 53.1 eval time: 47.6\n",
      "at epoch 7\n",
      "train info: logloss loss:46.21945325966784\n",
      "eval info: group_auc:0.9491, mean_mrr:0.8844, ndcg@2:0.879, ndcg@4:0.8991, ndcg@6:0.9046\n",
      "at epoch 7 , train time: 53.3 eval time: 48.9\n",
      "at epoch 8\n",
      "train info: logloss loss:46.15826716176467\n",
      "eval info: group_auc:0.9479, mean_mrr:0.8823, ndcg@2:0.8768, ndcg@4:0.8973, ndcg@6:0.9028\n",
      "at epoch 8 , train time: 50.3 eval time: 46.3\n",
      "at epoch 9\n",
      "train info: logloss loss:46.09659111029636\n",
      "eval info: group_auc:0.9459, mean_mrr:0.8783, ndcg@2:0.8723, ndcg@4:0.8937, ndcg@6:0.8995\n",
      "at epoch 9 , train time: 52.7 eval time: 48.9\n",
      "at epoch 10\n",
      "train info: logloss loss:46.01551980930499\n",
      "eval info: group_auc:0.9466, mean_mrr:0.8801, ndcg@2:0.8742, ndcg@4:0.8951, ndcg@6:0.9009\n",
      "at epoch 10 , train time: 46.2 eval time: 45.6\n"
     ]
    },
    {
     "data": {
      "text/plain": [
       "<reco_utils.recommender.deeprec.models.dkn_item2item.DKNItem2Item at 0x7fcf1a9ce198>"
      ]
     },
     "execution_count": 7,
     "metadata": {},
     "output_type": "execute_result"
    }
   ],
   "source": [
    "model.fit(train_file, valid_file)"
   ]
  },
  {
   "cell_type": "code",
   "execution_count": 8,
   "metadata": {},
   "outputs": [
    {
     "data": {
      "text/plain": [
       "<reco_utils.recommender.deeprec.models.dkn_item2item.DKNItem2Item at 0x7fcf1a9ce198>"
      ]
     },
     "execution_count": 8,
     "metadata": {},
     "output_type": "execute_result"
    }
   ],
   "source": [
    "model.run_get_embedding(news_feature_file, infer_embedding_file)"
   ]
  },
  {
   "cell_type": "code",
   "execution_count": null,
   "metadata": {},
   "outputs": [],
   "source": []
  },
  {
   "cell_type": "code",
   "execution_count": null,
   "metadata": {},
   "outputs": [],
   "source": []
  },
  {
   "cell_type": "code",
   "execution_count": null,
   "metadata": {},
   "outputs": [],
   "source": []
  }
 ],
 "metadata": {
  "kernelspec": {
   "display_name": "reco_gpu_tf15",
   "language": "python",
   "name": "reco_gpu_tf15"
  },
  "language_info": {
   "codemirror_mode": {
    "name": "ipython",
    "version": 3
   },
   "file_extension": ".py",
   "mimetype": "text/x-python",
   "name": "python",
   "nbconvert_exporter": "python",
   "pygments_lexer": "ipython3",
   "version": "3.6.10"
  }
 },
 "nbformat": 4,
 "nbformat_minor": 2
}
