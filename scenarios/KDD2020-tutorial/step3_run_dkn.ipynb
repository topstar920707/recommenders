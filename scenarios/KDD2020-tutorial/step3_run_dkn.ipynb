{
 "cells": [
  {
   "cell_type": "markdown",
   "metadata": {},
   "source": [
    "<i>Copyright (c) Microsoft Corporation. All rights reserved.</i>\n",
    "\n",
    "<i>Licensed under the MIT License.</i>"
   ]
  },
  {
   "cell_type": "markdown",
   "metadata": {},
   "source": [
    "# DKN : Deep Knowledge-Aware Network for News Recommendation\n",
    "DKN \\[1\\] is a deep learning model which incorporates information from knowledge graph for better news recommendation. Specifically, DKN uses TransX \\[2\\] method for knowledge graph representaion learning, then applies a CNN framework, named KCNN, to combine entity embedding with word embedding and generate a final embedding vector for a news article. CTR prediction is made via an attention-based neural scorer. \n",
    "\n",
    "## Properties of DKN:\n",
    "- DKN is a content-based deep model for CTR prediction rather than traditional ID-based collaborative filtering. \n",
    "- It makes use of knowledge entities and common sense in news content via joint learning from semantic-level and knnowledge-level representations of news articles.\n",
    "- DKN uses an attention module to dynamically calculate a user's aggregated historical representaition.\n",
    "\n",
    "## Reference environment \n",
    "we tested this notebook with two environment settings:\n",
    "cpu with tensorflow==1.15.2 and gpu with tensorflow==1.15.2 on July 1, 2020.\n",
    "\n",
    "## Data format:\n",
    "### DKN takes several files as input as follows:\n",
    "- training / validation / test files: each line in these files represents one instance. Impressionid is used to evaluate performance within an impression session, so it is only used when evaluating, you can set it to 0 for training data. The format is : <br> \n",
    "`[label] [userid] [CandidateNews]%[impressionid] `<br> \n",
    "e.g., `1 train_U1 N1%0` <br> \n",
    "- user history file: each line in this file represents a users' click history. You need to set his_size parameter in config file, which is the max number of user's click history we use. We will automatically keep the last his_size number of user click history, if user's click history is more than his_size, and we will automatically padding 0 if user's click history less than his_size. the format is : <br> \n",
    "`[Userid] [newsid1,newsid2...]`<br>\n",
    "e.g., `train_U1 N1,N2` <br> \n",
    "- document feature file:\n",
    "It contains the word and entity features of news. News article is represented by (aligned) title words and title entities. To take a quick example, a news title may be : Trump to deliver State of the Union address next week , then the title words value may be CandidateNews:34,45,334,23,12,987,3456,111,456,432 and the title entitie value may be: entity:45,0,0,0,0,0,0,0,0,0. Only the first value of entity vector is non-zero due to the word Trump. The title value and entity value is hashed from 1 to n(n is the number of distinct words or entities). Each feature length should be fixed at k(doc_size papameter), if the number of words in document is more than k, you should truncate the document to k words, and if the number of words in document is less than k, you should padding 0 to the end. \n",
    "the format is like: <br> \n",
    "`[Newsid] [w1,w2,w3...wk] [e1,e2,e3...ek]`\n",
    "- word embedding/entity embedding/ context embedding files: These are npy files of pretrained embeddings. After loading, each file is a [n+1,k] two-dimensional matrix, n is the number of words(or entities) of their hash dictionary, k is dimension of the embedding, note that we keep embedding 0 for zero padding. \n",
    "In this experiment, we used GloVe\\[4\\] vectors to initialize the word embedding. We trained entity embedding using TransE\\[2\\] on knowledge graph and context embedding is the average of the entity's neighbors in the knowledge graph.<br>"
   ]
  },
  {
   "cell_type": "markdown",
   "metadata": {},
   "source": [
    "## Global settings and imports"
   ]
  },
  {
   "cell_type": "code",
   "execution_count": 4,
   "metadata": {
    "pycharm": {
     "is_executing": false
    }
   },
   "outputs": [],
   "source": [
    "import sys\n",
    "sys.path.append(\"../../\")\n",
    "from reco_utils.recommender.deeprec.deeprec_utils import *\n",
    "from reco_utils.recommender.deeprec.models.dkn import *\n",
    "from reco_utils.recommender.deeprec.io.dkn_iterator import *\n",
    "import papermill as pm\n",
    "import time\n",
    "\n",
    "import tensorflow as tf\n",
    "tf.logging.set_verbosity(tf.logging.ERROR)"
   ]
  },
  {
   "cell_type": "markdown",
   "metadata": {},
   "source": [
    "## Download and load data"
   ]
  },
  {
   "cell_type": "code",
   "execution_count": 5,
   "metadata": {
    "pycharm": {
     "is_executing": false
    }
   },
   "outputs": [],
   "source": [
    "data_path = 'data_folder/my/DKN-training-folder'\n",
    "tag = 'small'\n",
    "yaml_file = './dkn.yaml' #  os.path.join(data_path, r'../../../../../../dkn.yaml')\n",
    "train_file = os.path.join(data_path, r'train_{0}.txt'.format(tag))\n",
    "valid_file = os.path.join(data_path, r'valid_{0}.txt'.format(tag))\n",
    "test_file = os.path.join(data_path, r'test_{0}.txt'.format(tag))\n",
    "user_history_file = os.path.join(data_path, r'user_history_{0}.txt'.format(tag))\n",
    "news_feature_file = os.path.join(data_path, r'../paper_feature.txt')\n",
    "wordEmb_file = os.path.join(data_path, r'word_embedding.npy')\n",
    "entityEmb_file = os.path.join(data_path, r'entity_embedding.npy')\n",
    "contextEmb_file = os.path.join(data_path, r'context_embedding.npy')\n",
    "infer_embedding_file = os.path.join(data_path, r'infer_embedding.txt')\n",
    "    "
   ]
  },
  {
   "cell_type": "markdown",
   "metadata": {},
   "source": [
    "## Create hyper-parameters"
   ]
  },
  {
   "cell_type": "code",
   "execution_count": 6,
   "metadata": {
    "pycharm": {
     "is_executing": false
    },
    "tags": [
     "parameters"
    ]
   },
   "outputs": [],
   "source": [
    "epoch=10"
   ]
  },
  {
   "cell_type": "code",
   "execution_count": 7,
   "metadata": {
    "pycharm": {
     "is_executing": false
    }
   },
   "outputs": [
    {
     "name": "stdout",
     "output_type": "stream",
     "text": [
      "WARNING:tensorflow:\n",
      "The TensorFlow contrib module will not be included in TensorFlow 2.0.\n",
      "For more information, please see:\n",
      "  * https://github.com/tensorflow/community/blob/master/rfcs/20180907-contrib-sunset.md\n",
      "  * https://github.com/tensorflow/addons\n",
      "  * https://github.com/tensorflow/io (for I/O related ops)\n",
      "If you depend on functionality not listed there, please file an issue.\n",
      "\n",
      "kg_file=None,user_clicks=None,FEATURE_COUNT=None,FIELD_COUNT=None,data_format=dkn,PAIR_NUM=None,DNN_FIELD_NUM=None,n_user=None,n_item=None,n_user_attr=None,n_item_attr=None,iterator_type=None,SUMMARIES_DIR=None,MODEL_DIR=data_folder/my/DKN-training-folder/save_models,wordEmb_file=data_folder/my/DKN-training-folder/word_embedding.npy,entityEmb_file=data_folder/my/DKN-training-folder/entity_embedding.npy,contextEmb_file=data_folder/my/DKN-training-folder/context_embedding.npy,news_feature_file=data_folder/my/DKN-training-folder/../paper_feature.txt,user_history_file=data_folder/my/DKN-training-folder/user_history_small.txt,use_entity=True,use_context=True,doc_size=15,history_size=20,word_size=194755,entity_size=57267,entity_dim=32,entity_embedding_method=TransE,transform=True,train_ratio=None,dim=32,layer_sizes=[300],cross_layer_sizes=None,cross_layers=None,activation=['sigmoid'],cross_activation=identity,user_dropout=False,dropout=[0.0],attention_layer_sizes=32,attention_activation=relu,attention_dropout=0.0,model_type=dkn,method=classification,load_saved_model=False,load_model_name=None,filter_sizes=[1, 2, 3],num_filters=50,mu=None,fast_CIN_d=0,use_Linear_part=False,use_FM_part=False,use_CIN_part=False,use_DNN_part=False,init_method=uniform,init_value=0.01,embed_l2=0.0,embed_l1=0.0,layer_l2=0.0,layer_l1=0.0,cross_l2=0.0,cross_l1=0.0,reg_kg=0.0,learning_rate=0.002,lr_rs=1,lr_kg=0.5,kg_training_interval=5,max_grad_norm=0.5,is_clip_norm=True,dtype=32,loss=log_loss,optimizer=adam,epochs=10,batch_size=100,enable_BN=False,show_step=10000,save_model=True,save_epoch=1,metrics=['auc'],write_tfevents=False,item_embedding_dim=None,cate_embedding_dim=None,user_embedding_dim=None,train_num_ngs=4,need_sample=True,embedding_dropout=0.3,user_vocab=None,item_vocab=None,cate_vocab=None,pairwise_metrics=['group_auc', 'mean_mrr', 'ndcg@2;4;6'],EARLY_STOP=100,max_seq_length=None,hidden_size=None,L=None,T=None,n_v=None,n_h=None,min_seq_length=1,attention_size=None,att_fcn_layer_sizes=None,dilations=None,kernel_size=None,embed_size=None,n_layers=None,decay=None,eval_epoch=None,top_k=None\n"
     ]
    }
   ],
   "source": [
    "hparams = prepare_hparams(yaml_file,\n",
    "                          news_feature_file = news_feature_file,\n",
    "                          user_history_file = user_history_file,\n",
    "                          wordEmb_file=wordEmb_file,\n",
    "                          entityEmb_file=entityEmb_file,\n",
    "                          contextEmb_file=contextEmb_file,\n",
    "                          epochs=epoch,\n",
    "                          is_clip_norm=True,\n",
    "                          max_grad_norm=0.5,\n",
    "                          history_size=20,\n",
    "                          MODEL_DIR=os.path.join(data_path, 'save_models'),\n",
    "                          learning_rate=0.002,\n",
    "                          embed_l2=0.0,\n",
    "                          layer_l2=0.0,\n",
    "                          use_entity=True,\n",
    "                          use_context=True\n",
    "                         )\n",
    "print(hparams)"
   ]
  },
  {
   "cell_type": "code",
   "execution_count": 8,
   "metadata": {
    "pycharm": {
     "is_executing": false
    }
   },
   "outputs": [],
   "source": [
    "input_creator = DKNTextIterator"
   ]
  },
  {
   "cell_type": "markdown",
   "metadata": {},
   "source": [
    "## Train the DKN model"
   ]
  },
  {
   "cell_type": "code",
   "execution_count": 9,
   "metadata": {
    "pycharm": {
     "is_executing": false
    }
   },
   "outputs": [
    {
     "name": "stdout",
     "output_type": "stream",
     "text": [
      "WARNING:tensorflow:From /home/jialia/.conda/envs/reco_gpu_kdd/lib/python3.6/site-packages/tensorflow_core/python/ops/variables.py:2825: Variable.initialized_value (from tensorflow.python.ops.variables) is deprecated and will be removed in a future version.\n",
      "Instructions for updating:\n",
      "Use Variable.read_value. Variables in 2.X are initialized automatically both in eager and graph (inside tf.defun) contexts.\n",
      "WARNING:tensorflow:From /home/jialia/.conda/envs/reco_gpu_kdd/lib/python3.6/site-packages/tensorflow_core/python/ops/losses/losses_impl.py:121: where (from tensorflow.python.ops.array_ops) is deprecated and will be removed in a future version.\n",
      "Instructions for updating:\n",
      "Use tf.where in 2.0, which has the same broadcast rule as np.where\n"
     ]
    }
   ],
   "source": [
    "model = DKN(hparams, input_creator)"
   ]
  },
  {
   "cell_type": "code",
   "execution_count": 10,
   "metadata": {},
   "outputs": [],
   "source": [
    "#model.load_model(os.path.join(hparams.MODEL_DIR, 'epoch_10'))"
   ]
  },
  {
   "cell_type": "code",
   "execution_count": 11,
   "metadata": {
    "pycharm": {
     "is_executing": false
    }
   },
   "outputs": [
    {
     "name": "stdout",
     "output_type": "stream",
     "text": [
      "{'auc': 0.4883, 'group_auc': 0.4881, 'mean_mrr': 0.4469, 'ndcg@2': 0.3132, 'ndcg@4': 0.5019, 'ndcg@6': 0.582}\n",
      "0.23990869124730427\n"
     ]
    }
   ],
   "source": [
    "t01 = time.time()\n",
    "print(model.run_eval(valid_file))\n",
    "t02 = time.time()\n",
    "print((t02-t01)/60)"
   ]
  },
  {
   "cell_type": "code",
   "execution_count": 12,
   "metadata": {
    "pycharm": {
     "is_executing": false
    },
    "scrolled": false
   },
   "outputs": [
    {
     "name": "stdout",
     "output_type": "stream",
     "text": [
      "at epoch 1\n",
      "train info: logloss loss:0.3308730778246623\n",
      "eval info: auc:0.8913, group_auc:0.8844, mean_mrr:0.5691, ndcg@2:0.5024, ndcg@4:0.6024, ndcg@6:0.638\n",
      "at epoch 1 , train time: 134.5 eval time: 21.8\n",
      "at epoch 2\n",
      "train info: logloss loss:0.27679864579855007\n",
      "eval info: auc:0.9033, group_auc:0.8987, mean_mrr:0.5987, ndcg@2:0.5374, ndcg@4:0.6358, ndcg@6:0.6676\n",
      "at epoch 2 , train time: 132.7 eval time: 21.9\n",
      "at epoch 3\n",
      "train info: logloss loss:0.26129320301288783\n",
      "eval info: auc:0.9091, group_auc:0.9024, mean_mrr:0.6093, ndcg@2:0.555, ndcg@4:0.6487, ndcg@6:0.6769\n",
      "at epoch 3 , train time: 133.6 eval time: 21.7\n",
      "at epoch 4\n",
      "train info: logloss loss:0.2524186024832171\n",
      "eval info: auc:0.9045, group_auc:0.8997, mean_mrr:0.6058, ndcg@2:0.5461, ndcg@4:0.6418, ndcg@6:0.6733\n",
      "at epoch 4 , train time: 135.0 eval time: 21.8\n",
      "at epoch 5\n",
      "train info: logloss loss:0.25020423358560007\n",
      "eval info: auc:0.9128, group_auc:0.9069, mean_mrr:0.6247, ndcg@2:0.5732, ndcg@4:0.6607, ndcg@6:0.6903\n",
      "at epoch 5 , train time: 134.9 eval time: 22.1\n",
      "at epoch 6\n",
      "train info: logloss loss:0.24646099851376987\n",
      "eval info: auc:0.9174, group_auc:0.9138, mean_mrr:0.6388, ndcg@2:0.5887, ndcg@4:0.677, ndcg@6:0.7043\n",
      "at epoch 6 , train time: 166.0 eval time: 24.1\n",
      "at epoch 7\n",
      "train info: logloss loss:0.2437930248286637\n",
      "eval info: auc:0.9142, group_auc:0.911, mean_mrr:0.6408, ndcg@2:0.5907, ndcg@4:0.6761, ndcg@6:0.7037\n",
      "at epoch 7 , train time: 248.6 eval time: 25.4\n",
      "at epoch 8\n",
      "train info: logloss loss:0.24217120626935135\n",
      "eval info: auc:0.8969, group_auc:0.8919, mean_mrr:0.5793, ndcg@2:0.5141, ndcg@4:0.6175, ndcg@6:0.6506\n",
      "at epoch 8 , train time: 171.8 eval time: 23.5\n",
      "at epoch 9\n",
      "train info: logloss loss:0.23949815702596772\n",
      "eval info: auc:0.9168, group_auc:0.9138, mean_mrr:0.6495, ndcg@2:0.6017, ndcg@4:0.688, ndcg@6:0.7126\n",
      "at epoch 9 , train time: 169.2 eval time: 23.1\n",
      "at epoch 10\n",
      "train info: logloss loss:0.23802586377558121\n",
      "eval info: auc:0.9165, group_auc:0.9115, mean_mrr:0.636, ndcg@2:0.5857, ndcg@4:0.6751, ndcg@6:0.7002\n",
      "at epoch 10 , train time: 163.1 eval time: 23.4\n"
     ]
    },
    {
     "data": {
      "text/plain": [
       "<reco_utils.recommender.deeprec.models.dkn.DKN at 0x7f853900dcf8>"
      ]
     },
     "execution_count": 12,
     "metadata": {},
     "output_type": "execute_result"
    }
   ],
   "source": [
    "model.fit(train_file, test_file)"
   ]
  },
  {
   "cell_type": "markdown",
   "metadata": {},
   "source": [
    "Now we can test again the performance on valid set:"
   ]
  },
  {
   "cell_type": "code",
   "execution_count": 13,
   "metadata": {
    "pycharm": {
     "is_executing": false
    }
   },
   "outputs": [
    {
     "name": "stdout",
     "output_type": "stream",
     "text": [
      "{'auc': 0.9305, 'group_auc': 0.9254, 'mean_mrr': 0.8765, 'ndcg@2': 0.8804, 'ndcg@4': 0.9071, 'ndcg@6': 0.9084}\n"
     ]
    },
    {
     "name": "stderr",
     "output_type": "stream",
     "text": [
      "/home/jialia/.conda/envs/reco_gpu_kdd/lib/python3.6/site-packages/ipykernel_launcher.py:3: DeprecationWarning: Function record is deprecated and will be removed in verison 1.0.0 (current version 0.19.1). Please see `scrapbook.glue` (nteract-scrapbook) as a replacement for this functionality.\n",
      "  This is separate from the ipykernel package so we can avoid doing imports until\n"
     ]
    },
    {
     "data": {
      "application/papermill.record+json": {
       "res": {
        "auc": 0.9305,
        "group_auc": 0.9254,
        "mean_mrr": 0.8765,
        "ndcg@2": 0.8804,
        "ndcg@4": 0.9071,
        "ndcg@6": 0.9084
       }
      }
     },
     "metadata": {},
     "output_type": "display_data"
    }
   ],
   "source": [
    "res = model.run_eval(valid_file)\n",
    "print(res)\n",
    "pm.record(\"res\", res)"
   ]
  },
  {
   "cell_type": "code",
   "execution_count": 14,
   "metadata": {},
   "outputs": [
    {
     "name": "stdout",
     "output_type": "stream",
     "text": [
      "{'auc': 0.9165, 'group_auc': 0.9115, 'mean_mrr': 0.636, 'ndcg@2': 0.5857, 'ndcg@4': 0.6751, 'ndcg@6': 0.7002}\n",
      "0.367793615659078\n"
     ]
    }
   ],
   "source": [
    "t01 = time.time()\n",
    "print(model.run_eval(test_file))\n",
    "t02 = time.time()\n",
    "print((t02-t01)/60)"
   ]
  },
  {
   "cell_type": "markdown",
   "metadata": {
    "pycharm": {
     "name": "#%% md\n"
    }
   },
   "source": [
    "## Document embedding inference API\n",
    "After training, you can get document embedding through this document embedding inference API. The input file format is same with document feature file. The output file fomrat is: `[Newsid] [embedding]`"
   ]
  },
  {
   "cell_type": "code",
   "execution_count": 15,
   "metadata": {
    "pycharm": {
     "is_executing": false,
     "name": "#%%\n"
    }
   },
   "outputs": [
    {
     "data": {
      "text/plain": [
       "<reco_utils.recommender.deeprec.models.dkn.DKN at 0x7f853900dcf8>"
      ]
     },
     "execution_count": 15,
     "metadata": {},
     "output_type": "execute_result"
    }
   ],
   "source": [
    "model.run_get_embedding(news_feature_file, infer_embedding_file)"
   ]
  },
  {
   "cell_type": "code",
   "execution_count": null,
   "metadata": {},
   "outputs": [],
   "source": []
  }
 ],
 "metadata": {
  "celltoolbar": "Tags",
  "kernelspec": {
   "display_name": "reco_gpu_kdd",
   "language": "python",
   "name": "reco_gpu_kdd"
  },
  "language_info": {
   "codemirror_mode": {
    "name": "ipython",
    "version": 3
   },
   "file_extension": ".py",
   "mimetype": "text/x-python",
   "name": "python",
   "nbconvert_exporter": "python",
   "pygments_lexer": "ipython3",
   "version": "3.6.10"
  },
  "pycharm": {
   "stem_cell": {
    "cell_type": "raw",
    "metadata": {
     "collapsed": false
    },
    "source": []
   }
  }
 },
 "nbformat": 4,
 "nbformat_minor": 2
}
