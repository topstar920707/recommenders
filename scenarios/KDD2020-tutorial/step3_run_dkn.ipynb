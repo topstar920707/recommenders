{
 "cells": [
  {
   "cell_type": "markdown",
   "metadata": {},
   "source": [
    "<i>Copyright (c) Microsoft Corporation. All rights reserved.</i>\n",
    "\n",
    "<i>Licensed under the MIT License.</i>"
   ]
  },
  {
   "cell_type": "markdown",
   "metadata": {},
   "source": [
    "# DKN : Deep Knowledge-Aware Network for News Recommendation\n",
    "DKN \\[1\\] is a deep learning model which incorporates information from knowledge graph for better news recommendation. Specifically, DKN uses TransX \\[2\\] method for knowledge graph representaion learning, then applies a CNN framework, named KCNN, to combine entity embedding with word embedding and generate a final embedding vector for a news article. CTR prediction is made via an attention-based neural scorer. \n",
    "<img src=\"https://recodatasets.blob.core.windows.net/kdd2020/images%2FDKN-introduction-pic.JPG\" width=\"600\">\n",
    "\n",
    "## Properties of DKN:\n",
    "- DKN is a content-based deep model for CTR prediction rather than traditional ID-based collaborative filtering. \n",
    "- It makes use of knowledge entities and common sense in news content via joint learning from semantic-level and knnowledge-level representations of news articles.\n",
    "- DKN uses an attention module to dynamically calculate a user's aggregated historical representaition.\n",
    "\n",
    "\n",
    "\n",
    "## Data format:\n",
    "### DKN takes several files as input as follows:\n",
    "- training / validation / test files: each line in these files represents one instance. Impressionid is used to evaluate performance within an impression session, so it is only used when evaluating, you can set it to 0 for training data. The format is : <br> \n",
    "`[label] [userid] [CandidateNews]%[impressionid] `<br> \n",
    "e.g., `1 train_U1 N1%0` <br> \n",
    "- user history file: each line in this file represents a users' click history. You need to set his_size parameter in config file, which is the max number of user's click history we use. We will automatically keep the last his_size number of user click history, if user's click history is more than his_size, and we will automatically padding 0 if user's click history less than his_size. the format is : <br> \n",
    "`[Userid] [newsid1,newsid2...]`<br>\n",
    "e.g., `train_U1 N1,N2` <br> \n",
    "- document feature file:\n",
    "It contains the word and entity features of news. News article is represented by (aligned) title words and title entities. To take a quick example, a news title may be : Trump to deliver State of the Union address next week , then the title words value may be CandidateNews:34,45,334,23,12,987,3456,111,456,432 and the title entitie value may be: entity:45,0,0,0,0,0,0,0,0,0. Only the first value of entity vector is non-zero due to the word Trump. The title value and entity value is hashed from 1 to n(n is the number of distinct words or entities). Each feature length should be fixed at k(doc_size papameter), if the number of words in document is more than k, you should truncate the document to k words, and if the number of words in document is less than k, you should padding 0 to the end. \n",
    "the format is like: <br> \n",
    "`[Newsid] [w1,w2,w3...wk] [e1,e2,e3...ek]`\n",
    "- word embedding/entity embedding/ context embedding files: These are npy files of pretrained embeddings. After loading, each file is a [n+1,k] two-dimensional matrix, n is the number of words(or entities) of their hash dictionary, k is dimension of the embedding, note that we keep embedding 0 for zero padding. \n",
    "In this experiment, we used GloVe\\[4\\] vectors to initialize the word embedding. We trained entity embedding using TransE\\[2\\] on knowledge graph and context embedding is the average of the entity's neighbors in the knowledge graph.<br>"
   ]
  },
  {
   "cell_type": "markdown",
   "metadata": {},
   "source": [
    "## Global settings and imports"
   ]
  },
  {
   "cell_type": "code",
   "execution_count": 1,
   "metadata": {
    "pycharm": {
     "is_executing": false
    }
   },
   "outputs": [],
   "source": [
    "import sys\n",
    "sys.path.append(\"../../\")\n",
    "from reco_utils.recommender.deeprec.deeprec_utils import *\n",
    "from reco_utils.recommender.deeprec.models.dkn import *\n",
    "from reco_utils.recommender.deeprec.io.dkn_iterator import *\n",
    "import papermill as pm\n",
    "import time\n",
    "\n",
    "import tensorflow as tf\n",
    "tf.logging.set_verbosity(tf.logging.ERROR)"
   ]
  },
  {
   "cell_type": "markdown",
   "metadata": {},
   "source": [
    "## data paths"
   ]
  },
  {
   "cell_type": "code",
   "execution_count": 2,
   "metadata": {
    "pycharm": {
     "is_executing": false
    }
   },
   "outputs": [],
   "source": [
    "data_path = 'data_folder/my/DKN-training-folder'\n",
    "tag = 'medium'  # small or full\n",
    "yaml_file = './dkn.yaml' #  os.path.join(data_path, r'../../../../../../dkn.yaml')\n",
    "train_file = os.path.join(data_path, r'train_{0}.txt'.format(tag))\n",
    "valid_file = os.path.join(data_path, r'valid_{0}.txt'.format(tag))\n",
    "test_file = os.path.join(data_path, r'test_{0}.txt'.format(tag))\n",
    "user_history_file = os.path.join(data_path, r'user_history_{0}.txt'.format(tag))\n",
    "news_feature_file = os.path.join(data_path, r'../paper_feature.txt')\n",
    "wordEmb_file = os.path.join(data_path, r'word_embedding.npy')\n",
    "entityEmb_file = os.path.join(data_path, r'entity_embedding.npy')\n",
    "contextEmb_file = os.path.join(data_path, r'context_embedding.npy')\n",
    "infer_embedding_file = os.path.join(data_path, r'infer_embedding_{0}.txt'.format(tag))\n",
    "    "
   ]
  },
  {
   "cell_type": "markdown",
   "metadata": {},
   "source": [
    "## Create hyper-parameters"
   ]
  },
  {
   "cell_type": "code",
   "execution_count": 3,
   "metadata": {
    "pycharm": {
     "is_executing": false
    }
   },
   "outputs": [
    {
     "data": {
      "text/plain": [
       "<bound method HParams.values of HParams([('DNN_FIELD_NUM', None), ('EARLY_STOP', 100), ('FEATURE_COUNT', None), ('FIELD_COUNT', None), ('L', None), ('MODEL_DIR', 'data_folder/my/DKN-training-folder/save_models'), ('PAIR_NUM', None), ('SUMMARIES_DIR', None), ('T', None), ('activation', ['sigmoid']), ('att_fcn_layer_sizes', None), ('attention_activation', 'relu'), ('attention_dropout', 0.0), ('attention_layer_sizes', 32), ('attention_size', None), ('batch_size', 100), ('cate_embedding_dim', None), ('cate_vocab', None), ('contextEmb_file', 'data_folder/my/DKN-training-folder/context_embedding.npy'), ('cross_activation', 'identity'), ('cross_l1', 0.0), ('cross_l2', 0.0), ('cross_layer_sizes', None), ('cross_layers', None), ('data_format', 'dkn'), ('decay', None), ('dilations', None), ('dim', 32), ('doc_size', 15), ('dropout', [0.0]), ('dtype', 32), ('embed_l1', 0.0), ('embed_l2', 0.0), ('embed_size', None), ('embedding_dropout', 0.3), ('enable_BN', False), ('entityEmb_file', 'data_folder/my/DKN-training-folder/entity_embedding.npy'), ('entity_dim', 32), ('entity_embedding_method', 'TransE'), ('entity_size', 57267), ('epochs', 10), ('eval_epoch', None), ('fast_CIN_d', 0), ('filter_sizes', [1, 2, 3]), ('hidden_size', None), ('history_size', 20), ('init_method', 'uniform'), ('init_value', 0.01), ('is_clip_norm', True), ('item_embedding_dim', None), ('item_vocab', None), ('iterator_type', None), ('kernel_size', None), ('kg_file', None), ('kg_training_interval', 5), ('layer_l1', 0.0), ('layer_l2', 0.0), ('layer_sizes', [300]), ('learning_rate', 0.002), ('load_model_name', None), ('load_saved_model', False), ('loss', 'log_loss'), ('lr_kg', 0.5), ('lr_rs', 1), ('max_grad_norm', 0.5), ('max_seq_length', None), ('method', 'classification'), ('metrics', ['auc']), ('min_seq_length', 1), ('model_type', 'dkn'), ('mu', None), ('n_h', None), ('n_item', None), ('n_item_attr', None), ('n_layers', None), ('n_user', None), ('n_user_attr', None), ('n_v', None), ('need_sample', True), ('news_feature_file', 'data_folder/my/DKN-training-folder/../paper_feature.txt'), ('num_filters', 50), ('optimizer', 'adam'), ('pairwise_metrics', ['group_auc', 'mean_mrr', 'ndcg@2;4;6']), ('reg_kg', 0.0), ('save_epoch', 1), ('save_model', True), ('show_step', 10000), ('top_k', None), ('train_num_ngs', 4), ('train_ratio', None), ('transform', True), ('use_CIN_part', False), ('use_DNN_part', False), ('use_FM_part', False), ('use_Linear_part', False), ('use_context', True), ('use_entity', True), ('user_clicks', None), ('user_dropout', False), ('user_embedding_dim', None), ('user_history_file', 'data_folder/my/DKN-training-folder/user_history_medium.txt'), ('user_vocab', None), ('wordEmb_file', 'data_folder/my/DKN-training-folder/word_embedding.npy'), ('word_size', 194755), ('write_tfevents', False)])>"
      ]
     },
     "execution_count": 3,
     "metadata": {},
     "output_type": "execute_result"
    }
   ],
   "source": [
    "epoch=10\n",
    "hparams = prepare_hparams(yaml_file,\n",
    "                          news_feature_file = news_feature_file,\n",
    "                          user_history_file = user_history_file,\n",
    "                          wordEmb_file=wordEmb_file,\n",
    "                          entityEmb_file=entityEmb_file,\n",
    "                          contextEmb_file=contextEmb_file,\n",
    "                          epochs=epoch,\n",
    "                          is_clip_norm=True,\n",
    "                          max_grad_norm=0.5,\n",
    "                          history_size=20,\n",
    "                          MODEL_DIR=os.path.join(data_path, 'save_models'),\n",
    "                          learning_rate=0.002,\n",
    "                          embed_l2=0.0,\n",
    "                          layer_l2=0.0,\n",
    "                          use_entity=True,\n",
    "                          use_context=True\n",
    "                         )\n",
    "hparams.values"
   ]
  },
  {
   "cell_type": "code",
   "execution_count": 4,
   "metadata": {
    "pycharm": {
     "is_executing": false
    }
   },
   "outputs": [],
   "source": [
    "input_creator = DKNTextIterator"
   ]
  },
  {
   "cell_type": "markdown",
   "metadata": {},
   "source": [
    "## Train the DKN model\n",
    "<img src=\"https://recodatasets.blob.core.windows.net/kdd2020/images%2FDKN-main.JPG\" width=\"600\">"
   ]
  },
  {
   "cell_type": "code",
   "execution_count": 5,
   "metadata": {
    "pycharm": {
     "is_executing": false
    }
   },
   "outputs": [],
   "source": [
    "model = DKN(hparams, input_creator)"
   ]
  },
  {
   "cell_type": "code",
   "execution_count": 6,
   "metadata": {
    "pycharm": {
     "is_executing": false
    }
   },
   "outputs": [
    {
     "name": "stdout",
     "output_type": "stream",
     "text": [
      "{'auc': 0.494, 'group_auc': 0.4935, 'mean_mrr': 0.4495, 'ndcg@2': 0.3169, 'ndcg@4': 0.5066, 'ndcg@6': 0.5842}\n",
      "0.682484503587087\n"
     ]
    }
   ],
   "source": [
    "t01 = time.time()\n",
    "print(model.run_eval(valid_file))\n",
    "t02 = time.time()\n",
    "print((t02-t01)/60)"
   ]
  },
  {
   "cell_type": "code",
   "execution_count": 7,
   "metadata": {
    "pycharm": {
     "is_executing": false
    },
    "scrolled": false
   },
   "outputs": [
    {
     "name": "stdout",
     "output_type": "stream",
     "text": [
      "step 10000 , total_loss: 0.3140, data_loss: 0.3140\n",
      "at epoch 1\n",
      "train info: logloss loss:0.3147331560381935\n",
      "eval info: auc:0.8978, group_auc:0.8881, mean_mrr:0.8217, ndcg@2:0.8202, ndcg@4:0.8648, ndcg@6:0.8674\n",
      "test info: auc:0.891, group_auc:0.882, mean_mrr:0.5442, ndcg@2:0.4684, ndcg@4:0.5759, ndcg@6:0.6194\n",
      "at epoch 1 , train time: 345.9 eval time: 102.6\n",
      "step 10000 , total_loss: 0.3561, data_loss: 0.3561\n",
      "at epoch 2\n",
      "train info: logloss loss:0.275244023245576\n",
      "eval info: auc:0.9145, group_auc:0.906, mean_mrr:0.8483, ndcg@2:0.8497, ndcg@4:0.885, ndcg@6:0.8872\n",
      "test info: auc:0.9084, group_auc:0.9018, mean_mrr:0.6013, ndcg@2:0.5389, ndcg@4:0.6361, ndcg@6:0.672\n",
      "at epoch 2 , train time: 342.5 eval time: 107.7\n",
      "step 10000 , total_loss: 0.3237, data_loss: 0.3237\n",
      "at epoch 3\n",
      "train info: logloss loss:0.2648009327709698\n",
      "eval info: auc:0.9192, group_auc:0.9125, mean_mrr:0.857, ndcg@2:0.8603, ndcg@4:0.8917, ndcg@6:0.8938\n",
      "test info: auc:0.9146, group_auc:0.9075, mean_mrr:0.6135, ndcg@2:0.5556, ndcg@4:0.6515, ndcg@6:0.6842\n",
      "at epoch 3 , train time: 346.3 eval time: 108.6\n",
      "step 10000 , total_loss: 0.3162, data_loss: 0.3162\n",
      "at epoch 4\n",
      "train info: logloss loss:0.2599501219979775\n",
      "eval info: auc:0.9232, group_auc:0.918, mean_mrr:0.8643, ndcg@2:0.8689, ndcg@4:0.8976, ndcg@6:0.8992\n",
      "test info: auc:0.9181, group_auc:0.9123, mean_mrr:0.6263, ndcg@2:0.5709, ndcg@4:0.6655, ndcg@6:0.696\n",
      "at epoch 4 , train time: 346.4 eval time: 107.6\n",
      "step 10000 , total_loss: 0.2929, data_loss: 0.2929\n",
      "at epoch 5\n",
      "train info: logloss loss:0.2584231712561718\n",
      "eval info: auc:0.9191, group_auc:0.9125, mean_mrr:0.8566, ndcg@2:0.8589, ndcg@4:0.892, ndcg@6:0.8934\n",
      "test info: auc:0.909, group_auc:0.9025, mean_mrr:0.6007, ndcg@2:0.536, ndcg@4:0.6358, ndcg@6:0.6722\n",
      "at epoch 5 , train time: 340.3 eval time: 106.0\n",
      "step 10000 , total_loss: 0.2566, data_loss: 0.2566\n",
      "at epoch 6\n",
      "train info: logloss loss:0.25435336372230005\n",
      "eval info: auc:0.9185, group_auc:0.9134, mean_mrr:0.8584, ndcg@2:0.8607, ndcg@4:0.8931, ndcg@6:0.8948\n",
      "test info: auc:0.9102, group_auc:0.9061, mean_mrr:0.6137, ndcg@2:0.5544, ndcg@4:0.6465, ndcg@6:0.6821\n",
      "at epoch 6 , train time: 321.0 eval time: 98.5\n",
      "step 10000 , total_loss: 0.2800, data_loss: 0.2800\n",
      "at epoch 7\n",
      "train info: logloss loss:0.25410613777528085\n",
      "eval info: auc:0.9087, group_auc:0.9046, mean_mrr:0.8448, ndcg@2:0.8467, ndcg@4:0.8828, ndcg@6:0.8847\n",
      "test info: auc:0.9044, group_auc:0.8997, mean_mrr:0.5921, ndcg@2:0.5257, ndcg@4:0.6268, ndcg@6:0.6642\n",
      "at epoch 7 , train time: 321.0 eval time: 98.6\n",
      "step 10000 , total_loss: 0.3016, data_loss: 0.3016\n",
      "at epoch 8\n",
      "train info: logloss loss:0.2536805365557922\n",
      "eval info: auc:0.9232, group_auc:0.9166, mean_mrr:0.8625, ndcg@2:0.8663, ndcg@4:0.8965, ndcg@6:0.8978\n",
      "test info: auc:0.916, group_auc:0.9095, mean_mrr:0.6196, ndcg@2:0.5619, ndcg@4:0.6557, ndcg@6:0.6894\n",
      "at epoch 8 , train time: 321.3 eval time: 99.9\n",
      "step 10000 , total_loss: 0.2939, data_loss: 0.2939\n",
      "at epoch 9\n",
      "train info: logloss loss:0.25224659932682536\n",
      "eval info: auc:0.9229, group_auc:0.9165, mean_mrr:0.8629, ndcg@2:0.8666, ndcg@4:0.8963, ndcg@6:0.8981\n",
      "test info: auc:0.9176, group_auc:0.9102, mean_mrr:0.6257, ndcg@2:0.5704, ndcg@4:0.6615, ndcg@6:0.6934\n",
      "at epoch 9 , train time: 321.1 eval time: 101.0\n",
      "step 10000 , total_loss: 0.2519, data_loss: 0.2519\n",
      "at epoch 10\n",
      "train info: logloss loss:0.2526458639743124\n",
      "eval info: auc:0.9154, group_auc:0.9057, mean_mrr:0.8476, ndcg@2:0.8489, ndcg@4:0.8848, ndcg@6:0.8867\n",
      "test info: auc:0.9079, group_auc:0.8983, mean_mrr:0.5936, ndcg@2:0.5269, ndcg@4:0.6259, ndcg@6:0.6642\n",
      "at epoch 10 , train time: 322.9 eval time: 99.6\n"
     ]
    },
    {
     "data": {
      "text/plain": [
       "<reco_utils.recommender.deeprec.models.dkn.DKN at 0x7f34085f96a0>"
      ]
     },
     "execution_count": 7,
     "metadata": {},
     "output_type": "execute_result"
    }
   ],
   "source": [
    "model.fit(train_file, valid_file, test_file)"
   ]
  },
  {
   "cell_type": "markdown",
   "metadata": {},
   "source": [
    "Now we can test again the performance on valid set:"
   ]
  },
  {
   "cell_type": "code",
   "execution_count": 8,
   "metadata": {
    "pycharm": {
     "is_executing": false
    }
   },
   "outputs": [
    {
     "name": "stdout",
     "output_type": "stream",
     "text": [
      "{'auc': 0.9154, 'group_auc': 0.9057, 'mean_mrr': 0.8476, 'ndcg@2': 0.8489, 'ndcg@4': 0.8848, 'ndcg@6': 0.8867}\n"
     ]
    },
    {
     "name": "stderr",
     "output_type": "stream",
     "text": [
      "/home/jialia/.conda/envs/reco_gpu_kdd/lib/python3.6/site-packages/ipykernel_launcher.py:3: DeprecationWarning: Function record is deprecated and will be removed in verison 1.0.0 (current version 0.19.1). Please see `scrapbook.glue` (nteract-scrapbook) as a replacement for this functionality.\n",
      "  This is separate from the ipykernel package so we can avoid doing imports until\n"
     ]
    },
    {
     "data": {
      "application/papermill.record+json": {
       "res": {
        "auc": 0.9154,
        "group_auc": 0.9057,
        "mean_mrr": 0.8476,
        "ndcg@2": 0.8489,
        "ndcg@4": 0.8848,
        "ndcg@6": 0.8867
       }
      }
     },
     "metadata": {},
     "output_type": "display_data"
    }
   ],
   "source": [
    "res = model.run_eval(valid_file)\n",
    "print(res)\n",
    "pm.record(\"res\", res)"
   ]
  },
  {
   "cell_type": "code",
   "execution_count": 9,
   "metadata": {},
   "outputs": [
    {
     "name": "stdout",
     "output_type": "stream",
     "text": [
      "{'auc': 0.9079, 'group_auc': 0.8983, 'mean_mrr': 0.5936, 'ndcg@2': 0.5269, 'ndcg@4': 0.6259, 'ndcg@6': 0.6642}\n",
      "1.027146820227305\n"
     ]
    }
   ],
   "source": [
    "t01 = time.time()\n",
    "print(model.run_eval(test_file))\n",
    "t02 = time.time()\n",
    "print((t02-t01)/60)"
   ]
  },
  {
   "cell_type": "markdown",
   "metadata": {
    "pycharm": {
     "name": "#%% md\n"
    }
   },
   "source": [
    "## Document embedding inference API\n",
    "After training, you can get document embedding through this document embedding inference API. The input file format is same with document feature file. The output file fomrat is: `[Newsid] [embedding]`"
   ]
  },
  {
   "cell_type": "code",
   "execution_count": 10,
   "metadata": {
    "pycharm": {
     "is_executing": false,
     "name": "#%%\n"
    }
   },
   "outputs": [
    {
     "data": {
      "text/plain": [
       "<reco_utils.recommender.deeprec.models.dkn.DKN at 0x7f34085f96a0>"
      ]
     },
     "execution_count": 10,
     "metadata": {},
     "output_type": "execute_result"
    }
   ],
   "source": [
    "model.run_get_embedding(news_feature_file, infer_embedding_file)"
   ]
  },
  {
   "cell_type": "markdown",
   "metadata": {},
   "source": [
    "## Reference\n",
    "\\[1\\] Wang, Hongwei, et al. \"DKN: Deep Knowledge-Aware Network for News Recommendation.\" Proceedings of the 2018 World Wide Web Conference on World Wide Web. International World Wide Web Conferences Steering Committee, 2018.<br>\n",
    "\\[2\\] Knowledge Graph Embeddings including TransE, TransH, TransR and PTransE. https://github.com/thunlp/KB2E <br>\n",
    "\\[3\\] Wu, Fangzhao, et al. \"MIND: A Large-scale Dataset for News Recommendation\" Proceedings of the 58th Annual Meeting of the Association for Computational Linguistics. https://msnews.github.io/competition.html <br>\n",
    "\\[4\\] GloVe: Global Vectors for Word Representation. https://nlp.stanford.edu/projects/glove/"
   ]
  },
  {
   "cell_type": "code",
   "execution_count": null,
   "metadata": {},
   "outputs": [],
   "source": []
  }
 ],
 "metadata": {
  "celltoolbar": "Tags",
  "kernelspec": {
   "display_name": "reco_gpu_kdd",
   "language": "python",
   "name": "reco_gpu_kdd"
  },
  "language_info": {
   "codemirror_mode": {
    "name": "ipython",
    "version": 3
   },
   "file_extension": ".py",
   "mimetype": "text/x-python",
   "name": "python",
   "nbconvert_exporter": "python",
   "pygments_lexer": "ipython3",
   "version": "3.6.10"
  },
  "pycharm": {
   "stem_cell": {
    "cell_type": "raw",
    "metadata": {
     "collapsed": false
    },
    "source": []
   }
  }
 },
 "nbformat": 4,
 "nbformat_minor": 2
}
