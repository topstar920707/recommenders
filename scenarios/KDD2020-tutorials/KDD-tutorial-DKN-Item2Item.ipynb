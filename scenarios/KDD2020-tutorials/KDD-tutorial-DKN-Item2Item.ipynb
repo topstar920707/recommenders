{
 "cells": [
  {
   "cell_type": "code",
   "execution_count": 2,
   "metadata": {},
   "outputs": [],
   "source": [
    "import sys\n",
    "sys.path.append(\"../../\")\n",
    "from reco_utils.recommender.deeprec.deeprec_utils import *\n",
    "from reco_utils.recommender.deeprec.models.dkn_item2item import *\n",
    "from reco_utils.recommender.deeprec.io.dkn_item2item_iterator import *\n",
    "import time"
   ]
  },
  {
   "cell_type": "code",
   "execution_count": 16,
   "metadata": {},
   "outputs": [],
   "source": [
    "\n",
    "data_path = 'data_folder/my/DKN-training-folder'\n",
    "yaml_file = os.path.join(data_path, r'../../../../../../dkn.yaml')\n",
    "train_file = os.path.join(data_path, r'item2item_train_instances.txt')\n",
    "valid_file = os.path.join(data_path, r'item2item_valid_instances.txt')\n",
    "news_feature_file = os.path.join(data_path, r'../paper_feature.txt')\n",
    "wordEmb_file = os.path.join(data_path, r'word_embedding.npy')\n",
    "entityEmb_file = os.path.join(data_path, r'entity_embedding.npy')\n",
    "contextEmb_file = os.path.join(data_path, r'context_embedding.npy')\n",
    "infer_embedding_file = os.path.join(data_path, r'infer_embedding.txt')\n",
    "news_feature_file = os.path.join(data_path,  r'../paper_feature.txt')\n"
   ]
  },
  {
   "cell_type": "code",
   "execution_count": 17,
   "metadata": {},
   "outputs": [
    {
     "name": "stdout",
     "output_type": "stream",
     "text": [
      "kg_file=None,user_clicks=None,FEATURE_COUNT=None,FIELD_COUNT=None,data_format=dkn,PAIR_NUM=None,DNN_FIELD_NUM=None,n_user=None,n_item=None,n_user_attr=None,n_item_attr=None,iterator_type=None,SUMMARIES_DIR=None,MODEL_DIR=data_folder/my/DKN-training-folder/save_models,wordEmb_file=data_folder/my/DKN-training-folder/word_embedding.npy,entityEmb_file=data_folder/my/DKN-training-folder/entity_embedding.npy,contextEmb_file=data_folder/my/DKN-training-folder/context_embedding.npy,news_feature_file=data_folder/my/DKN-training-folder/../paper_feature.txt,user_history_file=None,use_entity=False,use_context=False,doc_size=15,history_size=None,word_size=194755,entity_size=57267,entity_dim=32,entity_embedding_method=TransE,transform=True,train_ratio=None,dim=32,layer_sizes=[300],cross_layer_sizes=None,cross_layers=None,activation=['sigmoid'],cross_activation=identity,user_dropout=False,dropout=[0.0],attention_layer_sizes=32,attention_activation=relu,attention_dropout=0.0,model_type=dkn,method=classification,load_saved_model=False,load_model_name=None,filter_sizes=[1, 2, 3],num_filters=50,mu=None,fast_CIN_d=0,use_Linear_part=False,use_FM_part=False,use_CIN_part=False,use_DNN_part=False,init_method=uniform,init_value=0.01,embed_l2=0.0,embed_l1=0.0,layer_l2=0.0,layer_l1=0.0,cross_l2=0.0,cross_l1=0.0,reg_kg=0.0,learning_rate=0.0002,lr_rs=1,lr_kg=0.5,kg_training_interval=5,max_grad_norm=0.5,is_clip_norm=True,dtype=32,loss=log_loss,optimizer=adam,epochs=10,batch_size=32,enable_BN=False,show_step=10000,save_model=True,save_epoch=1,metrics=['auc'],write_tfevents=False,item_embedding_dim=None,cate_embedding_dim=None,user_embedding_dim=None,train_num_ngs=4,need_sample=True,embedding_dropout=0.3,user_vocab=None,item_vocab=None,cate_vocab=None,pairwise_metrics=['group_auc', 'mean_mrr', 'ndcg@2;4;6'],EARLY_STOP=100,max_seq_length=None,hidden_size=None,L=None,T=None,n_v=None,n_h=None,min_seq_length=1,attention_size=None,att_fcn_layer_sizes=None,dilations=None,kernel_size=None,embed_size=None,n_layers=None,decay=None,eval_epoch=None,top_k=None\n"
     ]
    }
   ],
   "source": [
    "epoch = 10\n",
    "hparams = prepare_hparams(yaml_file,\n",
    "                          news_feature_file=news_feature_file,\n",
    "                          wordEmb_file=wordEmb_file,\n",
    "                          entityEmb_file=entityEmb_file,\n",
    "                          contextEmb_file=contextEmb_file,\n",
    "                          epochs=epoch,\n",
    "                          is_clip_norm=True,\n",
    "                          max_grad_norm=0.5,\n",
    "                          his_size=20,\n",
    "                          MODEL_DIR=os.path.join(data_path, 'save_models'),\n",
    "                          learning_rate=0.0002,\n",
    "                          embed_l2=0.0,\n",
    "                          layer_l2=0.0,\n",
    "                          batch_size=32,\n",
    "                          use_entity=False,\n",
    "                          use_context=False\n",
    "                          )\n",
    "hparams.neg_num=9\n",
    "print(hparams)"
   ]
  },
  {
   "cell_type": "code",
   "execution_count": 18,
   "metadata": {},
   "outputs": [],
   "source": [
    "input_creator = DKNItem2itemTextIterator"
   ]
  },
  {
   "cell_type": "code",
   "execution_count": 19,
   "metadata": {},
   "outputs": [
    {
     "name": "stdout",
     "output_type": "stream",
     "text": [
      "WARNING:tensorflow:From ../../reco_utils/recommender/deeprec/models/dkn.py:145: The name tf.variable_scope is deprecated. Please use tf.compat.v1.variable_scope instead.\n",
      "\n",
      "WARNING:tensorflow:From ../../reco_utils/recommender/deeprec/models/dkn.py:362: The name tf.get_variable is deprecated. Please use tf.compat.v1.get_variable instead.\n",
      "\n",
      "WARNING:tensorflow:From ../../reco_utils/recommender/deeprec/models/dkn.py:387: The name tf.nn.max_pool is deprecated. Please use tf.nn.max_pool2d instead.\n",
      "\n",
      "WARNING:tensorflow:From ../../reco_utils/recommender/deeprec/models/base_model.py:56: The name tf.train.Saver is deprecated. Please use tf.compat.v1.train.Saver instead.\n",
      "\n",
      "WARNING:tensorflow:From ../../reco_utils/recommender/deeprec/models/base_model.py:260: The name tf.train.AdamOptimizer is deprecated. Please use tf.compat.v1.train.AdamOptimizer instead.\n",
      "\n",
      "WARNING:tensorflow:From /home/jialia/.conda/envs/reco_gpu_tf15/lib/python3.6/site-packages/tensorflow_core/python/ops/math_grad.py:1424: where (from tensorflow.python.ops.array_ops) is deprecated and will be removed in a future version.\n",
      "Instructions for updating:\n",
      "Use tf.where in 2.0, which has the same broadcast rule as np.where\n",
      "WARNING:tensorflow:From ../../reco_utils/recommender/deeprec/models/base_model.py:58: The name tf.get_collection is deprecated. Please use tf.compat.v1.get_collection instead.\n",
      "\n",
      "WARNING:tensorflow:From ../../reco_utils/recommender/deeprec/models/base_model.py:58: The name tf.GraphKeys is deprecated. Please use tf.compat.v1.GraphKeys instead.\n",
      "\n",
      "WARNING:tensorflow:From ../../reco_utils/recommender/deeprec/models/base_model.py:59: The name tf.global_variables_initializer is deprecated. Please use tf.compat.v1.global_variables_initializer instead.\n",
      "\n",
      "WARNING:tensorflow:From ../../reco_utils/recommender/deeprec/models/base_model.py:108: The name tf.summary.scalar is deprecated. Please use tf.compat.v1.summary.scalar instead.\n",
      "\n",
      "WARNING:tensorflow:From ../../reco_utils/recommender/deeprec/models/base_model.py:111: The name tf.summary.merge_all is deprecated. Please use tf.compat.v1.summary.merge_all instead.\n",
      "\n",
      "WARNING:tensorflow:From ../../reco_utils/recommender/deeprec/models/base_model.py:63: The name tf.GPUOptions is deprecated. Please use tf.compat.v1.GPUOptions instead.\n",
      "\n",
      "WARNING:tensorflow:From ../../reco_utils/recommender/deeprec/models/base_model.py:64: The name tf.Session is deprecated. Please use tf.compat.v1.Session instead.\n",
      "\n",
      "WARNING:tensorflow:From ../../reco_utils/recommender/deeprec/models/base_model.py:65: The name tf.ConfigProto is deprecated. Please use tf.compat.v1.ConfigProto instead.\n",
      "\n"
     ]
    }
   ],
   "source": [
    "model = DKNItem2Item(hparams, input_creator)"
   ]
  },
  {
   "cell_type": "code",
   "execution_count": 20,
   "metadata": {},
   "outputs": [
    {
     "name": "stdout",
     "output_type": "stream",
     "text": [
      "{'group_auc': 0.8387, 'mean_mrr': 0.6731, 'ndcg@2': 0.6203, 'ndcg@4': 0.6969, 'ndcg@6': 0.7286}\n",
      "0.8124072074890136\n"
     ]
    }
   ],
   "source": [
    "t01 = time.time()\n",
    "print(model.run_eval(valid_file))\n",
    "t02 = time.time()\n",
    "print((t02 - t01) / 60)"
   ]
  },
  {
   "cell_type": "code",
   "execution_count": 21,
   "metadata": {},
   "outputs": [
    {
     "name": "stdout",
     "output_type": "stream",
     "text": [
      "at epoch 1\n",
      "train info: logloss loss:51.84768934840383\n",
      "eval info: group_auc:0.9475, mean_mrr:0.8646, ndcg@2:0.8566, ndcg@4:0.8859, ndcg@6:0.8928\n",
      "at epoch 1 , train time: 31.2 eval time: 47.5\n",
      "at epoch 2\n",
      "train info: logloss loss:49.40837017006465\n",
      "eval info: group_auc:0.9499, mean_mrr:0.8738, ndcg@2:0.8679, ndcg@4:0.893, ndcg@6:0.8992\n",
      "at epoch 2 , train time: 30.8 eval time: 47.3\n",
      "at epoch 3\n",
      "train info: logloss loss:48.332696322829364\n",
      "eval info: group_auc:0.9497, mean_mrr:0.8783, ndcg@2:0.8724, ndcg@4:0.8958, ndcg@6:0.9016\n",
      "at epoch 3 , train time: 30.8 eval time: 47.2\n",
      "at epoch 4\n",
      "train info: logloss loss:47.545117854486534\n",
      "eval info: group_auc:0.9486, mean_mrr:0.8802, ndcg@2:0.8739, ndcg@4:0.8964, ndcg@6:0.9022\n",
      "at epoch 4 , train time: 30.8 eval time: 47.6\n",
      "at epoch 5\n",
      "train info: logloss loss:46.90864522305314\n",
      "eval info: group_auc:0.9498, mean_mrr:0.884, ndcg@2:0.8784, ndcg@4:0.8994, ndcg@6:0.905\n",
      "at epoch 5 , train time: 30.8 eval time: 47.7\n",
      "at epoch 6\n",
      "train info: logloss loss:46.44939876142207\n",
      "eval info: group_auc:0.9497, mean_mrr:0.884, ndcg@2:0.8784, ndcg@4:0.8991, ndcg@6:0.905\n",
      "at epoch 6 , train time: 31.0 eval time: 47.5\n",
      "at epoch 7\n",
      "train info: logloss loss:46.20342716002251\n",
      "eval info: group_auc:0.9499, mean_mrr:0.8843, ndcg@2:0.8787, ndcg@4:0.8997, ndcg@6:0.9054\n",
      "at epoch 7 , train time: 30.8 eval time: 47.4\n",
      "at epoch 8\n",
      "train info: logloss loss:46.029677967338515\n",
      "eval info: group_auc:0.9473, mean_mrr:0.8808, ndcg@2:0.8748, ndcg@4:0.8959, ndcg@6:0.9018\n",
      "at epoch 8 , train time: 31.1 eval time: 46.9\n",
      "at epoch 9\n",
      "train info: logloss loss:45.94090366547535\n",
      "eval info: group_auc:0.948, mean_mrr:0.881, ndcg@2:0.8756, ndcg@4:0.8966, ndcg@6:0.9023\n",
      "at epoch 9 , train time: 30.8 eval time: 47.6\n",
      "at epoch 10\n",
      "train info: logloss loss:45.84621081697671\n",
      "eval info: group_auc:0.9483, mean_mrr:0.8819, ndcg@2:0.8768, ndcg@4:0.8971, ndcg@6:0.9029\n",
      "at epoch 10 , train time: 30.9 eval time: 47.3\n"
     ]
    },
    {
     "data": {
      "text/plain": [
       "<reco_utils.recommender.deeprec.models.dkn_item2item.DKNItem2Item at 0x7fa0ab8ee748>"
      ]
     },
     "execution_count": 21,
     "metadata": {},
     "output_type": "execute_result"
    }
   ],
   "source": [
    "model.fit(train_file, valid_file)"
   ]
  },
  {
   "cell_type": "code",
   "execution_count": 22,
   "metadata": {},
   "outputs": [
    {
     "name": "stdout",
     "output_type": "stream",
     "text": [
      "WARNING:tensorflow:From ../../reco_utils/recommender/deeprec/models/dkn.py:427: The name tf.gfile.GFile is deprecated. Please use tf.io.gfile.GFile instead.\n",
      "\n"
     ]
    },
    {
     "data": {
      "text/plain": [
       "<reco_utils.recommender.deeprec.models.dkn_item2item.DKNItem2Item at 0x7fa0ab8ee748>"
      ]
     },
     "execution_count": 22,
     "metadata": {},
     "output_type": "execute_result"
    }
   ],
   "source": [
    "model.run_get_embedding(news_feature_file, infer_embedding_file)"
   ]
  },
  {
   "cell_type": "code",
   "execution_count": null,
   "metadata": {},
   "outputs": [],
   "source": []
  },
  {
   "cell_type": "code",
   "execution_count": null,
   "metadata": {},
   "outputs": [],
   "source": []
  },
  {
   "cell_type": "code",
   "execution_count": null,
   "metadata": {},
   "outputs": [],
   "source": []
  }
 ],
 "metadata": {
  "kernelspec": {
   "display_name": "reco_gpu_tf15",
   "language": "python",
   "name": "reco_gpu_tf15"
  },
  "language_info": {
   "codemirror_mode": {
    "name": "ipython",
    "version": 3
   },
   "file_extension": ".py",
   "mimetype": "text/x-python",
   "name": "python",
   "nbconvert_exporter": "python",
   "pygments_lexer": "ipython3",
   "version": "3.6.10"
  }
 },
 "nbformat": 4,
 "nbformat_minor": 2
}
