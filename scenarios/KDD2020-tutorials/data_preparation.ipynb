{
 "cells": [
  {
   "cell_type": "code",
   "execution_count": 15,
   "metadata": {},
   "outputs": [],
   "source": [
    "import codecs\n",
    "from utils.general import *\n",
    "from utils.data_helper import *\n",
    "from utils.task_helper import *\n",
    "import pickle\n",
    "import time\n",
    "import os\n",
    "from datetime import datetime  \n",
    "import random\n",
    "import numpy as np\n",
    "import math\n",
    "from data_preparation.user import *"
   ]
  },
  {
   "cell_type": "markdown",
   "metadata": {},
   "source": [
    "## Prepare paper related files"
   ]
  },
  {
   "cell_type": "code",
   "execution_count": 4,
   "metadata": {},
   "outputs": [
    {
     "name": "stdout",
     "output_type": "stream",
     "text": [
      "loading file PaperTitleAbs_bySentence.txt...\n",
      "loading line: 880000, time elapses: 10.4s  \n",
      "parsing into feature file  ...\n",
      "parsed paper count: 110000, time elapses: 0.5s \n"
     ]
    }
   ],
   "source": [
    "InFile_dir = 'data_folder/raw'\n",
    "OutFile_dir = 'data_folder/my'\n",
    "Path_PaperTitleAbs_bySentence = os.path.join(InFile_dir, 'PaperTitleAbs_bySentence.txt')\n",
    "Path_PaperFeature = os.path.join(OutFile_dir, 'paper_feature.txt')\n",
    "max_word_size_per_paper = 15\n",
    " \n",
    "create_dir(OutFile_dir)\n",
    "\n",
    "word2idx = {}\n",
    "entity2idx = {}\n",
    "relation2idx = {}\n",
    "word2idx, entity2idx = gen_paper_content(\n",
    "    Path_PaperTitleAbs_bySentence, Path_PaperFeature, word2idx, entity2idx, field=[\"Title\"], doc_len=max_word_size_per_paper\n",
    ")\n"
   ]
  },
  {
   "cell_type": "code",
   "execution_count": 5,
   "metadata": {},
   "outputs": [
    {
     "name": "stdout",
     "output_type": "stream",
     "text": [
      "processing file RelatedFieldOfStudy.txt... done.\n"
     ]
    }
   ],
   "source": [
    "word2idx_filename = os.path.join(OutFile_dir, 'word2idx.pkl')\n",
    "entity2idx_filename = os.path.join(OutFile_dir, 'entity2idx.pkl')\n",
    "\n",
    "Path_RelatedFieldOfStudy = os.path.join(InFile_dir, 'RelatedFieldOfStudy.txt')\n",
    "OutFile_dir_KG = os.path.join(OutFile_dir, 'KG')\n",
    "create_dir(OutFile_dir_KG)\n",
    "\n",
    "gen_knowledge_relations(Path_RelatedFieldOfStudy, OutFile_dir_KG, entity2idx, relation2idx) "
   ]
  },
  {
   "cell_type": "code",
   "execution_count": 6,
   "metadata": {},
   "outputs": [
    {
     "name": "stdout",
     "output_type": "stream",
     "text": [
      "loading file PaperTitleAbs_bySentence.txt...\n",
      "loading line: 880000, time elapses: 9.8s "
     ]
    }
   ],
   "source": [
    "Path_SentenceCollection = os.path.join(OutFile_dir, 'sentence.txt')\n",
    "gen_sentence_collection(\n",
    "    Path_PaperTitleAbs_bySentence,\n",
    "    Path_SentenceCollection,\n",
    "    word2idx\n",
    ")\n",
    "\n",
    "with open(word2idx_filename, 'wb') as f:\n",
    "    pickle.dump(word2idx, f)\n",
    "dump_dict_as_txt(word2idx, os.path.join(OutFile_dir, 'word2id.tsv'))\n",
    "with open(entity2idx_filename, 'wb') as f:\n",
    "    pickle.dump(entity2idx, f)"
   ]
  },
  {
   "cell_type": "markdown",
   "metadata": {},
   "source": [
    "## Prepare user related files"
   ]
  },
  {
   "cell_type": "code",
   "execution_count": 9,
   "metadata": {},
   "outputs": [
    {
     "name": "stdout",
     "output_type": "stream",
     "text": [
      "loading PaperAuthorAffiliations.txt...\n",
      "loading Papers.txt...\n",
      "loading PaperReferences.txt...\n",
      "parsing user's reference list ...\n",
      "parsed user count: 430000, time elapses: 4.0s \n",
      "outputing author reference list\n"
     ]
    }
   ],
   "source": [
    "\n",
    "_t0 = time.time()\n",
    "\n",
    "Path_PaperReference = os.path.join(InFile_dir, 'PaperReferences.txt')\n",
    "Path_PaperAuthorAffiliations = os.path.join(InFile_dir, 'PaperAuthorAffiliations.txt')\n",
    "Path_Papers = os.path.join(InFile_dir, 'Papers.txt')\n",
    "Path_Author2ReferencePapers = os.path.join(OutFile_dir, 'Author2ReferencePapers.tsv')\n",
    "\n",
    "author2paper_list = load_author_paperlist(Path_PaperAuthorAffiliations)\n",
    "paper2date = load_paper_date(Path_Papers)\n",
    "paper2reference_list = load_paper_reference(Path_PaperReference)\n",
    "\n",
    "author2reference_list = get_author_reference_list(author2paper_list, paper2reference_list, paper2date)\n",
    "\n",
    "output_author2reference_list(\n",
    "    author2reference_list,\n",
    "    Path_Author2ReferencePapers\n",
    ")\n",
    "\n",
    "OutFile_dir_DKN = os.path.join(OutFile_dir, 'DKN-training-folder')\n",
    "create_dir(OutFile_dir_KG)\n"
   ]
  },
  {
   "cell_type": "code",
   "execution_count": 14,
   "metadata": {},
   "outputs": [
    {
     "name": "stdout",
     "output_type": "stream",
     "text": [
      "expanding user behaviors...\n",
      "processing user number : 287000, time elapses: 1.7s done. Sample number in train / valid / test is 146426 / 7894 / 7894\n",
      "Negative sampling for train...\n",
      "Negative sampling for validation...\n",
      "Negative sampling for test...\n",
      "done.\n",
      "expanding user behaviors...\n",
      "processing user number : 287000, time elapses: 8.6s done. Sample number in train / valid / test is 1782333 / 125010 / 125010\n",
      "Negative sampling for train...\n",
      "Negative sampling for validation...\n",
      "Negative sampling for test...\n",
      "done.\n",
      "time elapses for user is : 11422.0s\n"
     ]
    }
   ],
   "source": [
    "gen_experiment_splits(\n",
    "    Path_Author2ReferencePapers,\n",
    "    OutFile_dir_DKN,\n",
    "    Path_PaperFeature,\n",
    "    item_ratio=0.1,\n",
    "    tag='small'\n",
    ")\n",
    "gen_experiment_splits(\n",
    "    Path_Author2ReferencePapers,\n",
    "    OutFile_dir_DKN,\n",
    "    Path_PaperFeature,\n",
    "    item_ratio=1.0,\n",
    "    tag='full'\n",
    ") \n",
    "\n",
    "\n",
    "_t1 = time.time()\n",
    "print('time elapses for user is : {0:.1f}s'.format(_t1 - _t0))"
   ]
  },
  {
   "cell_type": "markdown",
   "metadata": {},
   "source": [
    "### item2item "
   ]
  },
  {
   "cell_type": "code",
   "execution_count": 23,
   "metadata": {},
   "outputs": [],
   "source": [
    "\n",
    "\n"
   ]
  },
  {
   "cell_type": "code",
   "execution_count": 18,
   "metadata": {},
   "outputs": [
    {
     "name": "stdout",
     "output_type": "stream",
     "text": [
      "loading PaperReferences.txt...\n",
      "process paper num 53400 / 53452...time elapses: 8.7s\tDone.\n",
      "process paper num 73600 / 73699...time elapses: 48.4s\tDone.\n"
     ]
    }
   ],
   "source": [
    "OutFile_dir_item2item = r'data_folder/my/item2item'\n",
    "create_dir(OutFile_dir_item2item)\n",
    "Path_PaperFeature\n",
    "item_set = load_has_feature_items(Path_PaperFeature)\n",
    "\n",
    "\n",
    "Path_PaperReference = os.path.join(InFile_dir, 'PaperReferences.txt')\n",
    "pair2CocitedCnt, pair2CoReferenceCnt = gen_paper_cocitation(Path_PaperReference)\n",
    "\n",
    "Path_paper_pair_cocitation = os.path.join(OutFile_dir_item2item, 'paper_pair_cocitation_cnt.csv')\n",
    "Path_paper_pair_coreference = os.path.join(OutFile_dir_item2item, 'paper_pair_coreference_cnt.csv')\n",
    "\n",
    "with open(Path_paper_pair_cocitation, 'w') as wt:\n",
    "    for p, v in pair2CocitedCnt.items():\n",
    "        if p[0] in item_set and p[1] in item_set:\n",
    "            wt.write('{0},{1},{2}\\n'.format(p[0], p[1], v))\n",
    "\n",
    "with open(Path_paper_pair_coreference, 'w') as wt:\n",
    "    for p, v in pair2CoReferenceCnt.items():\n",
    "        if p[0] in item_set and p[1] in item_set:\n",
    "            wt.write('{0},{1},{2}\\n'.format(p[0], p[1], v))\n",
    "\n"
   ]
  },
  {
   "cell_type": "code",
   "execution_count": 19,
   "metadata": {},
   "outputs": [
    {
     "name": "stdout",
     "output_type": "stream",
     "text": [
      "loading Papers.txt...\n",
      "loading PaperAuthorAffiliations.txt...\n",
      "process author num 435800 / 435822...time elapses: 1.0s"
     ]
    }
   ],
   "source": [
    "\n",
    "Path_Papers = os.path.join(InFile_dir, 'Papers.txt')\n",
    "Path_PaperAuthorAffiliations = os.path.join(InFile_dir, 'PaperAuthorAffiliations.txt')\n",
    "paper2date = load_paper_date(Path_Papers)\n",
    "author2paper_list, paper2author_set = load_paper_author_relation(Path_PaperAuthorAffiliations)\n",
    "Path_FirstAuthorPaperPair = os.path.join(OutFile_dir_item2item, 'paper_pair_cofirstauthor.csv')\n",
    "first_author_pairs = gen_paper_pairs_from_same_author(\n",
    "    author2paper_list, paper2author_set, paper2date, Path_FirstAuthorPaperPair, item_set\n",
    ")\n",
    "\n"
   ]
  },
  {
   "cell_type": "code",
   "execution_count": 24,
   "metadata": {},
   "outputs": [
    {
     "name": "stdout",
     "output_type": "stream",
     "text": [
      "negative sampling for file item2item_train.txt...\n",
      "process line num 182400 / 182410...time elapses: 3.5s\tdone.\n",
      "negative sampling for file item2item_valid.txt...\n",
      "process line num 45700 / 45740...time elapses: 0.9s\tdone.\n"
     ]
    }
   ],
   "source": [
    "\n",
    "split_train_valid_file(\n",
    "    [Path_paper_pair_cocitation, Path_FirstAuthorPaperPair, Path_paper_pair_coreference],\n",
    "    OutFile_dir_DKN\n",
    ")\n",
    "gen_negative_instances(\n",
    "    item_set,\n",
    "    os.path.join(OutFile_dir_DKN, 'item2item_train.txt'),\n",
    "    os.path.join(OutFile_dir_DKN, 'item2item_train_instances.txt'),\n",
    "    9\n",
    ")\n",
    "gen_negative_instances(\n",
    "    item_set,\n",
    "    os.path.join(OutFile_dir_DKN, 'item2item_valid.txt'),\n",
    "    os.path.join(OutFile_dir_DKN, 'item2item_valid_instances.txt'),\n",
    "    9\n",
    ")\n"
   ]
  },
  {
   "cell_type": "code",
   "execution_count": 20,
   "metadata": {},
   "outputs": [],
   "source": [
    "\n"
   ]
  },
  {
   "cell_type": "code",
   "execution_count": null,
   "metadata": {},
   "outputs": [],
   "source": []
  }
 ],
 "metadata": {
  "kernelspec": {
   "display_name": "reco_gpu_kdd",
   "language": "python",
   "name": "reco_gpu_kdd"
  },
  "language_info": {
   "codemirror_mode": {
    "name": "ipython",
    "version": 3
   },
   "file_extension": ".py",
   "mimetype": "text/x-python",
   "name": "python",
   "nbconvert_exporter": "python",
   "pygments_lexer": "ipython3",
   "version": "3.6.10"
  }
 },
 "nbformat": 4,
 "nbformat_minor": 2
}
